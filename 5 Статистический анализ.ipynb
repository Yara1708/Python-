{
 "cells": [
  {
   "cell_type": "markdown",
   "id": "0261f70d",
   "metadata": {},
   "source": [
    "<div style=\"border:solid gray 3px; padding: 40px\">\n",
    "    \n",
    "**Описание проекта**\n",
    "\n",
    "\n",
    "Вы аналитик популярного сервиса аренды самокатов GoFast. Вам передали данные о некоторых пользователях из нескольких городов, а также об их поездках. Проанализируйте данные и проверьте некоторые гипотезы, которые могут помочь бизнесу вырасти.\n",
    "Чтобы совершать поездки по городу, пользователи сервиса GoFast пользуются мобильным приложением. Сервисом можно пользоваться:\n",
    "\n",
    "```без подписки:```\n",
    "\n",
    "абонентская плата отсутствует;\n",
    "\n",
    "стоимость одной минуты поездки —  8 рублей;\n",
    "\n",
    "стоимость старта (начала поездки) — 50 рублей;\n",
    "\n",
    "```с подпиской Ultra:```\n",
    "\n",
    "абонентская плата —  199 рублей в месяц;\n",
    "\n",
    "стоимость одной минуты поездки — 6 рублей;\n",
    "\n",
    "стоимость старта — бесплатно."
   ]
  },
  {
   "cell_type": "markdown",
   "id": "454579d2",
   "metadata": {},
   "source": [
    "Загрузим библиотеки:"
   ]
  },
  {
   "cell_type": "code",
   "execution_count": 1,
   "id": "72576667",
   "metadata": {},
   "outputs": [],
   "source": [
    "import pandas as pd\n",
    "import seaborn as sns\n",
    "import matplotlib.pyplot as plt\n",
    "from scipy import stats as st\n",
    "import numpy as np"
   ]
  },
  {
   "cell_type": "markdown",
   "id": "c42cbe00",
   "metadata": {},
   "source": [
    "#### Шаг 1. Загрузка данных"
   ]
  },
  {
   "cell_type": "markdown",
   "id": "3ecf63b2",
   "metadata": {},
   "source": [
    "Загрузим данные из csv-файла ```users_go.csv```(Пользователи) в датафрейм c помощью библиотеки pandas.\n",
    "\n",
    "Выведем первые 5 строк.\n",
    "Изучим общую информацию о полученном датафрейме:"
   ]
  },
  {
   "cell_type": "code",
   "execution_count": 2,
   "id": "eff9f206",
   "metadata": {},
   "outputs": [
    {
     "data": {
      "text/html": [
       "<div>\n",
       "<style scoped>\n",
       "    .dataframe tbody tr th:only-of-type {\n",
       "        vertical-align: middle;\n",
       "    }\n",
       "\n",
       "    .dataframe tbody tr th {\n",
       "        vertical-align: top;\n",
       "    }\n",
       "\n",
       "    .dataframe thead th {\n",
       "        text-align: right;\n",
       "    }\n",
       "</style>\n",
       "<table border=\"1\" class=\"dataframe\">\n",
       "  <thead>\n",
       "    <tr style=\"text-align: right;\">\n",
       "      <th></th>\n",
       "      <th>user_id</th>\n",
       "      <th>name</th>\n",
       "      <th>age</th>\n",
       "      <th>city</th>\n",
       "      <th>subscription_type</th>\n",
       "    </tr>\n",
       "  </thead>\n",
       "  <tbody>\n",
       "    <tr>\n",
       "      <th>0</th>\n",
       "      <td>1</td>\n",
       "      <td>Кира</td>\n",
       "      <td>22</td>\n",
       "      <td>Тюмень</td>\n",
       "      <td>ultra</td>\n",
       "    </tr>\n",
       "    <tr>\n",
       "      <th>1</th>\n",
       "      <td>2</td>\n",
       "      <td>Станислав</td>\n",
       "      <td>31</td>\n",
       "      <td>Омск</td>\n",
       "      <td>ultra</td>\n",
       "    </tr>\n",
       "    <tr>\n",
       "      <th>2</th>\n",
       "      <td>3</td>\n",
       "      <td>Алексей</td>\n",
       "      <td>20</td>\n",
       "      <td>Москва</td>\n",
       "      <td>ultra</td>\n",
       "    </tr>\n",
       "    <tr>\n",
       "      <th>3</th>\n",
       "      <td>4</td>\n",
       "      <td>Константин</td>\n",
       "      <td>26</td>\n",
       "      <td>Ростов-на-Дону</td>\n",
       "      <td>ultra</td>\n",
       "    </tr>\n",
       "    <tr>\n",
       "      <th>4</th>\n",
       "      <td>5</td>\n",
       "      <td>Адель</td>\n",
       "      <td>28</td>\n",
       "      <td>Омск</td>\n",
       "      <td>ultra</td>\n",
       "    </tr>\n",
       "  </tbody>\n",
       "</table>\n",
       "</div>"
      ],
      "text/plain": [
       "   user_id        name  age            city subscription_type\n",
       "0        1        Кира   22          Тюмень             ultra\n",
       "1        2   Станислав   31            Омск             ultra\n",
       "2        3     Алексей   20          Москва             ultra\n",
       "3        4  Константин   26  Ростов-на-Дону             ultra\n",
       "4        5       Адель   28            Омск             ultra"
      ]
     },
     "metadata": {},
     "output_type": "display_data"
    },
    {
     "name": "stdout",
     "output_type": "stream",
     "text": [
      "<class 'pandas.core.frame.DataFrame'>\n",
      "RangeIndex: 1565 entries, 0 to 1564\n",
      "Data columns (total 5 columns):\n",
      " #   Column             Non-Null Count  Dtype \n",
      "---  ------             --------------  ----- \n",
      " 0   user_id            1565 non-null   int64 \n",
      " 1   name               1565 non-null   object\n",
      " 2   age                1565 non-null   int64 \n",
      " 3   city               1565 non-null   object\n",
      " 4   subscription_type  1565 non-null   object\n",
      "dtypes: int64(2), object(3)\n",
      "memory usage: 61.3+ KB\n"
     ]
    }
   ],
   "source": [
    "data1 = pd.read_csv('/datasets/users_go.csv')\n",
    "display(data1.head(5))\n",
    "data1.info()"
   ]
  },
  {
   "cell_type": "markdown",
   "id": "e2983efe",
   "metadata": {},
   "source": [
    "```Всего 1 565 строк, 5 колонок. Пропусков нет.```"
   ]
  },
  {
   "cell_type": "markdown",
   "id": "f7738876",
   "metadata": {},
   "source": [
    "Загрузим данные из csv-файла ```rides_go.csv```(Поездки) в датафрейм c помощью библиотеки pandas.\n",
    "\n",
    "Выведем первые 5 строк.\n",
    "Изучим общую информацию о полученном датафрейме:"
   ]
  },
  {
   "cell_type": "code",
   "execution_count": 3,
   "id": "af11faca",
   "metadata": {},
   "outputs": [
    {
     "data": {
      "text/html": [
       "<div>\n",
       "<style scoped>\n",
       "    .dataframe tbody tr th:only-of-type {\n",
       "        vertical-align: middle;\n",
       "    }\n",
       "\n",
       "    .dataframe tbody tr th {\n",
       "        vertical-align: top;\n",
       "    }\n",
       "\n",
       "    .dataframe thead th {\n",
       "        text-align: right;\n",
       "    }\n",
       "</style>\n",
       "<table border=\"1\" class=\"dataframe\">\n",
       "  <thead>\n",
       "    <tr style=\"text-align: right;\">\n",
       "      <th></th>\n",
       "      <th>user_id</th>\n",
       "      <th>distance</th>\n",
       "      <th>duration</th>\n",
       "      <th>date</th>\n",
       "    </tr>\n",
       "  </thead>\n",
       "  <tbody>\n",
       "    <tr>\n",
       "      <th>0</th>\n",
       "      <td>1</td>\n",
       "      <td>4409.919140</td>\n",
       "      <td>25.599769</td>\n",
       "      <td>2021-01-01</td>\n",
       "    </tr>\n",
       "    <tr>\n",
       "      <th>1</th>\n",
       "      <td>1</td>\n",
       "      <td>2617.592153</td>\n",
       "      <td>15.816871</td>\n",
       "      <td>2021-01-18</td>\n",
       "    </tr>\n",
       "    <tr>\n",
       "      <th>2</th>\n",
       "      <td>1</td>\n",
       "      <td>754.159807</td>\n",
       "      <td>6.232113</td>\n",
       "      <td>2021-04-20</td>\n",
       "    </tr>\n",
       "    <tr>\n",
       "      <th>3</th>\n",
       "      <td>1</td>\n",
       "      <td>2694.783254</td>\n",
       "      <td>18.511000</td>\n",
       "      <td>2021-08-11</td>\n",
       "    </tr>\n",
       "    <tr>\n",
       "      <th>4</th>\n",
       "      <td>1</td>\n",
       "      <td>4028.687306</td>\n",
       "      <td>26.265803</td>\n",
       "      <td>2021-08-28</td>\n",
       "    </tr>\n",
       "  </tbody>\n",
       "</table>\n",
       "</div>"
      ],
      "text/plain": [
       "   user_id     distance   duration        date\n",
       "0        1  4409.919140  25.599769  2021-01-01\n",
       "1        1  2617.592153  15.816871  2021-01-18\n",
       "2        1   754.159807   6.232113  2021-04-20\n",
       "3        1  2694.783254  18.511000  2021-08-11\n",
       "4        1  4028.687306  26.265803  2021-08-28"
      ]
     },
     "metadata": {},
     "output_type": "display_data"
    },
    {
     "name": "stdout",
     "output_type": "stream",
     "text": [
      "<class 'pandas.core.frame.DataFrame'>\n",
      "RangeIndex: 18068 entries, 0 to 18067\n",
      "Data columns (total 4 columns):\n",
      " #   Column    Non-Null Count  Dtype  \n",
      "---  ------    --------------  -----  \n",
      " 0   user_id   18068 non-null  int64  \n",
      " 1   distance  18068 non-null  float64\n",
      " 2   duration  18068 non-null  float64\n",
      " 3   date      18068 non-null  object \n",
      "dtypes: float64(2), int64(1), object(1)\n",
      "memory usage: 564.8+ KB\n"
     ]
    }
   ],
   "source": [
    "data2 = pd.read_csv('/datasets/rides_go.csv')\n",
    "display(data2.head(5))\n",
    "data2.info()"
   ]
  },
  {
   "cell_type": "markdown",
   "id": "b2653bee",
   "metadata": {},
   "source": [
    "```Всего 18 068 строк, 4 колонки. Пропусков нет.```"
   ]
  },
  {
   "cell_type": "markdown",
   "id": "c0023bc7",
   "metadata": {},
   "source": [
    "Загрузим данные из csv-файла ```subscriptions_go.csv```(Подписки) в датафрейм c помощью библиотеки pandas.\n",
    "\n",
    "Изучим общую информацию о полученном датафрейме:"
   ]
  },
  {
   "cell_type": "code",
   "execution_count": 4,
   "id": "0601052d",
   "metadata": {},
   "outputs": [
    {
     "data": {
      "text/html": [
       "<div>\n",
       "<style scoped>\n",
       "    .dataframe tbody tr th:only-of-type {\n",
       "        vertical-align: middle;\n",
       "    }\n",
       "\n",
       "    .dataframe tbody tr th {\n",
       "        vertical-align: top;\n",
       "    }\n",
       "\n",
       "    .dataframe thead th {\n",
       "        text-align: right;\n",
       "    }\n",
       "</style>\n",
       "<table border=\"1\" class=\"dataframe\">\n",
       "  <thead>\n",
       "    <tr style=\"text-align: right;\">\n",
       "      <th></th>\n",
       "      <th>subscription_type</th>\n",
       "      <th>minute_price</th>\n",
       "      <th>start_ride_price</th>\n",
       "      <th>subscription_fee</th>\n",
       "    </tr>\n",
       "  </thead>\n",
       "  <tbody>\n",
       "    <tr>\n",
       "      <th>0</th>\n",
       "      <td>free</td>\n",
       "      <td>8</td>\n",
       "      <td>50</td>\n",
       "      <td>0</td>\n",
       "    </tr>\n",
       "    <tr>\n",
       "      <th>1</th>\n",
       "      <td>ultra</td>\n",
       "      <td>6</td>\n",
       "      <td>0</td>\n",
       "      <td>199</td>\n",
       "    </tr>\n",
       "  </tbody>\n",
       "</table>\n",
       "</div>"
      ],
      "text/plain": [
       "  subscription_type  minute_price  start_ride_price  subscription_fee\n",
       "0              free             8                50                 0\n",
       "1             ultra             6                 0               199"
      ]
     },
     "metadata": {},
     "output_type": "display_data"
    },
    {
     "name": "stdout",
     "output_type": "stream",
     "text": [
      "<class 'pandas.core.frame.DataFrame'>\n",
      "RangeIndex: 2 entries, 0 to 1\n",
      "Data columns (total 4 columns):\n",
      " #   Column             Non-Null Count  Dtype \n",
      "---  ------             --------------  ----- \n",
      " 0   subscription_type  2 non-null      object\n",
      " 1   minute_price       2 non-null      int64 \n",
      " 2   start_ride_price   2 non-null      int64 \n",
      " 3   subscription_fee   2 non-null      int64 \n",
      "dtypes: int64(3), object(1)\n",
      "memory usage: 192.0+ bytes\n"
     ]
    }
   ],
   "source": [
    "data3 = pd.read_csv('/datasets/subscriptions_go.csv')\n",
    "display(data3)\n",
    "data3.info()"
   ]
  },
  {
   "cell_type": "markdown",
   "id": "aeb80a4f",
   "metadata": {},
   "source": [
    "```Всего 2 строки, 4 колонки. Пропусков нет.```"
   ]
  },
  {
   "cell_type": "markdown",
   "id": "e95ebca7",
   "metadata": {},
   "source": [
    "#### Шаг 2. Предобработка данных"
   ]
  },
  {
   "cell_type": "markdown",
   "id": "ca77d46f",
   "metadata": {},
   "source": [
    "Приведём столбец ```date``` из датасета с Поездками - data2 к типу даты pandas.\n",
    "Проверим изменения:"
   ]
  },
  {
   "cell_type": "code",
   "execution_count": 5,
   "id": "af6d202c",
   "metadata": {},
   "outputs": [
    {
     "data": {
      "text/plain": [
       "user_id              int64\n",
       "distance           float64\n",
       "duration           float64\n",
       "date        datetime64[ns]\n",
       "dtype: object"
      ]
     },
     "execution_count": 5,
     "metadata": {},
     "output_type": "execute_result"
    }
   ],
   "source": [
    "data2['date'] = pd.to_datetime(data2['date'], format='%Y-%m-%d')\n",
    "data2.dtypes"
   ]
  },
  {
   "cell_type": "markdown",
   "id": "eefe72d0",
   "metadata": {},
   "source": [
    "Создадим новый столбец ```month_date``` с номером месяца на основе столбца date.\n",
    "Проверим добавление нового столбца ```month_date```:"
   ]
  },
  {
   "cell_type": "code",
   "execution_count": 6,
   "id": "967a8f9a",
   "metadata": {},
   "outputs": [
    {
     "data": {
      "text/html": [
       "<div>\n",
       "<style scoped>\n",
       "    .dataframe tbody tr th:only-of-type {\n",
       "        vertical-align: middle;\n",
       "    }\n",
       "\n",
       "    .dataframe tbody tr th {\n",
       "        vertical-align: top;\n",
       "    }\n",
       "\n",
       "    .dataframe thead th {\n",
       "        text-align: right;\n",
       "    }\n",
       "</style>\n",
       "<table border=\"1\" class=\"dataframe\">\n",
       "  <thead>\n",
       "    <tr style=\"text-align: right;\">\n",
       "      <th></th>\n",
       "      <th>user_id</th>\n",
       "      <th>distance</th>\n",
       "      <th>duration</th>\n",
       "      <th>date</th>\n",
       "      <th>month_date</th>\n",
       "    </tr>\n",
       "  </thead>\n",
       "  <tbody>\n",
       "    <tr>\n",
       "      <th>0</th>\n",
       "      <td>1</td>\n",
       "      <td>4409.919140</td>\n",
       "      <td>25.599769</td>\n",
       "      <td>2021-01-01</td>\n",
       "      <td>1</td>\n",
       "    </tr>\n",
       "    <tr>\n",
       "      <th>1</th>\n",
       "      <td>1</td>\n",
       "      <td>2617.592153</td>\n",
       "      <td>15.816871</td>\n",
       "      <td>2021-01-18</td>\n",
       "      <td>1</td>\n",
       "    </tr>\n",
       "    <tr>\n",
       "      <th>2</th>\n",
       "      <td>1</td>\n",
       "      <td>754.159807</td>\n",
       "      <td>6.232113</td>\n",
       "      <td>2021-04-20</td>\n",
       "      <td>4</td>\n",
       "    </tr>\n",
       "    <tr>\n",
       "      <th>3</th>\n",
       "      <td>1</td>\n",
       "      <td>2694.783254</td>\n",
       "      <td>18.511000</td>\n",
       "      <td>2021-08-11</td>\n",
       "      <td>8</td>\n",
       "    </tr>\n",
       "    <tr>\n",
       "      <th>4</th>\n",
       "      <td>1</td>\n",
       "      <td>4028.687306</td>\n",
       "      <td>26.265803</td>\n",
       "      <td>2021-08-28</td>\n",
       "      <td>8</td>\n",
       "    </tr>\n",
       "  </tbody>\n",
       "</table>\n",
       "</div>"
      ],
      "text/plain": [
       "   user_id     distance   duration       date  month_date\n",
       "0        1  4409.919140  25.599769 2021-01-01           1\n",
       "1        1  2617.592153  15.816871 2021-01-18           1\n",
       "2        1   754.159807   6.232113 2021-04-20           4\n",
       "3        1  2694.783254  18.511000 2021-08-11           8\n",
       "4        1  4028.687306  26.265803 2021-08-28           8"
      ]
     },
     "execution_count": 6,
     "metadata": {},
     "output_type": "execute_result"
    }
   ],
   "source": [
    "data2['month_date'] = pd.DatetimeIndex(data2['date']).month\n",
    "data2.head(5)"
   ]
  },
  {
   "cell_type": "markdown",
   "id": "56309269",
   "metadata": {},
   "source": [
    "Проверим наличие дубликатов в датафреймах:"
   ]
  },
  {
   "cell_type": "markdown",
   "id": "b6ad1dbf",
   "metadata": {},
   "source": [
    "Проверим на наличие явных бубликатов ```датасет с Пользователями- data1.```"
   ]
  },
  {
   "cell_type": "code",
   "execution_count": 7,
   "id": "178e1d53",
   "metadata": {
    "scrolled": true
   },
   "outputs": [
    {
     "data": {
      "text/html": [
       "<div>\n",
       "<style scoped>\n",
       "    .dataframe tbody tr th:only-of-type {\n",
       "        vertical-align: middle;\n",
       "    }\n",
       "\n",
       "    .dataframe tbody tr th {\n",
       "        vertical-align: top;\n",
       "    }\n",
       "\n",
       "    .dataframe thead th {\n",
       "        text-align: right;\n",
       "    }\n",
       "</style>\n",
       "<table border=\"1\" class=\"dataframe\">\n",
       "  <thead>\n",
       "    <tr style=\"text-align: right;\">\n",
       "      <th></th>\n",
       "      <th>user_id</th>\n",
       "      <th>name</th>\n",
       "      <th>age</th>\n",
       "      <th>city</th>\n",
       "      <th>subscription_type</th>\n",
       "    </tr>\n",
       "  </thead>\n",
       "  <tbody>\n",
       "    <tr>\n",
       "      <th>1534</th>\n",
       "      <td>293</td>\n",
       "      <td>Агата</td>\n",
       "      <td>26</td>\n",
       "      <td>Краснодар</td>\n",
       "      <td>ultra</td>\n",
       "    </tr>\n",
       "    <tr>\n",
       "      <th>1535</th>\n",
       "      <td>16</td>\n",
       "      <td>Амалия</td>\n",
       "      <td>27</td>\n",
       "      <td>Краснодар</td>\n",
       "      <td>ultra</td>\n",
       "    </tr>\n",
       "    <tr>\n",
       "      <th>1536</th>\n",
       "      <td>909</td>\n",
       "      <td>Константин</td>\n",
       "      <td>20</td>\n",
       "      <td>Екатеринбург</td>\n",
       "      <td>free</td>\n",
       "    </tr>\n",
       "    <tr>\n",
       "      <th>1537</th>\n",
       "      <td>403</td>\n",
       "      <td>Полина</td>\n",
       "      <td>19</td>\n",
       "      <td>Сочи</td>\n",
       "      <td>ultra</td>\n",
       "    </tr>\n",
       "    <tr>\n",
       "      <th>1538</th>\n",
       "      <td>908</td>\n",
       "      <td>Рустам</td>\n",
       "      <td>30</td>\n",
       "      <td>Тюмень</td>\n",
       "      <td>free</td>\n",
       "    </tr>\n",
       "    <tr>\n",
       "      <th>1539</th>\n",
       "      <td>43</td>\n",
       "      <td>Стефания</td>\n",
       "      <td>22</td>\n",
       "      <td>Омск</td>\n",
       "      <td>ultra</td>\n",
       "    </tr>\n",
       "    <tr>\n",
       "      <th>1540</th>\n",
       "      <td>127</td>\n",
       "      <td>Павел</td>\n",
       "      <td>25</td>\n",
       "      <td>Пятигорск</td>\n",
       "      <td>ultra</td>\n",
       "    </tr>\n",
       "    <tr>\n",
       "      <th>1541</th>\n",
       "      <td>659</td>\n",
       "      <td>Злата</td>\n",
       "      <td>27</td>\n",
       "      <td>Ростов-на-Дону</td>\n",
       "      <td>ultra</td>\n",
       "    </tr>\n",
       "    <tr>\n",
       "      <th>1542</th>\n",
       "      <td>204</td>\n",
       "      <td>Руслан</td>\n",
       "      <td>30</td>\n",
       "      <td>Пятигорск</td>\n",
       "      <td>ultra</td>\n",
       "    </tr>\n",
       "    <tr>\n",
       "      <th>1543</th>\n",
       "      <td>153</td>\n",
       "      <td>Герман</td>\n",
       "      <td>23</td>\n",
       "      <td>Москва</td>\n",
       "      <td>ultra</td>\n",
       "    </tr>\n",
       "    <tr>\n",
       "      <th>1544</th>\n",
       "      <td>1245</td>\n",
       "      <td>Регина</td>\n",
       "      <td>27</td>\n",
       "      <td>Пятигорск</td>\n",
       "      <td>free</td>\n",
       "    </tr>\n",
       "    <tr>\n",
       "      <th>1545</th>\n",
       "      <td>807</td>\n",
       "      <td>Александр</td>\n",
       "      <td>28</td>\n",
       "      <td>Екатеринбург</td>\n",
       "      <td>free</td>\n",
       "    </tr>\n",
       "    <tr>\n",
       "      <th>1546</th>\n",
       "      <td>924</td>\n",
       "      <td>Мария</td>\n",
       "      <td>23</td>\n",
       "      <td>Пятигорск</td>\n",
       "      <td>free</td>\n",
       "    </tr>\n",
       "    <tr>\n",
       "      <th>1547</th>\n",
       "      <td>635</td>\n",
       "      <td>Герман</td>\n",
       "      <td>21</td>\n",
       "      <td>Москва</td>\n",
       "      <td>ultra</td>\n",
       "    </tr>\n",
       "    <tr>\n",
       "      <th>1548</th>\n",
       "      <td>136</td>\n",
       "      <td>Марсель</td>\n",
       "      <td>25</td>\n",
       "      <td>Тюмень</td>\n",
       "      <td>ultra</td>\n",
       "    </tr>\n",
       "    <tr>\n",
       "      <th>1549</th>\n",
       "      <td>108</td>\n",
       "      <td>Влада</td>\n",
       "      <td>29</td>\n",
       "      <td>Тюмень</td>\n",
       "      <td>ultra</td>\n",
       "    </tr>\n",
       "    <tr>\n",
       "      <th>1550</th>\n",
       "      <td>737</td>\n",
       "      <td>Мелания</td>\n",
       "      <td>27</td>\n",
       "      <td>Ростов-на-Дону</td>\n",
       "      <td>free</td>\n",
       "    </tr>\n",
       "    <tr>\n",
       "      <th>1551</th>\n",
       "      <td>666</td>\n",
       "      <td>Зарина</td>\n",
       "      <td>29</td>\n",
       "      <td>Москва</td>\n",
       "      <td>ultra</td>\n",
       "    </tr>\n",
       "    <tr>\n",
       "      <th>1552</th>\n",
       "      <td>297</td>\n",
       "      <td>Егор</td>\n",
       "      <td>33</td>\n",
       "      <td>Пятигорск</td>\n",
       "      <td>ultra</td>\n",
       "    </tr>\n",
       "    <tr>\n",
       "      <th>1553</th>\n",
       "      <td>121</td>\n",
       "      <td>Алина</td>\n",
       "      <td>25</td>\n",
       "      <td>Пятигорск</td>\n",
       "      <td>ultra</td>\n",
       "    </tr>\n",
       "    <tr>\n",
       "      <th>1554</th>\n",
       "      <td>1198</td>\n",
       "      <td>Демид</td>\n",
       "      <td>29</td>\n",
       "      <td>Ростов-на-Дону</td>\n",
       "      <td>free</td>\n",
       "    </tr>\n",
       "    <tr>\n",
       "      <th>1555</th>\n",
       "      <td>72</td>\n",
       "      <td>Никита</td>\n",
       "      <td>25</td>\n",
       "      <td>Москва</td>\n",
       "      <td>ultra</td>\n",
       "    </tr>\n",
       "    <tr>\n",
       "      <th>1556</th>\n",
       "      <td>422</td>\n",
       "      <td>Кирилл</td>\n",
       "      <td>27</td>\n",
       "      <td>Сочи</td>\n",
       "      <td>ultra</td>\n",
       "    </tr>\n",
       "    <tr>\n",
       "      <th>1557</th>\n",
       "      <td>611</td>\n",
       "      <td>Владимир</td>\n",
       "      <td>28</td>\n",
       "      <td>Омск</td>\n",
       "      <td>ultra</td>\n",
       "    </tr>\n",
       "    <tr>\n",
       "      <th>1558</th>\n",
       "      <td>1237</td>\n",
       "      <td>Евгения</td>\n",
       "      <td>23</td>\n",
       "      <td>Тюмень</td>\n",
       "      <td>free</td>\n",
       "    </tr>\n",
       "    <tr>\n",
       "      <th>1559</th>\n",
       "      <td>209</td>\n",
       "      <td>Андрей</td>\n",
       "      <td>23</td>\n",
       "      <td>Омск</td>\n",
       "      <td>ultra</td>\n",
       "    </tr>\n",
       "    <tr>\n",
       "      <th>1560</th>\n",
       "      <td>829</td>\n",
       "      <td>Федор</td>\n",
       "      <td>29</td>\n",
       "      <td>Пятигорск</td>\n",
       "      <td>free</td>\n",
       "    </tr>\n",
       "    <tr>\n",
       "      <th>1561</th>\n",
       "      <td>809</td>\n",
       "      <td>Юрий</td>\n",
       "      <td>26</td>\n",
       "      <td>Сочи</td>\n",
       "      <td>free</td>\n",
       "    </tr>\n",
       "    <tr>\n",
       "      <th>1562</th>\n",
       "      <td>307</td>\n",
       "      <td>Ясмина</td>\n",
       "      <td>19</td>\n",
       "      <td>Краснодар</td>\n",
       "      <td>ultra</td>\n",
       "    </tr>\n",
       "    <tr>\n",
       "      <th>1563</th>\n",
       "      <td>47</td>\n",
       "      <td>Юрий</td>\n",
       "      <td>28</td>\n",
       "      <td>Тюмень</td>\n",
       "      <td>ultra</td>\n",
       "    </tr>\n",
       "    <tr>\n",
       "      <th>1564</th>\n",
       "      <td>1045</td>\n",
       "      <td>Артемий</td>\n",
       "      <td>28</td>\n",
       "      <td>Ростов-на-Дону</td>\n",
       "      <td>free</td>\n",
       "    </tr>\n",
       "  </tbody>\n",
       "</table>\n",
       "</div>"
      ],
      "text/plain": [
       "      user_id        name  age            city subscription_type\n",
       "1534      293       Агата   26       Краснодар             ultra\n",
       "1535       16      Амалия   27       Краснодар             ultra\n",
       "1536      909  Константин   20    Екатеринбург              free\n",
       "1537      403      Полина   19            Сочи             ultra\n",
       "1538      908      Рустам   30          Тюмень              free\n",
       "1539       43    Стефания   22            Омск             ultra\n",
       "1540      127       Павел   25       Пятигорск             ultra\n",
       "1541      659       Злата   27  Ростов-на-Дону             ultra\n",
       "1542      204      Руслан   30       Пятигорск             ultra\n",
       "1543      153      Герман   23          Москва             ultra\n",
       "1544     1245      Регина   27       Пятигорск              free\n",
       "1545      807   Александр   28    Екатеринбург              free\n",
       "1546      924       Мария   23       Пятигорск              free\n",
       "1547      635      Герман   21          Москва             ultra\n",
       "1548      136     Марсель   25          Тюмень             ultra\n",
       "1549      108       Влада   29          Тюмень             ultra\n",
       "1550      737     Мелания   27  Ростов-на-Дону              free\n",
       "1551      666      Зарина   29          Москва             ultra\n",
       "1552      297        Егор   33       Пятигорск             ultra\n",
       "1553      121       Алина   25       Пятигорск             ultra\n",
       "1554     1198       Демид   29  Ростов-на-Дону              free\n",
       "1555       72      Никита   25          Москва             ultra\n",
       "1556      422      Кирилл   27            Сочи             ultra\n",
       "1557      611    Владимир   28            Омск             ultra\n",
       "1558     1237     Евгения   23          Тюмень              free\n",
       "1559      209      Андрей   23            Омск             ultra\n",
       "1560      829       Федор   29       Пятигорск              free\n",
       "1561      809        Юрий   26            Сочи              free\n",
       "1562      307      Ясмина   19       Краснодар             ultra\n",
       "1563       47        Юрий   28          Тюмень             ultra\n",
       "1564     1045     Артемий   28  Ростов-на-Дону              free"
      ]
     },
     "metadata": {},
     "output_type": "display_data"
    },
    {
     "data": {
      "text/plain": [
       "('Количество дубликатов:', 31)"
      ]
     },
     "execution_count": 7,
     "metadata": {},
     "output_type": "execute_result"
    }
   ],
   "source": [
    "display(data1[data1['user_id'].duplicated()])\n",
    "'Количество дубликатов:',data1['user_id'].duplicated().sum()"
   ]
  },
  {
   "cell_type": "markdown",
   "id": "45072d6c",
   "metadata": {},
   "source": [
    "Нашлось 31 явных дубликата. Удалим их."
   ]
  },
  {
   "cell_type": "code",
   "execution_count": 8,
   "id": "5b1f91b7",
   "metadata": {
    "scrolled": true
   },
   "outputs": [
    {
     "data": {
      "text/html": [
       "<div>\n",
       "<style scoped>\n",
       "    .dataframe tbody tr th:only-of-type {\n",
       "        vertical-align: middle;\n",
       "    }\n",
       "\n",
       "    .dataframe tbody tr th {\n",
       "        vertical-align: top;\n",
       "    }\n",
       "\n",
       "    .dataframe thead th {\n",
       "        text-align: right;\n",
       "    }\n",
       "</style>\n",
       "<table border=\"1\" class=\"dataframe\">\n",
       "  <thead>\n",
       "    <tr style=\"text-align: right;\">\n",
       "      <th></th>\n",
       "      <th>user_id</th>\n",
       "      <th>name</th>\n",
       "      <th>age</th>\n",
       "      <th>city</th>\n",
       "      <th>subscription_type</th>\n",
       "    </tr>\n",
       "  </thead>\n",
       "  <tbody>\n",
       "    <tr>\n",
       "      <th>0</th>\n",
       "      <td>1</td>\n",
       "      <td>Кира</td>\n",
       "      <td>22</td>\n",
       "      <td>Тюмень</td>\n",
       "      <td>ultra</td>\n",
       "    </tr>\n",
       "    <tr>\n",
       "      <th>1</th>\n",
       "      <td>2</td>\n",
       "      <td>Станислав</td>\n",
       "      <td>31</td>\n",
       "      <td>Омск</td>\n",
       "      <td>ultra</td>\n",
       "    </tr>\n",
       "    <tr>\n",
       "      <th>2</th>\n",
       "      <td>3</td>\n",
       "      <td>Алексей</td>\n",
       "      <td>20</td>\n",
       "      <td>Москва</td>\n",
       "      <td>ultra</td>\n",
       "    </tr>\n",
       "    <tr>\n",
       "      <th>3</th>\n",
       "      <td>4</td>\n",
       "      <td>Константин</td>\n",
       "      <td>26</td>\n",
       "      <td>Ростов-на-Дону</td>\n",
       "      <td>ultra</td>\n",
       "    </tr>\n",
       "    <tr>\n",
       "      <th>4</th>\n",
       "      <td>5</td>\n",
       "      <td>Адель</td>\n",
       "      <td>28</td>\n",
       "      <td>Омск</td>\n",
       "      <td>ultra</td>\n",
       "    </tr>\n",
       "    <tr>\n",
       "      <th>...</th>\n",
       "      <td>...</td>\n",
       "      <td>...</td>\n",
       "      <td>...</td>\n",
       "      <td>...</td>\n",
       "      <td>...</td>\n",
       "    </tr>\n",
       "    <tr>\n",
       "      <th>1529</th>\n",
       "      <td>1530</td>\n",
       "      <td>Ростислав</td>\n",
       "      <td>29</td>\n",
       "      <td>Сочи</td>\n",
       "      <td>free</td>\n",
       "    </tr>\n",
       "    <tr>\n",
       "      <th>1530</th>\n",
       "      <td>1531</td>\n",
       "      <td>Никита</td>\n",
       "      <td>25</td>\n",
       "      <td>Пятигорск</td>\n",
       "      <td>free</td>\n",
       "    </tr>\n",
       "    <tr>\n",
       "      <th>1531</th>\n",
       "      <td>1532</td>\n",
       "      <td>Алексей</td>\n",
       "      <td>26</td>\n",
       "      <td>Тюмень</td>\n",
       "      <td>free</td>\n",
       "    </tr>\n",
       "    <tr>\n",
       "      <th>1532</th>\n",
       "      <td>1533</td>\n",
       "      <td>Степан</td>\n",
       "      <td>22</td>\n",
       "      <td>Краснодар</td>\n",
       "      <td>free</td>\n",
       "    </tr>\n",
       "    <tr>\n",
       "      <th>1533</th>\n",
       "      <td>1534</td>\n",
       "      <td>Альберт</td>\n",
       "      <td>25</td>\n",
       "      <td>Краснодар</td>\n",
       "      <td>free</td>\n",
       "    </tr>\n",
       "  </tbody>\n",
       "</table>\n",
       "<p>1534 rows × 5 columns</p>\n",
       "</div>"
      ],
      "text/plain": [
       "      user_id        name  age            city subscription_type\n",
       "0           1        Кира   22          Тюмень             ultra\n",
       "1           2   Станислав   31            Омск             ultra\n",
       "2           3     Алексей   20          Москва             ultra\n",
       "3           4  Константин   26  Ростов-на-Дону             ultra\n",
       "4           5       Адель   28            Омск             ultra\n",
       "...       ...         ...  ...             ...               ...\n",
       "1529     1530   Ростислав   29            Сочи              free\n",
       "1530     1531      Никита   25       Пятигорск              free\n",
       "1531     1532     Алексей   26          Тюмень              free\n",
       "1532     1533      Степан   22       Краснодар              free\n",
       "1533     1534     Альберт   25       Краснодар              free\n",
       "\n",
       "[1534 rows x 5 columns]"
      ]
     },
     "execution_count": 8,
     "metadata": {},
     "output_type": "execute_result"
    }
   ],
   "source": [
    "data1=data1.drop_duplicates(subset=['user_id'], keep='first').reset_index(drop=True)\n",
    "data1"
   ]
  },
  {
   "cell_type": "markdown",
   "id": "bd8ff6fc",
   "metadata": {},
   "source": [
    "проверим на наличие неявных дубликатов, для этого выведем уникальные значения по оставшимся столбцам data1:"
   ]
  },
  {
   "cell_type": "code",
   "execution_count": 9,
   "id": "c6b145e9",
   "metadata": {},
   "outputs": [
    {
     "name": "stdout",
     "output_type": "stream",
     "text": [
      "Уникальные значения возраста: [22 31 20 26 28 25 23 21 18 27 24 29 32 14 19 30 17 12 35 33 13 15 37 16\n",
      " 34 38 36 39 43]\n",
      "Уникальные значения города: ['Тюмень' 'Омск' 'Москва' 'Ростов-на-Дону' 'Краснодар' 'Пятигорск'\n",
      " 'Екатеринбург' 'Сочи']\n",
      "Уникальные значения типа подписки: ['ultra' 'free']\n",
      "Уникальные значения имени: ['Агата', 'Аделина', 'Адель', 'Айдар', 'Александр', 'Александра', 'Алексей', 'Алина', 'Алиса', 'Алия', 'Алла', 'Альберт', 'Альбина', 'Алёна', 'Амалия', 'Амина', 'Амир', 'Анастасия', 'Анатолий', 'Ангелина', 'Андрей', 'Анжелика', 'Анна', 'Антон', 'Антонина', 'Ариана', 'Арина', 'Арсен', 'Арсений', 'Артемий', 'Артур', 'Артём', 'Богдан', 'Борис', 'Вадим', 'Валентина', 'Валерий', 'Валерия', 'Варвара', 'Василий', 'Василина', 'Василиса', 'Вера', 'Вероника', 'Виктор', 'Виктория', 'Виолетта', 'Виталий', 'Виталина', 'Влад', 'Влада', 'Владимир', 'Владислав', 'Владислава', 'Всеволод', 'Вячеслав', 'Галина', 'Георгий', 'Герман', 'Глеб', 'Гордей', 'Григорий', 'Давид', 'Дамир', 'Даниил', 'Данил', 'Данила', 'Даниэль', 'Дарина', 'Дарья', 'Демид', 'Денис', 'Диана', 'Дмитрий', 'Ева', 'Евгений', 'Евгения', 'Егор', 'Екатерина', 'Елена', 'Елизавета', 'Елисей', 'Есения', 'Жанна', 'Зарина', 'Захар', 'Злата', 'Иван', 'Игнат', 'Игорь', 'Ильдар', 'Илья', 'Инна', 'Ирина', 'Камилла', 'Карина', 'Каролина', 'Кира', 'Кирилл', 'Константин', 'Кристина', 'Ксения', 'Лариса', 'Лев', 'Леонид', 'Лиана', 'Лидия', 'Лилия', 'Любовь', 'Людмила', 'Мадина', 'Майя', 'Макар', 'Максим', 'Марат', 'Маргарита', 'Марина', 'Мария', 'Марк', 'Марсель', 'Матвей', 'Мелания', 'Милана', 'Милена', 'Мирон', 'Мирослав', 'Мирослава', 'Михаил', 'Назар', 'Наталия', 'Наталья', 'Наташа', 'Нелли', 'Ника', 'Никита', 'Николай', 'Нина', 'Одиссей', 'Оксана', 'Олег', 'Олеся', 'Ольга', 'Павел', 'Петр', 'Платон', 'Полина', 'Радмир', 'Рамиль', 'Регина', 'Роберт', 'Родион', 'Роман', 'Ростислав', 'Руслан', 'Рустам', 'Савелий', 'Самир', 'Самира', 'Светлана', 'Святогор', 'Святослав', 'Семен', 'Сергей', 'Снежана', 'София', 'Софья', 'Станислав', 'Степан', 'Стефания', 'Таисия', 'Тамара', 'Тамерлан', 'Татьяна', 'Тимофей', 'Тимур', 'Тихон', 'Ульяна', 'Федор', 'Эвелина', 'Эдуард', 'Элина', 'Эльвира', 'Эльмира', 'Эмилия', 'Эмиль', 'Юлиана', 'Юлия', 'Юрий', 'Ян', 'Яна', 'Яромир', 'Ярослав', 'Ярослава', 'Ясмина']\n"
     ]
    }
   ],
   "source": [
    "print('Уникальные значения возраста:', data1['age'].unique())\n",
    "print('Уникальные значения города:', data1['city'].unique())\n",
    "print('Уникальные значения типа подписки:', data1['subscription_type'].unique())\n",
    "print('Уникальные значения имени:', sorted(data1['name'].unique()))\n"
   ]
  },
  {
   "cell_type": "markdown",
   "id": "ad3e2a1f",
   "metadata": {},
   "source": [
    "Неявных дубликатов в ```data1``` нет."
   ]
  },
  {
   "cell_type": "markdown",
   "id": "6e375dfc",
   "metadata": {},
   "source": [
    "Проверим на наличие явных бубликатов датасет с ```Поездками- data2.```"
   ]
  },
  {
   "cell_type": "code",
   "execution_count": 10,
   "id": "852f2a17",
   "metadata": {},
   "outputs": [
    {
     "data": {
      "text/html": [
       "<div>\n",
       "<style scoped>\n",
       "    .dataframe tbody tr th:only-of-type {\n",
       "        vertical-align: middle;\n",
       "    }\n",
       "\n",
       "    .dataframe tbody tr th {\n",
       "        vertical-align: top;\n",
       "    }\n",
       "\n",
       "    .dataframe thead th {\n",
       "        text-align: right;\n",
       "    }\n",
       "</style>\n",
       "<table border=\"1\" class=\"dataframe\">\n",
       "  <thead>\n",
       "    <tr style=\"text-align: right;\">\n",
       "      <th></th>\n",
       "      <th>user_id</th>\n",
       "      <th>distance</th>\n",
       "      <th>duration</th>\n",
       "      <th>date</th>\n",
       "      <th>month_date</th>\n",
       "    </tr>\n",
       "  </thead>\n",
       "  <tbody>\n",
       "  </tbody>\n",
       "</table>\n",
       "</div>"
      ],
      "text/plain": [
       "Empty DataFrame\n",
       "Columns: [user_id, distance, duration, date, month_date]\n",
       "Index: []"
      ]
     },
     "metadata": {},
     "output_type": "display_data"
    },
    {
     "data": {
      "text/plain": [
       "('Количество дубликатов:', 0)"
      ]
     },
     "execution_count": 10,
     "metadata": {},
     "output_type": "execute_result"
    }
   ],
   "source": [
    "display(data2[data2.duplicated()])\n",
    "'Количество дубликатов:',data2.duplicated().sum()"
   ]
  },
  {
   "cell_type": "markdown",
   "id": "ca6be50e",
   "metadata": {},
   "source": [
    "Явных дубликатов в ```data2``` нет. Отдельно неявные дубликаты выявить невозможно."
   ]
  },
  {
   "cell_type": "markdown",
   "id": "e720d17b",
   "metadata": {},
   "source": [
    "В датафрейме с типами подписок ```data3``` всего 2 строки. Дубликатов нет."
   ]
  },
  {
   "cell_type": "markdown",
   "id": "212593c7",
   "metadata": {},
   "source": [
    "#### Шаг 3. Исследовательский анализ данных"
   ]
  },
  {
   "cell_type": "markdown",
   "id": "61a980ee",
   "metadata": {},
   "source": [
    "Опишим и визуализируем общую информацию о пользователях и поездках:"
   ]
  },
  {
   "cell_type": "markdown",
   "id": "4adfb28e",
   "metadata": {},
   "source": [
    "***3.1 частота встречаемости городов***"
   ]
  },
  {
   "cell_type": "markdown",
   "id": "3ee9ec75",
   "metadata": {},
   "source": [
    "Посчитаем частоту встречаемости городов и визуализируем ее с помощью столбчатого графика."
   ]
  },
  {
   "cell_type": "code",
   "execution_count": 11,
   "id": "606c4807",
   "metadata": {},
   "outputs": [
    {
     "name": "stdout",
     "output_type": "stream",
     "text": [
      "Количество в абсолютных значениях:\n",
      " Пятигорск         219\n",
      "Екатеринбург      204\n",
      "Ростов-на-Дону    198\n",
      "Краснодар         193\n",
      "Сочи              189\n",
      "Омск              183\n",
      "Тюмень            180\n",
      "Москва            168\n",
      "Name: city, dtype: int64\n",
      "В процентах:\n",
      " Пятигорск         14.3%\n",
      "Екатеринбург      13.3%\n",
      "Ростов-на-Дону    12.9%\n",
      "Краснодар         12.6%\n",
      "Сочи              12.3%\n",
      "Омск              11.9%\n",
      "Тюмень            11.7%\n",
      "Москва            11.0%\n",
      "Name: city, dtype: object\n"
     ]
    },
    {
     "data": {
      "text/plain": [
       "('Среднее значение:', 191.75)"
      ]
     },
     "execution_count": 11,
     "metadata": {},
     "output_type": "execute_result"
    }
   ],
   "source": [
    "print('Количество в абсолютных значениях:\\n', data1['city'].value_counts())\n",
    "print('В процентах:\\n', data1.city.value_counts(normalize=True).mul(100).round(1).astype(str) + '%')\n",
    "'Среднее значение:',data1['city'].value_counts().mean()"
   ]
  },
  {
   "cell_type": "code",
   "execution_count": 12,
   "id": "1e116773",
   "metadata": {
    "scrolled": false
   },
   "outputs": [
    {
     "data": {
      "text/plain": [
       "Text(0.5, 1.0, 'Частота встречаемости городов')"
      ]
     },
     "execution_count": 12,
     "metadata": {},
     "output_type": "execute_result"
    },
    {
     "data": {
      "image/png": "[encoded data removed]",
      "text/plain": [
       "<Figure size 864x576 with 1 Axes>"
      ]
     },
     "metadata": {
      "needs_background": "light"
     },
     "output_type": "display_data"
    }
   ],
   "source": [
    "df = data1['city'].value_counts()\n",
    "df2 = pd.DataFrame(df.items(), columns=['count', 'city'])\n",
    "\n",
    "fig, ax = plt.subplots(figsize=(12,8))\n",
    "\n",
    "bars = plt.barh(df2['count'], df2['city'])\n",
    "\n",
    "plt.xlabel(\"Частота встречаемости\", fontsize=13,\n",
    "              fontweight='bold')\n",
    "plt.ylabel(\"Города\", fontsize=13,\n",
    "              fontweight='bold')\n",
    "ax.set_title(\"Частота встречаемости городов\",fontsize=25,\n",
    "              fontweight='bold', pad=20)"
   ]
  },
  {
   "cell_type": "markdown",
   "id": "188b1c24",
   "metadata": {},
   "source": [
    "построим для наглядности круговую диаграмму"
   ]
  },
  {
   "cell_type": "code",
   "execution_count": 13,
   "id": "47f09a03",
   "metadata": {},
   "outputs": [],
   "source": [
    "#data1['city'].value_counts().plot(kind ='pie', figsize=(10, 10))"
   ]
  },
  {
   "cell_type": "markdown",
   "id": "f1615f5f",
   "metadata": {},
   "source": [
    "**Вывод :** Арендой самокатов сервиса GoFas пользуются в 8 городах. ```Больше всего пользователей в  Пятигорске(219)```, Екатеринбурге(204)и Ростове-на-Дону (198); ```меньше всего в Москве(168)```, Тюмени(180) и Омске(183). ```В среднем около 192 пользователя на город.```"
   ]
  },
  {
   "cell_type": "markdown",
   "id": "617370ce",
   "metadata": {},
   "source": [
    "***3.2 соотношение пользователей с подпиской и без подписки***"
   ]
  },
  {
   "cell_type": "markdown",
   "id": "7d1b11a6",
   "metadata": {},
   "source": [
    "Посчитаем соотношение пользователей с подпиской и без подписки и визуализируем ее с помощью круговой диаграммы."
   ]
  },
  {
   "cell_type": "code",
   "execution_count": 14,
   "id": "30e9d06d",
   "metadata": {},
   "outputs": [
    {
     "name": "stdout",
     "output_type": "stream",
     "text": [
      "Количество в абсолютных значениях:\n",
      " free     835\n",
      "ultra    699\n",
      "Name: subscription_type, dtype: int64\n",
      "В процентах:\n",
      " free     54.4%\n",
      "ultra    45.6%\n",
      "Name: subscription_type, dtype: object\n"
     ]
    }
   ],
   "source": [
    "print('Количество в абсолютных значениях:\\n',  data1['subscription_type'].value_counts())\n",
    "print('В процентах:\\n', data1.subscription_type.value_counts(normalize=True).mul(100).round(1).astype(str) + '%')"
   ]
  },
  {
   "cell_type": "code",
   "execution_count": 15,
   "id": "921d5ba3",
   "metadata": {
    "scrolled": false
   },
   "outputs": [],
   "source": [
    "#df = data1['subscription_type'].value_counts()\n",
    "#df2 = pd.DataFrame(df.items(), columns=['count', 'subscription_type'])\n",
    "\n",
    "#fig, ax = plt.subplots(figsize=(12,8))\n",
    "\n",
    "#bars = plt.barh(df2['count'], df2['subscription_type'])\n",
    "\n",
    "#plt.xlabel(\"Частота встречаемости\", fontsize=13, fontweight='bold')\n",
    "#plt.ylabel(\"Наличие/ отсутствие подписки\", fontsize=13, fontweight='bold')\n",
    "#ax.set_title(\"Соотношение пользователей с подпиской и без подписки\",fontsize=25,fontweight='bold', pad=20)"
   ]
  },
  {
   "cell_type": "markdown",
   "id": "e9481287",
   "metadata": {},
   "source": [
    "<div class=\"alert alert-info\">\n",
    "столбчатый график законспектировал.\n",
    "</div>"
   ]
  },
  {
   "cell_type": "code",
   "execution_count": 16,
   "id": "003df636",
   "metadata": {},
   "outputs": [
    {
     "data": {
      "text/plain": [
       "<AxesSubplot:ylabel='subscription_type'>"
      ]
     },
     "execution_count": 16,
     "metadata": {},
     "output_type": "execute_result"
    },
    {
     "data": {
      "image/png": "[encoded data removed]",
      "text/plain": [
       "<Figure size 720x720 with 1 Axes>"
      ]
     },
     "metadata": {},
     "output_type": "display_data"
    }
   ],
   "source": [
    "data1['subscription_type'].value_counts().plot(kind ='pie', figsize=(10, 10), autopct='%1.0f%%')"
   ]
  },
  {
   "cell_type": "markdown",
   "id": "20622141",
   "metadata": {},
   "source": [
    "**Вывод:** ```В основном пользователи без подписок. Из 1534 пользователей 835 пользователей (54.4%) без подписок, 699 позователей (45.6%) с подпиской.```"
   ]
  },
  {
   "cell_type": "markdown",
   "id": "d1120879",
   "metadata": {},
   "source": [
    "***3.3 возраст пользователей***"
   ]
  },
  {
   "cell_type": "markdown",
   "id": "6fd6405f",
   "metadata": {},
   "source": [
    "Посчитаем частоту встречаемости возрастов пользователей и визуализируем ее с помощью гистограммы."
   ]
  },
  {
   "cell_type": "code",
   "execution_count": 17,
   "id": "2aef5eab",
   "metadata": {},
   "outputs": [
    {
     "name": "stdout",
     "output_type": "stream",
     "text": [
      "Количество в абсолютных значениях:\n",
      " 25    145\n",
      "24    132\n",
      "26    131\n",
      "23    129\n",
      "27    119\n",
      "22    119\n",
      "28    112\n",
      "21     93\n",
      "20     71\n",
      "30     68\n",
      "29     68\n",
      "31     48\n",
      "19     47\n",
      "18     46\n",
      "32     41\n",
      "33     39\n",
      "17     26\n",
      "34     19\n",
      "16     19\n",
      "35     15\n",
      "15     13\n",
      "14      9\n",
      "13      8\n",
      "36      6\n",
      "12      4\n",
      "38      3\n",
      "37      2\n",
      "39      1\n",
      "43      1\n",
      "Name: age, dtype: int64\n",
      "В процентах:\n",
      " 25    9.5%\n",
      "24    8.6%\n",
      "26    8.5%\n",
      "23    8.4%\n",
      "27    7.8%\n",
      "22    7.8%\n",
      "28    7.3%\n",
      "21    6.1%\n",
      "20    4.6%\n",
      "30    4.4%\n",
      "29    4.4%\n",
      "31    3.1%\n",
      "19    3.1%\n",
      "18    3.0%\n",
      "32    2.7%\n",
      "33    2.5%\n",
      "17    1.7%\n",
      "34    1.2%\n",
      "16    1.2%\n",
      "35    1.0%\n",
      "15    0.8%\n",
      "14    0.6%\n",
      "13    0.5%\n",
      "36    0.4%\n",
      "12    0.3%\n",
      "38    0.2%\n",
      "37    0.1%\n",
      "39    0.1%\n",
      "43    0.1%\n",
      "Name: age, dtype: object\n"
     ]
    },
    {
     "data": {
      "text/plain": [
       "('Средний возраст пользователя:', 24.903520208604956)"
      ]
     },
     "execution_count": 17,
     "metadata": {},
     "output_type": "execute_result"
    }
   ],
   "source": [
    "print('Количество в абсолютных значениях:\\n', data1['age'].value_counts())\n",
    "print('В процентах:\\n', data1.age.value_counts(normalize=True).mul(100).round(1).astype(str) + '%')\n",
    "'Средний возраст пользователя:',data1['age'].mean()"
   ]
  },
  {
   "cell_type": "code",
   "execution_count": 18,
   "id": "d3b6040c",
   "metadata": {
    "scrolled": false
   },
   "outputs": [
    {
     "data": {
      "text/plain": [
       "Text(0.5, 1.0, 'Частота встречаемости возрастов пользователей')"
      ]
     },
     "execution_count": 18,
     "metadata": {},
     "output_type": "execute_result"
    },
    {
     "data": {
      "image/png": "[encoded data removed]",
      "text/plain": [
       "<Figure size 1728x720 with 1 Axes>"
      ]
     },
     "metadata": {
      "needs_background": "light"
     },
     "output_type": "display_data"
    }
   ],
   "source": [
    "data1['age'].hist(bins = 15,grid=True, figsize=(24, 10))\n",
    "\n",
    "plt.xlabel(\"Возраст\", fontsize=13,\n",
    "              fontweight='bold')\n",
    "plt.ylabel(\"Частота встречаемости\", fontsize=13,\n",
    "              fontweight='bold')\n",
    "plt.title('Частота встречаемости возрастов пользователей',fontsize=25,\n",
    "              fontweight='bold', pad=20)"
   ]
  },
  {
   "cell_type": "markdown",
   "id": "c91a6199",
   "metadata": {},
   "source": [
    "Нормальное распределение"
   ]
  },
  {
   "cell_type": "markdown",
   "id": "0525f6c5",
   "metadata": {},
   "source": [
    "построим для наглядности круговую диаграмму"
   ]
  },
  {
   "cell_type": "code",
   "execution_count": 19,
   "id": "0a4468e8",
   "metadata": {},
   "outputs": [
    {
     "data": {
      "text/plain": [
       "<AxesSubplot:ylabel='age'>"
      ]
     },
     "execution_count": 19,
     "metadata": {},
     "output_type": "execute_result"
    },
    {
     "data": {
      "image/png": "[encoded data removed]",
      "text/plain": [
       "<Figure size 720x720 with 1 Axes>"
      ]
     },
     "metadata": {},
     "output_type": "display_data"
    }
   ],
   "source": [
    "data1['age'].value_counts().plot(kind ='pie', figsize=(10, 10), autopct='%1.0f%%')"
   ]
  },
  {
   "cell_type": "markdown",
   "id": "1825b3a7",
   "metadata": {},
   "source": [
    "Посмотрим характкристики"
   ]
  },
  {
   "cell_type": "code",
   "execution_count": 20,
   "id": "c1bdada8",
   "metadata": {},
   "outputs": [
    {
     "data": {
      "text/plain": [
       "count    1534.000000\n",
       "mean       24.903520\n",
       "std         4.572367\n",
       "min        12.000000\n",
       "25%        22.000000\n",
       "50%        25.000000\n",
       "75%        28.000000\n",
       "max        43.000000\n",
       "Name: age, dtype: float64"
      ]
     },
     "execution_count": 20,
     "metadata": {},
     "output_type": "execute_result"
    }
   ],
   "source": [
    "data1['age'].describe()"
   ]
  },
  {
   "cell_type": "markdown",
   "id": "9fe37dc9",
   "metadata": {},
   "source": [
    "**Вывод:** ```В основном пользователи сервиса в возрасте от 22 до 28 лет.``` средний возраст около 25 лет. Наиболее редко  всречающиеся - менее 13 и более 37 лет."
   ]
  },
  {
   "cell_type": "markdown",
   "id": "eda6bfa5",
   "metadata": {},
   "source": [
    "***3.4 расстояние, которое пользователь преодолел за одну поездку***"
   ]
  },
  {
   "cell_type": "markdown",
   "id": "8a3bbf2f",
   "metadata": {},
   "source": [
    "Категоризируем показатели."
   ]
  },
  {
   "cell_type": "code",
   "execution_count": 21,
   "id": "4e33e38e",
   "metadata": {},
   "outputs": [
    {
     "data": {
      "text/plain": [
       "3000.01-4000.00    6698\n",
       "2000.01-3000.00    5540\n",
       "4000.01-5000.00    2937\n",
       "<=1000             1372\n",
       "1000.01-2000.00     980\n",
       "5000.01-6000.00     495\n",
       ">=6000.01            46\n",
       "Name: distance, dtype: int64"
      ]
     },
     "execution_count": 21,
     "metadata": {},
     "output_type": "execute_result"
    }
   ],
   "source": [
    "def new_distance(dist):\n",
    "    try:\n",
    "        if dist <= 1000:\n",
    "            return '<=1000'\n",
    "        elif 1000.01 <= dist <= 2000.00:\n",
    "            return '1000.01-2000.00'\n",
    "        elif 2000.01 <= dist <= 3000.00:\n",
    "            return '2000.01-3000.00'\n",
    "        elif 3000.01 <= dist <= 4000.00:\n",
    "            return '3000.01-4000.00'\n",
    "        elif 4000.01 <= dist <= 5000.00:\n",
    "            return '4000.01-5000.00'\n",
    "        elif 5000.01 <= dist <= 6000.00:\n",
    "            return '5000.01-6000.00'\n",
    "        elif dist >= 6000.01:\n",
    "            return '>=6000.01'\n",
    "    except:\n",
    "        pass\n",
    "new_distance_category = data2['distance'].apply(new_distance) \n",
    "new_distance_category.value_counts()"
   ]
  },
  {
   "cell_type": "markdown",
   "id": "09a0f2c0",
   "metadata": {},
   "source": [
    "визуализируем ее с помощью гистограммы."
   ]
  },
  {
   "cell_type": "code",
   "execution_count": 22,
   "id": "ca169292",
   "metadata": {
    "scrolled": false
   },
   "outputs": [
    {
     "data": {
      "text/plain": [
       "Text(0.5, 1.0, 'Частота встречаемости расстояния поездки')"
      ]
     },
     "execution_count": 22,
     "metadata": {},
     "output_type": "execute_result"
    },
    {
     "data": {
      "image/png": "[encoded data removed]",
      "text/plain": [
       "<Figure size 1728x720 with 1 Axes>"
      ]
     },
     "metadata": {
      "needs_background": "light"
     },
     "output_type": "display_data"
    }
   ],
   "source": [
    "data2['distance'].hist(bins = 30,grid=True, figsize=(24, 10))\n",
    "\n",
    "plt.xlabel(\"Расстояние поездки\", fontsize=13,\n",
    "              fontweight='bold')\n",
    "plt.ylabel(\"Частота встречаемости\", fontsize=13,\n",
    "              fontweight='bold')\n",
    "plt.title('Частота встречаемости расстояния поездки',fontsize=25,\n",
    "              fontweight='bold', pad=20)"
   ]
  },
  {
   "cell_type": "markdown",
   "id": "4aafc643",
   "metadata": {},
   "source": [
    "2 пика. Первый - ок. 500 м. на короткие поездки, второй - ок. 3000 м. на длинные."
   ]
  },
  {
   "cell_type": "markdown",
   "id": "ddc20e5f",
   "metadata": {},
   "source": [
    "посмотрим характеристики:"
   ]
  },
  {
   "cell_type": "code",
   "execution_count": 23,
   "id": "260ee4e8",
   "metadata": {
    "scrolled": true
   },
   "outputs": [
    {
     "data": {
      "text/plain": [
       "count    18068.000000\n",
       "mean      3070.659976\n",
       "std       1116.831209\n",
       "min          0.855683\n",
       "25%       2543.226360\n",
       "50%       3133.609994\n",
       "75%       3776.222735\n",
       "max       7211.007745\n",
       "Name: distance, dtype: float64"
      ]
     },
     "execution_count": 23,
     "metadata": {},
     "output_type": "execute_result"
    }
   ],
   "source": [
    "data2['distance'].describe()"
   ]
  },
  {
   "cell_type": "markdown",
   "id": "bdcb0ce9",
   "metadata": {},
   "source": [
    "**Вывод:**  ```В среднем поездка занимает от 2 543.2 м. до 3 776.2 м.``` Медиана - 3 133.6 м. Гистограмма имеет 2 пика. Первый - около 500 м. на короткие поездки, второй - ок. 3000 м. на длинные."
   ]
  },
  {
   "cell_type": "markdown",
   "id": "5b2f9401",
   "metadata": {},
   "source": [
    "**3.5 продолжительность поездок.**"
   ]
  },
  {
   "cell_type": "markdown",
   "id": "9845fb80",
   "metadata": {},
   "source": [
    "Категоризируем показатели."
   ]
  },
  {
   "cell_type": "code",
   "execution_count": 24,
   "id": "06ec9a67",
   "metadata": {},
   "outputs": [
    {
     "data": {
      "text/plain": [
       "15.01-20.00    5713\n",
       "10.01-15.00    4368\n",
       "20.01-25.00    4130\n",
       "25.01-30.00    1647\n",
       "5.01-10.00     1360\n",
       "30.01-35.00     508\n",
       "<=5.00          278\n",
       ">=35.01          28\n",
       "Name: duration, dtype: int64"
      ]
     },
     "execution_count": 24,
     "metadata": {},
     "output_type": "execute_result"
    }
   ],
   "source": [
    "def new_duration(duration):\n",
    "    try:\n",
    "        if duration <= 5.00:\n",
    "            return '<=5.00'\n",
    "        elif 5.01 <= duration <= 10.00:\n",
    "            return '5.01-10.00'\n",
    "        elif 10.01 <= duration <= 15.00:\n",
    "            return '10.01-15.00'\n",
    "        elif 15.01 <= duration <= 20.00:\n",
    "            return '15.01-20.00'\n",
    "        elif 20.01 <= duration <= 25.00:\n",
    "            return '20.01-25.00'\n",
    "        elif 25.01 <= duration <= 30.00:\n",
    "            return '25.01-30.00'\n",
    "        elif 30.01 <= duration <= 35.00:\n",
    "            return '30.01-35.00'       \n",
    "        elif duration >= 35.01:\n",
    "            return '>=35.01'\n",
    "    except:\n",
    "        pass\n",
    "new_duration_category = data2['duration'].apply(new_duration) \n",
    "new_duration_category.value_counts()"
   ]
  },
  {
   "cell_type": "code",
   "execution_count": 25,
   "id": "ef9b3850",
   "metadata": {},
   "outputs": [
    {
     "data": {
      "text/plain": [
       "Text(0.5, 1.0, 'Частота встречаемости продолжительности поездки')"
      ]
     },
     "execution_count": 25,
     "metadata": {},
     "output_type": "execute_result"
    },
    {
     "data": {
      "image/png": "[encoded data removed]",
      "text/plain": [
       "<Figure size 1728x720 with 1 Axes>"
      ]
     },
     "metadata": {
      "needs_background": "light"
     },
     "output_type": "display_data"
    }
   ],
   "source": [
    "data2['duration'].hist(bins = 20,grid=True, figsize=(24, 10))\n",
    "\n",
    "plt.xlabel(\"Продолжительность поездки\", fontsize=13,\n",
    "              fontweight='bold')\n",
    "plt.ylabel(\"Частота встречаемости\", fontsize=13,\n",
    "              fontweight='bold')\n",
    "plt.title('Частота встречаемости продолжительности поездки',fontsize=25,\n",
    "              fontweight='bold', pad=20)"
   ]
  },
  {
   "cell_type": "markdown",
   "id": "bad23c15",
   "metadata": {},
   "source": [
    "Гистограмма показывает нормальное распределение."
   ]
  },
  {
   "cell_type": "markdown",
   "id": "9491f317",
   "metadata": {},
   "source": [
    "посморим характеристики:"
   ]
  },
  {
   "cell_type": "code",
   "execution_count": 26,
   "id": "6e83d1a6",
   "metadata": {},
   "outputs": [
    {
     "data": {
      "text/plain": [
       "count    18068.000000\n",
       "mean        17.805011\n",
       "std          6.091051\n",
       "min          0.500000\n",
       "25%         13.597563\n",
       "50%         17.678395\n",
       "75%         21.724800\n",
       "max         40.823963\n",
       "Name: duration, dtype: float64"
      ]
     },
     "execution_count": 26,
     "metadata": {},
     "output_type": "execute_result"
    }
   ],
   "source": [
    "data2['duration'].describe()"
   ]
  },
  {
   "cell_type": "markdown",
   "id": "c72df819",
   "metadata": {},
   "source": [
    "**Вывод:** ```В среднем поздка занимает от 13.6 мин. до 21.7 мин.``` Медиана - ок. 17.7 минут. Распределение нормальное."
   ]
  },
  {
   "cell_type": "markdown",
   "id": "694f19b3",
   "metadata": {},
   "source": [
    "**Вывод по разделу:**\n",
    "\n",
    "Арендой самокатов сервиса GoFas пользуются в 8 городах. ```Больше всего пользователей в  Пятигорске(219)```, Екатеринбурге(204)и Ростове-на-Дону (198); меньше всего в Москве(168), Тюмени(180) и Омске(183). В среднем около 192 пользователя на город.\n",
    "\n",
    "```В основном пользователи без подписок.``` Из 1534 пользователей 835 пользователей (54.4%) без подписок, 699 позователей (45.6%) с подпиской.\n",
    "\n",
    "```В основном пользователи сервиса в возрасте от 22 до 28 лет.``` средний возраст около 25 лет. Наиболее редко всречающиеся - менее 13 и более 37 лет.\n",
    "\n",
    "```В среднем поездка занимает от 2 543.2 м. до 3 776.2 м.``` Медиана - 3 133.6 м. Гистограмма имеет 2 пика. Первый - около 500 м. на короткие поездки, второй - ок. 3000 м. на длинные.\n",
    "\n",
    "```В среднем поздка занимает от 13.6 мин. до 21.7 мин.``` Медиана - ок. 17.7 минут. Распределение нормальное.\n",
    "\n",
    "\n"
   ]
  },
  {
   "cell_type": "markdown",
   "id": "4ef51331",
   "metadata": {},
   "source": [
    "#### Шаг 4. Объединение данных"
   ]
  },
  {
   "cell_type": "markdown",
   "id": "2dfd261b",
   "metadata": {},
   "source": [
    "***4.1 Объединим данные о пользователях, поездках и подписках в один датафрейм***"
   ]
  },
  {
   "cell_type": "markdown",
   "id": "24e55fcc",
   "metadata": {},
   "source": [
    "Объединим данные из data1(Пользователи) и data3(Подписки), объединив по столбцу subscription_type и забрав все строки из data1(Пользователи) и совпадения из data3(Подписки). Создадим data_1_3. Проверим объединение."
   ]
  },
  {
   "cell_type": "code",
   "execution_count": 27,
   "id": "792c489f",
   "metadata": {
    "scrolled": true
   },
   "outputs": [
    {
     "name": "stdout",
     "output_type": "stream",
     "text": [
      "<class 'pandas.core.frame.DataFrame'>\n",
      "Int64Index: 1534 entries, 0 to 1533\n",
      "Data columns (total 8 columns):\n",
      " #   Column             Non-Null Count  Dtype \n",
      "---  ------             --------------  ----- \n",
      " 0   user_id            1534 non-null   int64 \n",
      " 1   name               1534 non-null   object\n",
      " 2   age                1534 non-null   int64 \n",
      " 3   city               1534 non-null   object\n",
      " 4   subscription_type  1534 non-null   object\n",
      " 5   minute_price       1534 non-null   int64 \n",
      " 6   start_ride_price   1534 non-null   int64 \n",
      " 7   subscription_fee   1534 non-null   int64 \n",
      "dtypes: int64(5), object(3)\n",
      "memory usage: 107.9+ KB\n"
     ]
    }
   ],
   "source": [
    "data_1_3 = data1.merge(data3,on='subscription_type', how='left')\n",
    "data_1_3.info()"
   ]
  },
  {
   "cell_type": "markdown",
   "id": "f02040bf",
   "metadata": {},
   "source": [
    "Объединим данные из data_1_3 и data2(Поездки), объединив по столбцу user_id и забрав все строки из data_1_3  и совпадения из data2(Поездки) . Создадим data_new . Проверим объединение."
   ]
  },
  {
   "cell_type": "code",
   "execution_count": 28,
   "id": "1dd87297",
   "metadata": {
    "scrolled": true
   },
   "outputs": [
    {
     "name": "stdout",
     "output_type": "stream",
     "text": [
      "<class 'pandas.core.frame.DataFrame'>\n",
      "Int64Index: 18068 entries, 0 to 18067\n",
      "Data columns (total 12 columns):\n",
      " #   Column             Non-Null Count  Dtype         \n",
      "---  ------             --------------  -----         \n",
      " 0   user_id            18068 non-null  int64         \n",
      " 1   name               18068 non-null  object        \n",
      " 2   age                18068 non-null  int64         \n",
      " 3   city               18068 non-null  object        \n",
      " 4   subscription_type  18068 non-null  object        \n",
      " 5   minute_price       18068 non-null  int64         \n",
      " 6   start_ride_price   18068 non-null  int64         \n",
      " 7   subscription_fee   18068 non-null  int64         \n",
      " 8   distance           18068 non-null  float64       \n",
      " 9   duration           18068 non-null  float64       \n",
      " 10  date               18068 non-null  datetime64[ns]\n",
      " 11  month_date         18068 non-null  int64         \n",
      "dtypes: datetime64[ns](1), float64(2), int64(6), object(3)\n",
      "memory usage: 1.8+ MB\n"
     ]
    }
   ],
   "source": [
    "data_new = data_1_3.merge(data2, on='user_id',how='left')\n",
    "data_new.info()"
   ]
  },
  {
   "cell_type": "markdown",
   "id": "fd2d4da4",
   "metadata": {},
   "source": [
    "***4.2 Создадим ещё два датафрейма из датафрейма, созданного на этапе 4.1:***"
   ]
  },
  {
   "cell_type": "markdown",
   "id": "e7349977",
   "metadata": {},
   "source": [
    "***С данными о пользователях без подписки:***"
   ]
  },
  {
   "cell_type": "code",
   "execution_count": 29,
   "id": "a4f26d8b",
   "metadata": {},
   "outputs": [
    {
     "data": {
      "text/html": [
       "<div>\n",
       "<style scoped>\n",
       "    .dataframe tbody tr th:only-of-type {\n",
       "        vertical-align: middle;\n",
       "    }\n",
       "\n",
       "    .dataframe tbody tr th {\n",
       "        vertical-align: top;\n",
       "    }\n",
       "\n",
       "    .dataframe thead th {\n",
       "        text-align: right;\n",
       "    }\n",
       "</style>\n",
       "<table border=\"1\" class=\"dataframe\">\n",
       "  <thead>\n",
       "    <tr style=\"text-align: right;\">\n",
       "      <th></th>\n",
       "      <th>user_id</th>\n",
       "      <th>name</th>\n",
       "      <th>age</th>\n",
       "      <th>city</th>\n",
       "      <th>subscription_type</th>\n",
       "      <th>minute_price</th>\n",
       "      <th>start_ride_price</th>\n",
       "      <th>subscription_fee</th>\n",
       "      <th>distance</th>\n",
       "      <th>duration</th>\n",
       "      <th>date</th>\n",
       "      <th>month_date</th>\n",
       "    </tr>\n",
       "  </thead>\n",
       "  <tbody>\n",
       "    <tr>\n",
       "      <th>6500</th>\n",
       "      <td>700</td>\n",
       "      <td>Айдар</td>\n",
       "      <td>22</td>\n",
       "      <td>Омск</td>\n",
       "      <td>free</td>\n",
       "      <td>8</td>\n",
       "      <td>50</td>\n",
       "      <td>0</td>\n",
       "      <td>2515.690719</td>\n",
       "      <td>14.944286</td>\n",
       "      <td>2021-01-02</td>\n",
       "      <td>1</td>\n",
       "    </tr>\n",
       "    <tr>\n",
       "      <th>6501</th>\n",
       "      <td>700</td>\n",
       "      <td>Айдар</td>\n",
       "      <td>22</td>\n",
       "      <td>Омск</td>\n",
       "      <td>free</td>\n",
       "      <td>8</td>\n",
       "      <td>50</td>\n",
       "      <td>0</td>\n",
       "      <td>846.932642</td>\n",
       "      <td>16.234663</td>\n",
       "      <td>2021-02-01</td>\n",
       "      <td>2</td>\n",
       "    </tr>\n",
       "    <tr>\n",
       "      <th>6502</th>\n",
       "      <td>700</td>\n",
       "      <td>Айдар</td>\n",
       "      <td>22</td>\n",
       "      <td>Омск</td>\n",
       "      <td>free</td>\n",
       "      <td>8</td>\n",
       "      <td>50</td>\n",
       "      <td>0</td>\n",
       "      <td>4004.434142</td>\n",
       "      <td>20.016628</td>\n",
       "      <td>2021-02-04</td>\n",
       "      <td>2</td>\n",
       "    </tr>\n",
       "    <tr>\n",
       "      <th>6503</th>\n",
       "      <td>700</td>\n",
       "      <td>Айдар</td>\n",
       "      <td>22</td>\n",
       "      <td>Омск</td>\n",
       "      <td>free</td>\n",
       "      <td>8</td>\n",
       "      <td>50</td>\n",
       "      <td>0</td>\n",
       "      <td>1205.911290</td>\n",
       "      <td>9.782872</td>\n",
       "      <td>2021-02-10</td>\n",
       "      <td>2</td>\n",
       "    </tr>\n",
       "    <tr>\n",
       "      <th>6504</th>\n",
       "      <td>700</td>\n",
       "      <td>Айдар</td>\n",
       "      <td>22</td>\n",
       "      <td>Омск</td>\n",
       "      <td>free</td>\n",
       "      <td>8</td>\n",
       "      <td>50</td>\n",
       "      <td>0</td>\n",
       "      <td>3047.379435</td>\n",
       "      <td>17.427673</td>\n",
       "      <td>2021-02-14</td>\n",
       "      <td>2</td>\n",
       "    </tr>\n",
       "    <tr>\n",
       "      <th>6505</th>\n",
       "      <td>700</td>\n",
       "      <td>Айдар</td>\n",
       "      <td>22</td>\n",
       "      <td>Омск</td>\n",
       "      <td>free</td>\n",
       "      <td>8</td>\n",
       "      <td>50</td>\n",
       "      <td>0</td>\n",
       "      <td>4342.002254</td>\n",
       "      <td>22.368009</td>\n",
       "      <td>2021-02-23</td>\n",
       "      <td>2</td>\n",
       "    </tr>\n",
       "    <tr>\n",
       "      <th>6506</th>\n",
       "      <td>700</td>\n",
       "      <td>Айдар</td>\n",
       "      <td>22</td>\n",
       "      <td>Омск</td>\n",
       "      <td>free</td>\n",
       "      <td>8</td>\n",
       "      <td>50</td>\n",
       "      <td>0</td>\n",
       "      <td>3798.334905</td>\n",
       "      <td>18.243756</td>\n",
       "      <td>2021-03-03</td>\n",
       "      <td>3</td>\n",
       "    </tr>\n",
       "    <tr>\n",
       "      <th>6507</th>\n",
       "      <td>700</td>\n",
       "      <td>Айдар</td>\n",
       "      <td>22</td>\n",
       "      <td>Омск</td>\n",
       "      <td>free</td>\n",
       "      <td>8</td>\n",
       "      <td>50</td>\n",
       "      <td>0</td>\n",
       "      <td>2984.551206</td>\n",
       "      <td>15.424899</td>\n",
       "      <td>2021-04-09</td>\n",
       "      <td>4</td>\n",
       "    </tr>\n",
       "    <tr>\n",
       "      <th>6508</th>\n",
       "      <td>700</td>\n",
       "      <td>Айдар</td>\n",
       "      <td>22</td>\n",
       "      <td>Омск</td>\n",
       "      <td>free</td>\n",
       "      <td>8</td>\n",
       "      <td>50</td>\n",
       "      <td>0</td>\n",
       "      <td>3360.107141</td>\n",
       "      <td>16.765497</td>\n",
       "      <td>2021-06-12</td>\n",
       "      <td>6</td>\n",
       "    </tr>\n",
       "    <tr>\n",
       "      <th>6509</th>\n",
       "      <td>700</td>\n",
       "      <td>Айдар</td>\n",
       "      <td>22</td>\n",
       "      <td>Омск</td>\n",
       "      <td>free</td>\n",
       "      <td>8</td>\n",
       "      <td>50</td>\n",
       "      <td>0</td>\n",
       "      <td>2567.543847</td>\n",
       "      <td>11.312160</td>\n",
       "      <td>2021-06-23</td>\n",
       "      <td>6</td>\n",
       "    </tr>\n",
       "  </tbody>\n",
       "</table>\n",
       "</div>"
      ],
      "text/plain": [
       "      user_id   name  age  city subscription_type  minute_price  \\\n",
       "6500      700  Айдар   22  Омск              free             8   \n",
       "6501      700  Айдар   22  Омск              free             8   \n",
       "6502      700  Айдар   22  Омск              free             8   \n",
       "6503      700  Айдар   22  Омск              free             8   \n",
       "6504      700  Айдар   22  Омск              free             8   \n",
       "6505      700  Айдар   22  Омск              free             8   \n",
       "6506      700  Айдар   22  Омск              free             8   \n",
       "6507      700  Айдар   22  Омск              free             8   \n",
       "6508      700  Айдар   22  Омск              free             8   \n",
       "6509      700  Айдар   22  Омск              free             8   \n",
       "\n",
       "      start_ride_price  subscription_fee     distance   duration       date  \\\n",
       "6500                50                 0  2515.690719  14.944286 2021-01-02   \n",
       "6501                50                 0   846.932642  16.234663 2021-02-01   \n",
       "6502                50                 0  4004.434142  20.016628 2021-02-04   \n",
       "6503                50                 0  1205.911290   9.782872 2021-02-10   \n",
       "6504                50                 0  3047.379435  17.427673 2021-02-14   \n",
       "6505                50                 0  4342.002254  22.368009 2021-02-23   \n",
       "6506                50                 0  3798.334905  18.243756 2021-03-03   \n",
       "6507                50                 0  2984.551206  15.424899 2021-04-09   \n",
       "6508                50                 0  3360.107141  16.765497 2021-06-12   \n",
       "6509                50                 0  2567.543847  11.312160 2021-06-23   \n",
       "\n",
       "      month_date  \n",
       "6500           1  \n",
       "6501           2  \n",
       "6502           2  \n",
       "6503           2  \n",
       "6504           2  \n",
       "6505           2  \n",
       "6506           3  \n",
       "6507           4  \n",
       "6508           6  \n",
       "6509           6  "
      ]
     },
     "execution_count": 29,
     "metadata": {},
     "output_type": "execute_result"
    }
   ],
   "source": [
    "data_free = data_new[data_new['subscription_type']=='free']\n",
    "data_free.head(10)"
   ]
  },
  {
   "cell_type": "markdown",
   "id": "21dc67cf",
   "metadata": {},
   "source": [
    "***С данными о пользователях с подпиской:***"
   ]
  },
  {
   "cell_type": "code",
   "execution_count": 30,
   "id": "a25df4a4",
   "metadata": {
    "scrolled": true
   },
   "outputs": [
    {
     "data": {
      "text/html": [
       "<div>\n",
       "<style scoped>\n",
       "    .dataframe tbody tr th:only-of-type {\n",
       "        vertical-align: middle;\n",
       "    }\n",
       "\n",
       "    .dataframe tbody tr th {\n",
       "        vertical-align: top;\n",
       "    }\n",
       "\n",
       "    .dataframe thead th {\n",
       "        text-align: right;\n",
       "    }\n",
       "</style>\n",
       "<table border=\"1\" class=\"dataframe\">\n",
       "  <thead>\n",
       "    <tr style=\"text-align: right;\">\n",
       "      <th></th>\n",
       "      <th>user_id</th>\n",
       "      <th>name</th>\n",
       "      <th>age</th>\n",
       "      <th>city</th>\n",
       "      <th>subscription_type</th>\n",
       "      <th>minute_price</th>\n",
       "      <th>start_ride_price</th>\n",
       "      <th>subscription_fee</th>\n",
       "      <th>distance</th>\n",
       "      <th>duration</th>\n",
       "      <th>date</th>\n",
       "      <th>month_date</th>\n",
       "    </tr>\n",
       "  </thead>\n",
       "  <tbody>\n",
       "    <tr>\n",
       "      <th>0</th>\n",
       "      <td>1</td>\n",
       "      <td>Кира</td>\n",
       "      <td>22</td>\n",
       "      <td>Тюмень</td>\n",
       "      <td>ultra</td>\n",
       "      <td>6</td>\n",
       "      <td>0</td>\n",
       "      <td>199</td>\n",
       "      <td>4409.919140</td>\n",
       "      <td>25.599769</td>\n",
       "      <td>2021-01-01</td>\n",
       "      <td>1</td>\n",
       "    </tr>\n",
       "    <tr>\n",
       "      <th>1</th>\n",
       "      <td>1</td>\n",
       "      <td>Кира</td>\n",
       "      <td>22</td>\n",
       "      <td>Тюмень</td>\n",
       "      <td>ultra</td>\n",
       "      <td>6</td>\n",
       "      <td>0</td>\n",
       "      <td>199</td>\n",
       "      <td>2617.592153</td>\n",
       "      <td>15.816871</td>\n",
       "      <td>2021-01-18</td>\n",
       "      <td>1</td>\n",
       "    </tr>\n",
       "    <tr>\n",
       "      <th>2</th>\n",
       "      <td>1</td>\n",
       "      <td>Кира</td>\n",
       "      <td>22</td>\n",
       "      <td>Тюмень</td>\n",
       "      <td>ultra</td>\n",
       "      <td>6</td>\n",
       "      <td>0</td>\n",
       "      <td>199</td>\n",
       "      <td>754.159807</td>\n",
       "      <td>6.232113</td>\n",
       "      <td>2021-04-20</td>\n",
       "      <td>4</td>\n",
       "    </tr>\n",
       "    <tr>\n",
       "      <th>3</th>\n",
       "      <td>1</td>\n",
       "      <td>Кира</td>\n",
       "      <td>22</td>\n",
       "      <td>Тюмень</td>\n",
       "      <td>ultra</td>\n",
       "      <td>6</td>\n",
       "      <td>0</td>\n",
       "      <td>199</td>\n",
       "      <td>2694.783254</td>\n",
       "      <td>18.511000</td>\n",
       "      <td>2021-08-11</td>\n",
       "      <td>8</td>\n",
       "    </tr>\n",
       "    <tr>\n",
       "      <th>4</th>\n",
       "      <td>1</td>\n",
       "      <td>Кира</td>\n",
       "      <td>22</td>\n",
       "      <td>Тюмень</td>\n",
       "      <td>ultra</td>\n",
       "      <td>6</td>\n",
       "      <td>0</td>\n",
       "      <td>199</td>\n",
       "      <td>4028.687306</td>\n",
       "      <td>26.265803</td>\n",
       "      <td>2021-08-28</td>\n",
       "      <td>8</td>\n",
       "    </tr>\n",
       "    <tr>\n",
       "      <th>5</th>\n",
       "      <td>1</td>\n",
       "      <td>Кира</td>\n",
       "      <td>22</td>\n",
       "      <td>Тюмень</td>\n",
       "      <td>ultra</td>\n",
       "      <td>6</td>\n",
       "      <td>0</td>\n",
       "      <td>199</td>\n",
       "      <td>2770.890808</td>\n",
       "      <td>16.650138</td>\n",
       "      <td>2021-10-09</td>\n",
       "      <td>10</td>\n",
       "    </tr>\n",
       "    <tr>\n",
       "      <th>6</th>\n",
       "      <td>1</td>\n",
       "      <td>Кира</td>\n",
       "      <td>22</td>\n",
       "      <td>Тюмень</td>\n",
       "      <td>ultra</td>\n",
       "      <td>6</td>\n",
       "      <td>0</td>\n",
       "      <td>199</td>\n",
       "      <td>3039.020292</td>\n",
       "      <td>14.927879</td>\n",
       "      <td>2021-10-19</td>\n",
       "      <td>10</td>\n",
       "    </tr>\n",
       "    <tr>\n",
       "      <th>7</th>\n",
       "      <td>1</td>\n",
       "      <td>Кира</td>\n",
       "      <td>22</td>\n",
       "      <td>Тюмень</td>\n",
       "      <td>ultra</td>\n",
       "      <td>6</td>\n",
       "      <td>0</td>\n",
       "      <td>199</td>\n",
       "      <td>2842.118050</td>\n",
       "      <td>23.117468</td>\n",
       "      <td>2021-11-06</td>\n",
       "      <td>11</td>\n",
       "    </tr>\n",
       "    <tr>\n",
       "      <th>8</th>\n",
       "      <td>1</td>\n",
       "      <td>Кира</td>\n",
       "      <td>22</td>\n",
       "      <td>Тюмень</td>\n",
       "      <td>ultra</td>\n",
       "      <td>6</td>\n",
       "      <td>0</td>\n",
       "      <td>199</td>\n",
       "      <td>3412.690668</td>\n",
       "      <td>15.238072</td>\n",
       "      <td>2021-11-14</td>\n",
       "      <td>11</td>\n",
       "    </tr>\n",
       "    <tr>\n",
       "      <th>9</th>\n",
       "      <td>1</td>\n",
       "      <td>Кира</td>\n",
       "      <td>22</td>\n",
       "      <td>Тюмень</td>\n",
       "      <td>ultra</td>\n",
       "      <td>6</td>\n",
       "      <td>0</td>\n",
       "      <td>199</td>\n",
       "      <td>748.690645</td>\n",
       "      <td>15.041884</td>\n",
       "      <td>2021-11-22</td>\n",
       "      <td>11</td>\n",
       "    </tr>\n",
       "  </tbody>\n",
       "</table>\n",
       "</div>"
      ],
      "text/plain": [
       "   user_id  name  age    city subscription_type  minute_price  \\\n",
       "0        1  Кира   22  Тюмень             ultra             6   \n",
       "1        1  Кира   22  Тюмень             ultra             6   \n",
       "2        1  Кира   22  Тюмень             ultra             6   \n",
       "3        1  Кира   22  Тюмень             ultra             6   \n",
       "4        1  Кира   22  Тюмень             ultra             6   \n",
       "5        1  Кира   22  Тюмень             ultra             6   \n",
       "6        1  Кира   22  Тюмень             ultra             6   \n",
       "7        1  Кира   22  Тюмень             ultra             6   \n",
       "8        1  Кира   22  Тюмень             ultra             6   \n",
       "9        1  Кира   22  Тюмень             ultra             6   \n",
       "\n",
       "   start_ride_price  subscription_fee     distance   duration       date  \\\n",
       "0                 0               199  4409.919140  25.599769 2021-01-01   \n",
       "1                 0               199  2617.592153  15.816871 2021-01-18   \n",
       "2                 0               199   754.159807   6.232113 2021-04-20   \n",
       "3                 0               199  2694.783254  18.511000 2021-08-11   \n",
       "4                 0               199  4028.687306  26.265803 2021-08-28   \n",
       "5                 0               199  2770.890808  16.650138 2021-10-09   \n",
       "6                 0               199  3039.020292  14.927879 2021-10-19   \n",
       "7                 0               199  2842.118050  23.117468 2021-11-06   \n",
       "8                 0               199  3412.690668  15.238072 2021-11-14   \n",
       "9                 0               199   748.690645  15.041884 2021-11-22   \n",
       "\n",
       "   month_date  \n",
       "0           1  \n",
       "1           1  \n",
       "2           4  \n",
       "3           8  \n",
       "4           8  \n",
       "5          10  \n",
       "6          10  \n",
       "7          11  \n",
       "8          11  \n",
       "9          11  "
      ]
     },
     "execution_count": 30,
     "metadata": {},
     "output_type": "execute_result"
    }
   ],
   "source": [
    "data_ultra = data_new[data_new['subscription_type']=='ultra']\n",
    "data_ultra.head(10)"
   ]
  },
  {
   "cell_type": "markdown",
   "id": "c2fee2ca",
   "metadata": {},
   "source": [
    "Для удобства ещё раз посмотрим какое соотношение поездок с подпиской и без подписки."
   ]
  },
  {
   "cell_type": "code",
   "execution_count": 31,
   "id": "e076528b",
   "metadata": {},
   "outputs": [
    {
     "name": "stdout",
     "output_type": "stream",
     "text": [
      "Количество в абсолютных значениях:\n",
      " free     11568\n",
      "ultra     6500\n",
      "Name: subscription_type, dtype: int64\n",
      "В процентах:\n",
      " free     64.0%\n",
      "ultra    36.0%\n",
      "Name: subscription_type, dtype: object\n"
     ]
    }
   ],
   "source": [
    "print('Количество в абсолютных значениях:\\n',  data_new['subscription_type'].value_counts())\n",
    "print('В процентах:\\n', data_new.subscription_type.value_counts(normalize=True).mul(100).round(1).astype(str) + '%')"
   ]
  },
  {
   "cell_type": "markdown",
   "id": "12c24ad0",
   "metadata": {},
   "source": [
    "посмотрим сколько поздок в среднем делает пользователель:\n",
    "\n",
    "с подпиской "
   ]
  },
  {
   "cell_type": "code",
   "execution_count": 32,
   "id": "d99cf05c",
   "metadata": {},
   "outputs": [
    {
     "data": {
      "text/plain": [
       "13.853892215568862"
      ]
     },
     "execution_count": 32,
     "metadata": {},
     "output_type": "execute_result"
    }
   ],
   "source": [
    "data_free.groupby('user_id')['duration'].count().mean()"
   ]
  },
  {
   "cell_type": "markdown",
   "id": "c7829d46",
   "metadata": {},
   "source": [
    "без подписки"
   ]
  },
  {
   "cell_type": "code",
   "execution_count": 33,
   "id": "13448b67",
   "metadata": {},
   "outputs": [
    {
     "data": {
      "text/plain": [
       "9.298998569384835"
      ]
     },
     "execution_count": 33,
     "metadata": {},
     "output_type": "execute_result"
    }
   ],
   "source": [
    "data_ultra.groupby('user_id')['duration'].count().mean()"
   ]
  },
  {
   "cell_type": "markdown",
   "id": "266795b8",
   "metadata": {},
   "source": [
    "**Вывод** в среднем пользователь с подпиской совершил  9.30 поездок, а пользователь без подписки 13.85 поездок. Т.е. почти в 1,5 раза чаще. Из-за чего соотношение  между поездками без подписки(6 500) с подпиской (11 568)  составляет 64 %/ 36%. Общее количество поездок в data_new -  18 068."
   ]
  },
  {
   "cell_type": "markdown",
   "id": "7ac77065",
   "metadata": {},
   "source": [
    "***4.3 Визуализируем информацию о расстоянии и времени поездок***"
   ]
  },
  {
   "cell_type": "markdown",
   "id": "ad7d1b91",
   "metadata": {},
   "source": [
    "***двойной график для расстояния поездок:*** "
   ]
  },
  {
   "cell_type": "code",
   "execution_count": 34,
   "id": "157f906a",
   "metadata": {},
   "outputs": [
    {
     "data": {
      "text/plain": [
       "<AxesSubplot:ylabel='Frequency'>"
      ]
     },
     "execution_count": 34,
     "metadata": {},
     "output_type": "execute_result"
    },
    {
     "data": {
      "image/png": "[encoded data removed]",
      "text/plain": [
       "<Figure size 432x288 with 1 Axes>"
      ]
     },
     "metadata": {
      "needs_background": "light"
     },
     "output_type": "display_data"
    }
   ],
   "source": [
    "ax = data_free.plot(\n",
    "    kind='hist',\n",
    "    y='distance',\n",
    "    histtype='step',\n",
    "    range=(0, 6000),\n",
    "    bins=25,\n",
    "    linewidth=5,\n",
    "    alpha=0.7,\n",
    "    label='data_free',\n",
    ")\n",
    "data_ultra.plot(\n",
    "    kind='hist',\n",
    "    y='distance',\n",
    "    histtype='step',\n",
    "    range=(0, 6000),\n",
    "    bins=25,\n",
    "    linewidth=5,\n",
    "    alpha=0.7,\n",
    "    label='data_ultra',\n",
    "    ax=ax,\n",
    "    grid=True,\n",
    "    legend=True,\n",
    ") "
   ]
  },
  {
   "cell_type": "markdown",
   "id": "2209bce0",
   "metadata": {},
   "source": [
    "Характеристики "
   ]
  },
  {
   "cell_type": "code",
   "execution_count": 35,
   "id": "bc30defd",
   "metadata": {},
   "outputs": [
    {
     "data": {
      "text/plain": [
       "'Для пользователей без подписки'"
      ]
     },
     "metadata": {},
     "output_type": "display_data"
    },
    {
     "data": {
      "text/plain": [
       "count    11568.000000\n",
       "mean      3045.495282\n",
       "std       1246.173806\n",
       "min          0.855683\n",
       "25%       2366.562689\n",
       "50%       3114.648465\n",
       "75%       3905.697894\n",
       "max       7211.007745\n",
       "Name: distance, dtype: float64"
      ]
     },
     "metadata": {},
     "output_type": "display_data"
    },
    {
     "data": {
      "text/plain": [
       "('Для пользователей с подпиской',\n",
       " count    6500.000000\n",
       " mean     3115.445388\n",
       " std       836.895330\n",
       " min       244.210438\n",
       " 25%      2785.444017\n",
       " 50%      3148.637229\n",
       " 75%      3560.574425\n",
       " max      5699.769662\n",
       " Name: distance, dtype: float64)"
      ]
     },
     "execution_count": 35,
     "metadata": {},
     "output_type": "execute_result"
    }
   ],
   "source": [
    "display( 'Для пользователей без подписки',data_free['distance'].describe())\n",
    "'Для пользователей с подпиской',data_ultra['distance'].describe()"
   ]
  },
  {
   "cell_type": "markdown",
   "id": "817c83d1",
   "metadata": {},
   "source": [
    "**Вывод:** \n",
    "\n",
    "```обычное расстояние поездки у пользователей без подписки от 2 366 до 3 905 м.``` Медиана 3 114. График имеет 2 пика - ок 500 м и ок 2 500 м.\n",
    "\n",
    "```обычное расстояние поездки  у пользователей с подпиской  от 2 785 до 3 560 м.``` Медиана 3 148. График имеет 2 пика - ок 1000 м и ок 3 000 м.  \n",
    "\n",
    "По графикам  можно сделать вывод, что обычное расстояние поездок с подписками более сконцентровано в промежутке от примерно 2 500 м до 3 500 м, в то время , как обычное расстояние поездок без подписок больше распределено в промежутке примерно от 2 000 до 4000 м. \n"
   ]
  },
  {
   "cell_type": "markdown",
   "id": "c7440a4e",
   "metadata": {},
   "source": [
    "***двойной график для времени поездок:*** "
   ]
  },
  {
   "cell_type": "code",
   "execution_count": 36,
   "id": "3037e5bb",
   "metadata": {
    "scrolled": true
   },
   "outputs": [
    {
     "data": {
      "text/plain": [
       "<AxesSubplot:ylabel='Frequency'>"
      ]
     },
     "execution_count": 36,
     "metadata": {},
     "output_type": "execute_result"
    },
    {
     "data": {
      "image/png": "[encoded data removed]",
      "text/plain": [
       "<Figure size 432x288 with 1 Axes>"
      ]
     },
     "metadata": {
      "needs_background": "light"
     },
     "output_type": "display_data"
    }
   ],
   "source": [
    "ax = data_free.plot(\n",
    "    kind='hist',\n",
    "    y='duration',\n",
    "    histtype='step',\n",
    "    range=(0, 35),\n",
    "    bins=25,\n",
    "    linewidth=5,\n",
    "    alpha=0.7,\n",
    "    label='data_free',\n",
    ")\n",
    "data_ultra.plot(\n",
    "    kind='hist',\n",
    "    y='duration',\n",
    "    histtype='step',\n",
    "    range=(0, 35),\n",
    "    bins=25,\n",
    "    linewidth=5,\n",
    "    alpha=0.7,\n",
    "    label='data_ultra',\n",
    "    ax=ax,\n",
    "    grid=True,\n",
    "    legend=True,\n",
    ") "
   ]
  },
  {
   "cell_type": "markdown",
   "id": "bf699ef1",
   "metadata": {},
   "source": [
    "Характеристики"
   ]
  },
  {
   "cell_type": "code",
   "execution_count": 37,
   "id": "d60746b4",
   "metadata": {},
   "outputs": [
    {
     "data": {
      "text/plain": [
       "'Для пользователей без подписки'"
      ]
     },
     "metadata": {},
     "output_type": "display_data"
    },
    {
     "data": {
      "text/plain": [
       "count    11568.000000\n",
       "mean        17.390909\n",
       "std          6.326803\n",
       "min          0.500000\n",
       "25%         12.958437\n",
       "50%         17.326890\n",
       "75%         21.594071\n",
       "max         34.948498\n",
       "Name: duration, dtype: float64"
      ]
     },
     "metadata": {},
     "output_type": "display_data"
    },
    {
     "data": {
      "text/plain": [
       "('Для пользователей с подпиской',\n",
       " count    6500.000000\n",
       " mean       18.541985\n",
       " std         5.572048\n",
       " min         3.760353\n",
       " 25%        14.524654\n",
       " 50%        18.178153\n",
       " 75%        21.884129\n",
       " max        40.823963\n",
       " Name: duration, dtype: float64)"
      ]
     },
     "execution_count": 37,
     "metadata": {},
     "output_type": "execute_result"
    }
   ],
   "source": [
    "display( 'Для пользователей без подписки',data_free['duration'].describe())\n",
    "'Для пользователей с подпиской',data_ultra['duration'].describe()"
   ]
  },
  {
   "cell_type": "markdown",
   "id": "00d52b57",
   "metadata": {},
   "source": [
    "**Вывод:** \n",
    "\n",
    "```обычное время поездки у пользователей без подписки от 13 до 21.6 мин.``` Медиана 17.3 мин.\n",
    "\n",
    "```обычное время поездки у пользователей с подпиской от 14.5 до 22 м.``` Медиана 18.2 мин.\n",
    "\n",
    "Оба графика имеют примерно одинаковое нормальное распределение. Время поездок с подпиской чуть дольше чем время поездок без подписок.\n",
    "\n"
   ]
  },
  {
   "cell_type": "markdown",
   "id": "402d620f",
   "metadata": {},
   "source": [
    "#### Шаг 5. Подсчёт выручки"
   ]
  },
  {
   "cell_type": "markdown",
   "id": "c1ef721e",
   "metadata": {},
   "source": [
    "***5.1 Создадим датафрейм с агрегированными данными о поездках на основе датафрейма с объединёнными данными из шага 4: найдём суммарное расстояние, количество поездок и суммарное время для каждого пользователя за каждый месяц.***"
   ]
  },
  {
   "cell_type": "code",
   "execution_count": 38,
   "id": "edd74e00",
   "metadata": {},
   "outputs": [
    {
     "data": {
      "text/html": [
       "<div>\n",
       "<style scoped>\n",
       "    .dataframe tbody tr th:only-of-type {\n",
       "        vertical-align: middle;\n",
       "    }\n",
       "\n",
       "    .dataframe tbody tr th {\n",
       "        vertical-align: top;\n",
       "    }\n",
       "\n",
       "    .dataframe thead th {\n",
       "        text-align: right;\n",
       "    }\n",
       "</style>\n",
       "<table border=\"1\" class=\"dataframe\">\n",
       "  <thead>\n",
       "    <tr style=\"text-align: right;\">\n",
       "      <th></th>\n",
       "      <th></th>\n",
       "      <th>distance</th>\n",
       "      <th>duration_sum</th>\n",
       "      <th>duration_count</th>\n",
       "    </tr>\n",
       "    <tr>\n",
       "      <th>user_id</th>\n",
       "      <th>month_date</th>\n",
       "      <th></th>\n",
       "      <th></th>\n",
       "      <th></th>\n",
       "    </tr>\n",
       "  </thead>\n",
       "  <tbody>\n",
       "    <tr>\n",
       "      <th rowspan=\"5\" valign=\"top\">1</th>\n",
       "      <th>1</th>\n",
       "      <td>7027.511294</td>\n",
       "      <td>41.416640</td>\n",
       "      <td>2</td>\n",
       "    </tr>\n",
       "    <tr>\n",
       "      <th>4</th>\n",
       "      <td>754.159807</td>\n",
       "      <td>6.232113</td>\n",
       "      <td>1</td>\n",
       "    </tr>\n",
       "    <tr>\n",
       "      <th>8</th>\n",
       "      <td>6723.470560</td>\n",
       "      <td>44.776802</td>\n",
       "      <td>2</td>\n",
       "    </tr>\n",
       "    <tr>\n",
       "      <th>10</th>\n",
       "      <td>5809.911100</td>\n",
       "      <td>31.578017</td>\n",
       "      <td>2</td>\n",
       "    </tr>\n",
       "    <tr>\n",
       "      <th>11</th>\n",
       "      <td>7003.499363</td>\n",
       "      <td>53.397424</td>\n",
       "      <td>3</td>\n",
       "    </tr>\n",
       "    <tr>\n",
       "      <th>...</th>\n",
       "      <th>...</th>\n",
       "      <td>...</td>\n",
       "      <td>...</td>\n",
       "      <td>...</td>\n",
       "    </tr>\n",
       "    <tr>\n",
       "      <th rowspan=\"5\" valign=\"top\">1534</th>\n",
       "      <th>6</th>\n",
       "      <td>3409.468534</td>\n",
       "      <td>24.812678</td>\n",
       "      <td>2</td>\n",
       "    </tr>\n",
       "    <tr>\n",
       "      <th>8</th>\n",
       "      <td>7622.453034</td>\n",
       "      <td>47.205960</td>\n",
       "      <td>2</td>\n",
       "    </tr>\n",
       "    <tr>\n",
       "      <th>9</th>\n",
       "      <td>4928.173852</td>\n",
       "      <td>22.560373</td>\n",
       "      <td>1</td>\n",
       "    </tr>\n",
       "    <tr>\n",
       "      <th>11</th>\n",
       "      <td>13350.015305</td>\n",
       "      <td>76.342174</td>\n",
       "      <td>4</td>\n",
       "    </tr>\n",
       "    <tr>\n",
       "      <th>12</th>\n",
       "      <td>2371.711192</td>\n",
       "      <td>15.893917</td>\n",
       "      <td>1</td>\n",
       "    </tr>\n",
       "  </tbody>\n",
       "</table>\n",
       "<p>11331 rows × 3 columns</p>\n",
       "</div>"
      ],
      "text/plain": [
       "                        distance  duration_sum  duration_count\n",
       "user_id month_date                                            \n",
       "1       1            7027.511294     41.416640               2\n",
       "        4             754.159807      6.232113               1\n",
       "        8            6723.470560     44.776802               2\n",
       "        10           5809.911100     31.578017               2\n",
       "        11           7003.499363     53.397424               3\n",
       "...                          ...           ...             ...\n",
       "1534    6            3409.468534     24.812678               2\n",
       "        8            7622.453034     47.205960               2\n",
       "        9            4928.173852     22.560373               1\n",
       "        11          13350.015305     76.342174               4\n",
       "        12           2371.711192     15.893917               1\n",
       "\n",
       "[11331 rows x 3 columns]"
      ]
     },
     "execution_count": 38,
     "metadata": {},
     "output_type": "execute_result"
    }
   ],
   "source": [
    "data_aggr = data_new.groupby(['user_id', 'month_date']).agg({'distance':'sum',})\n",
    "data_aggr['duration_sum'] = data_new.groupby(['user_id', 'month_date']).agg({'duration':'sum',})\n",
    "data_aggr['duration_count'] = data_new.groupby(['user_id', 'month_date']).agg({'duration':'count',})\n",
    "data_aggr"
   ]
  },
  {
   "cell_type": "markdown",
   "id": "c3677d79",
   "metadata": {},
   "source": [
    "***5.2 В этот же датафрейм добавим столбец с помесячной выручкой, которую принёс каждый пользователь.***"
   ]
  },
  {
   "cell_type": "code",
   "execution_count": 39,
   "id": "9062c6ae",
   "metadata": {},
   "outputs": [],
   "source": [
    "import numpy as np\n",
    "\n",
    "# каждое значение из столбца duration округляется с помощью «потолка»: \n",
    "data_new['duration'] = np.ceil(data_new['duration']).astype(int)"
   ]
  },
  {
   "cell_type": "markdown",
   "id": "c7087e53",
   "metadata": {},
   "source": [
    "рассчитываем стоимость одной поездки(без учета стоимости подписки):"
   ]
  },
  {
   "cell_type": "code",
   "execution_count": 40,
   "id": "aa356d22",
   "metadata": {},
   "outputs": [
    {
     "data": {
      "text/html": [
       "<div>\n",
       "<style scoped>\n",
       "    .dataframe tbody tr th:only-of-type {\n",
       "        vertical-align: middle;\n",
       "    }\n",
       "\n",
       "    .dataframe tbody tr th {\n",
       "        vertical-align: top;\n",
       "    }\n",
       "\n",
       "    .dataframe thead th {\n",
       "        text-align: right;\n",
       "    }\n",
       "</style>\n",
       "<table border=\"1\" class=\"dataframe\">\n",
       "  <thead>\n",
       "    <tr style=\"text-align: right;\">\n",
       "      <th></th>\n",
       "      <th>user_id</th>\n",
       "      <th>name</th>\n",
       "      <th>age</th>\n",
       "      <th>city</th>\n",
       "      <th>subscription_type</th>\n",
       "      <th>minute_price</th>\n",
       "      <th>start_ride_price</th>\n",
       "      <th>subscription_fee</th>\n",
       "      <th>distance</th>\n",
       "      <th>duration</th>\n",
       "      <th>date</th>\n",
       "      <th>month_date</th>\n",
       "      <th>price_rides</th>\n",
       "    </tr>\n",
       "  </thead>\n",
       "  <tbody>\n",
       "    <tr>\n",
       "      <th>0</th>\n",
       "      <td>1</td>\n",
       "      <td>Кира</td>\n",
       "      <td>22</td>\n",
       "      <td>Тюмень</td>\n",
       "      <td>ultra</td>\n",
       "      <td>6</td>\n",
       "      <td>0</td>\n",
       "      <td>199</td>\n",
       "      <td>4409.919140</td>\n",
       "      <td>26</td>\n",
       "      <td>2021-01-01</td>\n",
       "      <td>1</td>\n",
       "      <td>156</td>\n",
       "    </tr>\n",
       "    <tr>\n",
       "      <th>1</th>\n",
       "      <td>1</td>\n",
       "      <td>Кира</td>\n",
       "      <td>22</td>\n",
       "      <td>Тюмень</td>\n",
       "      <td>ultra</td>\n",
       "      <td>6</td>\n",
       "      <td>0</td>\n",
       "      <td>199</td>\n",
       "      <td>2617.592153</td>\n",
       "      <td>16</td>\n",
       "      <td>2021-01-18</td>\n",
       "      <td>1</td>\n",
       "      <td>96</td>\n",
       "    </tr>\n",
       "    <tr>\n",
       "      <th>2</th>\n",
       "      <td>1</td>\n",
       "      <td>Кира</td>\n",
       "      <td>22</td>\n",
       "      <td>Тюмень</td>\n",
       "      <td>ultra</td>\n",
       "      <td>6</td>\n",
       "      <td>0</td>\n",
       "      <td>199</td>\n",
       "      <td>754.159807</td>\n",
       "      <td>7</td>\n",
       "      <td>2021-04-20</td>\n",
       "      <td>4</td>\n",
       "      <td>42</td>\n",
       "    </tr>\n",
       "    <tr>\n",
       "      <th>3</th>\n",
       "      <td>1</td>\n",
       "      <td>Кира</td>\n",
       "      <td>22</td>\n",
       "      <td>Тюмень</td>\n",
       "      <td>ultra</td>\n",
       "      <td>6</td>\n",
       "      <td>0</td>\n",
       "      <td>199</td>\n",
       "      <td>2694.783254</td>\n",
       "      <td>19</td>\n",
       "      <td>2021-08-11</td>\n",
       "      <td>8</td>\n",
       "      <td>114</td>\n",
       "    </tr>\n",
       "    <tr>\n",
       "      <th>4</th>\n",
       "      <td>1</td>\n",
       "      <td>Кира</td>\n",
       "      <td>22</td>\n",
       "      <td>Тюмень</td>\n",
       "      <td>ultra</td>\n",
       "      <td>6</td>\n",
       "      <td>0</td>\n",
       "      <td>199</td>\n",
       "      <td>4028.687306</td>\n",
       "      <td>27</td>\n",
       "      <td>2021-08-28</td>\n",
       "      <td>8</td>\n",
       "      <td>162</td>\n",
       "    </tr>\n",
       "    <tr>\n",
       "      <th>...</th>\n",
       "      <td>...</td>\n",
       "      <td>...</td>\n",
       "      <td>...</td>\n",
       "      <td>...</td>\n",
       "      <td>...</td>\n",
       "      <td>...</td>\n",
       "      <td>...</td>\n",
       "      <td>...</td>\n",
       "      <td>...</td>\n",
       "      <td>...</td>\n",
       "      <td>...</td>\n",
       "      <td>...</td>\n",
       "      <td>...</td>\n",
       "    </tr>\n",
       "    <tr>\n",
       "      <th>18063</th>\n",
       "      <td>1534</td>\n",
       "      <td>Альберт</td>\n",
       "      <td>25</td>\n",
       "      <td>Краснодар</td>\n",
       "      <td>free</td>\n",
       "      <td>8</td>\n",
       "      <td>50</td>\n",
       "      <td>0</td>\n",
       "      <td>3781.098080</td>\n",
       "      <td>20</td>\n",
       "      <td>2021-11-04</td>\n",
       "      <td>11</td>\n",
       "      <td>210</td>\n",
       "    </tr>\n",
       "    <tr>\n",
       "      <th>18064</th>\n",
       "      <td>1534</td>\n",
       "      <td>Альберт</td>\n",
       "      <td>25</td>\n",
       "      <td>Краснодар</td>\n",
       "      <td>free</td>\n",
       "      <td>8</td>\n",
       "      <td>50</td>\n",
       "      <td>0</td>\n",
       "      <td>2840.423057</td>\n",
       "      <td>22</td>\n",
       "      <td>2021-11-16</td>\n",
       "      <td>11</td>\n",
       "      <td>226</td>\n",
       "    </tr>\n",
       "    <tr>\n",
       "      <th>18065</th>\n",
       "      <td>1534</td>\n",
       "      <td>Альберт</td>\n",
       "      <td>25</td>\n",
       "      <td>Краснодар</td>\n",
       "      <td>free</td>\n",
       "      <td>8</td>\n",
       "      <td>50</td>\n",
       "      <td>0</td>\n",
       "      <td>3826.185507</td>\n",
       "      <td>19</td>\n",
       "      <td>2021-11-18</td>\n",
       "      <td>11</td>\n",
       "      <td>202</td>\n",
       "    </tr>\n",
       "    <tr>\n",
       "      <th>18066</th>\n",
       "      <td>1534</td>\n",
       "      <td>Альберт</td>\n",
       "      <td>25</td>\n",
       "      <td>Краснодар</td>\n",
       "      <td>free</td>\n",
       "      <td>8</td>\n",
       "      <td>50</td>\n",
       "      <td>0</td>\n",
       "      <td>2902.308661</td>\n",
       "      <td>17</td>\n",
       "      <td>2021-11-27</td>\n",
       "      <td>11</td>\n",
       "      <td>186</td>\n",
       "    </tr>\n",
       "    <tr>\n",
       "      <th>18067</th>\n",
       "      <td>1534</td>\n",
       "      <td>Альберт</td>\n",
       "      <td>25</td>\n",
       "      <td>Краснодар</td>\n",
       "      <td>free</td>\n",
       "      <td>8</td>\n",
       "      <td>50</td>\n",
       "      <td>0</td>\n",
       "      <td>2371.711192</td>\n",
       "      <td>16</td>\n",
       "      <td>2021-12-29</td>\n",
       "      <td>12</td>\n",
       "      <td>178</td>\n",
       "    </tr>\n",
       "  </tbody>\n",
       "</table>\n",
       "<p>18068 rows × 13 columns</p>\n",
       "</div>"
      ],
      "text/plain": [
       "       user_id     name  age       city subscription_type  minute_price  \\\n",
       "0            1     Кира   22     Тюмень             ultra             6   \n",
       "1            1     Кира   22     Тюмень             ultra             6   \n",
       "2            1     Кира   22     Тюмень             ultra             6   \n",
       "3            1     Кира   22     Тюмень             ultra             6   \n",
       "4            1     Кира   22     Тюмень             ultra             6   \n",
       "...        ...      ...  ...        ...               ...           ...   \n",
       "18063     1534  Альберт   25  Краснодар              free             8   \n",
       "18064     1534  Альберт   25  Краснодар              free             8   \n",
       "18065     1534  Альберт   25  Краснодар              free             8   \n",
       "18066     1534  Альберт   25  Краснодар              free             8   \n",
       "18067     1534  Альберт   25  Краснодар              free             8   \n",
       "\n",
       "       start_ride_price  subscription_fee     distance  duration       date  \\\n",
       "0                     0               199  4409.919140        26 2021-01-01   \n",
       "1                     0               199  2617.592153        16 2021-01-18   \n",
       "2                     0               199   754.159807         7 2021-04-20   \n",
       "3                     0               199  2694.783254        19 2021-08-11   \n",
       "4                     0               199  4028.687306        27 2021-08-28   \n",
       "...                 ...               ...          ...       ...        ...   \n",
       "18063                50                 0  3781.098080        20 2021-11-04   \n",
       "18064                50                 0  2840.423057        22 2021-11-16   \n",
       "18065                50                 0  3826.185507        19 2021-11-18   \n",
       "18066                50                 0  2902.308661        17 2021-11-27   \n",
       "18067                50                 0  2371.711192        16 2021-12-29   \n",
       "\n",
       "       month_date  price_rides  \n",
       "0               1          156  \n",
       "1               1           96  \n",
       "2               4           42  \n",
       "3               8          114  \n",
       "4               8          162  \n",
       "...           ...          ...  \n",
       "18063          11          210  \n",
       "18064          11          226  \n",
       "18065          11          202  \n",
       "18066          11          186  \n",
       "18067          12          178  \n",
       "\n",
       "[18068 rows x 13 columns]"
      ]
     },
     "execution_count": 40,
     "metadata": {},
     "output_type": "execute_result"
    }
   ],
   "source": [
    "data_new['price_rides'] = data_new['start_ride_price']+data_new['minute_price']*data_new['duration']\n",
    "data_new"
   ]
  },
  {
   "cell_type": "markdown",
   "id": "8e6ea6ab",
   "metadata": {},
   "source": [
    "Рассчитываем отдельно стоимость всех поездок отдельного пользователя и стоимость продписки в месяц"
   ]
  },
  {
   "cell_type": "code",
   "execution_count": 41,
   "id": "153f58d7",
   "metadata": {
    "scrolled": false
   },
   "outputs": [
    {
     "data": {
      "text/html": [
       "<div>\n",
       "<style scoped>\n",
       "    .dataframe tbody tr th:only-of-type {\n",
       "        vertical-align: middle;\n",
       "    }\n",
       "\n",
       "    .dataframe tbody tr th {\n",
       "        vertical-align: top;\n",
       "    }\n",
       "\n",
       "    .dataframe thead th {\n",
       "        text-align: right;\n",
       "    }\n",
       "</style>\n",
       "<table border=\"1\" class=\"dataframe\">\n",
       "  <thead>\n",
       "    <tr style=\"text-align: right;\">\n",
       "      <th></th>\n",
       "      <th></th>\n",
       "      <th>distance</th>\n",
       "      <th>duration_sum</th>\n",
       "      <th>duration_count</th>\n",
       "      <th>monthly revenue</th>\n",
       "      <th>fee</th>\n",
       "    </tr>\n",
       "    <tr>\n",
       "      <th>user_id</th>\n",
       "      <th>month_date</th>\n",
       "      <th></th>\n",
       "      <th></th>\n",
       "      <th></th>\n",
       "      <th></th>\n",
       "      <th></th>\n",
       "    </tr>\n",
       "  </thead>\n",
       "  <tbody>\n",
       "    <tr>\n",
       "      <th rowspan=\"5\" valign=\"top\">1</th>\n",
       "      <th>1</th>\n",
       "      <td>7027.511294</td>\n",
       "      <td>41.416640</td>\n",
       "      <td>2</td>\n",
       "      <td>252</td>\n",
       "      <td>199</td>\n",
       "    </tr>\n",
       "    <tr>\n",
       "      <th>4</th>\n",
       "      <td>754.159807</td>\n",
       "      <td>6.232113</td>\n",
       "      <td>1</td>\n",
       "      <td>42</td>\n",
       "      <td>199</td>\n",
       "    </tr>\n",
       "    <tr>\n",
       "      <th>8</th>\n",
       "      <td>6723.470560</td>\n",
       "      <td>44.776802</td>\n",
       "      <td>2</td>\n",
       "      <td>276</td>\n",
       "      <td>199</td>\n",
       "    </tr>\n",
       "    <tr>\n",
       "      <th>10</th>\n",
       "      <td>5809.911100</td>\n",
       "      <td>31.578017</td>\n",
       "      <td>2</td>\n",
       "      <td>192</td>\n",
       "      <td>199</td>\n",
       "    </tr>\n",
       "    <tr>\n",
       "      <th>11</th>\n",
       "      <td>7003.499363</td>\n",
       "      <td>53.397424</td>\n",
       "      <td>3</td>\n",
       "      <td>336</td>\n",
       "      <td>199</td>\n",
       "    </tr>\n",
       "    <tr>\n",
       "      <th>...</th>\n",
       "      <th>...</th>\n",
       "      <td>...</td>\n",
       "      <td>...</td>\n",
       "      <td>...</td>\n",
       "      <td>...</td>\n",
       "      <td>...</td>\n",
       "    </tr>\n",
       "    <tr>\n",
       "      <th rowspan=\"5\" valign=\"top\">1534</th>\n",
       "      <th>6</th>\n",
       "      <td>3409.468534</td>\n",
       "      <td>24.812678</td>\n",
       "      <td>2</td>\n",
       "      <td>308</td>\n",
       "      <td>0</td>\n",
       "    </tr>\n",
       "    <tr>\n",
       "      <th>8</th>\n",
       "      <td>7622.453034</td>\n",
       "      <td>47.205960</td>\n",
       "      <td>2</td>\n",
       "      <td>484</td>\n",
       "      <td>0</td>\n",
       "    </tr>\n",
       "    <tr>\n",
       "      <th>9</th>\n",
       "      <td>4928.173852</td>\n",
       "      <td>22.560373</td>\n",
       "      <td>1</td>\n",
       "      <td>234</td>\n",
       "      <td>0</td>\n",
       "    </tr>\n",
       "    <tr>\n",
       "      <th>11</th>\n",
       "      <td>13350.015305</td>\n",
       "      <td>76.342174</td>\n",
       "      <td>4</td>\n",
       "      <td>824</td>\n",
       "      <td>0</td>\n",
       "    </tr>\n",
       "    <tr>\n",
       "      <th>12</th>\n",
       "      <td>2371.711192</td>\n",
       "      <td>15.893917</td>\n",
       "      <td>1</td>\n",
       "      <td>178</td>\n",
       "      <td>0</td>\n",
       "    </tr>\n",
       "  </tbody>\n",
       "</table>\n",
       "<p>11331 rows × 5 columns</p>\n",
       "</div>"
      ],
      "text/plain": [
       "                        distance  duration_sum  duration_count  \\\n",
       "user_id month_date                                               \n",
       "1       1            7027.511294     41.416640               2   \n",
       "        4             754.159807      6.232113               1   \n",
       "        8            6723.470560     44.776802               2   \n",
       "        10           5809.911100     31.578017               2   \n",
       "        11           7003.499363     53.397424               3   \n",
       "...                          ...           ...             ...   \n",
       "1534    6            3409.468534     24.812678               2   \n",
       "        8            7622.453034     47.205960               2   \n",
       "        9            4928.173852     22.560373               1   \n",
       "        11          13350.015305     76.342174               4   \n",
       "        12           2371.711192     15.893917               1   \n",
       "\n",
       "                    monthly revenue  fee  \n",
       "user_id month_date                        \n",
       "1       1                       252  199  \n",
       "        4                        42  199  \n",
       "        8                       276  199  \n",
       "        10                      192  199  \n",
       "        11                      336  199  \n",
       "...                             ...  ...  \n",
       "1534    6                       308    0  \n",
       "        8                       484    0  \n",
       "        9                       234    0  \n",
       "        11                      824    0  \n",
       "        12                      178    0  \n",
       "\n",
       "[11331 rows x 5 columns]"
      ]
     },
     "execution_count": 41,
     "metadata": {},
     "output_type": "execute_result"
    }
   ],
   "source": [
    "data_aggr['monthly revenue'] = data_new.groupby(['user_id', 'month_date']).agg({'price_rides':'sum',}).astype(int)\n",
    "data_aggr['fee'] = data_new.groupby(['user_id', 'month_date']).agg({'subscription_fee':'max'})\n",
    "data_aggr"
   ]
  },
  {
   "cell_type": "markdown",
   "id": "eb86e679",
   "metadata": {},
   "source": [
    "Складываем стоимость всех поездок отдельного пользователя и стоимость продписки в месяц. Удаляем столбец со стоимостью подписки в мес. "
   ]
  },
  {
   "cell_type": "code",
   "execution_count": 42,
   "id": "62d7ad74",
   "metadata": {
    "scrolled": false
   },
   "outputs": [
    {
     "data": {
      "text/html": [
       "<div>\n",
       "<style scoped>\n",
       "    .dataframe tbody tr th:only-of-type {\n",
       "        vertical-align: middle;\n",
       "    }\n",
       "\n",
       "    .dataframe tbody tr th {\n",
       "        vertical-align: top;\n",
       "    }\n",
       "\n",
       "    .dataframe thead th {\n",
       "        text-align: right;\n",
       "    }\n",
       "</style>\n",
       "<table border=\"1\" class=\"dataframe\">\n",
       "  <thead>\n",
       "    <tr style=\"text-align: right;\">\n",
       "      <th></th>\n",
       "      <th></th>\n",
       "      <th>distance</th>\n",
       "      <th>duration_sum</th>\n",
       "      <th>duration_count</th>\n",
       "      <th>monthly revenue</th>\n",
       "      <th>fee</th>\n",
       "    </tr>\n",
       "    <tr>\n",
       "      <th>user_id</th>\n",
       "      <th>month_date</th>\n",
       "      <th></th>\n",
       "      <th></th>\n",
       "      <th></th>\n",
       "      <th></th>\n",
       "      <th></th>\n",
       "    </tr>\n",
       "  </thead>\n",
       "  <tbody>\n",
       "    <tr>\n",
       "      <th rowspan=\"6\" valign=\"top\">1</th>\n",
       "      <th>1</th>\n",
       "      <td>7027.511294</td>\n",
       "      <td>41.416640</td>\n",
       "      <td>2</td>\n",
       "      <td>451</td>\n",
       "      <td>199</td>\n",
       "    </tr>\n",
       "    <tr>\n",
       "      <th>4</th>\n",
       "      <td>754.159807</td>\n",
       "      <td>6.232113</td>\n",
       "      <td>1</td>\n",
       "      <td>241</td>\n",
       "      <td>199</td>\n",
       "    </tr>\n",
       "    <tr>\n",
       "      <th>8</th>\n",
       "      <td>6723.470560</td>\n",
       "      <td>44.776802</td>\n",
       "      <td>2</td>\n",
       "      <td>475</td>\n",
       "      <td>199</td>\n",
       "    </tr>\n",
       "    <tr>\n",
       "      <th>10</th>\n",
       "      <td>5809.911100</td>\n",
       "      <td>31.578017</td>\n",
       "      <td>2</td>\n",
       "      <td>391</td>\n",
       "      <td>199</td>\n",
       "    </tr>\n",
       "    <tr>\n",
       "      <th>11</th>\n",
       "      <td>7003.499363</td>\n",
       "      <td>53.397424</td>\n",
       "      <td>3</td>\n",
       "      <td>535</td>\n",
       "      <td>199</td>\n",
       "    </tr>\n",
       "    <tr>\n",
       "      <th>12</th>\n",
       "      <td>6751.629942</td>\n",
       "      <td>27.203912</td>\n",
       "      <td>2</td>\n",
       "      <td>367</td>\n",
       "      <td>199</td>\n",
       "    </tr>\n",
       "    <tr>\n",
       "      <th rowspan=\"7\" valign=\"top\">2</th>\n",
       "      <th>3</th>\n",
       "      <td>10187.723006</td>\n",
       "      <td>60.959959</td>\n",
       "      <td>3</td>\n",
       "      <td>577</td>\n",
       "      <td>199</td>\n",
       "    </tr>\n",
       "    <tr>\n",
       "      <th>4</th>\n",
       "      <td>6164.381824</td>\n",
       "      <td>39.048633</td>\n",
       "      <td>2</td>\n",
       "      <td>439</td>\n",
       "      <td>199</td>\n",
       "    </tr>\n",
       "    <tr>\n",
       "      <th>6</th>\n",
       "      <td>3255.338202</td>\n",
       "      <td>13.851127</td>\n",
       "      <td>1</td>\n",
       "      <td>283</td>\n",
       "      <td>199</td>\n",
       "    </tr>\n",
       "    <tr>\n",
       "      <th>7</th>\n",
       "      <td>6780.722964</td>\n",
       "      <td>46.170157</td>\n",
       "      <td>2</td>\n",
       "      <td>487</td>\n",
       "      <td>199</td>\n",
       "    </tr>\n",
       "    <tr>\n",
       "      <th>8</th>\n",
       "      <td>923.007439</td>\n",
       "      <td>6.914760</td>\n",
       "      <td>1</td>\n",
       "      <td>241</td>\n",
       "      <td>199</td>\n",
       "    </tr>\n",
       "    <tr>\n",
       "      <th>10</th>\n",
       "      <td>2824.636598</td>\n",
       "      <td>18.779128</td>\n",
       "      <td>1</td>\n",
       "      <td>313</td>\n",
       "      <td>199</td>\n",
       "    </tr>\n",
       "    <tr>\n",
       "      <th>12</th>\n",
       "      <td>3828.248580</td>\n",
       "      <td>11.920514</td>\n",
       "      <td>1</td>\n",
       "      <td>271</td>\n",
       "      <td>199</td>\n",
       "    </tr>\n",
       "    <tr>\n",
       "      <th rowspan=\"7\" valign=\"top\">3</th>\n",
       "      <th>1</th>\n",
       "      <td>3061.777147</td>\n",
       "      <td>12.654443</td>\n",
       "      <td>1</td>\n",
       "      <td>277</td>\n",
       "      <td>199</td>\n",
       "    </tr>\n",
       "    <tr>\n",
       "      <th>2</th>\n",
       "      <td>5421.152016</td>\n",
       "      <td>37.568637</td>\n",
       "      <td>2</td>\n",
       "      <td>433</td>\n",
       "      <td>199</td>\n",
       "    </tr>\n",
       "    <tr>\n",
       "      <th>4</th>\n",
       "      <td>2956.651632</td>\n",
       "      <td>20.671364</td>\n",
       "      <td>1</td>\n",
       "      <td>325</td>\n",
       "      <td>199</td>\n",
       "    </tr>\n",
       "    <tr>\n",
       "      <th>5</th>\n",
       "      <td>9064.026918</td>\n",
       "      <td>61.404503</td>\n",
       "      <td>3</td>\n",
       "      <td>577</td>\n",
       "      <td>199</td>\n",
       "    </tr>\n",
       "    <tr>\n",
       "      <th>7</th>\n",
       "      <td>10919.595403</td>\n",
       "      <td>65.519784</td>\n",
       "      <td>3</td>\n",
       "      <td>601</td>\n",
       "      <td>199</td>\n",
       "    </tr>\n",
       "    <tr>\n",
       "      <th>9</th>\n",
       "      <td>2891.012822</td>\n",
       "      <td>22.390055</td>\n",
       "      <td>1</td>\n",
       "      <td>337</td>\n",
       "      <td>199</td>\n",
       "    </tr>\n",
       "    <tr>\n",
       "      <th>12</th>\n",
       "      <td>2593.381928</td>\n",
       "      <td>12.984728</td>\n",
       "      <td>1</td>\n",
       "      <td>277</td>\n",
       "      <td>199</td>\n",
       "    </tr>\n",
       "  </tbody>\n",
       "</table>\n",
       "</div>"
      ],
      "text/plain": [
       "                        distance  duration_sum  duration_count  \\\n",
       "user_id month_date                                               \n",
       "1       1            7027.511294     41.416640               2   \n",
       "        4             754.159807      6.232113               1   \n",
       "        8            6723.470560     44.776802               2   \n",
       "        10           5809.911100     31.578017               2   \n",
       "        11           7003.499363     53.397424               3   \n",
       "        12           6751.629942     27.203912               2   \n",
       "2       3           10187.723006     60.959959               3   \n",
       "        4            6164.381824     39.048633               2   \n",
       "        6            3255.338202     13.851127               1   \n",
       "        7            6780.722964     46.170157               2   \n",
       "        8             923.007439      6.914760               1   \n",
       "        10           2824.636598     18.779128               1   \n",
       "        12           3828.248580     11.920514               1   \n",
       "3       1            3061.777147     12.654443               1   \n",
       "        2            5421.152016     37.568637               2   \n",
       "        4            2956.651632     20.671364               1   \n",
       "        5            9064.026918     61.404503               3   \n",
       "        7           10919.595403     65.519784               3   \n",
       "        9            2891.012822     22.390055               1   \n",
       "        12           2593.381928     12.984728               1   \n",
       "\n",
       "                    monthly revenue  fee  \n",
       "user_id month_date                        \n",
       "1       1                       451  199  \n",
       "        4                       241  199  \n",
       "        8                       475  199  \n",
       "        10                      391  199  \n",
       "        11                      535  199  \n",
       "        12                      367  199  \n",
       "2       3                       577  199  \n",
       "        4                       439  199  \n",
       "        6                       283  199  \n",
       "        7                       487  199  \n",
       "        8                       241  199  \n",
       "        10                      313  199  \n",
       "        12                      271  199  \n",
       "3       1                       277  199  \n",
       "        2                       433  199  \n",
       "        4                       325  199  \n",
       "        5                       577  199  \n",
       "        7                       601  199  \n",
       "        9                       337  199  \n",
       "        12                      277  199  "
      ]
     },
     "execution_count": 42,
     "metadata": {},
     "output_type": "execute_result"
    }
   ],
   "source": [
    "data_aggr['monthly revenue'] = data_aggr['monthly revenue']+data_aggr['fee']\n",
    "#data_aggr.drop('fee', axis= 1 , inplace= True ) \n",
    "data_aggr.head(20)"
   ]
  },
  {
   "cell_type": "markdown",
   "id": "41545ac0",
   "metadata": {},
   "source": [
    "#### Шаг 6. Проверка гипотез"
   ]
  },
  {
   "cell_type": "markdown",
   "id": "bd42433a",
   "metadata": {},
   "source": [
    "***6.1 Поймем, тратят ли пользователи с подпиской больше времени на поездки?***"
   ]
  },
  {
   "cell_type": "markdown",
   "id": "9ac84dad",
   "metadata": {},
   "source": [
    "Сформируем нулевую и альтернативную гипотезы  :\n",
    "\n",
    "```H0 - \"Среднее значение времеми поезки пользователей с подпиской равно  среднему значению времени поездки пользователей без подписки\".```\n",
    "\n",
    "```H1 - \"Среднее значение времеми  поезки пользователей с подпиской больше среднего значения времени поездки пользователей без подписки\". ```\n",
    "\n",
    "Для проверки гипотез используем специальный метод для проверки гипотезы о равенстве среднего двух генеральных совокупностей по взятым из них выборкам: scipy.stats.ttest_ind(array1, array2, equal_var, alternative) Альернативная гипотеза - правосторонняя.\n",
    "\n",
    "Уровень статистической значимости установим в 5%\n"
   ]
  },
  {
   "cell_type": "code",
   "execution_count": 43,
   "id": "2a9f0dfb",
   "metadata": {
    "scrolled": true
   },
   "outputs": [
    {
     "name": "stdout",
     "output_type": "stream",
     "text": [
      "p-значение: 1.2804098316645618e-34\n",
      "Отвергаем нулевую гипотезу\n"
     ]
    }
   ],
   "source": [
    "\n",
    "ultra = data_ultra['duration'] \n",
    "free = data_free['duration']\n",
    "\n",
    "alpha = 0.05\n",
    "\n",
    "results = st.ttest_ind(ultra, free, alternative = 'greater')\n",
    "\n",
    "print('p-значение:', results.pvalue)\n",
    "if results.pvalue < alpha:    \n",
    "    print('Отвергаем нулевую гипотезу')\n",
    "else: \n",
    "   print('Не получилось отвергнуть нулевую гипотезу')"
   ]
  },
  {
   "cell_type": "markdown",
   "id": "d03261ed",
   "metadata": {},
   "source": [
    "**Вывод:** Нулевая гипотеза отвергнута. \n",
    "\n",
    "Действительно, среднее значение времеми  поезки пользователей с подпиской больше среднего значения времени поездки пользователей без подписки"
   ]
  },
  {
   "cell_type": "markdown",
   "id": "b2982bdc",
   "metadata": {},
   "source": [
    "**6.2 Расстояние одной поездки в 3130.** \n",
    "\n",
    "**3130 метров — оптимальное с точки зрения износа самоката.**\n",
    "\n",
    "**Можно ли сказать, что среднее расстояние, которое проезжают пользователи с подпиской за одну поездку, не превышает  3130 метров?**"
   ]
  },
  {
   "cell_type": "markdown",
   "id": "df432588",
   "metadata": {},
   "source": [
    "Сформируем нулевую и альтернативную гипотезы :\n",
    "\n",
    "```H0 - \"Среднее значение расстояния поезки пользователей с подпиской за одну поездку не превышает оптимальное расстояние(с точки зрения износа) 3 130 м\".```\n",
    "\n",
    "```H1 - \"Среднее значение расстояния поезки пользователей с подпиской за одну поездку превышает оптимальное расстояние(с точки зрения износа) 3 130 м\".```\n",
    "\n",
    "Для проверки гипотез используем специальный метод для проверки гипотезы о равенстве среднего генеральной совокупности числу\tscipy.stats.ttest_1samp . Альернативная гипотеза - правосторонняя.\n",
    "\n",
    "Уровень статистической значимости установим в 5%"
   ]
  },
  {
   "cell_type": "code",
   "execution_count": 44,
   "id": "12e06e46",
   "metadata": {},
   "outputs": [
    {
     "name": "stdout",
     "output_type": "stream",
     "text": [
      "p-значение: 0.9195368847849785\n",
      "Не получилось отвергнуть нулевую гипотезу\n"
     ]
    }
   ],
   "source": [
    "ultra = data_ultra['distance'] \n",
    "popmean = 3130\n",
    "\n",
    "alpha = 0.05\n",
    "\n",
    "results = st.ttest_1samp(ultra, popmean, alternative = 'greater')\n",
    "\n",
    "print('p-значение:', results.pvalue)\n",
    "if results.pvalue < alpha:    \n",
    "    print('Отвергаем нулевую гипотезу')\n",
    "else: \n",
    "   print('Не получилось отвергнуть нулевую гипотезу')"
   ]
  },
  {
   "cell_type": "markdown",
   "id": "084088c9",
   "metadata": {},
   "source": [
    "**Вывод** Не получилось отвергнуть нулевую гипотезу\n",
    "\n",
    "Действительно, среднее значение расстояния поезки пользователей с подпиской за одну поездку не превышает оптимальное расстояние(с точки зрения износа) 3 130 м. \n",
    "\n",
    "Среднее значение расстояния поезки пользователей с подпиской за одну поездку составляет 3 115 м."
   ]
  },
  {
   "cell_type": "markdown",
   "id": "6f4720c0",
   "metadata": {},
   "source": [
    "**6.3 Проверим гипотезу о том, будет ли помесячная выручка от пользователей с подпиской по месяцам выше, чем выручка от пользователей без подписки.**"
   ]
  },
  {
   "cell_type": "markdown",
   "id": "475eb6a6",
   "metadata": {},
   "source": [
    "Сформируем нулевую и альтернативную гипотезы :\n",
    "\n",
    "```H0 - \"Средняя выручка от пользователей с подпиской равна средней выручке от пользователей без подписки\".``` \n",
    "\n",
    "```H1 - \"Средняя выручка от пользователей с подпиской выше средней выручке от пользователей без подписки\".```\n",
    "\n",
    "Для проверки гипотез используем специальный метод для проверки гипотезы о равенстве среднего двух генеральных совокупностей по взятым из них выборкам: scipy.stats.ttest_ind(array1, array2, equal_var, alternative) Альернативная гипотеза - правосторонняя.\n",
    "\n",
    "Уровень статистической значимости установим в 5%"
   ]
  },
  {
   "cell_type": "code",
   "execution_count": 45,
   "id": "8e804241",
   "metadata": {
    "scrolled": false
   },
   "outputs": [
    {
     "name": "stdout",
     "output_type": "stream",
     "text": [
      "p-значение: 1.8850394384715216e-31\n",
      "Отвергаем нулевую гипотезу\n"
     ]
    }
   ],
   "source": [
    "ultra = data_aggr[data_aggr['fee']==199]['monthly revenue'] \n",
    "free = data_aggr[data_aggr['fee']==0]['monthly revenue'] \n",
    "\n",
    "alpha = 0.05\n",
    "\n",
    "results = st.ttest_ind(ultra, free, alternative = 'greater')\n",
    "\n",
    "print('p-значение:', results.pvalue)\n",
    "if results.pvalue < alpha:    \n",
    "    print('Отвергаем нулевую гипотезу')\n",
    "else: \n",
    "   print('Не получилось отвергнуть нулевую гипотезу')"
   ]
  },
  {
   "cell_type": "markdown",
   "id": "2bbfd9c5",
   "metadata": {},
   "source": [
    "проверим:"
   ]
  },
  {
   "cell_type": "code",
   "execution_count": 46,
   "id": "d8f1f676",
   "metadata": {
    "scrolled": true
   },
   "outputs": [
    {
     "name": "stdout",
     "output_type": "stream",
     "text": [
      "Средняя выручка от пользователей с подпиской 362.7921906022502\n"
     ]
    },
    {
     "data": {
      "text/plain": [
       "('Средняя выручка от пользователей без подписки', 328.6413651073845)"
      ]
     },
     "execution_count": 46,
     "metadata": {},
     "output_type": "execute_result"
    }
   ],
   "source": [
    "print('Средняя выручка от пользователей с подпиской',ultra.mean())\n",
    "'Средняя выручка от пользователей без подписки',free.mean()"
   ]
  },
  {
   "cell_type": "markdown",
   "id": "83a44f25",
   "metadata": {},
   "source": [
    "**Вывод** Отвергаем нулевую гипотезу\n",
    "\n",
    "Действительно,средняя выручка от пользователей с подпиской выше средней выручке от пользователей без подписки"
   ]
  },
  {
   "cell_type": "markdown",
   "id": "43a1b64e",
   "metadata": {},
   "source": [
    "**6.4 Представьте такую ситуацию: техническая команда сервиса обновила сервера, с которыми взаимодействует мобильное приложение. Она надеется, что из-за этого количество обращений в техподдержку значимо снизилось. Некоторый файл содержит для каждого пользователя данные о количестве обращений до обновления и после него. Какой тест вам понадобился бы для проверки этой гипотезы?**"
   ]
  },
  {
   "cell_type": "markdown",
   "id": "64c80dac",
   "metadata": {},
   "source": [
    "**Ответ:** Гипотеза о равенстве средних для зависимых (парных) выборок. Будем анализировать одну генеральную совокупность, с которой произошли некоторые изменения. О равенстве среднего значения генеральной совокупности до и после изменения. Воспользуемся методом scipy.stats.ttest_rel.\n",
    "\n",
    "Н0- \"Среднее количество обращений для каждого пользователя до обновления равно среднему количеству обращений для каждого пользователя после обновления\"\n",
    "\n",
    "Н1 - \"Среднее количество обращений для каждого пользователя до обновления меньше среднему количества обращений для каждого пользователя после обновления\""
   ]
  },
  {
   "cell_type": "markdown",
   "id": "8d43b43a",
   "metadata": {},
   "source": [
    "**Итог:**\n",
    "\n",
    "**Исследовательский анализ**\n",
    "\n",
    "Арендой самокатов сервиса GoFas пользуются в 8 городах. ```Больше всего пользователей в  Пятигорске(219)```, Екатеринбурге(204)и Ростове-на-Дону (198); меньше всего в Москве(168), Тюмени(180) и Омске(183). В среднем около 192 пользователя на город.\n",
    "\n",
    "```В основном пользователи без подписок.``` Из 1534 пользователей 835 пользователей (54.4%) без подписок, 699 позователей (45.6%) с подпиской.\n",
    "\n",
    "```В основном пользователи сервиса в возрасте от 22 до 28 лет.``` средний возраст около 25 лет. Наиболее редко всречающиеся - менее 13 и более 37 лет.\n",
    "\n",
    "```В среднем поездка занимает от 2 543.2 м. до 3 776.2 м.``` Медиана - 3 133.6 м. Гистограмма имеет 2 пика. Первый - около 500 м. на короткие поездки, второй - ок. 3000 м. на длинные.\n",
    "\n",
    "```В среднем поздка занимает от 13.6 мин. до 21.7 мин.``` Медиана - ок. 17.7 минут. Распределение нормальное.\n",
    "\n",
    "***Отдельный анализ Пользователей с подпиской/ без подписки:***\n",
    "\n",
    "Расстояние поездки:\n",
    "\n",
    "```обычное расстояние поездки у пользователей без подписки от 2 366 до 3 905 м.``` Медиана 3 114. График имеет 2 пика - ок 500 м и ок 2 500 м.\n",
    "\n",
    "```обычное расстояние поездки  у пользователей с подпиской  от 2 785 до 3 560 м.``` Медиана 3 148. График имеет 2 пика - ок 1000 м и ок 3 000 м.  \n",
    "\n",
    "По графикам  можно сделать вывод, что обычное расстояние поездок с подписками более сконцентровано в промежутке от примерно 2 500 м до 3 500 м, в то время , как обычное расстояние поездок без подписок больше распределено в промежутке примерно от 2 000 до 4000 м. \n",
    "\n",
    "Время поездки:\n",
    "\n",
    "```обычное время поездки у пользователей без подписки от 13 до 21.6 мин.``` Медиана 17.3 мин.\n",
    "\n",
    "```обычное время поездки у пользователей с подпиской от 14.5 до 22 м.``` Медиана 18.2 мин.\n",
    "\n",
    "Оба графика имеют примерно одинаковое нормальное распределение. Время поездок с подпиской чуть дольше чем время поездок без подписок.\n",
    "\n",
    "**Статистический анализ**\n",
    "\n",
    "Проверка гипотез.\n",
    "\n",
    "1.Нулевая гипотеза \"Среднее значение времеми поезки пользователей с подпиской равно  среднему значению времени поездки пользователей без подписки\" отвергнута.\n",
    "\n",
    "Действительно, среднее значение времеми поезки пользователей с подпиской больше среднего значения времени поездки пользователей без подписки (альтернативная гипотеза).\n",
    "\n",
    "2.Не получилось отвергнуть нулевую гипотезу \"Среднее значение расстояния поезки пользователей с подпиской за одну поездку не превышает оптимальное расстояние(с точки зрения износа) 3 130 м\".\n",
    "\n",
    "Действительно, среднее значение расстояния поезки пользователей с подпиской за одну поездку не превышает оптимальное расстояние(с точки зрения износа) 3 130 м.\n",
    "\n",
    "Среднее значение расстояния поезки пользователей с подпиской за одну поездку составляет 3 115 м.\n",
    "\n",
    "3.Отвергаем нулевую гипотезу \"Средняя выручка от пользователей с подпиской равна средней выручке от пользователей без подписки\"\n",
    "\n",
    "Действительно,средняя выручка от пользователей с подпиской выше средней выручке от пользователей без подписки(альтернативная гипотеза)\n"
   ]
  }
 ],
 "metadata": {
  "ExecuteTimeLog": [
   {
    "duration": 1492,
    "start_time": "2023-10-20T08:43:37.656Z"
   },
   {
    "duration": 96,
    "start_time": "2023-10-20T08:43:42.161Z"
   },
   {
    "duration": 141,
    "start_time": "2023-10-20T08:45:26.859Z"
   },
   {
    "duration": 45,
    "start_time": "2023-10-20T08:45:52.962Z"
   },
   {
    "duration": 116,
    "start_time": "2023-10-20T08:48:48.338Z"
   },
   {
    "duration": 75,
    "start_time": "2023-10-20T08:52:15.278Z"
   },
   {
    "duration": 1492,
    "start_time": "2023-10-20T09:02:37.238Z"
   },
   {
    "duration": 1623,
    "start_time": "2023-10-20T09:02:46.600Z"
   },
   {
    "duration": 9,
    "start_time": "2023-10-20T09:03:07.318Z"
   },
   {
    "duration": 33,
    "start_time": "2023-10-20T09:03:21.272Z"
   },
   {
    "duration": 31,
    "start_time": "2023-10-20T09:04:00.295Z"
   },
   {
    "duration": 14,
    "start_time": "2023-10-20T09:04:18.208Z"
   },
   {
    "duration": 6,
    "start_time": "2023-10-20T09:07:20.075Z"
   },
   {
    "duration": 20,
    "start_time": "2023-10-20T09:08:52.285Z"
   },
   {
    "duration": 19,
    "start_time": "2023-10-20T09:10:11.553Z"
   },
   {
    "duration": 12,
    "start_time": "2023-10-20T09:10:24.085Z"
   },
   {
    "duration": 11,
    "start_time": "2023-10-20T09:10:34.681Z"
   },
   {
    "duration": 88,
    "start_time": "2023-10-20T09:12:51.901Z"
   },
   {
    "duration": 22,
    "start_time": "2023-10-20T09:13:58.107Z"
   },
   {
    "duration": 17,
    "start_time": "2023-10-20T09:14:16.874Z"
   },
   {
    "duration": 10,
    "start_time": "2023-10-20T09:14:57.592Z"
   },
   {
    "duration": 11,
    "start_time": "2023-10-20T09:16:18.048Z"
   },
   {
    "duration": 9,
    "start_time": "2023-10-20T09:19:41.881Z"
   },
   {
    "duration": 1279,
    "start_time": "2023-10-20T09:19:51.728Z"
   },
   {
    "duration": 46,
    "start_time": "2023-10-20T09:19:53.009Z"
   },
   {
    "duration": 42,
    "start_time": "2023-10-20T09:19:53.059Z"
   },
   {
    "duration": 28,
    "start_time": "2023-10-20T09:19:53.103Z"
   },
   {
    "duration": 39,
    "start_time": "2023-10-20T09:19:53.132Z"
   },
   {
    "duration": 43,
    "start_time": "2023-10-20T09:19:53.173Z"
   },
   {
    "duration": 21,
    "start_time": "2023-10-20T09:19:53.218Z"
   },
   {
    "duration": 103,
    "start_time": "2023-10-20T09:20:17.508Z"
   },
   {
    "duration": 6,
    "start_time": "2023-10-20T09:20:24.639Z"
   },
   {
    "duration": 123,
    "start_time": "2023-10-20T09:21:18.578Z"
   },
   {
    "duration": 14,
    "start_time": "2023-10-20T09:21:23.675Z"
   },
   {
    "duration": 13,
    "start_time": "2023-10-20T09:24:07.532Z"
   },
   {
    "duration": 4,
    "start_time": "2023-10-20T09:25:57.901Z"
   },
   {
    "duration": 6,
    "start_time": "2023-10-20T09:27:24.874Z"
   },
   {
    "duration": 7,
    "start_time": "2023-10-20T09:27:41.161Z"
   },
   {
    "duration": 12,
    "start_time": "2023-10-20T09:28:56.468Z"
   },
   {
    "duration": 13,
    "start_time": "2023-10-20T09:29:28.635Z"
   },
   {
    "duration": 12,
    "start_time": "2023-10-20T11:02:40.872Z"
   },
   {
    "duration": 6,
    "start_time": "2023-10-20T11:02:58.742Z"
   },
   {
    "duration": 9,
    "start_time": "2023-10-20T11:03:09.286Z"
   },
   {
    "duration": 15,
    "start_time": "2023-10-20T11:03:24.116Z"
   },
   {
    "duration": 14,
    "start_time": "2023-10-20T11:04:08.605Z"
   },
   {
    "duration": 13,
    "start_time": "2023-10-20T11:09:22.337Z"
   },
   {
    "duration": 15,
    "start_time": "2023-10-20T11:09:37.472Z"
   },
   {
    "duration": 5,
    "start_time": "2023-10-20T11:09:56.360Z"
   },
   {
    "duration": 18,
    "start_time": "2023-10-20T11:10:04.438Z"
   },
   {
    "duration": 12,
    "start_time": "2023-10-20T11:10:31.719Z"
   },
   {
    "duration": 15,
    "start_time": "2023-10-20T11:10:38.157Z"
   },
   {
    "duration": 145,
    "start_time": "2023-10-20T11:12:41.891Z"
   },
   {
    "duration": 5,
    "start_time": "2023-10-20T11:12:53.371Z"
   },
   {
    "duration": 6,
    "start_time": "2023-10-20T11:13:38.909Z"
   },
   {
    "duration": 4,
    "start_time": "2023-10-20T11:14:18.468Z"
   },
   {
    "duration": 7,
    "start_time": "2023-10-20T11:15:00.307Z"
   },
   {
    "duration": 7,
    "start_time": "2023-10-20T11:15:44.039Z"
   },
   {
    "duration": 8,
    "start_time": "2023-10-20T11:16:29.614Z"
   },
   {
    "duration": 13,
    "start_time": "2023-10-20T11:18:29.363Z"
   },
   {
    "duration": 13,
    "start_time": "2023-10-20T11:18:42.324Z"
   },
   {
    "duration": 13,
    "start_time": "2023-10-20T11:18:47.522Z"
   },
   {
    "duration": 7,
    "start_time": "2023-10-20T11:20:22.050Z"
   },
   {
    "duration": 93,
    "start_time": "2023-10-20T11:22:17.101Z"
   },
   {
    "duration": 7,
    "start_time": "2023-10-20T11:23:58.292Z"
   },
   {
    "duration": 18,
    "start_time": "2023-10-20T11:29:08.147Z"
   },
   {
    "duration": 9,
    "start_time": "2023-10-20T11:33:03.179Z"
   },
   {
    "duration": 15,
    "start_time": "2023-10-20T11:33:20.838Z"
   },
   {
    "duration": 239,
    "start_time": "2023-10-20T11:44:11.544Z"
   },
   {
    "duration": 234,
    "start_time": "2023-10-20T11:44:25.316Z"
   },
   {
    "duration": 158,
    "start_time": "2023-10-20T11:44:50.853Z"
   },
   {
    "duration": 140,
    "start_time": "2023-10-20T11:44:54.807Z"
   },
   {
    "duration": 199,
    "start_time": "2023-10-20T11:45:07.333Z"
   },
   {
    "duration": 183,
    "start_time": "2023-10-20T11:45:23.862Z"
   },
   {
    "duration": 212,
    "start_time": "2023-10-20T11:45:31.650Z"
   },
   {
    "duration": 236,
    "start_time": "2023-10-20T11:45:41.665Z"
   },
   {
    "duration": 206,
    "start_time": "2023-10-20T11:45:47.595Z"
   },
   {
    "duration": 6,
    "start_time": "2023-10-20T11:46:54.453Z"
   },
   {
    "duration": 287,
    "start_time": "2023-10-20T11:55:37.521Z"
   },
   {
    "duration": 224,
    "start_time": "2023-10-20T11:56:16.983Z"
   },
   {
    "duration": 11,
    "start_time": "2023-10-20T11:57:46.112Z"
   },
   {
    "duration": 12,
    "start_time": "2023-10-20T11:58:08.331Z"
   },
   {
    "duration": 11,
    "start_time": "2023-10-20T12:00:14.249Z"
   },
   {
    "duration": 9,
    "start_time": "2023-10-20T12:00:22.528Z"
   },
   {
    "duration": 507,
    "start_time": "2023-10-20T12:00:45.641Z"
   },
   {
    "duration": 1297,
    "start_time": "2023-10-20T12:01:06.044Z"
   },
   {
    "duration": 48,
    "start_time": "2023-10-20T12:01:07.343Z"
   },
   {
    "duration": 45,
    "start_time": "2023-10-20T12:01:07.393Z"
   },
   {
    "duration": 28,
    "start_time": "2023-10-20T12:01:07.441Z"
   },
   {
    "duration": 10,
    "start_time": "2023-10-20T12:01:07.470Z"
   },
   {
    "duration": 31,
    "start_time": "2023-10-20T12:01:07.482Z"
   },
   {
    "duration": 20,
    "start_time": "2023-10-20T12:01:07.514Z"
   },
   {
    "duration": 22,
    "start_time": "2023-10-20T12:01:07.536Z"
   },
   {
    "duration": 29,
    "start_time": "2023-10-20T12:01:07.560Z"
   },
   {
    "duration": 38,
    "start_time": "2023-10-20T12:01:07.592Z"
   },
   {
    "duration": 8,
    "start_time": "2023-10-20T12:01:07.632Z"
   },
   {
    "duration": 379,
    "start_time": "2023-10-20T12:01:07.641Z"
   },
   {
    "duration": 401,
    "start_time": "2023-10-20T12:01:40.299Z"
   },
   {
    "duration": 240,
    "start_time": "2023-10-20T12:02:04.916Z"
   },
   {
    "duration": 223,
    "start_time": "2023-10-20T12:02:15.630Z"
   },
   {
    "duration": 158,
    "start_time": "2023-10-20T12:05:34.083Z"
   },
   {
    "duration": 224,
    "start_time": "2023-10-20T12:06:13.739Z"
   },
   {
    "duration": 8,
    "start_time": "2023-10-20T12:08:03.670Z"
   },
   {
    "duration": 7,
    "start_time": "2023-10-20T12:08:57.152Z"
   },
   {
    "duration": 119,
    "start_time": "2023-10-20T12:09:57.097Z"
   },
   {
    "duration": 12,
    "start_time": "2023-10-20T12:10:39.925Z"
   },
   {
    "duration": 23,
    "start_time": "2023-10-20T12:11:00.309Z"
   },
   {
    "duration": 22,
    "start_time": "2023-10-20T12:11:15.987Z"
   },
   {
    "duration": 350,
    "start_time": "2023-10-20T12:11:20.510Z"
   },
   {
    "duration": 11,
    "start_time": "2023-10-20T12:12:58.185Z"
   },
   {
    "duration": 7,
    "start_time": "2023-10-20T12:21:32.363Z"
   },
   {
    "duration": 207,
    "start_time": "2023-10-20T12:23:50.747Z"
   },
   {
    "duration": 105,
    "start_time": "2023-10-20T12:23:59.076Z"
   },
   {
    "duration": 7,
    "start_time": "2023-10-20T12:25:49.467Z"
   },
   {
    "duration": 12,
    "start_time": "2023-10-20T12:27:31.831Z"
   },
   {
    "duration": 11,
    "start_time": "2023-10-20T12:28:35.233Z"
   },
   {
    "duration": 87,
    "start_time": "2023-10-20T12:29:43.987Z"
   },
   {
    "duration": 11,
    "start_time": "2023-10-20T12:29:47.684Z"
   },
   {
    "duration": 1593,
    "start_time": "2023-10-20T12:32:34.231Z"
   },
   {
    "duration": 9,
    "start_time": "2023-10-20T12:32:59.205Z"
   },
   {
    "duration": 1579,
    "start_time": "2023-10-20T12:33:23.204Z"
   },
   {
    "duration": 11,
    "start_time": "2023-10-20T12:33:35.306Z"
   },
   {
    "duration": 1412,
    "start_time": "2023-10-20T12:33:40.270Z"
   },
   {
    "duration": 1547,
    "start_time": "2023-10-20T12:34:07.651Z"
   },
   {
    "duration": 15,
    "start_time": "2023-10-20T12:34:37.909Z"
   },
   {
    "duration": 13,
    "start_time": "2023-10-20T12:34:49.983Z"
   },
   {
    "duration": 197,
    "start_time": "2023-10-20T12:35:41.156Z"
   },
   {
    "duration": 189,
    "start_time": "2023-10-20T12:38:45.397Z"
   },
   {
    "duration": 105,
    "start_time": "2023-10-20T12:39:57.424Z"
   },
   {
    "duration": 106,
    "start_time": "2023-10-20T12:40:07.003Z"
   },
   {
    "duration": 84,
    "start_time": "2023-10-20T12:40:14.452Z"
   },
   {
    "duration": 117,
    "start_time": "2023-10-20T12:40:19.342Z"
   },
   {
    "duration": 70,
    "start_time": "2023-10-20T12:40:22.510Z"
   },
   {
    "duration": 87,
    "start_time": "2023-10-20T12:40:26.932Z"
   },
   {
    "duration": 83,
    "start_time": "2023-10-20T12:40:30.765Z"
   },
   {
    "duration": 81,
    "start_time": "2023-10-20T12:40:35.812Z"
   },
   {
    "duration": 81,
    "start_time": "2023-10-20T12:40:40.965Z"
   },
   {
    "duration": 113,
    "start_time": "2023-10-20T12:40:44.766Z"
   },
   {
    "duration": 147,
    "start_time": "2023-10-20T12:41:42.428Z"
   },
   {
    "duration": 15,
    "start_time": "2023-10-20T12:43:18.416Z"
   },
   {
    "duration": 19,
    "start_time": "2023-10-20T12:44:34.579Z"
   },
   {
    "duration": 12,
    "start_time": "2023-10-20T12:44:53.714Z"
   },
   {
    "duration": 11,
    "start_time": "2023-10-20T12:45:08.831Z"
   },
   {
    "duration": 9,
    "start_time": "2023-10-20T12:45:48.140Z"
   },
   {
    "duration": 108,
    "start_time": "2023-10-20T12:47:09.455Z"
   },
   {
    "duration": 119,
    "start_time": "2023-10-20T12:47:13.504Z"
   },
   {
    "duration": 10,
    "start_time": "2023-10-20T12:48:47.661Z"
   },
   {
    "duration": 16,
    "start_time": "2023-10-20T12:49:05.929Z"
   },
   {
    "duration": 9,
    "start_time": "2023-10-20T12:49:53.106Z"
   },
   {
    "duration": 12,
    "start_time": "2023-10-20T12:53:48.177Z"
   },
   {
    "duration": 15,
    "start_time": "2023-10-20T12:54:30.134Z"
   },
   {
    "duration": 374,
    "start_time": "2023-10-20T12:55:30.037Z"
   },
   {
    "duration": 226,
    "start_time": "2023-10-20T12:58:38.816Z"
   },
   {
    "duration": 285,
    "start_time": "2023-10-20T12:59:54.424Z"
   },
   {
    "duration": 368,
    "start_time": "2023-10-20T13:00:05.440Z"
   },
   {
    "duration": 246,
    "start_time": "2023-10-20T13:00:19.002Z"
   },
   {
    "duration": 235,
    "start_time": "2023-10-20T13:00:22.537Z"
   },
   {
    "duration": 232,
    "start_time": "2023-10-20T13:00:31.565Z"
   },
   {
    "duration": 266,
    "start_time": "2023-10-20T13:00:35.566Z"
   },
   {
    "duration": 319,
    "start_time": "2023-10-20T13:01:49.471Z"
   },
   {
    "duration": 326,
    "start_time": "2023-10-20T13:02:04.250Z"
   },
   {
    "duration": 355,
    "start_time": "2023-10-20T13:02:12.869Z"
   },
   {
    "duration": 411,
    "start_time": "2023-10-20T13:02:25.077Z"
   },
   {
    "duration": 323,
    "start_time": "2023-10-20T13:05:32.064Z"
   },
   {
    "duration": 13,
    "start_time": "2023-10-20T13:05:54.620Z"
   },
   {
    "duration": 12,
    "start_time": "2023-10-20T13:06:00.327Z"
   },
   {
    "duration": 9,
    "start_time": "2023-10-20T13:07:27.064Z"
   },
   {
    "duration": 124,
    "start_time": "2023-10-20T13:07:32.403Z"
   },
   {
    "duration": 1444,
    "start_time": "2023-10-20T17:32:40.808Z"
   },
   {
    "duration": 47,
    "start_time": "2023-10-20T17:32:42.255Z"
   },
   {
    "duration": 45,
    "start_time": "2023-10-20T17:32:42.308Z"
   },
   {
    "duration": 26,
    "start_time": "2023-10-20T17:32:42.355Z"
   },
   {
    "duration": 9,
    "start_time": "2023-10-20T17:32:42.383Z"
   },
   {
    "duration": 15,
    "start_time": "2023-10-20T17:32:42.393Z"
   },
   {
    "duration": 14,
    "start_time": "2023-10-20T17:32:42.409Z"
   },
   {
    "duration": 15,
    "start_time": "2023-10-20T17:32:42.447Z"
   },
   {
    "duration": 7,
    "start_time": "2023-10-20T17:32:42.465Z"
   },
   {
    "duration": 19,
    "start_time": "2023-10-20T17:32:42.474Z"
   },
   {
    "duration": 13,
    "start_time": "2023-10-20T17:32:42.495Z"
   },
   {
    "duration": 252,
    "start_time": "2023-10-20T17:32:42.547Z"
   },
   {
    "duration": 161,
    "start_time": "2023-10-20T17:32:42.800Z"
   },
   {
    "duration": 7,
    "start_time": "2023-10-20T17:32:42.963Z"
   },
   {
    "duration": 215,
    "start_time": "2023-10-20T17:32:42.971Z"
   },
   {
    "duration": 121,
    "start_time": "2023-10-20T17:32:43.188Z"
   },
   {
    "duration": 11,
    "start_time": "2023-10-20T17:32:43.311Z"
   },
   {
    "duration": 234,
    "start_time": "2023-10-20T17:32:43.324Z"
   },
   {
    "duration": 299,
    "start_time": "2023-10-20T17:32:43.559Z"
   },
   {
    "duration": 105,
    "start_time": "2023-10-20T17:32:43.860Z"
   },
   {
    "duration": 9,
    "start_time": "2023-10-20T17:32:43.967Z"
   },
   {
    "duration": 1754,
    "start_time": "2023-10-20T17:34:58.592Z"
   },
   {
    "duration": 226,
    "start_time": "2023-10-20T17:35:07.203Z"
   },
   {
    "duration": 257,
    "start_time": "2023-10-20T17:35:19.645Z"
   },
   {
    "duration": 177,
    "start_time": "2023-10-20T17:37:19.222Z"
   },
   {
    "duration": 4,
    "start_time": "2023-10-20T17:41:30.159Z"
   },
   {
    "duration": 8,
    "start_time": "2023-10-20T17:41:35.482Z"
   },
   {
    "duration": 4,
    "start_time": "2023-10-20T17:42:53.864Z"
   },
   {
    "duration": 8,
    "start_time": "2023-10-20T17:43:09.176Z"
   },
   {
    "duration": 1192,
    "start_time": "2023-10-20T17:43:16.898Z"
   },
   {
    "duration": 45,
    "start_time": "2023-10-20T17:43:18.093Z"
   },
   {
    "duration": 45,
    "start_time": "2023-10-20T17:43:18.140Z"
   },
   {
    "duration": 103,
    "start_time": "2023-10-20T17:43:18.187Z"
   },
   {
    "duration": 20,
    "start_time": "2023-10-20T17:43:18.293Z"
   },
   {
    "duration": 27,
    "start_time": "2023-10-20T17:43:18.315Z"
   },
   {
    "duration": 43,
    "start_time": "2023-10-20T17:43:18.343Z"
   },
   {
    "duration": 50,
    "start_time": "2023-10-20T17:43:18.388Z"
   },
   {
    "duration": 34,
    "start_time": "2023-10-20T17:43:18.440Z"
   },
   {
    "duration": 26,
    "start_time": "2023-10-20T17:43:18.475Z"
   },
   {
    "duration": 19,
    "start_time": "2023-10-20T17:43:18.503Z"
   },
   {
    "duration": 240,
    "start_time": "2023-10-20T17:43:18.524Z"
   },
   {
    "duration": 164,
    "start_time": "2023-10-20T17:43:18.767Z"
   },
   {
    "duration": 17,
    "start_time": "2023-10-20T17:43:18.934Z"
   },
   {
    "duration": 230,
    "start_time": "2023-10-20T17:43:18.953Z"
   },
   {
    "duration": 121,
    "start_time": "2023-10-20T17:43:19.185Z"
   },
   {
    "duration": 10,
    "start_time": "2023-10-20T17:43:19.308Z"
   },
   {
    "duration": 227,
    "start_time": "2023-10-20T17:43:19.319Z"
   },
   {
    "duration": 318,
    "start_time": "2023-10-20T17:43:19.548Z"
   },
   {
    "duration": 102,
    "start_time": "2023-10-20T17:43:19.868Z"
   },
   {
    "duration": 5,
    "start_time": "2023-10-20T17:43:19.973Z"
   },
   {
    "duration": 18,
    "start_time": "2023-10-20T17:43:19.979Z"
   },
   {
    "duration": 279,
    "start_time": "2023-10-20T17:43:19.999Z"
   },
   {
    "duration": 123,
    "start_time": "2023-10-20T17:43:20.280Z"
   },
   {
    "duration": 6,
    "start_time": "2023-10-20T17:44:02.458Z"
   },
   {
    "duration": 9,
    "start_time": "2023-10-20T17:44:03.282Z"
   },
   {
    "duration": 5,
    "start_time": "2023-10-20T17:44:45.761Z"
   },
   {
    "duration": 8,
    "start_time": "2023-10-20T17:44:46.185Z"
   },
   {
    "duration": 1207,
    "start_time": "2023-10-20T17:45:06.480Z"
   },
   {
    "duration": 46,
    "start_time": "2023-10-20T17:45:07.689Z"
   },
   {
    "duration": 43,
    "start_time": "2023-10-20T17:45:07.737Z"
   },
   {
    "duration": 25,
    "start_time": "2023-10-20T17:45:07.782Z"
   },
   {
    "duration": 10,
    "start_time": "2023-10-20T17:45:07.809Z"
   },
   {
    "duration": 16,
    "start_time": "2023-10-20T17:45:07.820Z"
   },
   {
    "duration": 13,
    "start_time": "2023-10-20T17:45:07.846Z"
   },
   {
    "duration": 20,
    "start_time": "2023-10-20T17:45:07.861Z"
   },
   {
    "duration": 6,
    "start_time": "2023-10-20T17:45:07.882Z"
   },
   {
    "duration": 21,
    "start_time": "2023-10-20T17:45:07.891Z"
   },
   {
    "duration": 35,
    "start_time": "2023-10-20T17:45:07.913Z"
   },
   {
    "duration": 260,
    "start_time": "2023-10-20T17:45:07.949Z"
   },
   {
    "duration": 157,
    "start_time": "2023-10-20T17:45:08.211Z"
   },
   {
    "duration": 8,
    "start_time": "2023-10-20T17:45:08.370Z"
   },
   {
    "duration": 214,
    "start_time": "2023-10-20T17:45:08.381Z"
   },
   {
    "duration": 111,
    "start_time": "2023-10-20T17:45:08.597Z"
   },
   {
    "duration": 10,
    "start_time": "2023-10-20T17:45:08.710Z"
   },
   {
    "duration": 232,
    "start_time": "2023-10-20T17:45:08.722Z"
   },
   {
    "duration": 321,
    "start_time": "2023-10-20T17:45:08.956Z"
   },
   {
    "duration": 116,
    "start_time": "2023-10-20T17:45:09.279Z"
   },
   {
    "duration": 4,
    "start_time": "2023-10-20T17:45:09.397Z"
   },
   {
    "duration": 12,
    "start_time": "2023-10-20T17:45:09.403Z"
   },
   {
    "duration": 283,
    "start_time": "2023-10-20T17:45:09.416Z"
   },
   {
    "duration": 117,
    "start_time": "2023-10-20T17:45:09.701Z"
   },
   {
    "duration": 291,
    "start_time": "2023-10-20T17:45:37.333Z"
   },
   {
    "duration": 123,
    "start_time": "2023-10-20T17:45:42.918Z"
   },
   {
    "duration": 16,
    "start_time": "2023-10-20T17:55:46.940Z"
   },
   {
    "duration": 4,
    "start_time": "2023-10-20T17:58:32.805Z"
   },
   {
    "duration": 9,
    "start_time": "2023-10-20T17:59:40.609Z"
   },
   {
    "duration": 273,
    "start_time": "2023-10-20T18:12:50.824Z"
   },
   {
    "duration": 222,
    "start_time": "2023-10-20T18:12:57.607Z"
   },
   {
    "duration": 129,
    "start_time": "2023-10-20T18:15:29.877Z"
   },
   {
    "duration": 18,
    "start_time": "2023-10-20T18:20:51.324Z"
   },
   {
    "duration": 5,
    "start_time": "2023-10-20T18:22:32.025Z"
   },
   {
    "duration": 9,
    "start_time": "2023-10-20T18:23:41.325Z"
   },
   {
    "duration": 1269,
    "start_time": "2023-10-20T19:24:49.793Z"
   },
   {
    "duration": 47,
    "start_time": "2023-10-20T19:24:51.064Z"
   },
   {
    "duration": 45,
    "start_time": "2023-10-20T19:24:51.112Z"
   },
   {
    "duration": 27,
    "start_time": "2023-10-20T19:24:51.159Z"
   },
   {
    "duration": 10,
    "start_time": "2023-10-20T19:24:51.189Z"
   },
   {
    "duration": 23,
    "start_time": "2023-10-20T19:24:51.200Z"
   },
   {
    "duration": 31,
    "start_time": "2023-10-20T19:24:51.225Z"
   },
   {
    "duration": 27,
    "start_time": "2023-10-20T19:24:51.257Z"
   },
   {
    "duration": 35,
    "start_time": "2023-10-20T19:24:51.286Z"
   },
   {
    "duration": 30,
    "start_time": "2023-10-20T19:24:51.323Z"
   },
   {
    "duration": 14,
    "start_time": "2023-10-20T19:24:51.355Z"
   },
   {
    "duration": 266,
    "start_time": "2023-10-20T19:24:51.370Z"
   },
   {
    "duration": 164,
    "start_time": "2023-10-20T19:24:51.638Z"
   },
   {
    "duration": 8,
    "start_time": "2023-10-20T19:24:51.805Z"
   },
   {
    "duration": 229,
    "start_time": "2023-10-20T19:24:51.814Z"
   },
   {
    "duration": 122,
    "start_time": "2023-10-20T19:24:52.046Z"
   },
   {
    "duration": 10,
    "start_time": "2023-10-20T19:24:52.170Z"
   },
   {
    "duration": 232,
    "start_time": "2023-10-20T19:24:52.181Z"
   },
   {
    "duration": 314,
    "start_time": "2023-10-20T19:24:52.415Z"
   },
   {
    "duration": 103,
    "start_time": "2023-10-20T19:24:52.731Z"
   },
   {
    "duration": 13,
    "start_time": "2023-10-20T19:24:52.836Z"
   },
   {
    "duration": 16,
    "start_time": "2023-10-20T19:24:52.850Z"
   },
   {
    "duration": 16,
    "start_time": "2023-10-20T19:24:52.868Z"
   },
   {
    "duration": 272,
    "start_time": "2023-10-20T19:24:52.886Z"
   },
   {
    "duration": 144,
    "start_time": "2023-10-20T19:24:53.159Z"
   },
   {
    "duration": 5,
    "start_time": "2023-10-20T19:24:53.305Z"
   },
   {
    "duration": 21,
    "start_time": "2023-10-20T19:24:53.311Z"
   },
   {
    "duration": 27,
    "start_time": "2023-10-20T19:24:53.334Z"
   },
   {
    "duration": 320,
    "start_time": "2023-10-20T19:24:53.363Z"
   },
   {
    "duration": 135,
    "start_time": "2023-10-20T19:24:53.686Z"
   },
   {
    "duration": 24,
    "start_time": "2023-10-20T19:24:53.823Z"
   },
   {
    "duration": 11,
    "start_time": "2023-10-20T19:24:53.849Z"
   },
   {
    "duration": 29,
    "start_time": "2023-10-20T19:28:05.991Z"
   },
   {
    "duration": 4029,
    "start_time": "2023-10-20T19:30:15.184Z"
   },
   {
    "duration": 33,
    "start_time": "2023-10-20T19:31:20.188Z"
   },
   {
    "duration": 19,
    "start_time": "2023-10-20T19:32:30.759Z"
   },
   {
    "duration": 116,
    "start_time": "2023-10-20T19:32:33.737Z"
   },
   {
    "duration": 31,
    "start_time": "2023-10-20T19:32:49.302Z"
   },
   {
    "duration": 24,
    "start_time": "2023-10-20T19:37:58.806Z"
   },
   {
    "duration": 15,
    "start_time": "2023-10-20T19:38:01.051Z"
   },
   {
    "duration": 24,
    "start_time": "2023-10-20T19:38:04.215Z"
   },
   {
    "duration": 22,
    "start_time": "2023-10-20T19:38:42.147Z"
   },
   {
    "duration": 17,
    "start_time": "2023-10-20T19:39:02.426Z"
   },
   {
    "duration": 23,
    "start_time": "2023-10-20T19:40:46.255Z"
   },
   {
    "duration": 20,
    "start_time": "2023-10-20T19:41:07.350Z"
   },
   {
    "duration": 11,
    "start_time": "2023-10-20T19:41:10.765Z"
   },
   {
    "duration": 14,
    "start_time": "2023-10-20T19:41:57.964Z"
   },
   {
    "duration": 15,
    "start_time": "2023-10-20T19:42:05.958Z"
   },
   {
    "duration": 20,
    "start_time": "2023-10-20T19:42:09.674Z"
   },
   {
    "duration": 19,
    "start_time": "2023-10-20T19:46:54.079Z"
   },
   {
    "duration": 18,
    "start_time": "2023-10-20T19:48:00.723Z"
   },
   {
    "duration": 249,
    "start_time": "2023-10-20T19:52:53.631Z"
   },
   {
    "duration": 231,
    "start_time": "2023-10-20T19:55:02.913Z"
   },
   {
    "duration": 221,
    "start_time": "2023-10-20T19:56:34.768Z"
   },
   {
    "duration": 265,
    "start_time": "2023-10-20T19:56:35.105Z"
   },
   {
    "duration": 168,
    "start_time": "2023-10-20T20:07:36.572Z"
   },
   {
    "duration": 165,
    "start_time": "2023-10-20T20:10:22.553Z"
   },
   {
    "duration": 171,
    "start_time": "2023-10-20T20:10:37.609Z"
   },
   {
    "duration": 163,
    "start_time": "2023-10-20T20:10:44.990Z"
   },
   {
    "duration": 169,
    "start_time": "2023-10-20T20:12:17.621Z"
   },
   {
    "duration": 284,
    "start_time": "2023-10-20T20:12:52.806Z"
   },
   {
    "duration": 190,
    "start_time": "2023-10-20T20:13:06.033Z"
   },
   {
    "duration": 172,
    "start_time": "2023-10-20T20:13:20.084Z"
   },
   {
    "duration": 16,
    "start_time": "2023-10-20T20:18:51.870Z"
   },
   {
    "duration": 16,
    "start_time": "2023-10-20T20:20:26.850Z"
   },
   {
    "duration": 1262,
    "start_time": "2023-10-20T20:20:54.453Z"
   },
   {
    "duration": 47,
    "start_time": "2023-10-20T20:20:55.718Z"
   },
   {
    "duration": 45,
    "start_time": "2023-10-20T20:20:55.766Z"
   },
   {
    "duration": 27,
    "start_time": "2023-10-20T20:20:55.813Z"
   },
   {
    "duration": 11,
    "start_time": "2023-10-20T20:20:55.842Z"
   },
   {
    "duration": 23,
    "start_time": "2023-10-20T20:20:55.855Z"
   },
   {
    "duration": 15,
    "start_time": "2023-10-20T20:20:55.879Z"
   },
   {
    "duration": 18,
    "start_time": "2023-10-20T20:20:55.896Z"
   },
   {
    "duration": 35,
    "start_time": "2023-10-20T20:20:55.916Z"
   },
   {
    "duration": 23,
    "start_time": "2023-10-20T20:20:55.954Z"
   },
   {
    "duration": 13,
    "start_time": "2023-10-20T20:20:55.978Z"
   },
   {
    "duration": 274,
    "start_time": "2023-10-20T20:20:55.993Z"
   },
   {
    "duration": 156,
    "start_time": "2023-10-20T20:20:56.269Z"
   },
   {
    "duration": 8,
    "start_time": "2023-10-20T20:20:56.427Z"
   },
   {
    "duration": 217,
    "start_time": "2023-10-20T20:20:56.448Z"
   },
   {
    "duration": 123,
    "start_time": "2023-10-20T20:20:56.667Z"
   },
   {
    "duration": 10,
    "start_time": "2023-10-20T20:20:56.792Z"
   },
   {
    "duration": 231,
    "start_time": "2023-10-20T20:20:56.804Z"
   },
   {
    "duration": 300,
    "start_time": "2023-10-20T20:20:57.037Z"
   },
   {
    "duration": 109,
    "start_time": "2023-10-20T20:20:57.339Z"
   },
   {
    "duration": 5,
    "start_time": "2023-10-20T20:20:57.450Z"
   },
   {
    "duration": 12,
    "start_time": "2023-10-20T20:20:57.457Z"
   },
   {
    "duration": 17,
    "start_time": "2023-10-20T20:20:57.471Z"
   },
   {
    "duration": 287,
    "start_time": "2023-10-20T20:20:57.490Z"
   },
   {
    "duration": 138,
    "start_time": "2023-10-20T20:20:57.778Z"
   },
   {
    "duration": 5,
    "start_time": "2023-10-20T20:20:57.917Z"
   },
   {
    "duration": 24,
    "start_time": "2023-10-20T20:20:57.923Z"
   },
   {
    "duration": 17,
    "start_time": "2023-10-20T20:20:57.950Z"
   },
   {
    "duration": 331,
    "start_time": "2023-10-20T20:20:57.968Z"
   },
   {
    "duration": 131,
    "start_time": "2023-10-20T20:20:58.301Z"
   },
   {
    "duration": 15,
    "start_time": "2023-10-20T20:20:58.434Z"
   },
   {
    "duration": 16,
    "start_time": "2023-10-20T20:20:58.451Z"
   },
   {
    "duration": 15,
    "start_time": "2023-10-20T20:20:58.469Z"
   },
   {
    "duration": 21,
    "start_time": "2023-10-20T20:20:58.486Z"
   },
   {
    "duration": 49,
    "start_time": "2023-10-20T20:20:58.509Z"
   },
   {
    "duration": 16,
    "start_time": "2023-10-20T20:20:58.560Z"
   },
   {
    "duration": 191,
    "start_time": "2023-10-20T20:20:58.578Z"
   },
   {
    "duration": 16,
    "start_time": "2023-10-20T20:20:58.772Z"
   },
   {
    "duration": 198,
    "start_time": "2023-10-20T20:20:58.790Z"
   },
   {
    "duration": 14,
    "start_time": "2023-10-20T20:20:58.990Z"
   },
   {
    "duration": 19,
    "start_time": "2023-10-20T20:22:05.932Z"
   },
   {
    "duration": 16,
    "start_time": "2023-10-20T20:22:23.628Z"
   },
   {
    "duration": 240,
    "start_time": "2023-10-20T20:24:56.482Z"
   },
   {
    "duration": 222,
    "start_time": "2023-10-20T20:25:10.197Z"
   },
   {
    "duration": 169,
    "start_time": "2023-10-20T20:25:23.624Z"
   },
   {
    "duration": 216,
    "start_time": "2023-10-20T20:25:32.756Z"
   },
   {
    "duration": 177,
    "start_time": "2023-10-20T20:25:57.648Z"
   },
   {
    "duration": 11,
    "start_time": "2023-10-20T20:28:44.901Z"
   },
   {
    "duration": 8,
    "start_time": "2023-10-20T20:34:56.459Z"
   },
   {
    "duration": 7,
    "start_time": "2023-10-20T20:35:09.206Z"
   },
   {
    "duration": 6,
    "start_time": "2023-10-20T20:35:41.164Z"
   },
   {
    "duration": 1474,
    "start_time": "2023-10-21T07:51:19.109Z"
   },
   {
    "duration": 105,
    "start_time": "2023-10-21T07:51:20.585Z"
   },
   {
    "duration": 87,
    "start_time": "2023-10-21T07:51:20.691Z"
   },
   {
    "duration": 64,
    "start_time": "2023-10-21T07:51:20.781Z"
   },
   {
    "duration": 11,
    "start_time": "2023-10-21T07:51:20.846Z"
   },
   {
    "duration": 16,
    "start_time": "2023-10-21T07:51:20.859Z"
   },
   {
    "duration": 34,
    "start_time": "2023-10-21T07:51:20.877Z"
   },
   {
    "duration": 23,
    "start_time": "2023-10-21T07:51:20.914Z"
   },
   {
    "duration": 12,
    "start_time": "2023-10-21T07:51:20.949Z"
   },
   {
    "duration": 34,
    "start_time": "2023-10-21T07:51:20.965Z"
   },
   {
    "duration": 11,
    "start_time": "2023-10-21T07:51:21.002Z"
   },
   {
    "duration": 274,
    "start_time": "2023-10-21T07:51:21.014Z"
   },
   {
    "duration": 159,
    "start_time": "2023-10-21T07:51:21.290Z"
   },
   {
    "duration": 9,
    "start_time": "2023-10-21T07:51:21.450Z"
   },
   {
    "duration": 214,
    "start_time": "2023-10-21T07:51:21.461Z"
   },
   {
    "duration": 119,
    "start_time": "2023-10-21T07:51:21.677Z"
   },
   {
    "duration": 10,
    "start_time": "2023-10-21T07:51:21.798Z"
   },
   {
    "duration": 225,
    "start_time": "2023-10-21T07:51:21.809Z"
   },
   {
    "duration": 326,
    "start_time": "2023-10-21T07:51:22.035Z"
   },
   {
    "duration": 103,
    "start_time": "2023-10-21T07:51:22.363Z"
   },
   {
    "duration": 5,
    "start_time": "2023-10-21T07:51:22.467Z"
   },
   {
    "duration": 37,
    "start_time": "2023-10-21T07:51:22.474Z"
   },
   {
    "duration": 24,
    "start_time": "2023-10-21T07:51:22.512Z"
   },
   {
    "duration": 249,
    "start_time": "2023-10-21T07:51:22.538Z"
   },
   {
    "duration": 135,
    "start_time": "2023-10-21T07:51:22.789Z"
   },
   {
    "duration": 6,
    "start_time": "2023-10-21T07:51:22.926Z"
   },
   {
    "duration": 14,
    "start_time": "2023-10-21T07:51:22.947Z"
   },
   {
    "duration": 21,
    "start_time": "2023-10-21T07:51:22.965Z"
   },
   {
    "duration": 321,
    "start_time": "2023-10-21T07:51:22.988Z"
   },
   {
    "duration": 137,
    "start_time": "2023-10-21T07:51:23.311Z"
   },
   {
    "duration": 5,
    "start_time": "2023-10-21T07:51:23.450Z"
   },
   {
    "duration": 24,
    "start_time": "2023-10-21T07:51:23.456Z"
   },
   {
    "duration": 40,
    "start_time": "2023-10-21T07:51:23.482Z"
   },
   {
    "duration": 20,
    "start_time": "2023-10-21T07:51:23.524Z"
   },
   {
    "duration": 19,
    "start_time": "2023-10-21T07:51:23.546Z"
   },
   {
    "duration": 17,
    "start_time": "2023-10-21T07:51:23.567Z"
   },
   {
    "duration": 57,
    "start_time": "2023-10-21T07:51:23.586Z"
   },
   {
    "duration": 33,
    "start_time": "2023-10-21T07:51:23.645Z"
   },
   {
    "duration": 19,
    "start_time": "2023-10-21T07:51:23.680Z"
   },
   {
    "duration": 170,
    "start_time": "2023-10-21T07:51:23.702Z"
   },
   {
    "duration": 14,
    "start_time": "2023-10-21T07:51:23.874Z"
   },
   {
    "duration": 204,
    "start_time": "2023-10-21T07:51:23.890Z"
   },
   {
    "duration": 17,
    "start_time": "2023-10-21T07:51:24.096Z"
   },
   {
    "duration": 1313,
    "start_time": "2023-10-21T09:00:25.828Z"
   },
   {
    "duration": 46,
    "start_time": "2023-10-21T09:00:27.143Z"
   },
   {
    "duration": 45,
    "start_time": "2023-10-21T09:00:27.191Z"
   },
   {
    "duration": 28,
    "start_time": "2023-10-21T09:00:27.238Z"
   },
   {
    "duration": 10,
    "start_time": "2023-10-21T09:00:27.268Z"
   },
   {
    "duration": 38,
    "start_time": "2023-10-21T09:00:27.280Z"
   },
   {
    "duration": 25,
    "start_time": "2023-10-21T09:00:27.320Z"
   },
   {
    "duration": 47,
    "start_time": "2023-10-21T09:00:27.347Z"
   },
   {
    "duration": 16,
    "start_time": "2023-10-21T09:00:27.396Z"
   },
   {
    "duration": 59,
    "start_time": "2023-10-21T09:00:27.414Z"
   },
   {
    "duration": 39,
    "start_time": "2023-10-21T09:00:27.475Z"
   },
   {
    "duration": 256,
    "start_time": "2023-10-21T09:00:27.516Z"
   },
   {
    "duration": 169,
    "start_time": "2023-10-21T09:00:27.774Z"
   },
   {
    "duration": 9,
    "start_time": "2023-10-21T09:00:27.947Z"
   },
   {
    "duration": 237,
    "start_time": "2023-10-21T09:00:27.959Z"
   },
   {
    "duration": 138,
    "start_time": "2023-10-21T09:00:28.198Z"
   },
   {
    "duration": 15,
    "start_time": "2023-10-21T09:00:28.338Z"
   },
   {
    "duration": 301,
    "start_time": "2023-10-21T09:00:28.355Z"
   },
   {
    "duration": 320,
    "start_time": "2023-10-21T09:00:28.658Z"
   },
   {
    "duration": 121,
    "start_time": "2023-10-21T09:00:28.980Z"
   },
   {
    "duration": 6,
    "start_time": "2023-10-21T09:00:29.103Z"
   },
   {
    "duration": 14,
    "start_time": "2023-10-21T09:00:29.111Z"
   },
   {
    "duration": 39,
    "start_time": "2023-10-21T09:00:29.127Z"
   },
   {
    "duration": 301,
    "start_time": "2023-10-21T09:00:29.168Z"
   },
   {
    "duration": 146,
    "start_time": "2023-10-21T09:00:29.471Z"
   },
   {
    "duration": 5,
    "start_time": "2023-10-21T09:00:29.619Z"
   },
   {
    "duration": 28,
    "start_time": "2023-10-21T09:00:29.625Z"
   },
   {
    "duration": 19,
    "start_time": "2023-10-21T09:00:29.657Z"
   },
   {
    "duration": 358,
    "start_time": "2023-10-21T09:00:29.678Z"
   },
   {
    "duration": 145,
    "start_time": "2023-10-21T09:00:30.037Z"
   },
   {
    "duration": 5,
    "start_time": "2023-10-21T09:00:30.184Z"
   },
   {
    "duration": 38,
    "start_time": "2023-10-21T09:00:30.191Z"
   },
   {
    "duration": 16,
    "start_time": "2023-10-21T09:00:30.231Z"
   },
   {
    "duration": 39,
    "start_time": "2023-10-21T09:00:30.249Z"
   },
   {
    "duration": 34,
    "start_time": "2023-10-21T09:00:30.290Z"
   },
   {
    "duration": 21,
    "start_time": "2023-10-21T09:00:30.327Z"
   },
   {
    "duration": 74,
    "start_time": "2023-10-21T09:00:30.350Z"
   },
   {
    "duration": 40,
    "start_time": "2023-10-21T09:00:30.426Z"
   },
   {
    "duration": 40,
    "start_time": "2023-10-21T09:00:30.468Z"
   },
   {
    "duration": 229,
    "start_time": "2023-10-21T09:00:30.511Z"
   },
   {
    "duration": 18,
    "start_time": "2023-10-21T09:00:30.746Z"
   },
   {
    "duration": 208,
    "start_time": "2023-10-21T09:00:30.766Z"
   },
   {
    "duration": 16,
    "start_time": "2023-10-21T09:00:30.976Z"
   },
   {
    "duration": 1294,
    "start_time": "2023-10-21T09:18:21.116Z"
   },
   {
    "duration": 48,
    "start_time": "2023-10-21T09:18:22.411Z"
   },
   {
    "duration": 44,
    "start_time": "2023-10-21T09:18:22.460Z"
   },
   {
    "duration": 28,
    "start_time": "2023-10-21T09:18:22.506Z"
   },
   {
    "duration": 16,
    "start_time": "2023-10-21T09:18:22.536Z"
   },
   {
    "duration": 40,
    "start_time": "2023-10-21T09:18:22.555Z"
   },
   {
    "duration": 19,
    "start_time": "2023-10-21T09:18:22.598Z"
   },
   {
    "duration": 28,
    "start_time": "2023-10-21T09:18:22.619Z"
   },
   {
    "duration": 12,
    "start_time": "2023-10-21T09:18:22.649Z"
   },
   {
    "duration": 18,
    "start_time": "2023-10-21T09:18:22.664Z"
   },
   {
    "duration": 13,
    "start_time": "2023-10-21T09:18:22.683Z"
   },
   {
    "duration": 313,
    "start_time": "2023-10-21T09:18:22.698Z"
   },
   {
    "duration": 171,
    "start_time": "2023-10-21T09:18:23.013Z"
   },
   {
    "duration": 9,
    "start_time": "2023-10-21T09:18:23.187Z"
   },
   {
    "duration": 235,
    "start_time": "2023-10-21T09:18:23.198Z"
   },
   {
    "duration": 128,
    "start_time": "2023-10-21T09:18:23.435Z"
   },
   {
    "duration": 12,
    "start_time": "2023-10-21T09:18:23.565Z"
   },
   {
    "duration": 270,
    "start_time": "2023-10-21T09:18:23.579Z"
   },
   {
    "duration": 343,
    "start_time": "2023-10-21T09:18:23.851Z"
   },
   {
    "duration": 103,
    "start_time": "2023-10-21T09:18:24.196Z"
   },
   {
    "duration": 5,
    "start_time": "2023-10-21T09:18:24.300Z"
   },
   {
    "duration": 20,
    "start_time": "2023-10-21T09:18:24.306Z"
   },
   {
    "duration": 31,
    "start_time": "2023-10-21T09:18:24.328Z"
   },
   {
    "duration": 264,
    "start_time": "2023-10-21T09:18:24.360Z"
   },
   {
    "duration": 147,
    "start_time": "2023-10-21T09:18:24.626Z"
   },
   {
    "duration": 5,
    "start_time": "2023-10-21T09:18:24.775Z"
   },
   {
    "duration": 13,
    "start_time": "2023-10-21T09:18:24.782Z"
   },
   {
    "duration": 16,
    "start_time": "2023-10-21T09:18:24.799Z"
   },
   {
    "duration": 356,
    "start_time": "2023-10-21T09:18:24.817Z"
   },
   {
    "duration": 158,
    "start_time": "2023-10-21T09:18:25.175Z"
   },
   {
    "duration": 16,
    "start_time": "2023-10-21T09:18:25.335Z"
   },
   {
    "duration": 99,
    "start_time": "2023-10-21T09:18:25.354Z"
   },
   {
    "duration": 26,
    "start_time": "2023-10-21T09:18:25.455Z"
   },
   {
    "duration": 29,
    "start_time": "2023-10-21T09:18:25.483Z"
   },
   {
    "duration": 46,
    "start_time": "2023-10-21T09:18:25.515Z"
   },
   {
    "duration": 18,
    "start_time": "2023-10-21T09:18:25.564Z"
   },
   {
    "duration": 11,
    "start_time": "2023-10-21T09:18:25.584Z"
   },
   {
    "duration": 26,
    "start_time": "2023-10-21T09:18:25.597Z"
   },
   {
    "duration": 9,
    "start_time": "2023-10-21T09:18:25.648Z"
   },
   {
    "duration": 197,
    "start_time": "2023-10-21T09:18:25.659Z"
   },
   {
    "duration": 16,
    "start_time": "2023-10-21T09:18:25.858Z"
   },
   {
    "duration": 202,
    "start_time": "2023-10-21T09:18:25.876Z"
   },
   {
    "duration": 26,
    "start_time": "2023-10-21T09:18:26.080Z"
   },
   {
    "duration": 5,
    "start_time": "2023-10-21T09:22:30.964Z"
   },
   {
    "duration": 9,
    "start_time": "2023-10-21T09:22:38.718Z"
   },
   {
    "duration": 14,
    "start_time": "2023-10-21T09:23:25.834Z"
   },
   {
    "duration": 9,
    "start_time": "2023-10-21T09:23:53.889Z"
   },
   {
    "duration": 6,
    "start_time": "2023-10-21T09:24:35.602Z"
   },
   {
    "duration": 8,
    "start_time": "2023-10-21T09:24:41.350Z"
   },
   {
    "duration": 112,
    "start_time": "2023-10-21T09:36:11.675Z"
   },
   {
    "duration": 19,
    "start_time": "2023-10-21T09:36:32.895Z"
   },
   {
    "duration": 11,
    "start_time": "2023-10-21T09:37:05.566Z"
   },
   {
    "duration": 83,
    "start_time": "2023-10-21T09:37:17.396Z"
   },
   {
    "duration": 19,
    "start_time": "2023-10-21T09:37:33.038Z"
   },
   {
    "duration": 18,
    "start_time": "2023-10-21T09:38:14.585Z"
   },
   {
    "duration": 17,
    "start_time": "2023-10-21T09:38:30.228Z"
   },
   {
    "duration": 87,
    "start_time": "2023-10-21T09:39:07.230Z"
   },
   {
    "duration": 22,
    "start_time": "2023-10-21T09:39:18.498Z"
   },
   {
    "duration": 27,
    "start_time": "2023-10-21T09:39:38.414Z"
   },
   {
    "duration": 25,
    "start_time": "2023-10-21T09:41:08.362Z"
   },
   {
    "duration": 26,
    "start_time": "2023-10-21T09:41:58.597Z"
   },
   {
    "duration": 40,
    "start_time": "2023-10-21T09:43:02.543Z"
   },
   {
    "duration": 5,
    "start_time": "2023-10-21T09:51:15.719Z"
   },
   {
    "duration": 22,
    "start_time": "2023-10-21T09:51:23.641Z"
   },
   {
    "duration": 7,
    "start_time": "2023-10-21T09:56:24.551Z"
   },
   {
    "duration": 30,
    "start_time": "2023-10-21T09:56:33.416Z"
   },
   {
    "duration": 26,
    "start_time": "2023-10-21T09:57:40.992Z"
   },
   {
    "duration": 29,
    "start_time": "2023-10-21T09:59:55.594Z"
   },
   {
    "duration": 35,
    "start_time": "2023-10-21T10:01:10.883Z"
   },
   {
    "duration": 36,
    "start_time": "2023-10-21T10:01:45.729Z"
   },
   {
    "duration": 1317,
    "start_time": "2023-10-21T10:02:34.855Z"
   },
   {
    "duration": 95,
    "start_time": "2023-10-21T10:02:36.174Z"
   },
   {
    "duration": 99,
    "start_time": "2023-10-21T10:02:36.271Z"
   },
   {
    "duration": 69,
    "start_time": "2023-10-21T10:02:36.373Z"
   },
   {
    "duration": 11,
    "start_time": "2023-10-21T10:02:36.444Z"
   },
   {
    "duration": 32,
    "start_time": "2023-10-21T10:02:36.457Z"
   },
   {
    "duration": 23,
    "start_time": "2023-10-21T10:02:36.491Z"
   },
   {
    "duration": 14,
    "start_time": "2023-10-21T10:02:36.516Z"
   },
   {
    "duration": 9,
    "start_time": "2023-10-21T10:02:36.546Z"
   },
   {
    "duration": 29,
    "start_time": "2023-10-21T10:02:36.558Z"
   },
   {
    "duration": 16,
    "start_time": "2023-10-21T10:02:36.590Z"
   },
   {
    "duration": 320,
    "start_time": "2023-10-21T10:02:36.608Z"
   },
   {
    "duration": 186,
    "start_time": "2023-10-21T10:02:36.930Z"
   },
   {
    "duration": 11,
    "start_time": "2023-10-21T10:02:37.118Z"
   },
   {
    "duration": 246,
    "start_time": "2023-10-21T10:02:37.131Z"
   },
   {
    "duration": 131,
    "start_time": "2023-10-21T10:02:37.379Z"
   },
   {
    "duration": 12,
    "start_time": "2023-10-21T10:02:37.512Z"
   },
   {
    "duration": 252,
    "start_time": "2023-10-21T10:02:37.526Z"
   },
   {
    "duration": 328,
    "start_time": "2023-10-21T10:02:37.781Z"
   },
   {
    "duration": 141,
    "start_time": "2023-10-21T10:02:38.111Z"
   },
   {
    "duration": 5,
    "start_time": "2023-10-21T10:02:38.254Z"
   },
   {
    "duration": 12,
    "start_time": "2023-10-21T10:02:38.261Z"
   },
   {
    "duration": 29,
    "start_time": "2023-10-21T10:02:38.274Z"
   },
   {
    "duration": 287,
    "start_time": "2023-10-21T10:02:38.305Z"
   },
   {
    "duration": 154,
    "start_time": "2023-10-21T10:02:38.594Z"
   },
   {
    "duration": 6,
    "start_time": "2023-10-21T10:02:38.750Z"
   },
   {
    "duration": 11,
    "start_time": "2023-10-21T10:02:38.757Z"
   },
   {
    "duration": 17,
    "start_time": "2023-10-21T10:02:38.772Z"
   },
   {
    "duration": 366,
    "start_time": "2023-10-21T10:02:38.791Z"
   },
   {
    "duration": 150,
    "start_time": "2023-10-21T10:02:39.160Z"
   },
   {
    "duration": 5,
    "start_time": "2023-10-21T10:02:39.312Z"
   },
   {
    "duration": 11,
    "start_time": "2023-10-21T10:02:39.319Z"
   },
   {
    "duration": 19,
    "start_time": "2023-10-21T10:02:39.347Z"
   },
   {
    "duration": 30,
    "start_time": "2023-10-21T10:02:39.368Z"
   },
   {
    "duration": 49,
    "start_time": "2023-10-21T10:02:39.401Z"
   },
   {
    "duration": 21,
    "start_time": "2023-10-21T10:02:39.452Z"
   },
   {
    "duration": 25,
    "start_time": "2023-10-21T10:02:39.475Z"
   },
   {
    "duration": 9,
    "start_time": "2023-10-21T10:02:39.503Z"
   },
   {
    "duration": 34,
    "start_time": "2023-10-21T10:02:39.514Z"
   },
   {
    "duration": 194,
    "start_time": "2023-10-21T10:02:39.550Z"
   },
   {
    "duration": 20,
    "start_time": "2023-10-21T10:02:39.747Z"
   },
   {
    "duration": 219,
    "start_time": "2023-10-21T10:02:39.769Z"
   },
   {
    "duration": 21,
    "start_time": "2023-10-21T10:02:39.990Z"
   },
   {
    "duration": 71,
    "start_time": "2023-10-21T10:02:40.013Z"
   },
   {
    "duration": 33,
    "start_time": "2023-10-21T10:02:40.087Z"
   },
   {
    "duration": 63,
    "start_time": "2023-10-21T10:03:01.588Z"
   },
   {
    "duration": 1414,
    "start_time": "2023-10-21T10:03:11.300Z"
   },
   {
    "duration": 99,
    "start_time": "2023-10-21T10:03:12.717Z"
   },
   {
    "duration": 100,
    "start_time": "2023-10-21T10:03:12.818Z"
   },
   {
    "duration": 65,
    "start_time": "2023-10-21T10:03:12.920Z"
   },
   {
    "duration": 10,
    "start_time": "2023-10-21T10:03:12.988Z"
   },
   {
    "duration": 24,
    "start_time": "2023-10-21T10:03:13.000Z"
   },
   {
    "duration": 16,
    "start_time": "2023-10-21T10:03:13.026Z"
   },
   {
    "duration": 16,
    "start_time": "2023-10-21T10:03:13.044Z"
   },
   {
    "duration": 8,
    "start_time": "2023-10-21T10:03:13.062Z"
   },
   {
    "duration": 38,
    "start_time": "2023-10-21T10:03:13.072Z"
   },
   {
    "duration": 34,
    "start_time": "2023-10-21T10:03:13.113Z"
   },
   {
    "duration": 261,
    "start_time": "2023-10-21T10:03:13.149Z"
   },
   {
    "duration": 165,
    "start_time": "2023-10-21T10:03:13.413Z"
   },
   {
    "duration": 9,
    "start_time": "2023-10-21T10:03:13.583Z"
   },
   {
    "duration": 230,
    "start_time": "2023-10-21T10:03:13.594Z"
   },
   {
    "duration": 110,
    "start_time": "2023-10-21T10:03:13.826Z"
   },
   {
    "duration": 16,
    "start_time": "2023-10-21T10:03:13.938Z"
   },
   {
    "duration": 238,
    "start_time": "2023-10-21T10:03:13.956Z"
   },
   {
    "duration": 310,
    "start_time": "2023-10-21T10:03:14.196Z"
   },
   {
    "duration": 107,
    "start_time": "2023-10-21T10:03:14.508Z"
   },
   {
    "duration": 6,
    "start_time": "2023-10-21T10:03:14.617Z"
   },
   {
    "duration": 23,
    "start_time": "2023-10-21T10:03:14.625Z"
   },
   {
    "duration": 24,
    "start_time": "2023-10-21T10:03:14.650Z"
   },
   {
    "duration": 289,
    "start_time": "2023-10-21T10:03:14.677Z"
   },
   {
    "duration": 148,
    "start_time": "2023-10-21T10:03:14.968Z"
   },
   {
    "duration": 6,
    "start_time": "2023-10-21T10:03:15.118Z"
   },
   {
    "duration": 30,
    "start_time": "2023-10-21T10:03:15.126Z"
   },
   {
    "duration": 26,
    "start_time": "2023-10-21T10:03:15.159Z"
   },
   {
    "duration": 406,
    "start_time": "2023-10-21T10:03:15.188Z"
   },
   {
    "duration": 174,
    "start_time": "2023-10-21T10:03:15.596Z"
   },
   {
    "duration": 6,
    "start_time": "2023-10-21T10:03:15.774Z"
   },
   {
    "duration": 38,
    "start_time": "2023-10-21T10:03:15.782Z"
   },
   {
    "duration": 60,
    "start_time": "2023-10-21T10:03:15.822Z"
   },
   {
    "duration": 67,
    "start_time": "2023-10-21T10:03:15.884Z"
   },
   {
    "duration": 20,
    "start_time": "2023-10-21T10:03:15.953Z"
   },
   {
    "duration": 18,
    "start_time": "2023-10-21T10:03:15.976Z"
   },
   {
    "duration": 20,
    "start_time": "2023-10-21T10:03:15.996Z"
   },
   {
    "duration": 9,
    "start_time": "2023-10-21T10:03:16.046Z"
   },
   {
    "duration": 8,
    "start_time": "2023-10-21T10:03:16.058Z"
   },
   {
    "duration": 196,
    "start_time": "2023-10-21T10:03:16.067Z"
   },
   {
    "duration": 17,
    "start_time": "2023-10-21T10:03:16.267Z"
   },
   {
    "duration": 200,
    "start_time": "2023-10-21T10:03:16.286Z"
   },
   {
    "duration": 16,
    "start_time": "2023-10-21T10:03:16.488Z"
   },
   {
    "duration": 70,
    "start_time": "2023-10-21T10:03:16.505Z"
   },
   {
    "duration": 28,
    "start_time": "2023-10-21T10:03:16.577Z"
   },
   {
    "duration": 51,
    "start_time": "2023-10-21T10:03:16.608Z"
   },
   {
    "duration": 38,
    "start_time": "2023-10-21T10:03:59.775Z"
   },
   {
    "duration": 26,
    "start_time": "2023-10-21T10:05:28.309Z"
   },
   {
    "duration": 24,
    "start_time": "2023-10-21T10:05:37.600Z"
   },
   {
    "duration": 36,
    "start_time": "2023-10-21T10:05:40.623Z"
   },
   {
    "duration": 35,
    "start_time": "2023-10-21T10:05:53.290Z"
   },
   {
    "duration": 22,
    "start_time": "2023-10-21T10:06:38.430Z"
   },
   {
    "duration": 35,
    "start_time": "2023-10-21T10:06:58.069Z"
   },
   {
    "duration": 24,
    "start_time": "2023-10-21T10:07:04.347Z"
   },
   {
    "duration": 22,
    "start_time": "2023-10-21T10:07:07.363Z"
   },
   {
    "duration": 18,
    "start_time": "2023-10-21T10:07:24.093Z"
   },
   {
    "duration": 127,
    "start_time": "2023-10-21T10:10:00.334Z"
   },
   {
    "duration": 17,
    "start_time": "2023-10-21T10:10:06.271Z"
   },
   {
    "duration": 36,
    "start_time": "2023-10-21T10:11:00.709Z"
   },
   {
    "duration": 31,
    "start_time": "2023-10-21T10:11:18.731Z"
   },
   {
    "duration": 24,
    "start_time": "2023-10-21T10:11:27.404Z"
   },
   {
    "duration": 60,
    "start_time": "2023-10-21T10:11:28.080Z"
   },
   {
    "duration": 33,
    "start_time": "2023-10-21T10:11:28.538Z"
   },
   {
    "duration": 18,
    "start_time": "2023-10-21T10:11:28.911Z"
   },
   {
    "duration": 24,
    "start_time": "2023-10-21T10:11:46.352Z"
   },
   {
    "duration": 82,
    "start_time": "2023-10-21T10:11:59.784Z"
   },
   {
    "duration": 22,
    "start_time": "2023-10-21T10:12:04.662Z"
   },
   {
    "duration": 22,
    "start_time": "2023-10-21T10:12:08.207Z"
   },
   {
    "duration": 11,
    "start_time": "2023-10-21T10:12:11.335Z"
   },
   {
    "duration": 31,
    "start_time": "2023-10-21T10:12:25.807Z"
   },
   {
    "duration": 25,
    "start_time": "2023-10-21T10:13:40.683Z"
   },
   {
    "duration": 27,
    "start_time": "2023-10-21T10:13:42.175Z"
   },
   {
    "duration": 16,
    "start_time": "2023-10-21T10:13:48.188Z"
   },
   {
    "duration": 1262,
    "start_time": "2023-10-21T10:15:11.779Z"
   },
   {
    "duration": 48,
    "start_time": "2023-10-21T10:15:13.043Z"
   },
   {
    "duration": 46,
    "start_time": "2023-10-21T10:15:13.093Z"
   },
   {
    "duration": 28,
    "start_time": "2023-10-21T10:15:13.142Z"
   },
   {
    "duration": 14,
    "start_time": "2023-10-21T10:15:13.173Z"
   },
   {
    "duration": 46,
    "start_time": "2023-10-21T10:15:13.189Z"
   },
   {
    "duration": 33,
    "start_time": "2023-10-21T10:15:13.237Z"
   },
   {
    "duration": 46,
    "start_time": "2023-10-21T10:15:13.272Z"
   },
   {
    "duration": 10,
    "start_time": "2023-10-21T10:15:13.320Z"
   },
   {
    "duration": 28,
    "start_time": "2023-10-21T10:15:13.334Z"
   },
   {
    "duration": 14,
    "start_time": "2023-10-21T10:15:13.364Z"
   },
   {
    "duration": 290,
    "start_time": "2023-10-21T10:15:13.379Z"
   },
   {
    "duration": 164,
    "start_time": "2023-10-21T10:15:13.671Z"
   },
   {
    "duration": 8,
    "start_time": "2023-10-21T10:15:13.847Z"
   },
   {
    "duration": 220,
    "start_time": "2023-10-21T10:15:13.857Z"
   },
   {
    "duration": 143,
    "start_time": "2023-10-21T10:15:14.078Z"
   },
   {
    "duration": 25,
    "start_time": "2023-10-21T10:15:14.223Z"
   },
   {
    "duration": 226,
    "start_time": "2023-10-21T10:15:14.250Z"
   },
   {
    "duration": 324,
    "start_time": "2023-10-21T10:15:14.478Z"
   },
   {
    "duration": 115,
    "start_time": "2023-10-21T10:15:14.803Z"
   },
   {
    "duration": 7,
    "start_time": "2023-10-21T10:15:14.920Z"
   },
   {
    "duration": 21,
    "start_time": "2023-10-21T10:15:14.929Z"
   },
   {
    "duration": 29,
    "start_time": "2023-10-21T10:15:14.952Z"
   },
   {
    "duration": 309,
    "start_time": "2023-10-21T10:15:14.983Z"
   },
   {
    "duration": 197,
    "start_time": "2023-10-21T10:15:15.294Z"
   },
   {
    "duration": 6,
    "start_time": "2023-10-21T10:15:15.493Z"
   },
   {
    "duration": 55,
    "start_time": "2023-10-21T10:15:15.503Z"
   },
   {
    "duration": 63,
    "start_time": "2023-10-21T10:15:15.563Z"
   },
   {
    "duration": 336,
    "start_time": "2023-10-21T10:15:15.627Z"
   },
   {
    "duration": 153,
    "start_time": "2023-10-21T10:15:15.965Z"
   },
   {
    "duration": 5,
    "start_time": "2023-10-21T10:15:16.119Z"
   },
   {
    "duration": 89,
    "start_time": "2023-10-21T10:15:16.126Z"
   },
   {
    "duration": 32,
    "start_time": "2023-10-21T10:15:16.217Z"
   },
   {
    "duration": 24,
    "start_time": "2023-10-21T10:15:16.251Z"
   },
   {
    "duration": 27,
    "start_time": "2023-10-21T10:15:16.277Z"
   },
   {
    "duration": 31,
    "start_time": "2023-10-21T10:15:16.306Z"
   },
   {
    "duration": 25,
    "start_time": "2023-10-21T10:15:16.340Z"
   },
   {
    "duration": 32,
    "start_time": "2023-10-21T10:15:16.367Z"
   },
   {
    "duration": 22,
    "start_time": "2023-10-21T10:15:16.401Z"
   },
   {
    "duration": 190,
    "start_time": "2023-10-21T10:15:16.425Z"
   },
   {
    "duration": 37,
    "start_time": "2023-10-21T10:15:16.618Z"
   },
   {
    "duration": 208,
    "start_time": "2023-10-21T10:15:16.658Z"
   },
   {
    "duration": 15,
    "start_time": "2023-10-21T10:15:16.868Z"
   },
   {
    "duration": 33,
    "start_time": "2023-10-21T10:15:16.885Z"
   },
   {
    "duration": 50,
    "start_time": "2023-10-21T10:15:16.920Z"
   },
   {
    "duration": 23,
    "start_time": "2023-10-21T10:15:16.973Z"
   },
   {
    "duration": 142,
    "start_time": "2023-10-21T10:15:16.998Z"
   },
   {
    "duration": 0,
    "start_time": "2023-10-21T10:15:17.142Z"
   },
   {
    "duration": 23,
    "start_time": "2023-10-21T10:15:37.288Z"
   },
   {
    "duration": 32,
    "start_time": "2023-10-21T10:18:16.033Z"
   },
   {
    "duration": 37,
    "start_time": "2023-10-21T10:18:48.775Z"
   },
   {
    "duration": 36,
    "start_time": "2023-10-21T10:19:27.443Z"
   },
   {
    "duration": 18,
    "start_time": "2023-10-21T10:19:30.563Z"
   },
   {
    "duration": 11,
    "start_time": "2023-10-21T10:19:58.030Z"
   },
   {
    "duration": 2316,
    "start_time": "2023-10-21T10:20:22.418Z"
   },
   {
    "duration": 1701,
    "start_time": "2023-10-21T10:20:36.386Z"
   },
   {
    "duration": 29,
    "start_time": "2023-10-21T10:21:33.924Z"
   },
   {
    "duration": 17,
    "start_time": "2023-10-21T10:21:34.433Z"
   },
   {
    "duration": 36,
    "start_time": "2023-10-21T10:23:58.048Z"
   },
   {
    "duration": 32,
    "start_time": "2023-10-21T10:24:00.111Z"
   },
   {
    "duration": 20,
    "start_time": "2023-10-21T10:24:00.961Z"
   },
   {
    "duration": 12,
    "start_time": "2023-10-21T10:24:01.769Z"
   },
   {
    "duration": 23,
    "start_time": "2023-10-21T10:24:35.498Z"
   },
   {
    "duration": 30,
    "start_time": "2023-10-21T10:24:35.784Z"
   },
   {
    "duration": 18,
    "start_time": "2023-10-21T10:24:36.109Z"
   },
   {
    "duration": 14,
    "start_time": "2023-10-21T10:24:36.480Z"
   },
   {
    "duration": 29,
    "start_time": "2023-10-21T10:24:55.618Z"
   },
   {
    "duration": 20,
    "start_time": "2023-10-21T10:24:55.871Z"
   },
   {
    "duration": 31,
    "start_time": "2023-10-21T10:26:04.216Z"
   },
   {
    "duration": 25,
    "start_time": "2023-10-21T10:31:19.449Z"
   },
   {
    "duration": 26,
    "start_time": "2023-10-21T10:31:45.424Z"
   },
   {
    "duration": 28,
    "start_time": "2023-10-21T10:32:26.366Z"
   },
   {
    "duration": 26,
    "start_time": "2023-10-21T10:32:57.953Z"
   },
   {
    "duration": 12,
    "start_time": "2023-10-21T10:32:59.504Z"
   },
   {
    "duration": 1362,
    "start_time": "2023-10-21T10:33:10.227Z"
   },
   {
    "duration": 35,
    "start_time": "2023-10-21T10:33:15.218Z"
   },
   {
    "duration": 16,
    "start_time": "2023-10-21T10:33:16.034Z"
   },
   {
    "duration": 1627,
    "start_time": "2023-10-21T10:35:59.489Z"
   },
   {
    "duration": 27,
    "start_time": "2023-10-21T10:36:11.891Z"
   },
   {
    "duration": 14,
    "start_time": "2023-10-21T10:36:14.822Z"
   },
   {
    "duration": 1420,
    "start_time": "2023-10-21T10:36:29.911Z"
   },
   {
    "duration": 26,
    "start_time": "2023-10-21T10:36:32.252Z"
   },
   {
    "duration": 1236,
    "start_time": "2023-10-21T10:36:35.747Z"
   },
   {
    "duration": 15,
    "start_time": "2023-10-21T10:36:52.677Z"
   },
   {
    "duration": 1274,
    "start_time": "2023-10-21T10:37:50.497Z"
   },
   {
    "duration": 48,
    "start_time": "2023-10-21T10:37:51.773Z"
   },
   {
    "duration": 44,
    "start_time": "2023-10-21T10:37:51.823Z"
   },
   {
    "duration": 29,
    "start_time": "2023-10-21T10:37:51.869Z"
   },
   {
    "duration": 16,
    "start_time": "2023-10-21T10:37:51.900Z"
   },
   {
    "duration": 29,
    "start_time": "2023-10-21T10:37:51.918Z"
   },
   {
    "duration": 17,
    "start_time": "2023-10-21T10:37:51.949Z"
   },
   {
    "duration": 50,
    "start_time": "2023-10-21T10:37:51.967Z"
   },
   {
    "duration": 17,
    "start_time": "2023-10-21T10:37:52.019Z"
   },
   {
    "duration": 34,
    "start_time": "2023-10-21T10:37:52.040Z"
   },
   {
    "duration": 16,
    "start_time": "2023-10-21T10:37:52.076Z"
   },
   {
    "duration": 285,
    "start_time": "2023-10-21T10:37:52.094Z"
   },
   {
    "duration": 168,
    "start_time": "2023-10-21T10:37:52.381Z"
   },
   {
    "duration": 9,
    "start_time": "2023-10-21T10:37:52.551Z"
   },
   {
    "duration": 221,
    "start_time": "2023-10-21T10:37:52.562Z"
   },
   {
    "duration": 120,
    "start_time": "2023-10-21T10:37:52.786Z"
   },
   {
    "duration": 10,
    "start_time": "2023-10-21T10:37:52.908Z"
   },
   {
    "duration": 229,
    "start_time": "2023-10-21T10:37:52.920Z"
   },
   {
    "duration": 307,
    "start_time": "2023-10-21T10:37:53.150Z"
   },
   {
    "duration": 107,
    "start_time": "2023-10-21T10:37:53.459Z"
   },
   {
    "duration": 5,
    "start_time": "2023-10-21T10:37:53.568Z"
   },
   {
    "duration": 25,
    "start_time": "2023-10-21T10:37:53.574Z"
   },
   {
    "duration": 37,
    "start_time": "2023-10-21T10:37:53.602Z"
   },
   {
    "duration": 263,
    "start_time": "2023-10-21T10:37:53.641Z"
   },
   {
    "duration": 141,
    "start_time": "2023-10-21T10:37:53.906Z"
   },
   {
    "duration": 4,
    "start_time": "2023-10-21T10:37:54.049Z"
   },
   {
    "duration": 22,
    "start_time": "2023-10-21T10:37:54.055Z"
   },
   {
    "duration": 18,
    "start_time": "2023-10-21T10:37:54.081Z"
   },
   {
    "duration": 327,
    "start_time": "2023-10-21T10:37:54.102Z"
   },
   {
    "duration": 148,
    "start_time": "2023-10-21T10:37:54.431Z"
   },
   {
    "duration": 6,
    "start_time": "2023-10-21T10:37:54.581Z"
   },
   {
    "duration": 36,
    "start_time": "2023-10-21T10:37:54.589Z"
   },
   {
    "duration": 34,
    "start_time": "2023-10-21T10:37:54.627Z"
   },
   {
    "duration": 20,
    "start_time": "2023-10-21T10:37:54.663Z"
   },
   {
    "duration": 17,
    "start_time": "2023-10-21T10:37:54.685Z"
   },
   {
    "duration": 16,
    "start_time": "2023-10-21T10:37:54.703Z"
   },
   {
    "duration": 11,
    "start_time": "2023-10-21T10:37:54.747Z"
   },
   {
    "duration": 12,
    "start_time": "2023-10-21T10:37:54.759Z"
   },
   {
    "duration": 6,
    "start_time": "2023-10-21T10:37:54.773Z"
   },
   {
    "duration": 200,
    "start_time": "2023-10-21T10:37:54.781Z"
   },
   {
    "duration": 15,
    "start_time": "2023-10-21T10:37:54.983Z"
   },
   {
    "duration": 218,
    "start_time": "2023-10-21T10:37:54.999Z"
   },
   {
    "duration": 29,
    "start_time": "2023-10-21T10:37:55.219Z"
   },
   {
    "duration": 44,
    "start_time": "2023-10-21T10:37:55.250Z"
   },
   {
    "duration": 5,
    "start_time": "2023-10-21T10:37:55.296Z"
   },
   {
    "duration": 60,
    "start_time": "2023-10-21T10:37:55.303Z"
   },
   {
    "duration": 42,
    "start_time": "2023-10-21T10:37:55.365Z"
   },
   {
    "duration": 40,
    "start_time": "2023-10-21T10:37:55.409Z"
   },
   {
    "duration": 17,
    "start_time": "2023-10-21T10:37:55.451Z"
   },
   {
    "duration": 13,
    "start_time": "2023-10-21T10:40:17.000Z"
   },
   {
    "duration": 1329,
    "start_time": "2023-10-21T11:05:19.848Z"
   },
   {
    "duration": 49,
    "start_time": "2023-10-21T11:05:21.179Z"
   },
   {
    "duration": 48,
    "start_time": "2023-10-21T11:05:21.230Z"
   },
   {
    "duration": 28,
    "start_time": "2023-10-21T11:05:21.281Z"
   },
   {
    "duration": 11,
    "start_time": "2023-10-21T11:05:21.311Z"
   },
   {
    "duration": 31,
    "start_time": "2023-10-21T11:05:21.324Z"
   },
   {
    "duration": 20,
    "start_time": "2023-10-21T11:05:21.356Z"
   },
   {
    "duration": 25,
    "start_time": "2023-10-21T11:05:21.378Z"
   },
   {
    "duration": 14,
    "start_time": "2023-10-21T11:05:21.405Z"
   },
   {
    "duration": 76,
    "start_time": "2023-10-21T11:05:21.422Z"
   },
   {
    "duration": 14,
    "start_time": "2023-10-21T11:05:21.500Z"
   },
   {
    "duration": 249,
    "start_time": "2023-10-21T11:05:21.516Z"
   },
   {
    "duration": 180,
    "start_time": "2023-10-21T11:05:21.767Z"
   },
   {
    "duration": 9,
    "start_time": "2023-10-21T11:05:21.948Z"
   },
   {
    "duration": 239,
    "start_time": "2023-10-21T11:05:21.959Z"
   },
   {
    "duration": 119,
    "start_time": "2023-10-21T11:05:22.200Z"
   },
   {
    "duration": 27,
    "start_time": "2023-10-21T11:05:22.321Z"
   },
   {
    "duration": 257,
    "start_time": "2023-10-21T11:05:22.350Z"
   },
   {
    "duration": 327,
    "start_time": "2023-10-21T11:05:22.610Z"
   },
   {
    "duration": 108,
    "start_time": "2023-10-21T11:05:22.939Z"
   },
   {
    "duration": 5,
    "start_time": "2023-10-21T11:05:23.048Z"
   },
   {
    "duration": 20,
    "start_time": "2023-10-21T11:05:23.055Z"
   },
   {
    "duration": 34,
    "start_time": "2023-10-21T11:05:23.077Z"
   },
   {
    "duration": 258,
    "start_time": "2023-10-21T11:05:23.113Z"
   },
   {
    "duration": 137,
    "start_time": "2023-10-21T11:05:23.373Z"
   },
   {
    "duration": 5,
    "start_time": "2023-10-21T11:05:23.512Z"
   },
   {
    "duration": 16,
    "start_time": "2023-10-21T11:05:23.519Z"
   },
   {
    "duration": 17,
    "start_time": "2023-10-21T11:05:23.549Z"
   },
   {
    "duration": 320,
    "start_time": "2023-10-21T11:05:23.567Z"
   },
   {
    "duration": 139,
    "start_time": "2023-10-21T11:05:23.889Z"
   },
   {
    "duration": 4,
    "start_time": "2023-10-21T11:05:24.030Z"
   },
   {
    "duration": 20,
    "start_time": "2023-10-21T11:05:24.035Z"
   },
   {
    "duration": 15,
    "start_time": "2023-10-21T11:05:24.056Z"
   },
   {
    "duration": 21,
    "start_time": "2023-10-21T11:05:24.075Z"
   },
   {
    "duration": 49,
    "start_time": "2023-10-21T11:05:24.098Z"
   },
   {
    "duration": 17,
    "start_time": "2023-10-21T11:05:24.149Z"
   },
   {
    "duration": 33,
    "start_time": "2023-10-21T11:05:24.167Z"
   },
   {
    "duration": 15,
    "start_time": "2023-10-21T11:05:24.202Z"
   },
   {
    "duration": 9,
    "start_time": "2023-10-21T11:05:24.219Z"
   },
   {
    "duration": 172,
    "start_time": "2023-10-21T11:05:24.230Z"
   },
   {
    "duration": 17,
    "start_time": "2023-10-21T11:05:24.404Z"
   },
   {
    "duration": 194,
    "start_time": "2023-10-21T11:05:24.422Z"
   },
   {
    "duration": 30,
    "start_time": "2023-10-21T11:05:24.617Z"
   },
   {
    "duration": 30,
    "start_time": "2023-10-21T11:05:24.648Z"
   },
   {
    "duration": 4,
    "start_time": "2023-10-21T11:05:24.680Z"
   },
   {
    "duration": 26,
    "start_time": "2023-10-21T11:05:24.685Z"
   },
   {
    "duration": 49,
    "start_time": "2023-10-21T11:05:24.713Z"
   },
   {
    "duration": 13,
    "start_time": "2023-10-21T11:05:24.763Z"
   },
   {
    "duration": 1601,
    "start_time": "2023-10-23T12:32:20.138Z"
   },
   {
    "duration": 139,
    "start_time": "2023-10-23T12:32:21.742Z"
   },
   {
    "duration": 543,
    "start_time": "2023-10-23T12:32:21.883Z"
   },
   {
    "duration": 88,
    "start_time": "2023-10-23T12:32:22.430Z"
   },
   {
    "duration": 10,
    "start_time": "2023-10-23T12:32:22.520Z"
   },
   {
    "duration": 48,
    "start_time": "2023-10-23T12:32:22.531Z"
   },
   {
    "duration": 24,
    "start_time": "2023-10-23T12:32:22.581Z"
   },
   {
    "duration": 26,
    "start_time": "2023-10-23T12:32:22.607Z"
   },
   {
    "duration": 15,
    "start_time": "2023-10-23T12:32:22.635Z"
   },
   {
    "duration": 40,
    "start_time": "2023-10-23T12:32:22.661Z"
   },
   {
    "duration": 13,
    "start_time": "2023-10-23T12:32:22.703Z"
   },
   {
    "duration": 280,
    "start_time": "2023-10-23T12:32:22.717Z"
   },
   {
    "duration": 178,
    "start_time": "2023-10-23T12:32:22.999Z"
   },
   {
    "duration": 10,
    "start_time": "2023-10-23T12:32:23.178Z"
   },
   {
    "duration": 220,
    "start_time": "2023-10-23T12:32:23.190Z"
   },
   {
    "duration": 129,
    "start_time": "2023-10-23T12:32:23.412Z"
   },
   {
    "duration": 38,
    "start_time": "2023-10-23T12:32:23.542Z"
   },
   {
    "duration": 237,
    "start_time": "2023-10-23T12:32:23.583Z"
   },
   {
    "duration": 408,
    "start_time": "2023-10-23T12:32:23.822Z"
   },
   {
    "duration": 150,
    "start_time": "2023-10-23T12:32:24.233Z"
   },
   {
    "duration": 5,
    "start_time": "2023-10-23T12:32:24.385Z"
   },
   {
    "duration": 35,
    "start_time": "2023-10-23T12:32:24.391Z"
   },
   {
    "duration": 41,
    "start_time": "2023-10-23T12:32:24.427Z"
   },
   {
    "duration": 400,
    "start_time": "2023-10-23T12:32:24.470Z"
   },
   {
    "duration": 148,
    "start_time": "2023-10-23T12:32:24.873Z"
   },
   {
    "duration": 6,
    "start_time": "2023-10-23T12:32:25.023Z"
   },
   {
    "duration": 45,
    "start_time": "2023-10-23T12:32:25.030Z"
   },
   {
    "duration": 30,
    "start_time": "2023-10-23T12:32:25.079Z"
   },
   {
    "duration": 405,
    "start_time": "2023-10-23T12:32:25.111Z"
   },
   {
    "duration": 152,
    "start_time": "2023-10-23T12:32:25.518Z"
   },
   {
    "duration": 16,
    "start_time": "2023-10-23T12:32:25.672Z"
   },
   {
    "duration": 15,
    "start_time": "2023-10-23T12:32:25.690Z"
   },
   {
    "duration": 13,
    "start_time": "2023-10-23T12:32:25.707Z"
   },
   {
    "duration": 29,
    "start_time": "2023-10-23T12:32:25.722Z"
   },
   {
    "duration": 35,
    "start_time": "2023-10-23T12:32:25.754Z"
   },
   {
    "duration": 18,
    "start_time": "2023-10-23T12:32:25.791Z"
   },
   {
    "duration": 83,
    "start_time": "2023-10-23T12:32:25.811Z"
   },
   {
    "duration": 22,
    "start_time": "2023-10-23T12:32:25.895Z"
   },
   {
    "duration": 50,
    "start_time": "2023-10-23T12:32:25.918Z"
   },
   {
    "duration": 197,
    "start_time": "2023-10-23T12:32:25.970Z"
   },
   {
    "duration": 23,
    "start_time": "2023-10-23T12:32:26.169Z"
   },
   {
    "duration": 238,
    "start_time": "2023-10-23T12:32:26.194Z"
   },
   {
    "duration": 51,
    "start_time": "2023-10-23T12:32:26.434Z"
   },
   {
    "duration": 34,
    "start_time": "2023-10-23T12:32:26.490Z"
   },
   {
    "duration": 4,
    "start_time": "2023-10-23T12:32:26.526Z"
   },
   {
    "duration": 73,
    "start_time": "2023-10-23T12:32:26.532Z"
   },
   {
    "duration": 48,
    "start_time": "2023-10-23T12:32:26.606Z"
   },
   {
    "duration": 25,
    "start_time": "2023-10-23T12:32:26.656Z"
   },
   {
    "duration": 137,
    "start_time": "2023-10-23T12:33:46.729Z"
   },
   {
    "duration": 127,
    "start_time": "2023-10-23T12:35:16.196Z"
   },
   {
    "duration": 12,
    "start_time": "2023-10-23T12:35:51.342Z"
   },
   {
    "duration": 6,
    "start_time": "2023-10-23T13:01:32.786Z"
   },
   {
    "duration": 7,
    "start_time": "2023-10-23T13:02:09.069Z"
   },
   {
    "duration": 7,
    "start_time": "2023-10-23T13:29:22.858Z"
   },
   {
    "duration": 117,
    "start_time": "2023-10-23T13:29:37.138Z"
   },
   {
    "duration": 7,
    "start_time": "2023-10-23T13:29:48.763Z"
   },
   {
    "duration": 6,
    "start_time": "2023-10-23T13:30:15.331Z"
   },
   {
    "duration": 5,
    "start_time": "2023-10-23T13:30:56.325Z"
   },
   {
    "duration": 6,
    "start_time": "2023-10-23T13:31:14.274Z"
   },
   {
    "duration": 9,
    "start_time": "2023-10-23T13:31:23.054Z"
   },
   {
    "duration": 6,
    "start_time": "2023-10-23T13:31:30.187Z"
   },
   {
    "duration": 7,
    "start_time": "2023-10-23T13:31:33.882Z"
   },
   {
    "duration": 10,
    "start_time": "2023-10-23T13:31:39.077Z"
   },
   {
    "duration": 5,
    "start_time": "2023-10-23T13:31:45.109Z"
   },
   {
    "duration": 6,
    "start_time": "2023-10-23T13:32:36.009Z"
   },
   {
    "duration": 1197,
    "start_time": "2023-10-23T13:33:10.393Z"
   },
   {
    "duration": 91,
    "start_time": "2023-10-23T13:33:11.592Z"
   },
   {
    "duration": 114,
    "start_time": "2023-10-23T13:33:11.685Z"
   },
   {
    "duration": 27,
    "start_time": "2023-10-23T13:33:11.801Z"
   },
   {
    "duration": 36,
    "start_time": "2023-10-23T13:33:11.831Z"
   },
   {
    "duration": 41,
    "start_time": "2023-10-23T13:33:11.869Z"
   },
   {
    "duration": 20,
    "start_time": "2023-10-23T13:33:11.912Z"
   },
   {
    "duration": 24,
    "start_time": "2023-10-23T13:33:11.934Z"
   },
   {
    "duration": 9,
    "start_time": "2023-10-23T13:33:11.961Z"
   },
   {
    "duration": 20,
    "start_time": "2023-10-23T13:33:11.973Z"
   },
   {
    "duration": 12,
    "start_time": "2023-10-23T13:33:11.995Z"
   },
   {
    "duration": 277,
    "start_time": "2023-10-23T13:33:12.008Z"
   },
   {
    "duration": 173,
    "start_time": "2023-10-23T13:33:12.287Z"
   },
   {
    "duration": 16,
    "start_time": "2023-10-23T13:33:12.462Z"
   },
   {
    "duration": 193,
    "start_time": "2023-10-23T13:33:12.481Z"
   },
   {
    "duration": 130,
    "start_time": "2023-10-23T13:33:12.677Z"
   },
   {
    "duration": 11,
    "start_time": "2023-10-23T13:33:12.809Z"
   },
   {
    "duration": 244,
    "start_time": "2023-10-23T13:33:12.822Z"
   },
   {
    "duration": 305,
    "start_time": "2023-10-23T13:33:13.069Z"
   },
   {
    "duration": 110,
    "start_time": "2023-10-23T13:33:13.376Z"
   },
   {
    "duration": 5,
    "start_time": "2023-10-23T13:33:13.488Z"
   },
   {
    "duration": 24,
    "start_time": "2023-10-23T13:33:13.494Z"
   },
   {
    "duration": 16,
    "start_time": "2023-10-23T13:33:13.519Z"
   },
   {
    "duration": 269,
    "start_time": "2023-10-23T13:33:13.543Z"
   },
   {
    "duration": 153,
    "start_time": "2023-10-23T13:33:13.814Z"
   },
   {
    "duration": 5,
    "start_time": "2023-10-23T13:33:13.969Z"
   },
   {
    "duration": 11,
    "start_time": "2023-10-23T13:33:13.975Z"
   },
   {
    "duration": 15,
    "start_time": "2023-10-23T13:33:13.989Z"
   },
   {
    "duration": 401,
    "start_time": "2023-10-23T13:33:14.005Z"
   },
   {
    "duration": 191,
    "start_time": "2023-10-23T13:33:14.408Z"
   },
   {
    "duration": 4,
    "start_time": "2023-10-23T13:33:14.600Z"
   },
   {
    "duration": 28,
    "start_time": "2023-10-23T13:33:14.606Z"
   },
   {
    "duration": 35,
    "start_time": "2023-10-23T13:33:14.636Z"
   },
   {
    "duration": 29,
    "start_time": "2023-10-23T13:33:14.673Z"
   },
   {
    "duration": 17,
    "start_time": "2023-10-23T13:33:14.704Z"
   },
   {
    "duration": 33,
    "start_time": "2023-10-23T13:33:14.723Z"
   },
   {
    "duration": 30,
    "start_time": "2023-10-23T13:33:14.759Z"
   },
   {
    "duration": 18,
    "start_time": "2023-10-23T13:33:14.791Z"
   },
   {
    "duration": 37,
    "start_time": "2023-10-23T13:33:14.811Z"
   },
   {
    "duration": 183,
    "start_time": "2023-10-23T13:33:14.851Z"
   },
   {
    "duration": 26,
    "start_time": "2023-10-23T13:33:15.037Z"
   },
   {
    "duration": 202,
    "start_time": "2023-10-23T13:33:15.066Z"
   },
   {
    "duration": 13,
    "start_time": "2023-10-23T13:33:15.270Z"
   },
   {
    "duration": 29,
    "start_time": "2023-10-23T13:33:15.285Z"
   },
   {
    "duration": 4,
    "start_time": "2023-10-23T13:33:15.315Z"
   },
   {
    "duration": 57,
    "start_time": "2023-10-23T13:33:15.320Z"
   },
   {
    "duration": 47,
    "start_time": "2023-10-23T13:33:15.378Z"
   },
   {
    "duration": 20,
    "start_time": "2023-10-23T13:33:15.427Z"
   },
   {
    "duration": 12,
    "start_time": "2023-10-23T13:33:15.450Z"
   },
   {
    "duration": 18,
    "start_time": "2023-10-23T13:33:15.465Z"
   },
   {
    "duration": 5,
    "start_time": "2023-10-23T13:36:32.924Z"
   },
   {
    "duration": 7,
    "start_time": "2023-10-23T13:37:43.472Z"
   },
   {
    "duration": 13,
    "start_time": "2023-10-23T13:37:47.545Z"
   },
   {
    "duration": 12,
    "start_time": "2023-10-23T13:37:52.989Z"
   },
   {
    "duration": 6,
    "start_time": "2023-10-23T13:37:57.489Z"
   },
   {
    "duration": 10,
    "start_time": "2023-10-23T13:38:01.974Z"
   },
   {
    "duration": 14,
    "start_time": "2023-10-23T13:38:07.042Z"
   },
   {
    "duration": 8,
    "start_time": "2023-10-23T13:39:30.170Z"
   },
   {
    "duration": 6,
    "start_time": "2023-10-23T13:39:37.618Z"
   },
   {
    "duration": 5,
    "start_time": "2023-10-23T13:39:50.480Z"
   },
   {
    "duration": 5,
    "start_time": "2023-10-23T13:40:02.814Z"
   },
   {
    "duration": 7,
    "start_time": "2023-10-23T13:40:07.568Z"
   },
   {
    "duration": 5,
    "start_time": "2023-10-23T13:40:14.988Z"
   },
   {
    "duration": 6,
    "start_time": "2023-10-23T13:40:24.796Z"
   },
   {
    "duration": 7,
    "start_time": "2023-10-23T13:40:28.479Z"
   },
   {
    "duration": 6,
    "start_time": "2023-10-23T13:40:37.805Z"
   },
   {
    "duration": 7,
    "start_time": "2023-10-23T13:40:50.378Z"
   },
   {
    "duration": 7,
    "start_time": "2023-10-23T13:41:01.514Z"
   },
   {
    "duration": 5,
    "start_time": "2023-10-23T13:41:05.476Z"
   },
   {
    "duration": 13,
    "start_time": "2023-10-23T13:41:30.142Z"
   },
   {
    "duration": 10,
    "start_time": "2023-10-23T13:41:34.371Z"
   },
   {
    "duration": 5,
    "start_time": "2023-10-23T13:41:38.917Z"
   },
   {
    "duration": 36,
    "start_time": "2023-10-23T13:54:09.984Z"
   },
   {
    "duration": 39,
    "start_time": "2023-10-23T13:54:17.930Z"
   },
   {
    "duration": 43,
    "start_time": "2023-10-23T13:55:30.408Z"
   },
   {
    "duration": 42,
    "start_time": "2023-10-23T13:56:10.087Z"
   },
   {
    "duration": 14,
    "start_time": "2023-10-23T13:56:18.988Z"
   },
   {
    "duration": 113,
    "start_time": "2023-10-23T13:56:50.065Z"
   },
   {
    "duration": 15,
    "start_time": "2023-10-23T13:57:32.617Z"
   },
   {
    "duration": 30,
    "start_time": "2023-10-23T13:57:39.896Z"
   },
   {
    "duration": 38,
    "start_time": "2023-10-23T13:57:43.769Z"
   },
   {
    "duration": 2031,
    "start_time": "2023-10-23T14:10:14.871Z"
   },
   {
    "duration": 1917,
    "start_time": "2023-10-23T14:10:41.910Z"
   },
   {
    "duration": 1865,
    "start_time": "2023-10-23T14:11:30.522Z"
   },
   {
    "duration": 14,
    "start_time": "2023-10-23T14:11:45.989Z"
   },
   {
    "duration": 4,
    "start_time": "2023-10-23T14:12:20.165Z"
   },
   {
    "duration": 20,
    "start_time": "2023-10-23T14:12:28.241Z"
   },
   {
    "duration": 9,
    "start_time": "2023-10-23T14:12:39.296Z"
   },
   {
    "duration": 9,
    "start_time": "2023-10-23T14:14:18.479Z"
   },
   {
    "duration": 10,
    "start_time": "2023-10-23T14:14:27.533Z"
   },
   {
    "duration": 9,
    "start_time": "2023-10-23T14:15:07.422Z"
   },
   {
    "duration": 9,
    "start_time": "2023-10-23T14:16:23.839Z"
   },
   {
    "duration": 24,
    "start_time": "2023-10-23T14:16:41.766Z"
   },
   {
    "duration": 18,
    "start_time": "2023-10-23T14:16:45.944Z"
   },
   {
    "duration": 16,
    "start_time": "2023-10-23T14:27:50.834Z"
   },
   {
    "duration": 5,
    "start_time": "2023-10-23T14:28:07.429Z"
   },
   {
    "duration": 10,
    "start_time": "2023-10-23T14:28:23.370Z"
   },
   {
    "duration": 7,
    "start_time": "2023-10-23T14:30:52.775Z"
   },
   {
    "duration": 1316,
    "start_time": "2023-10-23T14:44:18.029Z"
   },
   {
    "duration": 62,
    "start_time": "2023-10-23T14:44:19.348Z"
   },
   {
    "duration": 52,
    "start_time": "2023-10-23T14:44:19.412Z"
   },
   {
    "duration": 31,
    "start_time": "2023-10-23T14:44:19.466Z"
   },
   {
    "duration": 10,
    "start_time": "2023-10-23T14:44:19.499Z"
   },
   {
    "duration": 26,
    "start_time": "2023-10-23T14:44:19.511Z"
   },
   {
    "duration": 30,
    "start_time": "2023-10-23T14:44:19.539Z"
   },
   {
    "duration": 15,
    "start_time": "2023-10-23T14:44:19.571Z"
   },
   {
    "duration": 8,
    "start_time": "2023-10-23T14:44:19.588Z"
   },
   {
    "duration": 22,
    "start_time": "2023-10-23T14:44:19.603Z"
   },
   {
    "duration": 41,
    "start_time": "2023-10-23T14:44:19.627Z"
   },
   {
    "duration": 255,
    "start_time": "2023-10-23T14:44:19.670Z"
   },
   {
    "duration": 176,
    "start_time": "2023-10-23T14:44:19.926Z"
   },
   {
    "duration": 8,
    "start_time": "2023-10-23T14:44:20.103Z"
   },
   {
    "duration": 240,
    "start_time": "2023-10-23T14:44:20.112Z"
   },
   {
    "duration": 126,
    "start_time": "2023-10-23T14:44:20.360Z"
   },
   {
    "duration": 11,
    "start_time": "2023-10-23T14:44:20.487Z"
   },
   {
    "duration": 228,
    "start_time": "2023-10-23T14:44:20.500Z"
   },
   {
    "duration": 342,
    "start_time": "2023-10-23T14:44:20.730Z"
   },
   {
    "duration": 116,
    "start_time": "2023-10-23T14:44:21.075Z"
   },
   {
    "duration": 6,
    "start_time": "2023-10-23T14:44:21.193Z"
   },
   {
    "duration": 9,
    "start_time": "2023-10-23T14:44:21.201Z"
   },
   {
    "duration": 55,
    "start_time": "2023-10-23T14:44:21.212Z"
   },
   {
    "duration": 272,
    "start_time": "2023-10-23T14:44:21.268Z"
   },
   {
    "duration": 192,
    "start_time": "2023-10-23T14:44:21.545Z"
   },
   {
    "duration": 16,
    "start_time": "2023-10-23T14:44:21.739Z"
   },
   {
    "duration": 20,
    "start_time": "2023-10-23T14:44:21.761Z"
   },
   {
    "duration": 24,
    "start_time": "2023-10-23T14:44:21.787Z"
   },
   {
    "duration": 326,
    "start_time": "2023-10-23T14:44:21.812Z"
   },
   {
    "duration": 152,
    "start_time": "2023-10-23T14:44:22.140Z"
   },
   {
    "duration": 5,
    "start_time": "2023-10-23T14:44:22.294Z"
   },
   {
    "duration": 14,
    "start_time": "2023-10-23T14:44:22.300Z"
   },
   {
    "duration": 51,
    "start_time": "2023-10-23T14:44:22.315Z"
   },
   {
    "duration": 30,
    "start_time": "2023-10-23T14:44:22.375Z"
   },
   {
    "duration": 19,
    "start_time": "2023-10-23T14:44:22.407Z"
   },
   {
    "duration": 31,
    "start_time": "2023-10-23T14:44:22.427Z"
   },
   {
    "duration": 20,
    "start_time": "2023-10-23T14:44:22.460Z"
   },
   {
    "duration": 8,
    "start_time": "2023-10-23T14:44:22.483Z"
   },
   {
    "duration": 7,
    "start_time": "2023-10-23T14:44:22.493Z"
   },
   {
    "duration": 194,
    "start_time": "2023-10-23T14:44:22.502Z"
   },
   {
    "duration": 21,
    "start_time": "2023-10-23T14:44:22.698Z"
   },
   {
    "duration": 240,
    "start_time": "2023-10-23T14:44:22.721Z"
   },
   {
    "duration": 18,
    "start_time": "2023-10-23T14:44:22.970Z"
   },
   {
    "duration": 31,
    "start_time": "2023-10-23T14:44:22.990Z"
   },
   {
    "duration": 31,
    "start_time": "2023-10-23T14:44:23.023Z"
   },
   {
    "duration": 30,
    "start_time": "2023-10-23T14:44:23.059Z"
   },
   {
    "duration": 29,
    "start_time": "2023-10-23T14:44:23.091Z"
   },
   {
    "duration": 12,
    "start_time": "2023-10-23T14:44:23.122Z"
   },
   {
    "duration": 17,
    "start_time": "2023-10-23T14:44:23.145Z"
   },
   {
    "duration": 22,
    "start_time": "2023-10-23T14:44:23.164Z"
   },
   {
    "duration": 10,
    "start_time": "2023-10-23T14:44:23.188Z"
   },
   {
    "duration": 5,
    "start_time": "2023-10-23T14:44:23.200Z"
   },
   {
    "duration": 1285,
    "start_time": "2023-10-23T15:20:35.512Z"
   },
   {
    "duration": 45,
    "start_time": "2023-10-23T15:20:36.799Z"
   },
   {
    "duration": 42,
    "start_time": "2023-10-23T15:20:36.855Z"
   },
   {
    "duration": 28,
    "start_time": "2023-10-23T15:20:36.899Z"
   },
   {
    "duration": 9,
    "start_time": "2023-10-23T15:20:36.928Z"
   },
   {
    "duration": 34,
    "start_time": "2023-10-23T15:20:36.939Z"
   },
   {
    "duration": 14,
    "start_time": "2023-10-23T15:20:36.975Z"
   },
   {
    "duration": 22,
    "start_time": "2023-10-23T15:20:36.990Z"
   },
   {
    "duration": 6,
    "start_time": "2023-10-23T15:20:37.014Z"
   },
   {
    "duration": 37,
    "start_time": "2023-10-23T15:20:37.023Z"
   },
   {
    "duration": 14,
    "start_time": "2023-10-23T15:20:37.062Z"
   },
   {
    "duration": 254,
    "start_time": "2023-10-23T15:20:37.077Z"
   },
   {
    "duration": 154,
    "start_time": "2023-10-23T15:20:37.333Z"
   },
   {
    "duration": 8,
    "start_time": "2023-10-23T15:20:37.489Z"
   },
   {
    "duration": 227,
    "start_time": "2023-10-23T15:20:37.498Z"
   },
   {
    "duration": 113,
    "start_time": "2023-10-23T15:20:37.726Z"
   },
   {
    "duration": 14,
    "start_time": "2023-10-23T15:20:37.841Z"
   },
   {
    "duration": 238,
    "start_time": "2023-10-23T15:20:37.858Z"
   },
   {
    "duration": 309,
    "start_time": "2023-10-23T15:20:38.097Z"
   },
   {
    "duration": 100,
    "start_time": "2023-10-23T15:20:38.408Z"
   },
   {
    "duration": 4,
    "start_time": "2023-10-23T15:20:38.510Z"
   },
   {
    "duration": 24,
    "start_time": "2023-10-23T15:20:38.516Z"
   },
   {
    "duration": 34,
    "start_time": "2023-10-23T15:20:38.541Z"
   },
   {
    "duration": 244,
    "start_time": "2023-10-23T15:20:38.577Z"
   },
   {
    "duration": 148,
    "start_time": "2023-10-23T15:20:38.824Z"
   },
   {
    "duration": 5,
    "start_time": "2023-10-23T15:20:38.974Z"
   },
   {
    "duration": 14,
    "start_time": "2023-10-23T15:20:38.980Z"
   },
   {
    "duration": 16,
    "start_time": "2023-10-23T15:20:38.998Z"
   },
   {
    "duration": 349,
    "start_time": "2023-10-23T15:20:39.016Z"
   },
   {
    "duration": 148,
    "start_time": "2023-10-23T15:20:39.367Z"
   },
   {
    "duration": 6,
    "start_time": "2023-10-23T15:20:39.517Z"
   },
   {
    "duration": 29,
    "start_time": "2023-10-23T15:20:39.525Z"
   },
   {
    "duration": 16,
    "start_time": "2023-10-23T15:20:39.557Z"
   },
   {
    "duration": 20,
    "start_time": "2023-10-23T15:20:39.575Z"
   },
   {
    "duration": 18,
    "start_time": "2023-10-23T15:20:39.597Z"
   },
   {
    "duration": 45,
    "start_time": "2023-10-23T15:20:39.616Z"
   },
   {
    "duration": 11,
    "start_time": "2023-10-23T15:20:39.663Z"
   },
   {
    "duration": 8,
    "start_time": "2023-10-23T15:20:39.676Z"
   },
   {
    "duration": 5,
    "start_time": "2023-10-23T15:20:39.686Z"
   },
   {
    "duration": 198,
    "start_time": "2023-10-23T15:20:39.693Z"
   },
   {
    "duration": 16,
    "start_time": "2023-10-23T15:20:39.892Z"
   },
   {
    "duration": 207,
    "start_time": "2023-10-23T15:20:39.910Z"
   },
   {
    "duration": 29,
    "start_time": "2023-10-23T15:20:40.119Z"
   },
   {
    "duration": 33,
    "start_time": "2023-10-23T15:20:40.154Z"
   },
   {
    "duration": 4,
    "start_time": "2023-10-23T15:20:40.189Z"
   },
   {
    "duration": 29,
    "start_time": "2023-10-23T15:20:40.195Z"
   },
   {
    "duration": 44,
    "start_time": "2023-10-23T15:20:40.226Z"
   },
   {
    "duration": 12,
    "start_time": "2023-10-23T15:20:40.272Z"
   },
   {
    "duration": 18,
    "start_time": "2023-10-23T15:20:40.285Z"
   },
   {
    "duration": 10,
    "start_time": "2023-10-23T15:20:40.304Z"
   },
   {
    "duration": 9,
    "start_time": "2023-10-23T15:20:40.316Z"
   },
   {
    "duration": 40,
    "start_time": "2023-10-23T15:20:40.326Z"
   },
   {
    "duration": 1153,
    "start_time": "2023-10-23T15:41:28.753Z"
   },
   {
    "duration": 91,
    "start_time": "2023-10-23T15:41:29.908Z"
   },
   {
    "duration": 87,
    "start_time": "2023-10-23T15:41:30.001Z"
   },
   {
    "duration": 70,
    "start_time": "2023-10-23T15:41:30.090Z"
   },
   {
    "duration": 13,
    "start_time": "2023-10-23T15:41:30.162Z"
   },
   {
    "duration": 48,
    "start_time": "2023-10-23T15:41:30.177Z"
   },
   {
    "duration": 56,
    "start_time": "2023-10-23T15:41:30.226Z"
   },
   {
    "duration": 80,
    "start_time": "2023-10-23T15:41:30.284Z"
   },
   {
    "duration": 60,
    "start_time": "2023-10-23T15:41:30.366Z"
   },
   {
    "duration": 80,
    "start_time": "2023-10-23T15:41:30.428Z"
   },
   {
    "duration": 33,
    "start_time": "2023-10-23T15:41:30.509Z"
   },
   {
    "duration": 264,
    "start_time": "2023-10-23T15:41:30.545Z"
   },
   {
    "duration": 147,
    "start_time": "2023-10-23T15:41:30.811Z"
   },
   {
    "duration": 8,
    "start_time": "2023-10-23T15:41:30.961Z"
   },
   {
    "duration": 236,
    "start_time": "2023-10-23T15:41:30.971Z"
   },
   {
    "duration": 116,
    "start_time": "2023-10-23T15:41:31.209Z"
   },
   {
    "duration": 16,
    "start_time": "2023-10-23T15:41:31.327Z"
   },
   {
    "duration": 237,
    "start_time": "2023-10-23T15:41:31.345Z"
   },
   {
    "duration": 275,
    "start_time": "2023-10-23T15:41:31.584Z"
   },
   {
    "duration": 104,
    "start_time": "2023-10-23T15:41:31.862Z"
   },
   {
    "duration": 5,
    "start_time": "2023-10-23T15:41:31.967Z"
   },
   {
    "duration": 56,
    "start_time": "2023-10-23T15:41:31.974Z"
   },
   {
    "duration": 126,
    "start_time": "2023-10-23T15:41:32.032Z"
   },
   {
    "duration": 283,
    "start_time": "2023-10-23T15:41:32.160Z"
   },
   {
    "duration": 148,
    "start_time": "2023-10-23T15:41:32.444Z"
   },
   {
    "duration": 5,
    "start_time": "2023-10-23T15:41:32.594Z"
   },
   {
    "duration": 46,
    "start_time": "2023-10-23T15:41:32.600Z"
   },
   {
    "duration": 60,
    "start_time": "2023-10-23T15:41:32.648Z"
   },
   {
    "duration": 314,
    "start_time": "2023-10-23T15:41:32.710Z"
   },
   {
    "duration": 130,
    "start_time": "2023-10-23T15:41:33.027Z"
   },
   {
    "duration": 4,
    "start_time": "2023-10-23T15:41:33.159Z"
   },
   {
    "duration": 35,
    "start_time": "2023-10-23T15:41:33.165Z"
   },
   {
    "duration": 23,
    "start_time": "2023-10-23T15:41:33.201Z"
   },
   {
    "duration": 37,
    "start_time": "2023-10-23T15:41:33.227Z"
   },
   {
    "duration": 22,
    "start_time": "2023-10-23T15:41:33.266Z"
   },
   {
    "duration": 23,
    "start_time": "2023-10-23T15:41:33.290Z"
   },
   {
    "duration": 28,
    "start_time": "2023-10-23T15:41:33.316Z"
   },
   {
    "duration": 17,
    "start_time": "2023-10-23T15:41:33.345Z"
   },
   {
    "duration": 10,
    "start_time": "2023-10-23T15:41:33.364Z"
   },
   {
    "duration": 160,
    "start_time": "2023-10-23T15:41:33.376Z"
   },
   {
    "duration": 17,
    "start_time": "2023-10-23T15:41:33.543Z"
   },
   {
    "duration": 213,
    "start_time": "2023-10-23T15:41:33.562Z"
   },
   {
    "duration": 19,
    "start_time": "2023-10-23T15:41:33.777Z"
   },
   {
    "duration": 52,
    "start_time": "2023-10-23T15:41:33.798Z"
   },
   {
    "duration": 4,
    "start_time": "2023-10-23T15:41:33.852Z"
   },
   {
    "duration": 25,
    "start_time": "2023-10-23T15:41:33.858Z"
   },
   {
    "duration": 25,
    "start_time": "2023-10-23T15:41:33.885Z"
   },
   {
    "duration": 38,
    "start_time": "2023-10-23T15:41:33.912Z"
   },
   {
    "duration": 25,
    "start_time": "2023-10-23T15:41:33.952Z"
   },
   {
    "duration": 25,
    "start_time": "2023-10-23T15:41:33.979Z"
   },
   {
    "duration": 39,
    "start_time": "2023-10-23T15:41:34.006Z"
   },
   {
    "duration": 18,
    "start_time": "2023-10-23T15:41:34.047Z"
   },
   {
    "duration": 1645,
    "start_time": "2023-10-23T16:15:30.584Z"
   },
   {
    "duration": 47,
    "start_time": "2023-10-23T16:15:32.231Z"
   },
   {
    "duration": 92,
    "start_time": "2023-10-23T16:15:32.279Z"
   },
   {
    "duration": 28,
    "start_time": "2023-10-23T16:15:32.373Z"
   },
   {
    "duration": 9,
    "start_time": "2023-10-23T16:15:32.404Z"
   },
   {
    "duration": 29,
    "start_time": "2023-10-23T16:15:32.415Z"
   },
   {
    "duration": 114,
    "start_time": "2023-10-23T16:15:32.446Z"
   },
   {
    "duration": 41,
    "start_time": "2023-10-23T16:15:32.562Z"
   },
   {
    "duration": 31,
    "start_time": "2023-10-23T16:15:32.604Z"
   },
   {
    "duration": 27,
    "start_time": "2023-10-23T16:15:32.637Z"
   },
   {
    "duration": 24,
    "start_time": "2023-10-23T16:15:32.666Z"
   },
   {
    "duration": 256,
    "start_time": "2023-10-23T16:15:32.692Z"
   },
   {
    "duration": 177,
    "start_time": "2023-10-23T16:15:32.949Z"
   },
   {
    "duration": 9,
    "start_time": "2023-10-23T16:15:33.129Z"
   },
   {
    "duration": 210,
    "start_time": "2023-10-23T16:15:33.147Z"
   },
   {
    "duration": 109,
    "start_time": "2023-10-23T16:15:33.359Z"
   },
   {
    "duration": 11,
    "start_time": "2023-10-23T16:15:33.469Z"
   },
   {
    "duration": 217,
    "start_time": "2023-10-23T16:15:33.481Z"
   },
   {
    "duration": 339,
    "start_time": "2023-10-23T16:15:33.700Z"
   },
   {
    "duration": 91,
    "start_time": "2023-10-23T16:15:34.041Z"
   },
   {
    "duration": 4,
    "start_time": "2023-10-23T16:15:34.134Z"
   },
   {
    "duration": 18,
    "start_time": "2023-10-23T16:15:34.143Z"
   },
   {
    "duration": 30,
    "start_time": "2023-10-23T16:15:34.163Z"
   },
   {
    "duration": 225,
    "start_time": "2023-10-23T16:15:34.195Z"
   },
   {
    "duration": 158,
    "start_time": "2023-10-23T16:15:34.422Z"
   },
   {
    "duration": 3,
    "start_time": "2023-10-23T16:15:34.583Z"
   },
   {
    "duration": 30,
    "start_time": "2023-10-23T16:15:34.588Z"
   },
   {
    "duration": 27,
    "start_time": "2023-10-23T16:15:34.620Z"
   },
   {
    "duration": 300,
    "start_time": "2023-10-23T16:15:34.650Z"
   },
   {
    "duration": 125,
    "start_time": "2023-10-23T16:15:34.952Z"
   },
   {
    "duration": 3,
    "start_time": "2023-10-23T16:15:35.079Z"
   },
   {
    "duration": 15,
    "start_time": "2023-10-23T16:15:35.084Z"
   },
   {
    "duration": 31,
    "start_time": "2023-10-23T16:15:35.100Z"
   },
   {
    "duration": 36,
    "start_time": "2023-10-23T16:15:35.133Z"
   },
   {
    "duration": 28,
    "start_time": "2023-10-23T16:15:35.171Z"
   },
   {
    "duration": 28,
    "start_time": "2023-10-23T16:15:35.201Z"
   },
   {
    "duration": 22,
    "start_time": "2023-10-23T16:15:35.231Z"
   },
   {
    "duration": 17,
    "start_time": "2023-10-23T16:15:35.255Z"
   },
   {
    "duration": 28,
    "start_time": "2023-10-23T16:15:35.273Z"
   },
   {
    "duration": 153,
    "start_time": "2023-10-23T16:15:35.302Z"
   },
   {
    "duration": 14,
    "start_time": "2023-10-23T16:15:35.458Z"
   },
   {
    "duration": 181,
    "start_time": "2023-10-23T16:15:35.473Z"
   },
   {
    "duration": 14,
    "start_time": "2023-10-23T16:15:35.655Z"
   },
   {
    "duration": 164,
    "start_time": "2023-10-23T16:15:35.671Z"
   },
   {
    "duration": 17,
    "start_time": "2023-10-23T16:15:35.837Z"
   },
   {
    "duration": 51,
    "start_time": "2023-10-23T16:15:35.856Z"
   },
   {
    "duration": 243,
    "start_time": "2023-10-23T16:15:35.908Z"
   },
   {
    "duration": 11,
    "start_time": "2023-10-23T16:15:36.152Z"
   },
   {
    "duration": 5,
    "start_time": "2023-10-23T16:15:36.165Z"
   },
   {
    "duration": 21,
    "start_time": "2023-10-23T16:15:36.172Z"
   },
   {
    "duration": 24,
    "start_time": "2023-10-23T16:15:36.194Z"
   },
   {
    "duration": 44,
    "start_time": "2023-10-23T16:15:36.220Z"
   },
   {
    "duration": 126,
    "start_time": "2023-10-23T16:17:36.342Z"
   },
   {
    "duration": 55,
    "start_time": "2023-10-24T09:01:07.719Z"
   },
   {
    "duration": 1544,
    "start_time": "2023-10-24T09:01:20.312Z"
   },
   {
    "duration": 111,
    "start_time": "2023-10-24T09:01:21.859Z"
   },
   {
    "duration": 170,
    "start_time": "2023-10-24T09:01:21.971Z"
   },
   {
    "duration": 72,
    "start_time": "2023-10-24T09:01:22.143Z"
   },
   {
    "duration": 11,
    "start_time": "2023-10-24T09:01:22.218Z"
   },
   {
    "duration": 57,
    "start_time": "2023-10-24T09:01:22.231Z"
   },
   {
    "duration": 17,
    "start_time": "2023-10-24T09:01:22.290Z"
   },
   {
    "duration": 15,
    "start_time": "2023-10-24T09:01:22.309Z"
   },
   {
    "duration": 8,
    "start_time": "2023-10-24T09:01:22.326Z"
   },
   {
    "duration": 27,
    "start_time": "2023-10-24T09:01:22.336Z"
   },
   {
    "duration": 14,
    "start_time": "2023-10-24T09:01:22.365Z"
   },
   {
    "duration": 264,
    "start_time": "2023-10-24T09:01:22.381Z"
   },
   {
    "duration": 1775,
    "start_time": "2023-10-24T09:01:22.648Z"
   },
   {
    "duration": 0,
    "start_time": "2023-10-24T09:01:24.426Z"
   },
   {
    "duration": 0,
    "start_time": "2023-10-24T09:01:24.427Z"
   },
   {
    "duration": 0,
    "start_time": "2023-10-24T09:01:24.428Z"
   },
   {
    "duration": 0,
    "start_time": "2023-10-24T09:01:24.429Z"
   },
   {
    "duration": 0,
    "start_time": "2023-10-24T09:01:24.431Z"
   },
   {
    "duration": 0,
    "start_time": "2023-10-24T09:01:24.432Z"
   },
   {
    "duration": 0,
    "start_time": "2023-10-24T09:01:24.433Z"
   },
   {
    "duration": 0,
    "start_time": "2023-10-24T09:01:24.434Z"
   },
   {
    "duration": 0,
    "start_time": "2023-10-24T09:01:24.435Z"
   },
   {
    "duration": 0,
    "start_time": "2023-10-24T09:01:24.436Z"
   },
   {
    "duration": 0,
    "start_time": "2023-10-24T09:01:24.437Z"
   },
   {
    "duration": 0,
    "start_time": "2023-10-24T09:01:24.438Z"
   },
   {
    "duration": 0,
    "start_time": "2023-10-24T09:01:24.439Z"
   },
   {
    "duration": 0,
    "start_time": "2023-10-24T09:01:24.457Z"
   },
   {
    "duration": 0,
    "start_time": "2023-10-24T09:01:24.459Z"
   },
   {
    "duration": 0,
    "start_time": "2023-10-24T09:01:24.460Z"
   },
   {
    "duration": 0,
    "start_time": "2023-10-24T09:01:24.461Z"
   },
   {
    "duration": 0,
    "start_time": "2023-10-24T09:01:24.462Z"
   },
   {
    "duration": 0,
    "start_time": "2023-10-24T09:01:24.463Z"
   },
   {
    "duration": 0,
    "start_time": "2023-10-24T09:01:24.464Z"
   },
   {
    "duration": 0,
    "start_time": "2023-10-24T09:01:24.465Z"
   },
   {
    "duration": 0,
    "start_time": "2023-10-24T09:01:24.466Z"
   },
   {
    "duration": 0,
    "start_time": "2023-10-24T09:01:24.467Z"
   },
   {
    "duration": 0,
    "start_time": "2023-10-24T09:01:24.468Z"
   },
   {
    "duration": 0,
    "start_time": "2023-10-24T09:01:24.469Z"
   },
   {
    "duration": 0,
    "start_time": "2023-10-24T09:01:24.470Z"
   },
   {
    "duration": 0,
    "start_time": "2023-10-24T09:01:24.471Z"
   },
   {
    "duration": 0,
    "start_time": "2023-10-24T09:01:24.472Z"
   },
   {
    "duration": 0,
    "start_time": "2023-10-24T09:01:24.473Z"
   },
   {
    "duration": 0,
    "start_time": "2023-10-24T09:01:24.474Z"
   },
   {
    "duration": 0,
    "start_time": "2023-10-24T09:01:24.475Z"
   },
   {
    "duration": 0,
    "start_time": "2023-10-24T09:01:24.476Z"
   },
   {
    "duration": 0,
    "start_time": "2023-10-24T09:01:24.478Z"
   },
   {
    "duration": 0,
    "start_time": "2023-10-24T09:01:24.479Z"
   },
   {
    "duration": 0,
    "start_time": "2023-10-24T09:01:24.480Z"
   },
   {
    "duration": 1,
    "start_time": "2023-10-24T09:01:24.480Z"
   },
   {
    "duration": 0,
    "start_time": "2023-10-24T09:01:24.482Z"
   },
   {
    "duration": 0,
    "start_time": "2023-10-24T09:01:24.483Z"
   },
   {
    "duration": 0,
    "start_time": "2023-10-24T09:01:24.484Z"
   },
   {
    "duration": 0,
    "start_time": "2023-10-24T09:01:24.485Z"
   },
   {
    "duration": 131,
    "start_time": "2023-10-24T09:01:49.769Z"
   },
   {
    "duration": 4,
    "start_time": "2023-10-24T09:02:24.692Z"
   },
   {
    "duration": 7,
    "start_time": "2023-10-24T09:02:32.043Z"
   },
   {
    "duration": 1592,
    "start_time": "2023-10-24T09:03:02.623Z"
   },
   {
    "duration": 1751,
    "start_time": "2023-10-24T09:03:41.746Z"
   },
   {
    "duration": 259,
    "start_time": "2023-10-24T09:03:57.752Z"
   },
   {
    "duration": 144,
    "start_time": "2023-10-24T09:05:52.975Z"
   },
   {
    "duration": 228,
    "start_time": "2023-10-24T09:06:32.118Z"
   },
   {
    "duration": 131,
    "start_time": "2023-10-24T09:06:49.900Z"
   },
   {
    "duration": 123,
    "start_time": "2023-10-24T09:06:56.175Z"
   },
   {
    "duration": 303,
    "start_time": "2023-10-24T09:09:11.912Z"
   },
   {
    "duration": 239,
    "start_time": "2023-10-24T09:11:56.677Z"
   },
   {
    "duration": 199,
    "start_time": "2023-10-24T09:14:24.269Z"
   },
   {
    "duration": 215,
    "start_time": "2023-10-24T09:14:35.773Z"
   },
   {
    "duration": 11,
    "start_time": "2023-10-24T09:25:02.071Z"
   },
   {
    "duration": 10,
    "start_time": "2023-10-24T09:25:42.971Z"
   },
   {
    "duration": 154,
    "start_time": "2023-10-24T09:28:01.582Z"
   },
   {
    "duration": 140,
    "start_time": "2023-10-24T09:28:41.726Z"
   },
   {
    "duration": 204,
    "start_time": "2023-10-24T09:29:58.825Z"
   },
   {
    "duration": 197,
    "start_time": "2023-10-24T09:33:38.927Z"
   },
   {
    "duration": 193,
    "start_time": "2023-10-24T09:34:18.911Z"
   },
   {
    "duration": 173,
    "start_time": "2023-10-24T09:34:35.598Z"
   },
   {
    "duration": 193,
    "start_time": "2023-10-24T09:34:45.384Z"
   },
   {
    "duration": 175,
    "start_time": "2023-10-24T09:34:52.175Z"
   },
   {
    "duration": 304,
    "start_time": "2023-10-24T09:35:10.875Z"
   },
   {
    "duration": 180,
    "start_time": "2023-10-24T09:35:16.965Z"
   },
   {
    "duration": 173,
    "start_time": "2023-10-24T09:37:50.283Z"
   },
   {
    "duration": 196,
    "start_time": "2023-10-24T09:40:25.180Z"
   },
   {
    "duration": 6,
    "start_time": "2023-10-24T09:41:06.454Z"
   },
   {
    "duration": 191,
    "start_time": "2023-10-24T09:41:21.030Z"
   },
   {
    "duration": 194,
    "start_time": "2023-10-24T09:41:31.067Z"
   },
   {
    "duration": 191,
    "start_time": "2023-10-24T09:41:36.003Z"
   },
   {
    "duration": 208,
    "start_time": "2023-10-24T09:41:45.830Z"
   },
   {
    "duration": 198,
    "start_time": "2023-10-24T09:41:56.731Z"
   },
   {
    "duration": 195,
    "start_time": "2023-10-24T09:42:00.611Z"
   },
   {
    "duration": 194,
    "start_time": "2023-10-24T09:42:42.636Z"
   },
   {
    "duration": 211,
    "start_time": "2023-10-24T09:43:00.772Z"
   },
   {
    "duration": 207,
    "start_time": "2023-10-24T09:43:11.253Z"
   },
   {
    "duration": 328,
    "start_time": "2023-10-24T09:43:19.686Z"
   },
   {
    "duration": 211,
    "start_time": "2023-10-24T09:43:27.145Z"
   },
   {
    "duration": 193,
    "start_time": "2023-10-24T09:43:47.238Z"
   },
   {
    "duration": 111,
    "start_time": "2023-10-24T09:44:54.456Z"
   },
   {
    "duration": 184,
    "start_time": "2023-10-24T09:44:58.272Z"
   },
   {
    "duration": 159,
    "start_time": "2023-10-24T09:45:53.488Z"
   },
   {
    "duration": 104,
    "start_time": "2023-10-24T09:50:27.492Z"
   },
   {
    "duration": 1277,
    "start_time": "2023-10-24T09:50:49.598Z"
   },
   {
    "duration": 52,
    "start_time": "2023-10-24T09:50:50.877Z"
   },
   {
    "duration": 53,
    "start_time": "2023-10-24T09:50:50.932Z"
   },
   {
    "duration": 29,
    "start_time": "2023-10-24T09:50:50.988Z"
   },
   {
    "duration": 11,
    "start_time": "2023-10-24T09:50:51.019Z"
   },
   {
    "duration": 42,
    "start_time": "2023-10-24T09:50:51.031Z"
   },
   {
    "duration": 42,
    "start_time": "2023-10-24T09:50:51.075Z"
   },
   {
    "duration": 53,
    "start_time": "2023-10-24T09:50:51.119Z"
   },
   {
    "duration": 19,
    "start_time": "2023-10-24T09:50:51.174Z"
   },
   {
    "duration": 36,
    "start_time": "2023-10-24T09:50:51.197Z"
   },
   {
    "duration": 12,
    "start_time": "2023-10-24T09:50:51.235Z"
   },
   {
    "duration": 216,
    "start_time": "2023-10-24T09:50:51.249Z"
   },
   {
    "duration": 2,
    "start_time": "2023-10-24T09:50:51.467Z"
   },
   {
    "duration": 28,
    "start_time": "2023-10-24T09:50:51.471Z"
   },
   {
    "duration": 212,
    "start_time": "2023-10-24T09:50:51.501Z"
   },
   {
    "duration": 121,
    "start_time": "2023-10-24T09:50:51.715Z"
   },
   {
    "duration": 21,
    "start_time": "2023-10-24T09:50:51.838Z"
   },
   {
    "duration": 225,
    "start_time": "2023-10-24T09:50:51.861Z"
   },
   {
    "duration": 317,
    "start_time": "2023-10-24T09:50:52.088Z"
   },
   {
    "duration": 98,
    "start_time": "2023-10-24T09:50:52.407Z"
   },
   {
    "duration": 9,
    "start_time": "2023-10-24T09:50:52.507Z"
   },
   {
    "duration": 61,
    "start_time": "2023-10-24T09:50:52.518Z"
   },
   {
    "duration": 302,
    "start_time": "2023-10-24T09:50:52.581Z"
   },
   {
    "duration": 149,
    "start_time": "2023-10-24T09:50:52.885Z"
   },
   {
    "duration": 21,
    "start_time": "2023-10-24T09:50:53.036Z"
   },
   {
    "duration": 17,
    "start_time": "2023-10-24T09:50:53.059Z"
   },
   {
    "duration": 280,
    "start_time": "2023-10-24T09:50:53.078Z"
   },
   {
    "duration": 250,
    "start_time": "2023-10-24T09:50:53.362Z"
   },
   {
    "duration": 10,
    "start_time": "2023-10-24T09:50:53.614Z"
   },
   {
    "duration": 35,
    "start_time": "2023-10-24T09:50:53.626Z"
   },
   {
    "duration": 23,
    "start_time": "2023-10-24T09:50:53.663Z"
   },
   {
    "duration": 23,
    "start_time": "2023-10-24T09:50:53.688Z"
   },
   {
    "duration": 43,
    "start_time": "2023-10-24T09:50:53.714Z"
   },
   {
    "duration": 12,
    "start_time": "2023-10-24T09:50:53.760Z"
   },
   {
    "duration": 13,
    "start_time": "2023-10-24T09:50:53.775Z"
   },
   {
    "duration": 8,
    "start_time": "2023-10-24T09:50:53.791Z"
   },
   {
    "duration": 200,
    "start_time": "2023-10-24T09:50:53.800Z"
   },
   {
    "duration": 17,
    "start_time": "2023-10-24T09:50:54.002Z"
   },
   {
    "duration": 199,
    "start_time": "2023-10-24T09:50:54.021Z"
   },
   {
    "duration": 40,
    "start_time": "2023-10-24T09:50:54.223Z"
   },
   {
    "duration": 35,
    "start_time": "2023-10-24T09:50:54.265Z"
   },
   {
    "duration": 5,
    "start_time": "2023-10-24T09:50:54.303Z"
   },
   {
    "duration": 56,
    "start_time": "2023-10-24T09:50:54.310Z"
   },
   {
    "duration": 32,
    "start_time": "2023-10-24T09:50:54.369Z"
   },
   {
    "duration": 164,
    "start_time": "2023-10-24T09:50:54.404Z"
   },
   {
    "duration": 49,
    "start_time": "2023-10-24T09:50:54.570Z"
   },
   {
    "duration": 70,
    "start_time": "2023-10-24T09:50:54.621Z"
   },
   {
    "duration": 29,
    "start_time": "2023-10-24T09:50:54.693Z"
   },
   {
    "duration": 33,
    "start_time": "2023-10-24T09:50:54.724Z"
   },
   {
    "duration": 2091,
    "start_time": "2023-10-24T09:55:52.861Z"
   },
   {
    "duration": 186,
    "start_time": "2023-10-24T09:56:08.245Z"
   },
   {
    "duration": 116,
    "start_time": "2023-10-24T09:58:48.466Z"
   },
   {
    "duration": 479,
    "start_time": "2023-10-24T10:00:00.962Z"
   },
   {
    "duration": 476,
    "start_time": "2023-10-24T10:00:27.418Z"
   },
   {
    "duration": 470,
    "start_time": "2023-10-24T10:00:32.303Z"
   },
   {
    "duration": 258,
    "start_time": "2023-10-24T10:01:29.502Z"
   },
   {
    "duration": 361,
    "start_time": "2023-10-24T10:01:52.445Z"
   },
   {
    "duration": 243,
    "start_time": "2023-10-24T10:05:43.322Z"
   },
   {
    "duration": 249,
    "start_time": "2023-10-24T10:06:21.554Z"
   },
   {
    "duration": 290,
    "start_time": "2023-10-24T10:09:44.916Z"
   },
   {
    "duration": 257,
    "start_time": "2023-10-24T10:10:20.285Z"
   },
   {
    "duration": 270,
    "start_time": "2023-10-24T10:14:33.989Z"
   },
   {
    "duration": 107,
    "start_time": "2023-10-24T10:17:54.248Z"
   },
   {
    "duration": 3,
    "start_time": "2023-10-24T10:18:11.745Z"
   },
   {
    "duration": 8,
    "start_time": "2023-10-24T10:20:19.018Z"
   },
   {
    "duration": 9,
    "start_time": "2023-10-24T11:18:36.243Z"
   },
   {
    "duration": 1440,
    "start_time": "2023-10-24T11:34:44.052Z"
   },
   {
    "duration": 54,
    "start_time": "2023-10-24T11:34:45.494Z"
   },
   {
    "duration": 45,
    "start_time": "2023-10-24T11:34:45.550Z"
   },
   {
    "duration": 29,
    "start_time": "2023-10-24T11:34:45.597Z"
   },
   {
    "duration": 11,
    "start_time": "2023-10-24T11:34:45.628Z"
   },
   {
    "duration": 48,
    "start_time": "2023-10-24T11:34:45.640Z"
   },
   {
    "duration": 16,
    "start_time": "2023-10-24T11:34:45.690Z"
   },
   {
    "duration": 25,
    "start_time": "2023-10-24T11:34:45.707Z"
   },
   {
    "duration": 7,
    "start_time": "2023-10-24T11:34:45.734Z"
   },
   {
    "duration": 38,
    "start_time": "2023-10-24T11:34:45.744Z"
   },
   {
    "duration": 12,
    "start_time": "2023-10-24T11:34:45.784Z"
   },
   {
    "duration": 226,
    "start_time": "2023-10-24T11:34:45.798Z"
   },
   {
    "duration": 3,
    "start_time": "2023-10-24T11:34:46.026Z"
   },
   {
    "duration": 36,
    "start_time": "2023-10-24T11:34:46.032Z"
   },
   {
    "duration": 19,
    "start_time": "2023-10-24T11:34:46.070Z"
   },
   {
    "duration": 128,
    "start_time": "2023-10-24T11:34:46.091Z"
   },
   {
    "duration": 11,
    "start_time": "2023-10-24T11:34:46.221Z"
   },
   {
    "duration": 295,
    "start_time": "2023-10-24T11:34:46.234Z"
   },
   {
    "duration": 548,
    "start_time": "2023-10-24T11:34:46.530Z"
   },
   {
    "duration": 11,
    "start_time": "2023-10-24T11:34:47.079Z"
   },
   {
    "duration": 32,
    "start_time": "2023-10-24T11:34:47.092Z"
   },
   {
    "duration": 299,
    "start_time": "2023-10-24T11:34:47.126Z"
   },
   {
    "duration": 10,
    "start_time": "2023-10-24T11:34:47.428Z"
   },
   {
    "duration": 30,
    "start_time": "2023-10-24T11:34:47.440Z"
   },
   {
    "duration": 296,
    "start_time": "2023-10-24T11:34:47.472Z"
   },
   {
    "duration": 10,
    "start_time": "2023-10-24T11:34:47.770Z"
   },
   {
    "duration": 27,
    "start_time": "2023-10-24T11:34:47.782Z"
   },
   {
    "duration": 25,
    "start_time": "2023-10-24T11:34:47.814Z"
   },
   {
    "duration": 19,
    "start_time": "2023-10-24T11:34:47.856Z"
   },
   {
    "duration": 24,
    "start_time": "2023-10-24T11:34:47.877Z"
   },
   {
    "duration": 19,
    "start_time": "2023-10-24T11:34:47.903Z"
   },
   {
    "duration": 27,
    "start_time": "2023-10-24T11:34:47.924Z"
   },
   {
    "duration": 22,
    "start_time": "2023-10-24T11:34:47.952Z"
   },
   {
    "duration": 211,
    "start_time": "2023-10-24T11:34:47.976Z"
   },
   {
    "duration": 17,
    "start_time": "2023-10-24T11:34:48.190Z"
   },
   {
    "duration": 198,
    "start_time": "2023-10-24T11:34:48.209Z"
   },
   {
    "duration": 17,
    "start_time": "2023-10-24T11:34:48.409Z"
   },
   {
    "duration": 51,
    "start_time": "2023-10-24T11:34:48.427Z"
   },
   {
    "duration": 4,
    "start_time": "2023-10-24T11:34:48.481Z"
   },
   {
    "duration": 33,
    "start_time": "2023-10-24T11:34:48.486Z"
   },
   {
    "duration": 136,
    "start_time": "2023-10-24T11:34:48.521Z"
   },
   {
    "duration": 14,
    "start_time": "2023-10-24T11:34:48.659Z"
   },
   {
    "duration": 26,
    "start_time": "2023-10-24T11:34:48.676Z"
   },
   {
    "duration": 21,
    "start_time": "2023-10-24T11:34:48.704Z"
   },
   {
    "duration": 19,
    "start_time": "2023-10-24T11:34:48.727Z"
   },
   {
    "duration": 19,
    "start_time": "2023-10-24T11:34:48.748Z"
   },
   {
    "duration": 1185,
    "start_time": "2023-10-24T14:31:38.412Z"
   },
   {
    "duration": 46,
    "start_time": "2023-10-24T14:31:39.599Z"
   },
   {
    "duration": 41,
    "start_time": "2023-10-24T14:31:39.647Z"
   },
   {
    "duration": 39,
    "start_time": "2023-10-24T14:31:39.690Z"
   },
   {
    "duration": 8,
    "start_time": "2023-10-24T14:31:39.731Z"
   },
   {
    "duration": 35,
    "start_time": "2023-10-24T14:31:39.740Z"
   },
   {
    "duration": 23,
    "start_time": "2023-10-24T14:31:39.777Z"
   },
   {
    "duration": 22,
    "start_time": "2023-10-24T14:31:39.801Z"
   },
   {
    "duration": 16,
    "start_time": "2023-10-24T14:31:39.825Z"
   },
   {
    "duration": 18,
    "start_time": "2023-10-24T14:31:39.844Z"
   },
   {
    "duration": 12,
    "start_time": "2023-10-24T14:31:39.863Z"
   },
   {
    "duration": 219,
    "start_time": "2023-10-24T14:31:39.876Z"
   },
   {
    "duration": 3,
    "start_time": "2023-10-24T14:31:40.098Z"
   },
   {
    "duration": 25,
    "start_time": "2023-10-24T14:31:40.103Z"
   },
   {
    "duration": 26,
    "start_time": "2023-10-24T14:31:40.130Z"
   },
   {
    "duration": 128,
    "start_time": "2023-10-24T14:31:40.158Z"
   },
   {
    "duration": 11,
    "start_time": "2023-10-24T14:31:40.288Z"
   },
   {
    "duration": 443,
    "start_time": "2023-10-24T14:31:40.301Z"
   },
   {
    "duration": 912,
    "start_time": "2023-10-24T14:31:40.746Z"
   },
   {
    "duration": 8,
    "start_time": "2023-10-24T14:31:41.660Z"
   },
   {
    "duration": 76,
    "start_time": "2023-10-24T14:31:41.669Z"
   },
   {
    "duration": 434,
    "start_time": "2023-10-24T14:31:41.747Z"
   },
   {
    "duration": 67,
    "start_time": "2023-10-24T14:31:42.184Z"
   },
   {
    "duration": 26,
    "start_time": "2023-10-24T14:31:42.253Z"
   },
   {
    "duration": 567,
    "start_time": "2023-10-24T14:31:42.281Z"
   },
   {
    "duration": 9,
    "start_time": "2023-10-24T14:31:42.850Z"
   },
   {
    "duration": 28,
    "start_time": "2023-10-24T14:31:42.861Z"
   },
   {
    "duration": 24,
    "start_time": "2023-10-24T14:31:42.894Z"
   },
   {
    "duration": 37,
    "start_time": "2023-10-24T14:31:42.919Z"
   },
   {
    "duration": 19,
    "start_time": "2023-10-24T14:31:42.958Z"
   },
   {
    "duration": 13,
    "start_time": "2023-10-24T14:31:42.978Z"
   },
   {
    "duration": 22,
    "start_time": "2023-10-24T14:31:42.993Z"
   },
   {
    "duration": 31,
    "start_time": "2023-10-24T14:31:43.017Z"
   },
   {
    "duration": 256,
    "start_time": "2023-10-24T14:31:43.049Z"
   },
   {
    "duration": 49,
    "start_time": "2023-10-24T14:31:43.306Z"
   },
   {
    "duration": 619,
    "start_time": "2023-10-24T14:31:43.360Z"
   },
   {
    "duration": 76,
    "start_time": "2023-10-24T14:31:43.981Z"
   },
   {
    "duration": 98,
    "start_time": "2023-10-24T14:31:44.059Z"
   },
   {
    "duration": 5,
    "start_time": "2023-10-24T14:31:44.159Z"
   },
   {
    "duration": 82,
    "start_time": "2023-10-24T14:31:44.165Z"
   },
   {
    "duration": 297,
    "start_time": "2023-10-24T14:31:44.249Z"
   },
   {
    "duration": 18,
    "start_time": "2023-10-24T14:31:44.548Z"
   },
   {
    "duration": 8,
    "start_time": "2023-10-24T14:31:44.568Z"
   },
   {
    "duration": 69,
    "start_time": "2023-10-24T14:31:44.578Z"
   },
   {
    "duration": 11,
    "start_time": "2023-10-24T14:31:44.648Z"
   },
   {
    "duration": 10,
    "start_time": "2023-10-24T14:31:44.661Z"
   }
  ],
  "kernelspec": {
   "display_name": "Python 3 (ipykernel)",
   "language": "python",
   "name": "python3"
  },
  "language_info": {
   "codemirror_mode": {
    "name": "ipython",
    "version": 3
   },
   "file_extension": ".py",
   "mimetype": "text/x-python",
   "name": "python",
   "nbconvert_exporter": "python",
   "pygments_lexer": "ipython3",
   "version": "3.9.5"
  },
  "toc": {
   "base_numbering": 1,
   "nav_menu": {},
   "number_sections": true,
   "sideBar": true,
   "skip_h1_title": true,
   "title_cell": "Table of Contents",
   "title_sidebar": "Contents",
   "toc_cell": false,
   "toc_position": {},
   "toc_section_display": true,
   "toc_window_display": false
  }
 },
 "nbformat": 4,
 "nbformat_minor": 5
}

{
 "cells": [
  {
   "cell_type": "markdown",
   "id": "4f11de00",
   "metadata": {
    "deletable": false,
    "editable": false,
    "id": "4f11de00"
   },
   "source": [
    "# Исследование надежности заемщиков"
   ]
  },
  {
   "cell_type": "markdown",
   "id": "f09d6878",
   "metadata": {
    "deletable": false,
    "editable": false,
    "id": "f09d6878"
   },
   "source": [
    "Описание проекта\n",
    "Заказчик — кредитный отдел банка. Нужно разобраться, влияет ли семейное положение и количество детей клиента на факт погашения кредита в срок. Входные данные от банка — статистика о платёжеспособности клиентов.\n",
    "Результаты исследования будут учтены при построении модели кредитного скоринга — специальной системы, которая оценивает способность потенциального заёмщика вернуть кредит банку.\n",
    "Описание данных\n",
    "children — количество детей в семье\n",
    "days_employed — общий трудовой стаж в днях\n",
    "dob_years — возраст клиента в годах\n",
    "education — уровень образования клиента\n",
    "education_id — идентификатор уровня образования\n",
    "family_status — семейное положение\n",
    "family_status_id — идентификатор семейного положения\n",
    "gender — пол клиента\n",
    "income_type — тип занятости\n",
    "debt — имел ли задолженность по возврату кредитов\n",
    "total_income — ежемесячный доход\n",
    "purpose — цель получения кредита"
   ]
  },
  {
   "cell_type": "markdown",
   "id": "516620ee",
   "metadata": {
    "deletable": false,
    "editable": false,
    "id": "516620ee"
   },
   "source": [
    "## Откройте таблицу и изучите общую информацию о данных"
   ]
  },
  {
   "cell_type": "markdown",
   "id": "76a8a9ce",
   "metadata": {
    "deletable": false,
    "editable": false,
    "id": "76a8a9ce",
    "tags": [
     "start_task"
    ]
   },
   "source": [
    "**Задание 1. Импортируйте библиотеку pandas. Считайте данные из csv-файла в датафрейм и сохраните в переменную `data`. Путь к файлу:**\n",
    "\n",
    "`/datasets/data.csv`"
   ]
  },
  {
   "cell_type": "code",
   "execution_count": 1,
   "id": "fab207d0",
   "metadata": {
    "id": "fab207d0"
   },
   "outputs": [],
   "source": [
    "import pandas as pd # импортируйте библиотеку pandas"
   ]
  },
  {
   "cell_type": "code",
   "execution_count": 2,
   "id": "6c82b607",
   "metadata": {
    "id": "6c82b607"
   },
   "outputs": [],
   "source": [
    "data = pd.read_csv('/datasets/data.csv')# прочитайте csv-файл"
   ]
  },
  {
   "cell_type": "markdown",
   "id": "08bbb5b3",
   "metadata": {
    "deletable": false,
    "editable": false,
    "id": "08bbb5b3",
    "tags": [
     "start_task"
    ]
   },
   "source": [
    "**Задание 2. Выведите первые 20 строчек датафрейма `data` на экран.**"
   ]
  },
  {
   "cell_type": "code",
   "execution_count": 3,
   "id": "4ff33b36",
   "metadata": {
    "id": "4ff33b36"
   },
   "outputs": [
    {
     "name": "stdout",
     "output_type": "stream",
     "text": [
      "    children  days_employed  dob_years            education  education_id  \\\n",
      "0          1   -8437.673028         42               высшее             0   \n",
      "1          1   -4024.803754         36              среднее             1   \n",
      "2          0   -5623.422610         33              Среднее             1   \n",
      "3          3   -4124.747207         32              среднее             1   \n",
      "4          0  340266.072047         53              среднее             1   \n",
      "5          0    -926.185831         27               высшее             0   \n",
      "6          0   -2879.202052         43               высшее             0   \n",
      "7          0    -152.779569         50              СРЕДНЕЕ             1   \n",
      "8          2   -6929.865299         35               ВЫСШЕЕ             0   \n",
      "9          0   -2188.756445         41              среднее             1   \n",
      "10         2   -4171.483647         36               высшее             0   \n",
      "11         0    -792.701887         40              среднее             1   \n",
      "12         0            NaN         65              среднее             1   \n",
      "13         0   -1846.641941         54  неоконченное высшее             2   \n",
      "14         0   -1844.956182         56               высшее             0   \n",
      "15         1    -972.364419         26              среднее             1   \n",
      "16         0   -1719.934226         35              среднее             1   \n",
      "17         0   -2369.999720         33               высшее             0   \n",
      "18         0  400281.136913         53              среднее             1   \n",
      "19         0  -10038.818549         48              СРЕДНЕЕ             1   \n",
      "\n",
      "       family_status  family_status_id gender income_type  debt  \\\n",
      "0    женат / замужем                 0      F   сотрудник     0   \n",
      "1    женат / замужем                 0      F   сотрудник     0   \n",
      "2    женат / замужем                 0      M   сотрудник     0   \n",
      "3    женат / замужем                 0      M   сотрудник     0   \n",
      "4   гражданский брак                 1      F   пенсионер     0   \n",
      "5   гражданский брак                 1      M   компаньон     0   \n",
      "6    женат / замужем                 0      F   компаньон     0   \n",
      "7    женат / замужем                 0      M   сотрудник     0   \n",
      "8   гражданский брак                 1      F   сотрудник     0   \n",
      "9    женат / замужем                 0      M   сотрудник     0   \n",
      "10   женат / замужем                 0      M   компаньон     0   \n",
      "11   женат / замужем                 0      F   сотрудник     0   \n",
      "12  гражданский брак                 1      M   пенсионер     0   \n",
      "13   женат / замужем                 0      F   сотрудник     0   \n",
      "14  гражданский брак                 1      F   компаньон     1   \n",
      "15   женат / замужем                 0      F   сотрудник     0   \n",
      "16   женат / замужем                 0      F   сотрудник     0   \n",
      "17  гражданский брак                 1      M   сотрудник     0   \n",
      "18    вдовец / вдова                 2      F   пенсионер     0   \n",
      "19         в разводе                 3      F   сотрудник     0   \n",
      "\n",
      "     total_income                                 purpose  \n",
      "0   253875.639453                           покупка жилья  \n",
      "1   112080.014102                 приобретение автомобиля  \n",
      "2   145885.952297                           покупка жилья  \n",
      "3   267628.550329              дополнительное образование  \n",
      "4   158616.077870                         сыграть свадьбу  \n",
      "5   255763.565419                           покупка жилья  \n",
      "6   240525.971920                       операции с жильем  \n",
      "7   135823.934197                             образование  \n",
      "8    95856.832424                   на проведение свадьбы  \n",
      "9   144425.938277                 покупка жилья для семьи  \n",
      "10  113943.491460                    покупка недвижимости  \n",
      "11   77069.234271       покупка коммерческой недвижимости  \n",
      "12            NaN                         сыграть свадьбу  \n",
      "13  130458.228857                 приобретение автомобиля  \n",
      "14  165127.911772              покупка жилой недвижимости  \n",
      "15  116820.904450  строительство собственной недвижимости  \n",
      "16  289202.704229                            недвижимость  \n",
      "17   90410.586745              строительство недвижимости  \n",
      "18   56823.777243      на покупку подержанного автомобиля  \n",
      "19  242831.107982            на покупку своего автомобиля  \n"
     ]
    }
   ],
   "source": [
    "print(data.head(20))# ваш код здесь"
   ]
  },
  {
   "cell_type": "markdown",
   "id": "c8f382ae",
   "metadata": {
    "deletable": false,
    "editable": false,
    "id": "c8f382ae",
    "tags": [
     "start_task"
    ]
   },
   "source": [
    "**Задание 3. Выведите основную информацию о датафрейме с помощью метода `info()`.**"
   ]
  },
  {
   "cell_type": "code",
   "execution_count": 4,
   "id": "e1ed9908",
   "metadata": {
    "id": "e1ed9908"
   },
   "outputs": [
    {
     "name": "stdout",
     "output_type": "stream",
     "text": [
      "<class 'pandas.core.frame.DataFrame'>\n",
      "RangeIndex: 21525 entries, 0 to 21524\n",
      "Data columns (total 12 columns):\n",
      " #   Column            Non-Null Count  Dtype  \n",
      "---  ------            --------------  -----  \n",
      " 0   children          21525 non-null  int64  \n",
      " 1   days_employed     19351 non-null  float64\n",
      " 2   dob_years         21525 non-null  int64  \n",
      " 3   education         21525 non-null  object \n",
      " 4   education_id      21525 non-null  int64  \n",
      " 5   family_status     21525 non-null  object \n",
      " 6   family_status_id  21525 non-null  int64  \n",
      " 7   gender            21525 non-null  object \n",
      " 8   income_type       21525 non-null  object \n",
      " 9   debt              21525 non-null  int64  \n",
      " 10  total_income      19351 non-null  float64\n",
      " 11  purpose           21525 non-null  object \n",
      "dtypes: float64(2), int64(5), object(5)\n",
      "memory usage: 2.0+ MB\n"
     ]
    }
   ],
   "source": [
    "data.info()# ваш код здесь"
   ]
  },
  {
   "cell_type": "markdown",
   "id": "f969a1cd",
   "metadata": {
    "deletable": false,
    "editable": false,
    "id": "f969a1cd"
   },
   "source": [
    "## Предобработка данных"
   ]
  },
  {
   "cell_type": "markdown",
   "id": "7283e864",
   "metadata": {
    "deletable": false,
    "editable": false,
    "id": "7283e864"
   },
   "source": [
    "### Удаление пропусков"
   ]
  },
  {
   "cell_type": "markdown",
   "id": "c9a0745e",
   "metadata": {
    "deletable": false,
    "editable": false,
    "id": "c9a0745e",
    "tags": [
     "start_task"
    ]
   },
   "source": [
    "**Задание 4. Выведите количество пропущенных значений для каждого столбца. Используйте комбинацию двух методов.**"
   ]
  },
  {
   "cell_type": "code",
   "execution_count": 5,
   "id": "b7a096e1",
   "metadata": {
    "id": "b7a096e1"
   },
   "outputs": [
    {
     "name": "stdout",
     "output_type": "stream",
     "text": [
      "children               0\n",
      "days_employed       2174\n",
      "dob_years              0\n",
      "education              0\n",
      "education_id           0\n",
      "family_status          0\n",
      "family_status_id       0\n",
      "gender                 0\n",
      "income_type            0\n",
      "debt                   0\n",
      "total_income        2174\n",
      "purpose                0\n",
      "dtype: int64\n"
     ]
    }
   ],
   "source": [
    "print (data.isna().sum())# ваш код здесь"
   ]
  },
  {
   "cell_type": "markdown",
   "id": "c2578616",
   "metadata": {
    "deletable": false,
    "editable": false,
    "id": "c2578616",
    "tags": [
     "start_task"
    ]
   },
   "source": [
    "**Задание 5. В двух столбцах есть пропущенные значения. Один из них — `days_employed`. Пропуски в этом столбце вы обработаете на следующем этапе. Другой столбец с пропущенными значениями — `total_income` — хранит данные о доходах. На сумму дохода сильнее всего влияет тип занятости, поэтому заполнить пропуски в этом столбце нужно медианным значением по каждому типу из столбца `income_type`. Например, у человека с типом занятости `сотрудник` пропуск в столбце `total_income` должен быть заполнен медианным доходом среди всех записей с тем же типом.**"
   ]
  },
  {
   "cell_type": "code",
   "execution_count": 6,
   "id": "e8afc4bc",
   "metadata": {
    "id": "e8afc4bc"
   },
   "outputs": [],
   "source": [
    "for row in data['income_type'].unique():\n",
    "    data.loc[(data['income_type'] == row) & (data['total_income'].isna()),'total_income'] = \\\n",
    "    data.loc[(data['income_type'] == row), 'total_income'].median()    "
   ]
  },
  {
   "cell_type": "markdown",
   "id": "ae986d46",
   "metadata": {
    "deletable": false,
    "editable": false,
    "id": "ae986d46"
   },
   "source": [
    "### Обработка аномальных значений"
   ]
  },
  {
   "cell_type": "markdown",
   "id": "b049cbae",
   "metadata": {
    "deletable": false,
    "editable": false,
    "id": "b049cbae",
    "tags": [
     "start_task"
    ]
   },
   "source": [
    "**Задание 6. В данных могут встречаться артефакты (аномалии) — значения, которые не отражают действительность и появились по какой-то ошибке. Таким артефактом будет отрицательное количество дней трудового стажа в столбце `days_employed`. Для реальных данных это нормально. Обработайте значения в этом столбце: замените все отрицательные значения положительными с помощью метода `abs()`.**"
   ]
  },
  {
   "cell_type": "code",
   "execution_count": 7,
   "id": "187779b0",
   "metadata": {
    "id": "187779b0"
   },
   "outputs": [],
   "source": [
    "data['days_employed'] = data['days_employed'].abs() # ваш код здесь"
   ]
  },
  {
   "cell_type": "markdown",
   "id": "a13054c2",
   "metadata": {
    "deletable": false,
    "editable": false,
    "id": "a13054c2",
    "tags": [
     "start_task"
    ]
   },
   "source": [
    "**Задание 7. Для каждого типа занятости выведите медианное значение трудового стажа `days_employed` в днях.**"
   ]
  },
  {
   "cell_type": "code",
   "execution_count": 8,
   "id": "f3f5810c",
   "metadata": {
    "id": "f3f5810c",
    "scrolled": true
   },
   "outputs": [
    {
     "name": "stdout",
     "output_type": "stream",
     "text": [
      "income_type\n",
      "безработный        366413.652744\n",
      "в декрете            3296.759962\n",
      "госслужащий          2689.368353\n",
      "компаньон            1547.382223\n",
      "пенсионер          365213.306266\n",
      "предприниматель       520.848083\n",
      "сотрудник            1574.202821\n",
      "студент               578.751554\n",
      "Name: days_employed, dtype: float64\n"
     ]
    }
   ],
   "source": [
    "print(data.groupby('income_type')['days_employed'].median())"
   ]
  },
  {
   "cell_type": "markdown",
   "id": "dbc3168c",
   "metadata": {
    "deletable": false,
    "editable": false,
    "id": "dbc3168c"
   },
   "source": [
    "У двух типов (безработные и пенсионеры) получатся аномально большие значения. Исправить такие значения сложно, поэтому оставьте их как есть."
   ]
  },
  {
   "cell_type": "markdown",
   "id": "ff4378c2",
   "metadata": {
    "deletable": false,
    "editable": false,
    "id": "ff4378c2",
    "tags": [
     "start_task"
    ]
   },
   "source": [
    "**Задание 8. Выведите перечень уникальных значений столбца `children`.**"
   ]
  },
  {
   "cell_type": "code",
   "execution_count": 9,
   "id": "9bd0c232",
   "metadata": {
    "id": "9bd0c232"
   },
   "outputs": [
    {
     "name": "stdout",
     "output_type": "stream",
     "text": [
      "[ 1  0  3  2 -1  4 20  5]\n"
     ]
    }
   ],
   "source": [
    "print(data['children'].unique())# ваш код здесь"
   ]
  },
  {
   "cell_type": "markdown",
   "id": "8e911990",
   "metadata": {
    "deletable": false,
    "editable": false,
    "id": "8e911990",
    "tags": [
     "start_task"
    ]
   },
   "source": [
    "**Задание 9. В столбце `children` есть два аномальных значения. Удалите строки, в которых встречаются такие аномальные значения из датафрейма `data`.**"
   ]
  },
  {
   "cell_type": "code",
   "execution_count": 10,
   "id": "6d5ba289",
   "metadata": {
    "id": "6d5ba289"
   },
   "outputs": [],
   "source": [
    "data = data[data['children'] != 20]\n",
    "data = data[data['children'] != -1]\n",
    "# ваш код здесь"
   ]
  },
  {
   "cell_type": "markdown",
   "id": "18d77455",
   "metadata": {
    "deletable": false,
    "editable": false,
    "id": "18d77455",
    "tags": [
     "start_task"
    ]
   },
   "source": [
    "**Задание 10. Ещё раз выведите перечень уникальных значений столбца `children`, чтобы убедиться, что артефакты удалены.**"
   ]
  },
  {
   "cell_type": "code",
   "execution_count": 11,
   "id": "2c5fa92c",
   "metadata": {
    "id": "2c5fa92c"
   },
   "outputs": [
    {
     "name": "stdout",
     "output_type": "stream",
     "text": [
      "[1 0 3 2 4 5]\n"
     ]
    }
   ],
   "source": [
    "print(data['children'].unique())# ваш код здесь"
   ]
  },
  {
   "cell_type": "markdown",
   "id": "0ec07dee",
   "metadata": {
    "deletable": false,
    "editable": false,
    "id": "0ec07dee"
   },
   "source": [
    "### Удаление пропусков (продолжение)"
   ]
  },
  {
   "cell_type": "markdown",
   "id": "0fc3ae3f",
   "metadata": {
    "deletable": false,
    "editable": false,
    "id": "0fc3ae3f",
    "tags": [
     "start_task"
    ]
   },
   "source": [
    "**Задание 11. Заполните пропуски в столбце `days_employed` медианными значениями по каждому типу занятости `income_type`.**"
   ]
  },
  {
   "cell_type": "code",
   "execution_count": 12,
   "id": "e2aea7ac",
   "metadata": {
    "id": "e2aea7ac"
   },
   "outputs": [],
   "source": [
    "for row in data['income_type'].unique():\n",
    "    data.loc[(data['income_type'] == row) & (data['days_employed'].isna()),'days_employed'] = \\\n",
    "    data.loc[(data['income_type'] == row), 'days_employed'].median()   # ваш код здесь"
   ]
  },
  {
   "cell_type": "markdown",
   "id": "97b0b795",
   "metadata": {
    "deletable": false,
    "editable": false,
    "id": "97b0b795",
    "tags": [
     "start_task"
    ]
   },
   "source": [
    "**Задание 12. Убедитесь, что все пропуски заполнены. Проверьте себя и ещё раз выведите количество пропущенных значений для каждого столбца с помощью двух методов.**"
   ]
  },
  {
   "cell_type": "code",
   "execution_count": 13,
   "id": "79632a21",
   "metadata": {
    "id": "79632a21"
   },
   "outputs": [
    {
     "name": "stdout",
     "output_type": "stream",
     "text": [
      "children            0\n",
      "days_employed       0\n",
      "dob_years           0\n",
      "education           0\n",
      "education_id        0\n",
      "family_status       0\n",
      "family_status_id    0\n",
      "gender              0\n",
      "income_type         0\n",
      "debt                0\n",
      "total_income        0\n",
      "purpose             0\n",
      "dtype: int64\n"
     ]
    }
   ],
   "source": [
    "print (data.isna().sum())# ваш код здесь"
   ]
  },
  {
   "cell_type": "markdown",
   "id": "bd4aeb20",
   "metadata": {
    "deletable": false,
    "editable": false,
    "id": "bd4aeb20"
   },
   "source": [
    "### Изменение типов данных"
   ]
  },
  {
   "cell_type": "markdown",
   "id": "963bfa58",
   "metadata": {
    "deletable": false,
    "editable": false,
    "id": "963bfa58",
    "tags": [
     "start_task"
    ]
   },
   "source": [
    "**Задание 13. Замените вещественный тип данных в столбце `total_income` на целочисленный с помощью метода `astype()`.**"
   ]
  },
  {
   "cell_type": "code",
   "execution_count": 14,
   "id": "73da6ea0",
   "metadata": {
    "id": "73da6ea0"
   },
   "outputs": [],
   "source": [
    "data['total_income'] = data['total_income'].astype('int')# ваш код здесь"
   ]
  },
  {
   "cell_type": "markdown",
   "id": "d290239e",
   "metadata": {
    "deletable": false,
    "editable": false,
    "id": "d290239e"
   },
   "source": [
    "### Обработка дубликатов"
   ]
  },
  {
   "cell_type": "markdown",
   "id": "1b5844fd",
   "metadata": {
    "deletable": false,
    "editable": false,
    "id": "1b5844fd",
    "tags": [
     "start_task"
    ]
   },
   "source": [
    "**Задание 14. Обработайте неявные дубликаты в столбце `education`. В этом столбце есть одни и те же значения, но записанные по-разному: с использованием заглавных и строчных букв. Приведите их к нижнему регистру.**"
   ]
  },
  {
   "cell_type": "code",
   "execution_count": 15,
   "id": "3f2504b3",
   "metadata": {
    "id": "3f2504b3"
   },
   "outputs": [],
   "source": [
    "data['education'] = data['education'].str.lower()# ваш код здесь"
   ]
  },
  {
   "cell_type": "markdown",
   "id": "4c22acbc",
   "metadata": {
    "deletable": false,
    "editable": false,
    "id": "4c22acbc",
    "tags": [
     "start_task"
    ]
   },
   "source": [
    "**Задание 15. Выведите на экран количество строк-дубликатов в данных. Если такие строки присутствуют, удалите их.**"
   ]
  },
  {
   "cell_type": "code",
   "execution_count": 16,
   "id": "d34a4325",
   "metadata": {
    "id": "d34a4325"
   },
   "outputs": [
    {
     "name": "stdout",
     "output_type": "stream",
     "text": [
      "21397\n"
     ]
    }
   ],
   "source": [
    "print(data['education'].duplicated().sum())# посчитайте дубликаты"
   ]
  },
  {
   "cell_type": "code",
   "execution_count": 17,
   "id": "6e1a6499",
   "metadata": {
    "id": "6e1a6499"
   },
   "outputs": [],
   "source": [
    "data = data.drop_duplicates()# удалите дубликаты"
   ]
  },
  {
   "cell_type": "markdown",
   "id": "e5686ccc",
   "metadata": {
    "deletable": false,
    "editable": false,
    "id": "e5686ccc"
   },
   "source": [
    "### Категоризация данных"
   ]
  },
  {
   "cell_type": "markdown",
   "id": "636e9acd",
   "metadata": {
    "deletable": false,
    "editable": false,
    "id": "636e9acd",
    "tags": [
     "start_task"
    ]
   },
   "source": [
    "**Задание 16. На основании диапазонов, указанных ниже, создайте в датафрейме `data` столбец `total_income_category` с категориями:**\n",
    "\n",
    "- 0–30000 — `'E'`;\n",
    "- 30001–50000 — `'D'`;\n",
    "- 50001–200000 — `'C'`;\n",
    "- 200001–1000000 — `'B'`;\n",
    "- 1000001 и выше — `'A'`.\n",
    "\n",
    "\n",
    "**Например, кредитополучателю с доходом 25000 нужно назначить категорию `'E'`, а клиенту, получающему 235000, — `'B'`. Используйте собственную функцию с именем `categorize_income()` и метод `apply()`.**"
   ]
  },
  {
   "cell_type": "code",
   "execution_count": 24,
   "id": "880a77e5",
   "metadata": {
    "id": "880a77e5"
   },
   "outputs": [],
   "source": [
    "def categorize_income(income):\n",
    "    if income <= 30000:\n",
    "        return 'E'\n",
    "    if income <= 50000:\n",
    "        return 'D'\n",
    "    if income <= 200000:\n",
    "        return 'C'\n",
    "    if income <= 1000000:\n",
    "        return 'B'\n",
    "    return 'A'\n",
    "    \n",
    "        \n",
    "# создайте функцию categorize_income()"
   ]
  },
  {
   "cell_type": "code",
   "execution_count": 25,
   "id": "6f25f161",
   "metadata": {
    "id": "6f25f161"
   },
   "outputs": [],
   "source": [
    "data['total_income_category'] = data['total_income'].apply(categorize_income)# примените функцию методом apply()"
   ]
  },
  {
   "cell_type": "markdown",
   "id": "3363b685",
   "metadata": {
    "deletable": false,
    "editable": false,
    "id": "3363b685",
    "tags": [
     "start_task"
    ]
   },
   "source": [
    "**Задание 17. Выведите на экран перечень уникальных целей взятия кредита из столбца `purpose`.**"
   ]
  },
  {
   "cell_type": "code",
   "execution_count": 27,
   "id": "e59f2c15",
   "metadata": {
    "id": "e59f2c15"
   },
   "outputs": [
    {
     "name": "stdout",
     "output_type": "stream",
     "text": [
      "['покупка жилья' 'приобретение автомобиля' 'дополнительное образование'\n",
      " 'сыграть свадьбу' 'операции с жильем' 'образование'\n",
      " 'на проведение свадьбы' 'покупка жилья для семьи' 'покупка недвижимости'\n",
      " 'покупка коммерческой недвижимости' 'покупка жилой недвижимости'\n",
      " 'строительство собственной недвижимости' 'недвижимость'\n",
      " 'строительство недвижимости' 'на покупку подержанного автомобиля'\n",
      " 'на покупку своего автомобиля' 'операции с коммерческой недвижимостью'\n",
      " 'строительство жилой недвижимости' 'жилье'\n",
      " 'операции со своей недвижимостью' 'автомобили' 'заняться образованием'\n",
      " 'сделка с подержанным автомобилем' 'получение образования' 'автомобиль'\n",
      " 'свадьба' 'получение дополнительного образования' 'покупка своего жилья'\n",
      " 'операции с недвижимостью' 'получение высшего образования'\n",
      " 'свой автомобиль' 'сделка с автомобилем' 'профильное образование'\n",
      " 'высшее образование' 'покупка жилья для сдачи' 'на покупку автомобиля'\n",
      " 'ремонт жилью' 'заняться высшим образованием']\n"
     ]
    }
   ],
   "source": [
    "print(data['purpose'].unique())\n"
   ]
  },
  {
   "cell_type": "markdown",
   "id": "bb33e847",
   "metadata": {
    "deletable": false,
    "editable": false,
    "id": "bb33e847",
    "tags": [
     "start_task"
    ]
   },
   "source": [
    "**Задание 18. Создайте функцию, которая на основании данных из столбца `purpose` сформирует новый столбец `purpose_category`, в который войдут следующие категории:**\n",
    "\n",
    "- `'операции с автомобилем'`,\n",
    "- `'операции с недвижимостью'`,\n",
    "- `'проведение свадьбы'`,\n",
    "- `'получение образования'`.\n",
    "\n",
    "**Например, если в столбце `purpose` находится подстрока `'на покупку автомобиля'`, то в столбце `purpose_category` должна появиться строка `'операции с автомобилем'`.**\n",
    "\n",
    "**Используйте собственную функцию с именем `categorize_purpose()` и метод `apply()`. Изучите данные в столбце `purpose` и определите, какие подстроки помогут вам правильно определить категорию.**"
   ]
  },
  {
   "cell_type": "code",
   "execution_count": 47,
   "id": "63909b83",
   "metadata": {
    "id": "63909b83"
   },
   "outputs": [],
   "source": [
    "def categorize_purpose(purpose):\n",
    "    if 'автомобил' in purpose:\n",
    "        return 'операции с автомобилем'\n",
    "    if 'жил' in purpose:\n",
    "        return 'операции с недвижимостью'\n",
    "    if 'недвиж' in purpose:\n",
    "        return 'операции с недвижимостью'\n",
    "    if 'образов'  in purpose:\n",
    "        return 'получение образования'\n",
    "    if 'свад' in purpose:\n",
    "        return 'проведение свадьбы'  \n",
    "# создайте функцию categorize_purpose()"
   ]
  },
  {
   "cell_type": "code",
   "execution_count": 48,
   "id": "7cb4a81d",
   "metadata": {
    "id": "7cb4a81d"
   },
   "outputs": [],
   "source": [
    "data['purpose_category'] = data['purpose'].apply(categorize_purpose)\n",
    "# примените функцию методом apply()"
   ]
  },
  {
   "cell_type": "code",
   "execution_count": null,
   "id": "104416db",
   "metadata": {},
   "outputs": [],
   "source": []
  }
 ],
 "metadata": {
  "ExecuteTimeLog": [
   {
    "duration": 456,
    "start_time": "2023-09-11T17:42:42.380Z"
   },
   {
    "duration": 142,
    "start_time": "2023-09-11T17:42:43.354Z"
   },
   {
    "duration": 20,
    "start_time": "2023-09-11T17:43:18.164Z"
   },
   {
    "duration": 16,
    "start_time": "2023-09-11T17:45:32.088Z"
   },
   {
    "duration": 10,
    "start_time": "2023-09-11T17:48:20.230Z"
   },
   {
    "duration": 8,
    "start_time": "2023-09-11T18:09:16.452Z"
   },
   {
    "duration": 9,
    "start_time": "2023-09-11T18:09:42.062Z"
   },
   {
    "duration": 48,
    "start_time": "2023-09-11T18:11:17.441Z"
   },
   {
    "duration": 16,
    "start_time": "2023-09-11T18:15:49.934Z"
   },
   {
    "duration": 4,
    "start_time": "2023-09-11T18:16:54.191Z"
   },
   {
    "duration": 97,
    "start_time": "2023-09-11T18:23:51.308Z"
   },
   {
    "duration": 88,
    "start_time": "2023-09-11T18:27:34.232Z"
   },
   {
    "duration": 13,
    "start_time": "2023-09-11T18:27:54.277Z"
   },
   {
    "duration": 10,
    "start_time": "2023-09-11T18:28:10.019Z"
   },
   {
    "duration": 146,
    "start_time": "2023-09-11T18:37:25.956Z"
   },
   {
    "duration": 7,
    "start_time": "2023-09-11T18:37:45.913Z"
   },
   {
    "duration": 11,
    "start_time": "2023-09-11T18:38:39.489Z"
   },
   {
    "duration": 9,
    "start_time": "2023-09-11T18:38:43.043Z"
   },
   {
    "duration": 7,
    "start_time": "2023-09-11T18:39:54.159Z"
   },
   {
    "duration": 30,
    "start_time": "2023-09-11T18:51:05.845Z"
   },
   {
    "duration": 28,
    "start_time": "2023-09-11T18:52:02.641Z"
   },
   {
    "duration": 6,
    "start_time": "2023-09-11T18:52:25.909Z"
   },
   {
    "duration": 4,
    "start_time": "2023-09-11T18:52:54.604Z"
   },
   {
    "duration": 411,
    "start_time": "2023-09-11T18:54:58.316Z"
   },
   {
    "duration": 109,
    "start_time": "2023-09-11T18:54:58.729Z"
   },
   {
    "duration": 39,
    "start_time": "2023-09-11T18:54:58.841Z"
   },
   {
    "duration": 28,
    "start_time": "2023-09-11T18:54:58.886Z"
   },
   {
    "duration": 10,
    "start_time": "2023-09-11T18:54:58.917Z"
   },
   {
    "duration": 51,
    "start_time": "2023-09-11T18:54:58.930Z"
   },
   {
    "duration": 5,
    "start_time": "2023-09-11T18:54:58.983Z"
   },
   {
    "duration": 11,
    "start_time": "2023-09-11T18:54:58.990Z"
   },
   {
    "duration": 7,
    "start_time": "2023-09-11T18:54:59.004Z"
   },
   {
    "duration": 3,
    "start_time": "2023-09-11T18:54:59.015Z"
   },
   {
    "duration": 8,
    "start_time": "2023-09-11T18:54:59.020Z"
   },
   {
    "duration": 35,
    "start_time": "2023-09-11T18:54:59.030Z"
   },
   {
    "duration": 21,
    "start_time": "2023-09-11T18:54:59.066Z"
   },
   {
    "duration": 12,
    "start_time": "2023-09-11T18:54:59.089Z"
   },
   {
    "duration": 5,
    "start_time": "2023-09-11T18:54:59.104Z"
   },
   {
    "duration": 5,
    "start_time": "2023-09-11T18:54:59.112Z"
   },
   {
    "duration": 5,
    "start_time": "2023-09-11T18:54:59.119Z"
   },
   {
    "duration": 11,
    "start_time": "2023-09-11T18:54:59.126Z"
   },
   {
    "duration": 15,
    "start_time": "2023-09-11T18:54:59.140Z"
   },
   {
    "duration": 26,
    "start_time": "2023-09-11T18:54:59.157Z"
   },
   {
    "duration": 8,
    "start_time": "2023-09-11T18:54:59.189Z"
   },
   {
    "duration": 10,
    "start_time": "2023-09-11T18:54:59.199Z"
   },
   {
    "duration": 8,
    "start_time": "2023-09-11T18:58:25.496Z"
   },
   {
    "duration": 11,
    "start_time": "2023-09-11T18:59:50.848Z"
   },
   {
    "duration": 71,
    "start_time": "2023-09-11T19:00:47.095Z"
   },
   {
    "duration": 10,
    "start_time": "2023-09-11T19:01:00.787Z"
   },
   {
    "duration": 10,
    "start_time": "2023-09-11T19:01:15.925Z"
   },
   {
    "duration": 15,
    "start_time": "2023-09-11T19:01:37.358Z"
   },
   {
    "duration": 9,
    "start_time": "2023-09-11T19:02:23.495Z"
   },
   {
    "duration": 10,
    "start_time": "2023-09-11T19:02:40.177Z"
   },
   {
    "duration": 5,
    "start_time": "2023-09-11T19:03:16.090Z"
   },
   {
    "duration": 50,
    "start_time": "2023-09-11T19:04:41.291Z"
   },
   {
    "duration": 9,
    "start_time": "2023-09-11T19:05:56.713Z"
   },
   {
    "duration": 16,
    "start_time": "2023-09-11T19:06:31.228Z"
   },
   {
    "duration": 8,
    "start_time": "2023-09-11T19:08:33.256Z"
   },
   {
    "duration": 212,
    "start_time": "2023-09-11T19:10:00.118Z"
   },
   {
    "duration": 5,
    "start_time": "2023-09-11T19:10:14.916Z"
   },
   {
    "duration": 5,
    "start_time": "2023-09-11T19:11:27.381Z"
   },
   {
    "duration": 24,
    "start_time": "2023-09-11T19:12:14.773Z"
   },
   {
    "duration": 14,
    "start_time": "2023-09-11T19:13:52.057Z"
   },
   {
    "duration": 6,
    "start_time": "2023-09-11T19:15:37.088Z"
   },
   {
    "duration": 7,
    "start_time": "2023-09-11T19:18:09.813Z"
   },
   {
    "duration": 6,
    "start_time": "2023-09-11T19:18:48.284Z"
   },
   {
    "duration": 415,
    "start_time": "2023-09-11T19:19:05.016Z"
   },
   {
    "duration": 106,
    "start_time": "2023-09-11T19:19:05.433Z"
   },
   {
    "duration": 12,
    "start_time": "2023-09-11T19:19:05.543Z"
   },
   {
    "duration": 31,
    "start_time": "2023-09-11T19:19:05.565Z"
   },
   {
    "duration": 15,
    "start_time": "2023-09-11T19:19:05.597Z"
   },
   {
    "duration": 57,
    "start_time": "2023-09-11T19:19:05.614Z"
   },
   {
    "duration": 6,
    "start_time": "2023-09-11T19:19:05.680Z"
   },
   {
    "duration": 12,
    "start_time": "2023-09-11T19:19:05.689Z"
   },
   {
    "duration": 13,
    "start_time": "2023-09-11T19:19:05.703Z"
   },
   {
    "duration": 22,
    "start_time": "2023-09-11T19:19:05.718Z"
   },
   {
    "duration": 22,
    "start_time": "2023-09-11T19:19:05.742Z"
   },
   {
    "duration": 51,
    "start_time": "2023-09-11T19:19:05.770Z"
   },
   {
    "duration": 10,
    "start_time": "2023-09-11T19:19:05.824Z"
   },
   {
    "duration": 23,
    "start_time": "2023-09-11T19:19:05.836Z"
   },
   {
    "duration": 28,
    "start_time": "2023-09-11T19:19:05.861Z"
   },
   {
    "duration": 13,
    "start_time": "2023-09-11T19:19:05.891Z"
   },
   {
    "duration": 17,
    "start_time": "2023-09-11T19:19:05.905Z"
   },
   {
    "duration": 11,
    "start_time": "2023-09-11T19:19:05.924Z"
   },
   {
    "duration": 7,
    "start_time": "2023-09-11T19:19:05.937Z"
   },
   {
    "duration": 9,
    "start_time": "2023-09-11T19:19:05.946Z"
   },
   {
    "duration": 10,
    "start_time": "2023-09-11T19:19:05.961Z"
   },
   {
    "duration": 36,
    "start_time": "2023-09-11T19:19:05.973Z"
   },
   {
    "duration": 449,
    "start_time": "2023-09-11T19:19:24.783Z"
   },
   {
    "duration": 106,
    "start_time": "2023-09-11T19:19:25.234Z"
   },
   {
    "duration": 10,
    "start_time": "2023-09-11T19:19:25.342Z"
   },
   {
    "duration": 39,
    "start_time": "2023-09-11T19:19:25.353Z"
   },
   {
    "duration": 10,
    "start_time": "2023-09-11T19:19:25.395Z"
   },
   {
    "duration": 36,
    "start_time": "2023-09-11T19:19:25.407Z"
   },
   {
    "duration": 3,
    "start_time": "2023-09-11T19:19:25.445Z"
   },
   {
    "duration": 20,
    "start_time": "2023-09-11T19:19:25.457Z"
   },
   {
    "duration": 8,
    "start_time": "2023-09-11T19:19:25.485Z"
   },
   {
    "duration": 14,
    "start_time": "2023-09-11T19:19:25.495Z"
   },
   {
    "duration": 4,
    "start_time": "2023-09-11T19:19:25.511Z"
   },
   {
    "duration": 81,
    "start_time": "2023-09-11T19:19:25.517Z"
   },
   {
    "duration": 11,
    "start_time": "2023-09-11T19:19:25.600Z"
   },
   {
    "duration": 7,
    "start_time": "2023-09-11T19:19:25.615Z"
   },
   {
    "duration": 14,
    "start_time": "2023-09-11T19:19:25.624Z"
   },
   {
    "duration": 27,
    "start_time": "2023-09-11T19:19:25.639Z"
   },
   {
    "duration": 8,
    "start_time": "2023-09-11T19:19:25.669Z"
   },
   {
    "duration": 9,
    "start_time": "2023-09-11T19:19:25.679Z"
   },
   {
    "duration": 18,
    "start_time": "2023-09-11T19:19:25.690Z"
   },
   {
    "duration": 3,
    "start_time": "2023-09-11T19:19:25.711Z"
   },
   {
    "duration": 5,
    "start_time": "2023-09-11T19:19:25.716Z"
   },
   {
    "duration": 11,
    "start_time": "2023-09-11T19:19:25.722Z"
   },
   {
    "duration": 499,
    "start_time": "2023-09-11T19:20:44.450Z"
   },
   {
    "duration": 120,
    "start_time": "2023-09-11T19:20:44.955Z"
   },
   {
    "duration": 24,
    "start_time": "2023-09-11T19:20:45.085Z"
   },
   {
    "duration": 22,
    "start_time": "2023-09-11T19:20:45.112Z"
   },
   {
    "duration": 11,
    "start_time": "2023-09-11T19:20:45.136Z"
   },
   {
    "duration": 72,
    "start_time": "2023-09-11T19:20:45.149Z"
   },
   {
    "duration": 4,
    "start_time": "2023-09-11T19:20:45.223Z"
   },
   {
    "duration": 16,
    "start_time": "2023-09-11T19:20:45.229Z"
   },
   {
    "duration": 27,
    "start_time": "2023-09-11T19:20:45.247Z"
   },
   {
    "duration": 14,
    "start_time": "2023-09-11T19:20:45.283Z"
   },
   {
    "duration": 7,
    "start_time": "2023-09-11T19:20:45.299Z"
   },
   {
    "duration": 38,
    "start_time": "2023-09-11T19:20:45.308Z"
   },
   {
    "duration": 27,
    "start_time": "2023-09-11T19:20:45.348Z"
   },
   {
    "duration": 5,
    "start_time": "2023-09-11T19:20:45.387Z"
   },
   {
    "duration": 15,
    "start_time": "2023-09-11T19:20:45.394Z"
   },
   {
    "duration": 10,
    "start_time": "2023-09-11T19:20:45.410Z"
   },
   {
    "duration": 6,
    "start_time": "2023-09-11T19:20:45.422Z"
   },
   {
    "duration": 6,
    "start_time": "2023-09-11T19:20:45.430Z"
   },
   {
    "duration": 6,
    "start_time": "2023-09-11T19:20:45.438Z"
   },
   {
    "duration": 4,
    "start_time": "2023-09-11T19:20:45.460Z"
   },
   {
    "duration": 8,
    "start_time": "2023-09-11T19:20:45.466Z"
   },
   {
    "duration": 12,
    "start_time": "2023-09-11T19:20:45.477Z"
   },
   {
    "duration": 16,
    "start_time": "2023-09-11T19:21:01.683Z"
   },
   {
    "duration": 4,
    "start_time": "2023-09-11T19:31:27.693Z"
   },
   {
    "duration": 6,
    "start_time": "2023-09-11T19:31:29.024Z"
   },
   {
    "duration": 5,
    "start_time": "2023-09-11T19:32:26.502Z"
   },
   {
    "duration": 9,
    "start_time": "2023-09-11T19:34:25.299Z"
   },
   {
    "duration": 17,
    "start_time": "2023-09-11T19:35:43.886Z"
   },
   {
    "duration": 427,
    "start_time": "2023-09-11T19:36:54.615Z"
   },
   {
    "duration": 108,
    "start_time": "2023-09-11T19:36:55.045Z"
   },
   {
    "duration": 23,
    "start_time": "2023-09-11T19:36:55.161Z"
   },
   {
    "duration": 18,
    "start_time": "2023-09-11T19:36:55.187Z"
   },
   {
    "duration": 10,
    "start_time": "2023-09-11T19:36:55.206Z"
   },
   {
    "duration": 72,
    "start_time": "2023-09-11T19:36:55.217Z"
   },
   {
    "duration": 5,
    "start_time": "2023-09-11T19:36:55.292Z"
   },
   {
    "duration": 13,
    "start_time": "2023-09-11T19:36:55.299Z"
   },
   {
    "duration": 19,
    "start_time": "2023-09-11T19:36:55.315Z"
   },
   {
    "duration": 15,
    "start_time": "2023-09-11T19:36:55.336Z"
   },
   {
    "duration": 18,
    "start_time": "2023-09-11T19:36:55.352Z"
   },
   {
    "duration": 51,
    "start_time": "2023-09-11T19:36:55.372Z"
   },
   {
    "duration": 9,
    "start_time": "2023-09-11T19:36:55.425Z"
   },
   {
    "duration": 4,
    "start_time": "2023-09-11T19:36:55.436Z"
   },
   {
    "duration": 29,
    "start_time": "2023-09-11T19:36:55.442Z"
   },
   {
    "duration": 10,
    "start_time": "2023-09-11T19:36:55.482Z"
   },
   {
    "duration": 42,
    "start_time": "2023-09-11T19:36:55.494Z"
   },
   {
    "duration": 2,
    "start_time": "2023-09-11T19:36:55.538Z"
   },
   {
    "duration": 5,
    "start_time": "2023-09-11T19:36:55.542Z"
   },
   {
    "duration": 49,
    "start_time": "2023-09-11T19:36:55.548Z"
   },
   {
    "duration": 3,
    "start_time": "2023-09-11T19:36:55.599Z"
   },
   {
    "duration": 5,
    "start_time": "2023-09-11T19:36:55.603Z"
   },
   {
    "duration": 5,
    "start_time": "2023-09-11T19:38:35.213Z"
   },
   {
    "duration": 4,
    "start_time": "2023-09-11T19:39:01.798Z"
   },
   {
    "duration": 9,
    "start_time": "2023-09-11T19:40:01.614Z"
   },
   {
    "duration": 29,
    "start_time": "2023-09-11T19:40:04.634Z"
   },
   {
    "duration": 7,
    "start_time": "2023-09-11T19:40:13.404Z"
   },
   {
    "duration": 115,
    "start_time": "2023-09-11T19:42:56.104Z"
   },
   {
    "duration": 11,
    "start_time": "2023-09-11T19:43:00.899Z"
   },
   {
    "duration": 121,
    "start_time": "2023-09-11T19:47:49.281Z"
   },
   {
    "duration": 2,
    "start_time": "2023-09-11T19:48:32.186Z"
   },
   {
    "duration": 14,
    "start_time": "2023-09-11T19:51:01.226Z"
   },
   {
    "duration": 5,
    "start_time": "2023-09-11T19:52:15.884Z"
   },
   {
    "duration": 14,
    "start_time": "2023-09-11T19:52:16.790Z"
   },
   {
    "duration": 4,
    "start_time": "2023-09-11T19:54:43.608Z"
   },
   {
    "duration": 14,
    "start_time": "2023-09-11T19:54:44.518Z"
   },
   {
    "duration": 4,
    "start_time": "2023-09-11T19:56:00.090Z"
   },
   {
    "duration": 16,
    "start_time": "2023-09-11T19:56:05.035Z"
   },
   {
    "duration": 5,
    "start_time": "2023-09-11T19:58:06.383Z"
   },
   {
    "duration": 24,
    "start_time": "2023-09-11T19:58:06.841Z"
   },
   {
    "duration": 4,
    "start_time": "2023-09-11T19:58:51.004Z"
   },
   {
    "duration": 15,
    "start_time": "2023-09-11T19:58:51.842Z"
   },
   {
    "duration": 4,
    "start_time": "2023-09-11T19:59:34.791Z"
   },
   {
    "duration": 26,
    "start_time": "2023-09-11T19:59:35.589Z"
   },
   {
    "duration": 16,
    "start_time": "2023-09-11T19:59:46.085Z"
   },
   {
    "duration": 23,
    "start_time": "2023-09-11T20:00:40.288Z"
   },
   {
    "duration": 4,
    "start_time": "2023-09-11T20:00:59.025Z"
   },
   {
    "duration": 9,
    "start_time": "2023-09-11T20:01:01.016Z"
   }
  ],
  "colab": {
   "provenance": []
  },
  "kernelspec": {
   "display_name": "Python 3 (ipykernel)",
   "language": "python",
   "name": "python3"
  },
  "language_info": {
   "codemirror_mode": {
    "name": "ipython",
    "version": 3
   },
   "file_extension": ".py",
   "mimetype": "text/x-python",
   "name": "python",
   "nbconvert_exporter": "python",
   "pygments_lexer": "ipython3",
   "version": "3.9.5"
  },
  "toc": {
   "base_numbering": 1,
   "nav_menu": {},
   "number_sections": true,
   "sideBar": true,
   "skip_h1_title": true,
   "title_cell": "Table of Contents",
   "title_sidebar": "Contents",
   "toc_cell": false,
   "toc_position": {},
   "toc_section_display": true,
   "toc_window_display": false
  }
 },
 "nbformat": 4,
 "nbformat_minor": 5
}

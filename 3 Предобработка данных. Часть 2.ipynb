{
 "cells": [
  {
   "cell_type": "markdown",
   "id": "386f2ae7",
   "metadata": {
    "deletable": false,
    "editable": false,
    "id": "386f2ae7"
   },
   "source": [
    "# Исследование надежности заемщиков\n"
   ]
  },
  {
   "cell_type": "markdown",
   "id": "14467612",
   "metadata": {},
   "source": [
    "Описание проекта\n",
    "Заказчик — кредитный отдел банка. Нужно разобраться, влияет ли семейное положение и количество детей клиента на факт погашения кредита в срок. Входные данные от банка — статистика о платёжеспособности клиентов.\n",
    "Результаты исследования будут учтены при построении модели кредитного скоринга — специальной системы, которая оценивает способность потенциального заёмщика вернуть кредит банку.\n",
    "Описание данных\n",
    "children — количество детей в семье\n",
    "days_employed — общий трудовой стаж в днях\n",
    "dob_years — возраст клиента в годах\n",
    "education — уровень образования клиента\n",
    "education_id — идентификатор уровня образования\n",
    "family_status — семейное положение\n",
    "family_status_id — идентификатор семейного положения\n",
    "gender — пол клиента\n",
    "income_type — тип занятости\n",
    "debt — имел ли задолженность по возврату кредитов\n",
    "total_income — ежемесячный доход\n",
    "purpose — цель получения кредита"
   ]
  },
  {
   "cell_type": "markdown",
   "id": "26613308",
   "metadata": {
    "deletable": false,
    "editable": false,
    "id": "26613308"
   },
   "source": [
    "## Откройте таблицу и изучите общую информацию о данных"
   ]
  },
  {
   "cell_type": "markdown",
   "id": "3c9f838e",
   "metadata": {
    "deletable": false,
    "editable": false,
    "id": "3c9f838e"
   },
   "source": [
    "**Задание 1. Импортируйте библиотеку pandas. Считайте данные из csv-файла в датафрейм и сохраните в переменную `data`. Путь к файлу:**\n",
    "\n",
    "`/datasets/data.csv`"
   ]
  },
  {
   "cell_type": "code",
   "execution_count": 1,
   "id": "77a68a90",
   "metadata": {
    "deletable": false,
    "id": "77a68a90"
   },
   "outputs": [],
   "source": [
    "import pandas as pd\n",
    "\n",
    "try:\n",
    "    data = pd.read_csv('/datasets/data.csv')\n",
    "except:\n",
    "    data = pd.read_csv('https://code.s3.yandex.net/datasets/data.csv')"
   ]
  },
  {
   "cell_type": "markdown",
   "id": "45365635",
   "metadata": {
    "deletable": false,
    "editable": false,
    "id": "45365635"
   },
   "source": [
    "**Задание 2. Выведите первые 20 строчек датафрейма `data` на экран.**"
   ]
  },
  {
   "cell_type": "code",
   "execution_count": 2,
   "id": "b0451a9a",
   "metadata": {
    "deletable": false,
    "id": "b0451a9a",
    "outputId": "1a8f3ef2-d323-4ec2-ddf7-89670b5944c4"
   },
   "outputs": [
    {
     "data": {
      "text/html": [
       "<div>\n",
       "<style scoped>\n",
       "    .dataframe tbody tr th:only-of-type {\n",
       "        vertical-align: middle;\n",
       "    }\n",
       "\n",
       "    .dataframe tbody tr th {\n",
       "        vertical-align: top;\n",
       "    }\n",
       "\n",
       "    .dataframe thead th {\n",
       "        text-align: right;\n",
       "    }\n",
       "</style>\n",
       "<table border=\"1\" class=\"dataframe\">\n",
       "  <thead>\n",
       "    <tr style=\"text-align: right;\">\n",
       "      <th></th>\n",
       "      <th>children</th>\n",
       "      <th>days_employed</th>\n",
       "      <th>dob_years</th>\n",
       "      <th>education</th>\n",
       "      <th>education_id</th>\n",
       "      <th>family_status</th>\n",
       "      <th>family_status_id</th>\n",
       "      <th>gender</th>\n",
       "      <th>income_type</th>\n",
       "      <th>debt</th>\n",
       "      <th>total_income</th>\n",
       "      <th>purpose</th>\n",
       "    </tr>\n",
       "  </thead>\n",
       "  <tbody>\n",
       "    <tr>\n",
       "      <th>0</th>\n",
       "      <td>1</td>\n",
       "      <td>-8437.673028</td>\n",
       "      <td>42</td>\n",
       "      <td>высшее</td>\n",
       "      <td>0</td>\n",
       "      <td>женат / замужем</td>\n",
       "      <td>0</td>\n",
       "      <td>F</td>\n",
       "      <td>сотрудник</td>\n",
       "      <td>0</td>\n",
       "      <td>253875.639453</td>\n",
       "      <td>покупка жилья</td>\n",
       "    </tr>\n",
       "    <tr>\n",
       "      <th>1</th>\n",
       "      <td>1</td>\n",
       "      <td>-4024.803754</td>\n",
       "      <td>36</td>\n",
       "      <td>среднее</td>\n",
       "      <td>1</td>\n",
       "      <td>женат / замужем</td>\n",
       "      <td>0</td>\n",
       "      <td>F</td>\n",
       "      <td>сотрудник</td>\n",
       "      <td>0</td>\n",
       "      <td>112080.014102</td>\n",
       "      <td>приобретение автомобиля</td>\n",
       "    </tr>\n",
       "    <tr>\n",
       "      <th>2</th>\n",
       "      <td>0</td>\n",
       "      <td>-5623.422610</td>\n",
       "      <td>33</td>\n",
       "      <td>Среднее</td>\n",
       "      <td>1</td>\n",
       "      <td>женат / замужем</td>\n",
       "      <td>0</td>\n",
       "      <td>M</td>\n",
       "      <td>сотрудник</td>\n",
       "      <td>0</td>\n",
       "      <td>145885.952297</td>\n",
       "      <td>покупка жилья</td>\n",
       "    </tr>\n",
       "    <tr>\n",
       "      <th>3</th>\n",
       "      <td>3</td>\n",
       "      <td>-4124.747207</td>\n",
       "      <td>32</td>\n",
       "      <td>среднее</td>\n",
       "      <td>1</td>\n",
       "      <td>женат / замужем</td>\n",
       "      <td>0</td>\n",
       "      <td>M</td>\n",
       "      <td>сотрудник</td>\n",
       "      <td>0</td>\n",
       "      <td>267628.550329</td>\n",
       "      <td>дополнительное образование</td>\n",
       "    </tr>\n",
       "    <tr>\n",
       "      <th>4</th>\n",
       "      <td>0</td>\n",
       "      <td>340266.072047</td>\n",
       "      <td>53</td>\n",
       "      <td>среднее</td>\n",
       "      <td>1</td>\n",
       "      <td>гражданский брак</td>\n",
       "      <td>1</td>\n",
       "      <td>F</td>\n",
       "      <td>пенсионер</td>\n",
       "      <td>0</td>\n",
       "      <td>158616.077870</td>\n",
       "      <td>сыграть свадьбу</td>\n",
       "    </tr>\n",
       "    <tr>\n",
       "      <th>5</th>\n",
       "      <td>0</td>\n",
       "      <td>-926.185831</td>\n",
       "      <td>27</td>\n",
       "      <td>высшее</td>\n",
       "      <td>0</td>\n",
       "      <td>гражданский брак</td>\n",
       "      <td>1</td>\n",
       "      <td>M</td>\n",
       "      <td>компаньон</td>\n",
       "      <td>0</td>\n",
       "      <td>255763.565419</td>\n",
       "      <td>покупка жилья</td>\n",
       "    </tr>\n",
       "    <tr>\n",
       "      <th>6</th>\n",
       "      <td>0</td>\n",
       "      <td>-2879.202052</td>\n",
       "      <td>43</td>\n",
       "      <td>высшее</td>\n",
       "      <td>0</td>\n",
       "      <td>женат / замужем</td>\n",
       "      <td>0</td>\n",
       "      <td>F</td>\n",
       "      <td>компаньон</td>\n",
       "      <td>0</td>\n",
       "      <td>240525.971920</td>\n",
       "      <td>операции с жильем</td>\n",
       "    </tr>\n",
       "    <tr>\n",
       "      <th>7</th>\n",
       "      <td>0</td>\n",
       "      <td>-152.779569</td>\n",
       "      <td>50</td>\n",
       "      <td>СРЕДНЕЕ</td>\n",
       "      <td>1</td>\n",
       "      <td>женат / замужем</td>\n",
       "      <td>0</td>\n",
       "      <td>M</td>\n",
       "      <td>сотрудник</td>\n",
       "      <td>0</td>\n",
       "      <td>135823.934197</td>\n",
       "      <td>образование</td>\n",
       "    </tr>\n",
       "    <tr>\n",
       "      <th>8</th>\n",
       "      <td>2</td>\n",
       "      <td>-6929.865299</td>\n",
       "      <td>35</td>\n",
       "      <td>ВЫСШЕЕ</td>\n",
       "      <td>0</td>\n",
       "      <td>гражданский брак</td>\n",
       "      <td>1</td>\n",
       "      <td>F</td>\n",
       "      <td>сотрудник</td>\n",
       "      <td>0</td>\n",
       "      <td>95856.832424</td>\n",
       "      <td>на проведение свадьбы</td>\n",
       "    </tr>\n",
       "    <tr>\n",
       "      <th>9</th>\n",
       "      <td>0</td>\n",
       "      <td>-2188.756445</td>\n",
       "      <td>41</td>\n",
       "      <td>среднее</td>\n",
       "      <td>1</td>\n",
       "      <td>женат / замужем</td>\n",
       "      <td>0</td>\n",
       "      <td>M</td>\n",
       "      <td>сотрудник</td>\n",
       "      <td>0</td>\n",
       "      <td>144425.938277</td>\n",
       "      <td>покупка жилья для семьи</td>\n",
       "    </tr>\n",
       "    <tr>\n",
       "      <th>10</th>\n",
       "      <td>2</td>\n",
       "      <td>-4171.483647</td>\n",
       "      <td>36</td>\n",
       "      <td>высшее</td>\n",
       "      <td>0</td>\n",
       "      <td>женат / замужем</td>\n",
       "      <td>0</td>\n",
       "      <td>M</td>\n",
       "      <td>компаньон</td>\n",
       "      <td>0</td>\n",
       "      <td>113943.491460</td>\n",
       "      <td>покупка недвижимости</td>\n",
       "    </tr>\n",
       "    <tr>\n",
       "      <th>11</th>\n",
       "      <td>0</td>\n",
       "      <td>-792.701887</td>\n",
       "      <td>40</td>\n",
       "      <td>среднее</td>\n",
       "      <td>1</td>\n",
       "      <td>женат / замужем</td>\n",
       "      <td>0</td>\n",
       "      <td>F</td>\n",
       "      <td>сотрудник</td>\n",
       "      <td>0</td>\n",
       "      <td>77069.234271</td>\n",
       "      <td>покупка коммерческой недвижимости</td>\n",
       "    </tr>\n",
       "    <tr>\n",
       "      <th>12</th>\n",
       "      <td>0</td>\n",
       "      <td>NaN</td>\n",
       "      <td>65</td>\n",
       "      <td>среднее</td>\n",
       "      <td>1</td>\n",
       "      <td>гражданский брак</td>\n",
       "      <td>1</td>\n",
       "      <td>M</td>\n",
       "      <td>пенсионер</td>\n",
       "      <td>0</td>\n",
       "      <td>NaN</td>\n",
       "      <td>сыграть свадьбу</td>\n",
       "    </tr>\n",
       "    <tr>\n",
       "      <th>13</th>\n",
       "      <td>0</td>\n",
       "      <td>-1846.641941</td>\n",
       "      <td>54</td>\n",
       "      <td>неоконченное высшее</td>\n",
       "      <td>2</td>\n",
       "      <td>женат / замужем</td>\n",
       "      <td>0</td>\n",
       "      <td>F</td>\n",
       "      <td>сотрудник</td>\n",
       "      <td>0</td>\n",
       "      <td>130458.228857</td>\n",
       "      <td>приобретение автомобиля</td>\n",
       "    </tr>\n",
       "    <tr>\n",
       "      <th>14</th>\n",
       "      <td>0</td>\n",
       "      <td>-1844.956182</td>\n",
       "      <td>56</td>\n",
       "      <td>высшее</td>\n",
       "      <td>0</td>\n",
       "      <td>гражданский брак</td>\n",
       "      <td>1</td>\n",
       "      <td>F</td>\n",
       "      <td>компаньон</td>\n",
       "      <td>1</td>\n",
       "      <td>165127.911772</td>\n",
       "      <td>покупка жилой недвижимости</td>\n",
       "    </tr>\n",
       "    <tr>\n",
       "      <th>15</th>\n",
       "      <td>1</td>\n",
       "      <td>-972.364419</td>\n",
       "      <td>26</td>\n",
       "      <td>среднее</td>\n",
       "      <td>1</td>\n",
       "      <td>женат / замужем</td>\n",
       "      <td>0</td>\n",
       "      <td>F</td>\n",
       "      <td>сотрудник</td>\n",
       "      <td>0</td>\n",
       "      <td>116820.904450</td>\n",
       "      <td>строительство собственной недвижимости</td>\n",
       "    </tr>\n",
       "    <tr>\n",
       "      <th>16</th>\n",
       "      <td>0</td>\n",
       "      <td>-1719.934226</td>\n",
       "      <td>35</td>\n",
       "      <td>среднее</td>\n",
       "      <td>1</td>\n",
       "      <td>женат / замужем</td>\n",
       "      <td>0</td>\n",
       "      <td>F</td>\n",
       "      <td>сотрудник</td>\n",
       "      <td>0</td>\n",
       "      <td>289202.704229</td>\n",
       "      <td>недвижимость</td>\n",
       "    </tr>\n",
       "    <tr>\n",
       "      <th>17</th>\n",
       "      <td>0</td>\n",
       "      <td>-2369.999720</td>\n",
       "      <td>33</td>\n",
       "      <td>высшее</td>\n",
       "      <td>0</td>\n",
       "      <td>гражданский брак</td>\n",
       "      <td>1</td>\n",
       "      <td>M</td>\n",
       "      <td>сотрудник</td>\n",
       "      <td>0</td>\n",
       "      <td>90410.586745</td>\n",
       "      <td>строительство недвижимости</td>\n",
       "    </tr>\n",
       "    <tr>\n",
       "      <th>18</th>\n",
       "      <td>0</td>\n",
       "      <td>400281.136913</td>\n",
       "      <td>53</td>\n",
       "      <td>среднее</td>\n",
       "      <td>1</td>\n",
       "      <td>вдовец / вдова</td>\n",
       "      <td>2</td>\n",
       "      <td>F</td>\n",
       "      <td>пенсионер</td>\n",
       "      <td>0</td>\n",
       "      <td>56823.777243</td>\n",
       "      <td>на покупку подержанного автомобиля</td>\n",
       "    </tr>\n",
       "    <tr>\n",
       "      <th>19</th>\n",
       "      <td>0</td>\n",
       "      <td>-10038.818549</td>\n",
       "      <td>48</td>\n",
       "      <td>СРЕДНЕЕ</td>\n",
       "      <td>1</td>\n",
       "      <td>в разводе</td>\n",
       "      <td>3</td>\n",
       "      <td>F</td>\n",
       "      <td>сотрудник</td>\n",
       "      <td>0</td>\n",
       "      <td>242831.107982</td>\n",
       "      <td>на покупку своего автомобиля</td>\n",
       "    </tr>\n",
       "  </tbody>\n",
       "</table>\n",
       "</div>"
      ],
      "text/plain": [
       "    children  days_employed  dob_years            education  education_id  \\\n",
       "0          1   -8437.673028         42               высшее             0   \n",
       "1          1   -4024.803754         36              среднее             1   \n",
       "2          0   -5623.422610         33              Среднее             1   \n",
       "3          3   -4124.747207         32              среднее             1   \n",
       "4          0  340266.072047         53              среднее             1   \n",
       "5          0    -926.185831         27               высшее             0   \n",
       "6          0   -2879.202052         43               высшее             0   \n",
       "7          0    -152.779569         50              СРЕДНЕЕ             1   \n",
       "8          2   -6929.865299         35               ВЫСШЕЕ             0   \n",
       "9          0   -2188.756445         41              среднее             1   \n",
       "10         2   -4171.483647         36               высшее             0   \n",
       "11         0    -792.701887         40              среднее             1   \n",
       "12         0            NaN         65              среднее             1   \n",
       "13         0   -1846.641941         54  неоконченное высшее             2   \n",
       "14         0   -1844.956182         56               высшее             0   \n",
       "15         1    -972.364419         26              среднее             1   \n",
       "16         0   -1719.934226         35              среднее             1   \n",
       "17         0   -2369.999720         33               высшее             0   \n",
       "18         0  400281.136913         53              среднее             1   \n",
       "19         0  -10038.818549         48              СРЕДНЕЕ             1   \n",
       "\n",
       "       family_status  family_status_id gender income_type  debt  \\\n",
       "0    женат / замужем                 0      F   сотрудник     0   \n",
       "1    женат / замужем                 0      F   сотрудник     0   \n",
       "2    женат / замужем                 0      M   сотрудник     0   \n",
       "3    женат / замужем                 0      M   сотрудник     0   \n",
       "4   гражданский брак                 1      F   пенсионер     0   \n",
       "5   гражданский брак                 1      M   компаньон     0   \n",
       "6    женат / замужем                 0      F   компаньон     0   \n",
       "7    женат / замужем                 0      M   сотрудник     0   \n",
       "8   гражданский брак                 1      F   сотрудник     0   \n",
       "9    женат / замужем                 0      M   сотрудник     0   \n",
       "10   женат / замужем                 0      M   компаньон     0   \n",
       "11   женат / замужем                 0      F   сотрудник     0   \n",
       "12  гражданский брак                 1      M   пенсионер     0   \n",
       "13   женат / замужем                 0      F   сотрудник     0   \n",
       "14  гражданский брак                 1      F   компаньон     1   \n",
       "15   женат / замужем                 0      F   сотрудник     0   \n",
       "16   женат / замужем                 0      F   сотрудник     0   \n",
       "17  гражданский брак                 1      M   сотрудник     0   \n",
       "18    вдовец / вдова                 2      F   пенсионер     0   \n",
       "19         в разводе                 3      F   сотрудник     0   \n",
       "\n",
       "     total_income                                 purpose  \n",
       "0   253875.639453                           покупка жилья  \n",
       "1   112080.014102                 приобретение автомобиля  \n",
       "2   145885.952297                           покупка жилья  \n",
       "3   267628.550329              дополнительное образование  \n",
       "4   158616.077870                         сыграть свадьбу  \n",
       "5   255763.565419                           покупка жилья  \n",
       "6   240525.971920                       операции с жильем  \n",
       "7   135823.934197                             образование  \n",
       "8    95856.832424                   на проведение свадьбы  \n",
       "9   144425.938277                 покупка жилья для семьи  \n",
       "10  113943.491460                    покупка недвижимости  \n",
       "11   77069.234271       покупка коммерческой недвижимости  \n",
       "12            NaN                         сыграть свадьбу  \n",
       "13  130458.228857                 приобретение автомобиля  \n",
       "14  165127.911772              покупка жилой недвижимости  \n",
       "15  116820.904450  строительство собственной недвижимости  \n",
       "16  289202.704229                            недвижимость  \n",
       "17   90410.586745              строительство недвижимости  \n",
       "18   56823.777243      на покупку подержанного автомобиля  \n",
       "19  242831.107982            на покупку своего автомобиля  "
      ]
     },
     "execution_count": 2,
     "metadata": {},
     "output_type": "execute_result"
    }
   ],
   "source": [
    "data.head(20)"
   ]
  },
  {
   "cell_type": "markdown",
   "id": "0ed8f27f",
   "metadata": {
    "deletable": false,
    "editable": false,
    "id": "0ed8f27f"
   },
   "source": [
    "**Задание 3. Выведите основную информацию о датафрейме с помощью метода `info()`.**"
   ]
  },
  {
   "cell_type": "code",
   "execution_count": 3,
   "id": "ab3f863b",
   "metadata": {
    "deletable": false,
    "id": "ab3f863b",
    "outputId": "15376089-8dad-46c9-b520-c05248d43158"
   },
   "outputs": [
    {
     "name": "stdout",
     "output_type": "stream",
     "text": [
      "<class 'pandas.core.frame.DataFrame'>\n",
      "RangeIndex: 21525 entries, 0 to 21524\n",
      "Data columns (total 12 columns):\n",
      " #   Column            Non-Null Count  Dtype  \n",
      "---  ------            --------------  -----  \n",
      " 0   children          21525 non-null  int64  \n",
      " 1   days_employed     19351 non-null  float64\n",
      " 2   dob_years         21525 non-null  int64  \n",
      " 3   education         21525 non-null  object \n",
      " 4   education_id      21525 non-null  int64  \n",
      " 5   family_status     21525 non-null  object \n",
      " 6   family_status_id  21525 non-null  int64  \n",
      " 7   gender            21525 non-null  object \n",
      " 8   income_type       21525 non-null  object \n",
      " 9   debt              21525 non-null  int64  \n",
      " 10  total_income      19351 non-null  float64\n",
      " 11  purpose           21525 non-null  object \n",
      "dtypes: float64(2), int64(5), object(5)\n",
      "memory usage: 2.0+ MB\n"
     ]
    }
   ],
   "source": [
    "data.info()"
   ]
  },
  {
   "cell_type": "markdown",
   "id": "60e3e22d",
   "metadata": {
    "deletable": false,
    "editable": false,
    "id": "60e3e22d"
   },
   "source": [
    "## Предобработка данных"
   ]
  },
  {
   "cell_type": "markdown",
   "id": "03dc170c",
   "metadata": {
    "deletable": false,
    "editable": false,
    "id": "03dc170c"
   },
   "source": [
    "### Удаление пропусков"
   ]
  },
  {
   "cell_type": "markdown",
   "id": "a4f54eef",
   "metadata": {
    "deletable": false,
    "editable": false,
    "id": "a4f54eef"
   },
   "source": [
    "**Задание 4. Выведите количество пропущенных значений для каждого столбца. Используйте комбинацию двух методов.**"
   ]
  },
  {
   "cell_type": "code",
   "execution_count": 4,
   "id": "2dc372b2",
   "metadata": {
    "deletable": false,
    "id": "2dc372b2",
    "outputId": "81f4d817-781c-465c-ed15-91ce4446810d"
   },
   "outputs": [
    {
     "data": {
      "text/plain": [
       "children               0\n",
       "days_employed       2174\n",
       "dob_years              0\n",
       "education              0\n",
       "education_id           0\n",
       "family_status          0\n",
       "family_status_id       0\n",
       "gender                 0\n",
       "income_type            0\n",
       "debt                   0\n",
       "total_income        2174\n",
       "purpose                0\n",
       "dtype: int64"
      ]
     },
     "execution_count": 4,
     "metadata": {},
     "output_type": "execute_result"
    }
   ],
   "source": [
    "data.isna().sum()"
   ]
  },
  {
   "cell_type": "markdown",
   "id": "14f011b1",
   "metadata": {
    "deletable": false,
    "editable": false,
    "id": "14f011b1"
   },
   "source": [
    "**Задание 5. В двух столбцах есть пропущенные значения. Один из них — `days_employed`. Пропуски в этом столбце вы обработаете на следующем этапе. Другой столбец с пропущенными значениями — `total_income` — хранит данные о доходах. На сумму дохода сильнее всего влияет тип занятости, поэтому заполнить пропуски в этом столбце нужно медианным значением по каждому типу из столбца `income_type`. Например, у человека с типом занятости `сотрудник` пропуск в столбце `total_income` должен быть заполнен медианным доходом среди всех записей с тем же типом.**"
   ]
  },
  {
   "cell_type": "code",
   "execution_count": 5,
   "id": "bdabfb6e",
   "metadata": {
    "deletable": false,
    "id": "bdabfb6e"
   },
   "outputs": [],
   "source": [
    "for t in data['income_type'].unique():\n",
    "    data.loc[(data['income_type'] == t) & (data['total_income'].isna()), 'total_income'] = \\\n",
    "    data.loc[(data['income_type'] == t), 'total_income'].median()"
   ]
  },
  {
   "cell_type": "markdown",
   "id": "5be34059",
   "metadata": {
    "deletable": false,
    "editable": false,
    "id": "5be34059"
   },
   "source": [
    "### Обработка аномальных значений"
   ]
  },
  {
   "cell_type": "markdown",
   "id": "a87606cb",
   "metadata": {
    "deletable": false,
    "editable": false,
    "id": "a87606cb"
   },
   "source": [
    "**Задание 6. В данных могут встречаться артефакты (аномалии) — значения, которые не отражают действительность и появились по какой-то ошибке. таким артефактом будет отрицательное количество дней трудового стажа в столбце `days_employed`. Для реальных данных это нормально. Обработайте значения в этом столбце: замените все отрицательные значения положительными с помощью метода `abs()`.**"
   ]
  },
  {
   "cell_type": "code",
   "execution_count": 6,
   "id": "020c46cc",
   "metadata": {
    "deletable": false,
    "id": "020c46cc"
   },
   "outputs": [],
   "source": [
    "data['days_employed'] = data['days_employed'].abs()"
   ]
  },
  {
   "cell_type": "markdown",
   "id": "45538a3a",
   "metadata": {
    "deletable": false,
    "editable": false,
    "id": "45538a3a"
   },
   "source": [
    "**Задание 7. Для каждого типа занятости выведите медианное значение трудового стажа `days_employed` в днях.**"
   ]
  },
  {
   "cell_type": "code",
   "execution_count": 7,
   "id": "cd3e6328",
   "metadata": {
    "deletable": false,
    "id": "cd3e6328",
    "outputId": "801ef80e-522b-4668-f34e-565af7432bcf"
   },
   "outputs": [
    {
     "data": {
      "text/plain": [
       "income_type\n",
       "безработный        366413.652744\n",
       "в декрете            3296.759962\n",
       "госслужащий          2689.368353\n",
       "компаньон            1547.382223\n",
       "пенсионер          365213.306266\n",
       "предприниматель       520.848083\n",
       "сотрудник            1574.202821\n",
       "студент               578.751554\n",
       "Name: days_employed, dtype: float64"
      ]
     },
     "execution_count": 7,
     "metadata": {},
     "output_type": "execute_result"
    }
   ],
   "source": [
    "data.groupby('income_type')['days_employed'].agg('median')"
   ]
  },
  {
   "cell_type": "markdown",
   "id": "90c5f058",
   "metadata": {
    "deletable": false,
    "editable": false,
    "id": "90c5f058"
   },
   "source": [
    "У двух типов (безработные и пенсионеры) получатся аномально большие значения. Исправить такие значения сложно, поэтому оставьте их как есть."
   ]
  },
  {
   "cell_type": "markdown",
   "id": "9652e50d",
   "metadata": {
    "deletable": false,
    "editable": false,
    "id": "9652e50d"
   },
   "source": [
    "**Задание 8. Выведите перечень уникальных значений столбца `children`.**"
   ]
  },
  {
   "cell_type": "code",
   "execution_count": 8,
   "id": "dbb37b8e",
   "metadata": {
    "deletable": false,
    "id": "dbb37b8e",
    "outputId": "6975b15c-7f95-4697-d16d-a0c79b657b03"
   },
   "outputs": [
    {
     "data": {
      "text/plain": [
       "array([ 1,  0,  3,  2, -1,  4, 20,  5])"
      ]
     },
     "execution_count": 8,
     "metadata": {},
     "output_type": "execute_result"
    }
   ],
   "source": [
    "data['children'].unique()"
   ]
  },
  {
   "cell_type": "markdown",
   "id": "2b8b0715",
   "metadata": {
    "deletable": false,
    "editable": false,
    "id": "2b8b0715"
   },
   "source": [
    "**Задание 9. В столбце `children` есть два аномальных значения. Удалите строки, в которых встречаются такие аномальные значения из датафрейма `data`.**"
   ]
  },
  {
   "cell_type": "code",
   "execution_count": 9,
   "id": "20009df8",
   "metadata": {
    "deletable": false,
    "id": "20009df8"
   },
   "outputs": [],
   "source": [
    "data = data[(data['children'] != -1) & (data['children'] != 20)]"
   ]
  },
  {
   "cell_type": "markdown",
   "id": "8c6ac9f1",
   "metadata": {
    "deletable": false,
    "editable": false,
    "id": "8c6ac9f1"
   },
   "source": [
    "**Задание 10. Ещё раз выведите перечень уникальных значений столбца `children`, чтобы убедиться, что артефакты удалены.**"
   ]
  },
  {
   "cell_type": "code",
   "execution_count": 10,
   "id": "07337b81",
   "metadata": {
    "deletable": false,
    "id": "07337b81",
    "outputId": "b2097101-d49d-44d9-901b-32a65c9463d1"
   },
   "outputs": [
    {
     "data": {
      "text/plain": [
       "array([1, 0, 3, 2, 4, 5])"
      ]
     },
     "execution_count": 10,
     "metadata": {},
     "output_type": "execute_result"
    }
   ],
   "source": [
    "data['children'].unique()"
   ]
  },
  {
   "cell_type": "markdown",
   "id": "ee3f52d4",
   "metadata": {
    "deletable": false,
    "editable": false,
    "id": "ee3f52d4"
   },
   "source": [
    "### Удаление пропусков (продолжение)"
   ]
  },
  {
   "cell_type": "markdown",
   "id": "a700b0e4",
   "metadata": {
    "deletable": false,
    "editable": false,
    "id": "a700b0e4"
   },
   "source": [
    "**Задание 11. Заполните пропуски в столбце `days_employed` медианными значениями по каждого типа занятости `income_type`.**"
   ]
  },
  {
   "cell_type": "code",
   "execution_count": 11,
   "id": "61946b83",
   "metadata": {
    "deletable": false,
    "id": "61946b83"
   },
   "outputs": [],
   "source": [
    "for t in data['income_type'].unique():\n",
    "    data.loc[(data['income_type'] == t) & (data['days_employed'].isna()), 'days_employed'] = \\\n",
    "    data.loc[(data['income_type'] == t), 'days_employed'].median()"
   ]
  },
  {
   "cell_type": "markdown",
   "id": "550dcd9b",
   "metadata": {
    "deletable": false,
    "editable": false,
    "id": "550dcd9b"
   },
   "source": [
    "**Задание 12. Убедитесь, что все пропуски заполнены. Проверьте себя и ещё раз выведите количество пропущенных значений для каждого столбца с помощью двух методов.**"
   ]
  },
  {
   "cell_type": "code",
   "execution_count": 12,
   "id": "937c7014",
   "metadata": {
    "deletable": false,
    "id": "937c7014",
    "outputId": "8da1e4e1-358e-4e87-98c9-f261bce0a7b2"
   },
   "outputs": [
    {
     "data": {
      "text/plain": [
       "children            0\n",
       "days_employed       0\n",
       "dob_years           0\n",
       "education           0\n",
       "education_id        0\n",
       "family_status       0\n",
       "family_status_id    0\n",
       "gender              0\n",
       "income_type         0\n",
       "debt                0\n",
       "total_income        0\n",
       "purpose             0\n",
       "dtype: int64"
      ]
     },
     "execution_count": 12,
     "metadata": {},
     "output_type": "execute_result"
    }
   ],
   "source": [
    "data.isna().sum()"
   ]
  },
  {
   "cell_type": "markdown",
   "id": "d522e295",
   "metadata": {
    "deletable": false,
    "editable": false,
    "id": "d522e295"
   },
   "source": [
    "### Изменение типов данных"
   ]
  },
  {
   "cell_type": "markdown",
   "id": "c229c581",
   "metadata": {
    "deletable": false,
    "editable": false,
    "id": "c229c581"
   },
   "source": [
    "**Задание 13. Замените вещественный тип данных в столбце `total_income` на целочисленный с помощью метода `astype()`.**"
   ]
  },
  {
   "cell_type": "code",
   "execution_count": 13,
   "id": "31036462",
   "metadata": {
    "deletable": false,
    "id": "31036462"
   },
   "outputs": [],
   "source": [
    "data['total_income'] = data['total_income'].astype(int)"
   ]
  },
  {
   "cell_type": "markdown",
   "id": "b8e3d1d9",
   "metadata": {
    "deletable": false,
    "editable": false,
    "id": "b8e3d1d9"
   },
   "source": [
    "### Обработка дубликатов"
   ]
  },
  {
   "cell_type": "markdown",
   "id": "9be53c49",
   "metadata": {
    "deletable": false,
    "editable": false,
    "id": "9be53c49"
   },
   "source": [
    "**Задание 14. Обработайте неявные дубликаты в столбце `education`. В этом столбце есть одни и те же значения, но записанные по-разному: с использованием заглавных и строчных букв. Приведите их к нижнему регистру.**"
   ]
  },
  {
   "cell_type": "code",
   "execution_count": 14,
   "id": "d89e73e1",
   "metadata": {
    "deletable": false,
    "id": "d89e73e1"
   },
   "outputs": [],
   "source": [
    "data['education'] = data['education'].str.lower()"
   ]
  },
  {
   "cell_type": "markdown",
   "id": "01d4500e",
   "metadata": {
    "deletable": false,
    "editable": false,
    "id": "01d4500e"
   },
   "source": [
    "**Задание 15. Выведите на экран количество строк-дубликатов в данных. Если такие строки присутствуют, удалите их.**"
   ]
  },
  {
   "cell_type": "code",
   "execution_count": 15,
   "id": "e10efb23",
   "metadata": {
    "deletable": false,
    "id": "e10efb23",
    "outputId": "9684deba-1934-42d1-99e1-cda61740f822"
   },
   "outputs": [
    {
     "data": {
      "text/plain": [
       "71"
      ]
     },
     "execution_count": 15,
     "metadata": {},
     "output_type": "execute_result"
    }
   ],
   "source": [
    "data.duplicated().sum()"
   ]
  },
  {
   "cell_type": "code",
   "execution_count": 16,
   "id": "df853f20",
   "metadata": {
    "deletable": false,
    "id": "df853f20"
   },
   "outputs": [],
   "source": [
    "data = data.drop_duplicates()"
   ]
  },
  {
   "cell_type": "markdown",
   "id": "627be38f",
   "metadata": {
    "deletable": false,
    "editable": false,
    "id": "627be38f"
   },
   "source": [
    "### Категоризация данных"
   ]
  },
  {
   "cell_type": "markdown",
   "id": "4684c3e0",
   "metadata": {
    "deletable": false,
    "editable": false,
    "id": "4684c3e0"
   },
   "source": [
    "**Задание 16. На основании диапазонов, указанных ниже, создайте в датафрейме `data` столбец `total_income_category` с категориями:**\n",
    "\n",
    "- 0–30000 — `'E'`;\n",
    "- 30001–50000 — `'D'`;\n",
    "- 50001–200000 — `'C'`;\n",
    "- 200001–1000000 — `'B'`;\n",
    "- 1000001 и выше — `'A'`.\n",
    "\n",
    "\n",
    "**Например, кредитополучателю с доходом 25000 нужно назначить категорию `'E'`, а клиенту, получающему 235000, — `'B'`. Используйте собственную функцию с именем `categorize_income()` и метод `apply()`.**"
   ]
  },
  {
   "cell_type": "code",
   "execution_count": 17,
   "id": "78965238",
   "metadata": {
    "deletable": false,
    "id": "78965238"
   },
   "outputs": [],
   "source": [
    "def categorize_income(income):\n",
    "    try:\n",
    "        if 0 <= income <= 30000:\n",
    "            return 'E'\n",
    "        elif 30001 <= income <= 50000:\n",
    "            return 'D'\n",
    "        elif 50001 <= income <= 200000:\n",
    "            return 'C'\n",
    "        elif 200001 <= income <= 1000000:\n",
    "            return 'B'\n",
    "        elif income >= 1000001:\n",
    "            return 'A'\n",
    "    except:\n",
    "        pass"
   ]
  },
  {
   "cell_type": "code",
   "execution_count": 18,
   "id": "0980ada1",
   "metadata": {
    "deletable": false,
    "id": "0980ada1"
   },
   "outputs": [],
   "source": [
    "data['total_income_category'] = data['total_income'].apply(categorize_income)"
   ]
  },
  {
   "cell_type": "markdown",
   "id": "9917bba0",
   "metadata": {
    "deletable": false,
    "editable": false,
    "id": "9917bba0"
   },
   "source": [
    "**Задание 17. Выведите на экран перечень уникальных целей взятия кредита из столбца `purpose`.**"
   ]
  },
  {
   "cell_type": "code",
   "execution_count": 19,
   "id": "ee07b65e",
   "metadata": {
    "deletable": false,
    "id": "ee07b65e",
    "outputId": "673c12d9-7d7e-4ae0-9812-c622c89dd244"
   },
   "outputs": [
    {
     "data": {
      "text/plain": [
       "array(['покупка жилья', 'приобретение автомобиля',\n",
       "       'дополнительное образование', 'сыграть свадьбу',\n",
       "       'операции с жильем', 'образование', 'на проведение свадьбы',\n",
       "       'покупка жилья для семьи', 'покупка недвижимости',\n",
       "       'покупка коммерческой недвижимости', 'покупка жилой недвижимости',\n",
       "       'строительство собственной недвижимости', 'недвижимость',\n",
       "       'строительство недвижимости', 'на покупку подержанного автомобиля',\n",
       "       'на покупку своего автомобиля',\n",
       "       'операции с коммерческой недвижимостью',\n",
       "       'строительство жилой недвижимости', 'жилье',\n",
       "       'операции со своей недвижимостью', 'автомобили',\n",
       "       'заняться образованием', 'сделка с подержанным автомобилем',\n",
       "       'получение образования', 'автомобиль', 'свадьба',\n",
       "       'получение дополнительного образования', 'покупка своего жилья',\n",
       "       'операции с недвижимостью', 'получение высшего образования',\n",
       "       'свой автомобиль', 'сделка с автомобилем',\n",
       "       'профильное образование', 'высшее образование',\n",
       "       'покупка жилья для сдачи', 'на покупку автомобиля', 'ремонт жилью',\n",
       "       'заняться высшим образованием'], dtype=object)"
      ]
     },
     "execution_count": 19,
     "metadata": {},
     "output_type": "execute_result"
    }
   ],
   "source": [
    "data['purpose'].unique()"
   ]
  },
  {
   "cell_type": "markdown",
   "id": "52b79d56",
   "metadata": {
    "deletable": false,
    "editable": false,
    "id": "52b79d56"
   },
   "source": [
    "**Задание 18. Создайте функцию, которая на основании данных из столбца `purpose` сформирует новый столбец `purpose_category`, в который войдут следующие категории:**\n",
    "\n",
    "- `'операции с автомобилем'`,\n",
    "- `'операции с недвижимостью'`,\n",
    "- `'проведение свадьбы'`,\n",
    "- `'получение образования'`.\n",
    "\n",
    "**Например, если в столбце `purpose` находится подстрока `'на покупку автомобиля'`, то в столбце `purpose_category` должна появиться строка `'операции с автомобилем'`.**\n",
    "\n",
    "**Используйте собственную функцию с именем `categorize_purpose()` и метод `apply()`. Изучите данные в столбце `purpose` и определите, какие подстроки помогут вам правильно определить категорию.**"
   ]
  },
  {
   "cell_type": "code",
   "execution_count": 20,
   "id": "be41da5d",
   "metadata": {
    "deletable": false,
    "id": "be41da5d"
   },
   "outputs": [],
   "source": [
    "def categorize_purpose(row):\n",
    "    try:\n",
    "        if 'автом' in row:\n",
    "            return 'операции с автомобилем'\n",
    "        elif 'жил' in row or 'недвиж' in row:\n",
    "            return 'операции с недвижимостью'\n",
    "        elif 'свад' in row:\n",
    "            return 'проведение свадьбы'\n",
    "        elif 'образов' in row:\n",
    "            return 'получение образования'\n",
    "    except:\n",
    "        return 'нет категории'"
   ]
  },
  {
   "cell_type": "code",
   "execution_count": 21,
   "id": "94c4a19a",
   "metadata": {
    "deletable": false,
    "id": "94c4a19a"
   },
   "outputs": [
    {
     "name": "stdout",
     "output_type": "stream",
     "text": [
      "   children  days_employed  dob_years education  education_id  \\\n",
      "0         1    8437.673028         42    высшее             0   \n",
      "1         1    4024.803754         36   среднее             1   \n",
      "2         0    5623.422610         33   среднее             1   \n",
      "3         3    4124.747207         32   среднее             1   \n",
      "4         0  340266.072047         53   среднее             1   \n",
      "\n",
      "      family_status  family_status_id gender income_type  debt  total_income  \\\n",
      "0   женат / замужем                 0      F   сотрудник     0        253875   \n",
      "1   женат / замужем                 0      F   сотрудник     0        112080   \n",
      "2   женат / замужем                 0      M   сотрудник     0        145885   \n",
      "3   женат / замужем                 0      M   сотрудник     0        267628   \n",
      "4  гражданский брак                 1      F   пенсионер     0        158616   \n",
      "\n",
      "                      purpose total_income_category          purpose_category  \n",
      "0               покупка жилья                     B  операции с недвижимостью  \n",
      "1     приобретение автомобиля                     C    операции с автомобилем  \n",
      "2               покупка жилья                     C  операции с недвижимостью  \n",
      "3  дополнительное образование                     B     получение образования  \n",
      "4             сыграть свадьбу                     C        проведение свадьбы  \n",
      "<class 'pandas.core.frame.DataFrame'>\n",
      "Int64Index: 21331 entries, 0 to 21524\n",
      "Data columns (total 14 columns):\n",
      " #   Column                 Non-Null Count  Dtype  \n",
      "---  ------                 --------------  -----  \n",
      " 0   children               21331 non-null  int64  \n",
      " 1   days_employed          21331 non-null  float64\n",
      " 2   dob_years              21331 non-null  int64  \n",
      " 3   education              21331 non-null  object \n",
      " 4   education_id           21331 non-null  int64  \n",
      " 5   family_status          21331 non-null  object \n",
      " 6   family_status_id       21331 non-null  int64  \n",
      " 7   gender                 21331 non-null  object \n",
      " 8   income_type            21331 non-null  object \n",
      " 9   debt                   21331 non-null  int64  \n",
      " 10  total_income           21331 non-null  int64  \n",
      " 11  purpose                21331 non-null  object \n",
      " 12  total_income_category  21331 non-null  object \n",
      " 13  purpose_category       21331 non-null  object \n",
      "dtypes: float64(1), int64(6), object(7)\n",
      "memory usage: 2.4+ MB\n"
     ]
    }
   ],
   "source": [
    "data['purpose_category'] = data['purpose'].apply(categorize_purpose)\n",
    "print(data.head())\n",
    "data.info()"
   ]
  },
  {
   "cell_type": "markdown",
   "id": "3d596c34",
   "metadata": {
    "deletable": false,
    "editable": false,
    "id": "3d596c34"
   },
   "source": [
    "### Шаг 3. Исследуйте данные и ответьте на вопросы"
   ]
  },
  {
   "cell_type": "markdown",
   "id": "648db036",
   "metadata": {
    "deletable": false,
    "editable": false,
    "id": "648db036"
   },
   "source": [
    "#### 3.1 Есть ли зависимость между количеством детей и возвратом кредита в срок?"
   ]
  },
  {
   "cell_type": "code",
   "execution_count": 22,
   "id": "e05c214d",
   "metadata": {},
   "outputs": [
    {
     "data": {
      "text/plain": [
       "'8.12%'"
      ]
     },
     "execution_count": 22,
     "metadata": {},
     "output_type": "execute_result"
    }
   ],
   "source": [
    "# общая доля просроченных займов :\n",
    "share_debt = f\"{(data['debt'].sum()/ data['debt'].count()):.2%}\"\n",
    "share_debt"
   ]
  },
  {
   "cell_type": "code",
   "execution_count": 23,
   "id": "7fcff25e",
   "metadata": {
    "deletable": false,
    "id": "7fcff25e"
   },
   "outputs": [],
   "source": [
    "# создаем функцию func_pivot с параметром meaning :\n",
    "def func_pivot(meaning):\n",
    "    # создаем сводную таблицу data_pivot с переменной meaning в роли index, со значением из колонки debt \n",
    "    # и применяемыми функциями  count,sum,mean\n",
    "    # убираем мультииндекс :\n",
    "    data_pivot = data.pivot_table(index=meaning, \n",
    "                                  values='debt',\n",
    "                                  aggfunc=['count','sum','mean']).reset_index() \n",
    "    # заменяем названия колонок  в сводной таблице :\n",
    "    data_pivot = data_pivot.rename(columns={'sum':'overdue', \n",
    "                       'count':'number_of_borrowers',\n",
    "                       'mean':'share_overdue',\n",
    "                       'debt': ' '})\n",
    "    # меняем формат колонки share_overdue  на проценты с 2 знаками после запятой с помощью метода format() : \n",
    "    data_pivot['share_overdue', ' '] = data_pivot['share_overdue', ' '].apply('{:.2%}'.format)\n",
    "    # создаем столбец share_borrowers с показателями доли займов по каждой категории от общего количества :\n",
    "    data_pivot['share_borrowers'] = data_pivot['number_of_borrowers', ' ']/data_pivot['number_of_borrowers', ' '].sum()\n",
    "    data_pivot['share_borrowers'] = data_pivot['share_borrowers'].apply('{:.2%}'.format)\n",
    "    \n",
    "    # возвращаем сводную таблицу data_pivot :\n",
    "    return data_pivot "
   ]
  },
  {
   "cell_type": "code",
   "execution_count": 24,
   "id": "576e3531",
   "metadata": {
    "scrolled": false
   },
   "outputs": [
    {
     "data": {
      "text/html": [
       "<div>\n",
       "<style scoped>\n",
       "    .dataframe tbody tr th:only-of-type {\n",
       "        vertical-align: middle;\n",
       "    }\n",
       "\n",
       "    .dataframe tbody tr th {\n",
       "        vertical-align: top;\n",
       "    }\n",
       "\n",
       "    .dataframe thead tr th {\n",
       "        text-align: left;\n",
       "    }\n",
       "</style>\n",
       "<table border=\"1\" class=\"dataframe\">\n",
       "  <thead>\n",
       "    <tr>\n",
       "      <th></th>\n",
       "      <th>children</th>\n",
       "      <th>number_of_borrowers</th>\n",
       "      <th>overdue</th>\n",
       "      <th>share_overdue</th>\n",
       "      <th>share_borrowers</th>\n",
       "    </tr>\n",
       "    <tr>\n",
       "      <th></th>\n",
       "      <th></th>\n",
       "      <th></th>\n",
       "      <th></th>\n",
       "      <th></th>\n",
       "      <th></th>\n",
       "    </tr>\n",
       "  </thead>\n",
       "  <tbody>\n",
       "    <tr>\n",
       "      <th>0</th>\n",
       "      <td>0</td>\n",
       "      <td>14091</td>\n",
       "      <td>1063</td>\n",
       "      <td>7.54%</td>\n",
       "      <td>66.06%</td>\n",
       "    </tr>\n",
       "    <tr>\n",
       "      <th>1</th>\n",
       "      <td>1</td>\n",
       "      <td>4808</td>\n",
       "      <td>444</td>\n",
       "      <td>9.23%</td>\n",
       "      <td>22.54%</td>\n",
       "    </tr>\n",
       "    <tr>\n",
       "      <th>2</th>\n",
       "      <td>2</td>\n",
       "      <td>2052</td>\n",
       "      <td>194</td>\n",
       "      <td>9.45%</td>\n",
       "      <td>9.62%</td>\n",
       "    </tr>\n",
       "    <tr>\n",
       "      <th>3</th>\n",
       "      <td>3</td>\n",
       "      <td>330</td>\n",
       "      <td>27</td>\n",
       "      <td>8.18%</td>\n",
       "      <td>1.55%</td>\n",
       "    </tr>\n",
       "    <tr>\n",
       "      <th>4</th>\n",
       "      <td>4</td>\n",
       "      <td>41</td>\n",
       "      <td>4</td>\n",
       "      <td>9.76%</td>\n",
       "      <td>0.19%</td>\n",
       "    </tr>\n",
       "  </tbody>\n",
       "</table>\n",
       "</div>"
      ],
      "text/plain": [
       "  children number_of_borrowers overdue share_overdue share_borrowers\n",
       "                                                                    \n",
       "0        0               14091    1063         7.54%          66.06%\n",
       "1        1                4808     444         9.23%          22.54%\n",
       "2        2                2052     194         9.45%           9.62%\n",
       "3        3                 330      27         8.18%           1.55%\n",
       "4        4                  41       4         9.76%           0.19%"
      ]
     },
     "execution_count": 24,
     "metadata": {},
     "output_type": "execute_result"
    }
   ],
   "source": [
    "#  создаем новый датафрейм pivot_debt_children ,использовав функцию func_pivot к колонке children :\n",
    "pivot_debt_children = func_pivot(data['children']) \n",
    "# убираем строку со значением 5 в колонке children, так как из малого количества данных является малоинформативным.\n",
    "pivot_debt_children = pivot_debt_children[pivot_debt_children['children'] != 5]\n",
    "# выводим pivot_debt_children : \n",
    "pivot_debt_children"
   ]
  },
  {
   "cell_type": "code",
   "execution_count": 25,
   "id": "ae85f5a4",
   "metadata": {},
   "outputs": [],
   "source": [
    "# создаем функцию children_num, которая категоризирует заёмщиков в зависимости от наличия/ отсутствия детей :\n",
    "def children_num(num): \n",
    "    if num != 0:\n",
    "        return 'есть дети'\n",
    "    return 'детей нет'\n",
    "\n",
    "# создаем новую колонку children_category с помощью функции children_num :\n",
    "data['children_category'] = data['children'].apply(children_num)\n"
   ]
  },
  {
   "cell_type": "code",
   "execution_count": 26,
   "id": "43afc23b",
   "metadata": {
    "scrolled": false
   },
   "outputs": [
    {
     "data": {
      "text/html": [
       "<div>\n",
       "<style scoped>\n",
       "    .dataframe tbody tr th:only-of-type {\n",
       "        vertical-align: middle;\n",
       "    }\n",
       "\n",
       "    .dataframe tbody tr th {\n",
       "        vertical-align: top;\n",
       "    }\n",
       "\n",
       "    .dataframe thead tr th {\n",
       "        text-align: left;\n",
       "    }\n",
       "</style>\n",
       "<table border=\"1\" class=\"dataframe\">\n",
       "  <thead>\n",
       "    <tr>\n",
       "      <th></th>\n",
       "      <th>children_category</th>\n",
       "      <th>number_of_borrowers</th>\n",
       "      <th>overdue</th>\n",
       "      <th>share_overdue</th>\n",
       "      <th>share_borrowers</th>\n",
       "    </tr>\n",
       "    <tr>\n",
       "      <th></th>\n",
       "      <th></th>\n",
       "      <th></th>\n",
       "      <th></th>\n",
       "      <th></th>\n",
       "      <th></th>\n",
       "    </tr>\n",
       "  </thead>\n",
       "  <tbody>\n",
       "    <tr>\n",
       "      <th>0</th>\n",
       "      <td>детей нет</td>\n",
       "      <td>14091</td>\n",
       "      <td>1063</td>\n",
       "      <td>7.54%</td>\n",
       "      <td>66.06%</td>\n",
       "    </tr>\n",
       "    <tr>\n",
       "      <th>1</th>\n",
       "      <td>есть дети</td>\n",
       "      <td>7240</td>\n",
       "      <td>669</td>\n",
       "      <td>9.24%</td>\n",
       "      <td>33.94%</td>\n",
       "    </tr>\n",
       "  </tbody>\n",
       "</table>\n",
       "</div>"
      ],
      "text/plain": [
       "  children_category number_of_borrowers overdue share_overdue share_borrowers\n",
       "                                                                             \n",
       "0         детей нет               14091    1063         7.54%          66.06%\n",
       "1         есть дети                7240     669         9.24%          33.94%"
      ]
     },
     "execution_count": 26,
     "metadata": {},
     "output_type": "execute_result"
    }
   ],
   "source": [
    "#создаем new_pivot_debt_children при помощи функции func_pivot , применив к  колонке children_category\n",
    "new_pivot_debt_children = func_pivot(data['children_category']) \n",
    "# выводим new_pivot_debt_children\n",
    "new_pivot_debt_children   "
   ]
  },
  {
   "cell_type": "markdown",
   "id": "2eb9088e",
   "metadata": {
    "deletable": false,
    "id": "2eb9088e"
   },
   "source": [
    "**Вывод:** \n",
    "\n",
    "**1)Применив функцию `func_pivot` колонке `children_category`** мы выяснили, что доля заёмщиков, имеющих просроченную задолженность:\n",
    "\n",
    "у тех, у кого **есть дети** - **9.24%**;\n",
    "\n",
    "у тех, у кого **нет детей** - **7.54%**.                                                                                                                                                                                                                \n",
    "\n",
    "**Таким образом, заёмщики у которых есть дети, имеют просроченную задолженность чаще на 1,7 п.п., что на 22,5% больше аналогичного показателя у заещиков, не имеющих детей.**\n",
    "\n",
    "**2)Применив функцию `func_pivot` колонке `children`** мы выяснили, что  процент заёмщиков, вышедших на просроченную задолженность, у которых имеются дети (от 1 до 4) варьируется от 8.18% (3 детей) до 9.76%(4 детей). \n",
    "\n",
    "Однако у категорий заёмщиков с 3 и 4 детьми малое количество выданных займов(в общем  371 займ и  1,7% от общего количества) \n",
    "\n",
    "А в наибольших категориях с 1 и 2 детьми (в общем  6 860 займов и 32% от общего количества) процент заёмщиков, вышедших на просроченную задолженность, составляет **9.23% и 9.45%**(соответсвенно) и имеют **разницу** всего в **0.22%**\n",
    "\n",
    "**Таким образом, разница показателя доли просрочки у заёмщиков, вышедших на просроченную задолженность, имеющих детей в зависимости от количества детей - малозначительна.** \n",
    "\n",
    "**Наиболее значительна разница между заёмщиками,  у которых есть дети и у которых детей нет.** \n",
    "\n",
    "\n",
    "\n"
   ]
  },
  {
   "cell_type": "markdown",
   "id": "74c9b3a7",
   "metadata": {
    "deletable": false,
    "editable": false,
    "id": "74c9b3a7"
   },
   "source": [
    "#### 3.2 Есть ли зависимость между семейным положением и возвратом кредита в срок?"
   ]
  },
  {
   "cell_type": "code",
   "execution_count": 27,
   "id": "8098ab3b",
   "metadata": {
    "deletable": false,
    "id": "8098ab3b"
   },
   "outputs": [
    {
     "data": {
      "text/html": [
       "<div>\n",
       "<style scoped>\n",
       "    .dataframe tbody tr th:only-of-type {\n",
       "        vertical-align: middle;\n",
       "    }\n",
       "\n",
       "    .dataframe tbody tr th {\n",
       "        vertical-align: top;\n",
       "    }\n",
       "\n",
       "    .dataframe thead tr th {\n",
       "        text-align: left;\n",
       "    }\n",
       "</style>\n",
       "<table border=\"1\" class=\"dataframe\">\n",
       "  <thead>\n",
       "    <tr>\n",
       "      <th></th>\n",
       "      <th>family_status</th>\n",
       "      <th>number_of_borrowers</th>\n",
       "      <th>overdue</th>\n",
       "      <th>share_overdue</th>\n",
       "      <th>share_borrowers</th>\n",
       "    </tr>\n",
       "    <tr>\n",
       "      <th></th>\n",
       "      <th></th>\n",
       "      <th></th>\n",
       "      <th></th>\n",
       "      <th></th>\n",
       "      <th></th>\n",
       "    </tr>\n",
       "  </thead>\n",
       "  <tbody>\n",
       "    <tr>\n",
       "      <th>0</th>\n",
       "      <td>Не женат / не замужем</td>\n",
       "      <td>2796</td>\n",
       "      <td>273</td>\n",
       "      <td>9.76%</td>\n",
       "      <td>13.11%</td>\n",
       "    </tr>\n",
       "    <tr>\n",
       "      <th>1</th>\n",
       "      <td>в разводе</td>\n",
       "      <td>1189</td>\n",
       "      <td>84</td>\n",
       "      <td>7.06%</td>\n",
       "      <td>5.57%</td>\n",
       "    </tr>\n",
       "    <tr>\n",
       "      <th>2</th>\n",
       "      <td>вдовец / вдова</td>\n",
       "      <td>951</td>\n",
       "      <td>63</td>\n",
       "      <td>6.62%</td>\n",
       "      <td>4.46%</td>\n",
       "    </tr>\n",
       "    <tr>\n",
       "      <th>3</th>\n",
       "      <td>гражданский брак</td>\n",
       "      <td>4134</td>\n",
       "      <td>385</td>\n",
       "      <td>9.31%</td>\n",
       "      <td>19.38%</td>\n",
       "    </tr>\n",
       "    <tr>\n",
       "      <th>4</th>\n",
       "      <td>женат / замужем</td>\n",
       "      <td>12261</td>\n",
       "      <td>927</td>\n",
       "      <td>7.56%</td>\n",
       "      <td>57.48%</td>\n",
       "    </tr>\n",
       "  </tbody>\n",
       "</table>\n",
       "</div>"
      ],
      "text/plain": [
       "           family_status number_of_borrowers overdue share_overdue  \\\n",
       "                                                                     \n",
       "0  Не женат / не замужем                2796     273         9.76%   \n",
       "1              в разводе                1189      84         7.06%   \n",
       "2         вдовец / вдова                 951      63         6.62%   \n",
       "3       гражданский брак                4134     385         9.31%   \n",
       "4        женат / замужем               12261     927         7.56%   \n",
       "\n",
       "  share_borrowers  \n",
       "                   \n",
       "0          13.11%  \n",
       "1           5.57%  \n",
       "2           4.46%  \n",
       "3          19.38%  \n",
       "4          57.48%  "
      ]
     },
     "execution_count": 27,
     "metadata": {},
     "output_type": "execute_result"
    }
   ],
   "source": [
    "# создаем pivot_debt_family с помощью функции func_pivot\n",
    "pivot_debt_family = func_pivot(data['family_status'])\n",
    "# выводим pivot_debt_family\n",
    "pivot_debt_family"
   ]
  },
  {
   "cell_type": "code",
   "execution_count": 28,
   "id": "847dc741",
   "metadata": {},
   "outputs": [],
   "source": [
    "# создаем функцию, которая разделяет на категории в браке/ не в браке.\n",
    "def family_func(marriage): \n",
    "    if marriage != 'женат / замужем':\n",
    "        return 'не в браке'\n",
    "    return 'в браке'\n",
    "\n",
    "# создаем новую колонку family_marriage , используя функцию family_func\n",
    "data['family_marriage'] = data['family_status'].apply(family_func)"
   ]
  },
  {
   "cell_type": "code",
   "execution_count": 29,
   "id": "8cfdb917",
   "metadata": {},
   "outputs": [
    {
     "data": {
      "text/html": [
       "<div>\n",
       "<style scoped>\n",
       "    .dataframe tbody tr th:only-of-type {\n",
       "        vertical-align: middle;\n",
       "    }\n",
       "\n",
       "    .dataframe tbody tr th {\n",
       "        vertical-align: top;\n",
       "    }\n",
       "\n",
       "    .dataframe thead tr th {\n",
       "        text-align: left;\n",
       "    }\n",
       "</style>\n",
       "<table border=\"1\" class=\"dataframe\">\n",
       "  <thead>\n",
       "    <tr>\n",
       "      <th></th>\n",
       "      <th>family_marriage</th>\n",
       "      <th>number_of_borrowers</th>\n",
       "      <th>overdue</th>\n",
       "      <th>share_overdue</th>\n",
       "      <th>share_borrowers</th>\n",
       "    </tr>\n",
       "    <tr>\n",
       "      <th></th>\n",
       "      <th></th>\n",
       "      <th></th>\n",
       "      <th></th>\n",
       "      <th></th>\n",
       "      <th></th>\n",
       "    </tr>\n",
       "  </thead>\n",
       "  <tbody>\n",
       "    <tr>\n",
       "      <th>0</th>\n",
       "      <td>в браке</td>\n",
       "      <td>12261</td>\n",
       "      <td>927</td>\n",
       "      <td>7.56%</td>\n",
       "      <td>57.48%</td>\n",
       "    </tr>\n",
       "    <tr>\n",
       "      <th>1</th>\n",
       "      <td>не в браке</td>\n",
       "      <td>9070</td>\n",
       "      <td>805</td>\n",
       "      <td>8.88%</td>\n",
       "      <td>42.52%</td>\n",
       "    </tr>\n",
       "  </tbody>\n",
       "</table>\n",
       "</div>"
      ],
      "text/plain": [
       "  family_marriage number_of_borrowers overdue share_overdue share_borrowers\n",
       "                                                                           \n",
       "0         в браке               12261     927         7.56%          57.48%\n",
       "1      не в браке                9070     805         8.88%          42.52%"
      ]
     },
     "execution_count": 29,
     "metadata": {},
     "output_type": "execute_result"
    }
   ],
   "source": [
    "# создаем pnew_pivot_debt_family с помощью функции func_pivot\n",
    "new_pivot_debt_family = func_pivot(data['family_marriage'])\n",
    "# выводим new_pivot_debt_family\n",
    "new_pivot_debt_family"
   ]
  },
  {
   "cell_type": "markdown",
   "id": "c389ca63",
   "metadata": {
    "deletable": false,
    "id": "c389ca63"
   },
   "source": [
    "**Вывод:** \n",
    "\n",
    "**1)Применив функцию `func_pivot` колонке `family_marriage`** мы выяснили, что доля заёмщиков, имеющих просроченную задолженность:\n",
    "\n",
    "**в официальном браке - 7.56%;**\n",
    "\n",
    "**не в браке - 8.88%.**\n",
    "\n",
    "Разница в абсолютном значении составляет **1.32 п.п** (в процентном 17.5 %). Т.е те , кто **не в браке, выходят на просрочку на 17.5 % чаще, чем те, кто в браке.**\n",
    "\n",
    "**1)Применив функцию `func_pivot` колонке `family_status`** получили данные , что \n",
    "\n",
    "**наибольшая** доля заёмщиков, имеющих просроченную задолженность, имеется у категорий:\n",
    "\n",
    "**Не женат / не замужем - 9.76%;**\n",
    "\n",
    "**гражданский брак - 9.31%.**\n",
    "\n",
    "Данные категории составляют около 32.5 % от общего количества займов.\n",
    "\n",
    "\n",
    "**наименьшая**  доля заёмщиков, имеющих просроченную задолженность, имеется у категорий:\n",
    "\n",
    "**в разводе - 7.06%;**\n",
    "\n",
    "**вдовец / вдова - 6.62%**\n",
    "\n",
    "Данные категории составляют примерно  10 % от общего количества займов.\n",
    "\n",
    "\n",
    "Таким образом, можно сделать вывод, что внутри группы заёмщиков, не находящихся в официальном браке,**разница** между минимальным(вдовец / вдова - 6.62%) и максимальным(Не женат / не замужем - 9.76%) значением составляет **3.14%**. В среднем по данной группе показатель просроченности займов - 8.88%, что на 1.32 п.п. больше заёмщиков , находящихся в официальном браке.\n",
    "\n",
    "\n",
    "\n",
    "\n",
    "\n",
    "\n",
    "\n",
    "\n",
    "\n"
   ]
  },
  {
   "cell_type": "markdown",
   "id": "9529de68",
   "metadata": {
    "deletable": false,
    "editable": false,
    "id": "9529de68"
   },
   "source": [
    "#### 3.3 Есть ли зависимость между уровнем дохода и возвратом кредита в срок?"
   ]
  },
  {
   "cell_type": "code",
   "execution_count": 30,
   "id": "8787f44a",
   "metadata": {
    "deletable": false,
    "id": "8787f44a"
   },
   "outputs": [
    {
     "data": {
      "text/html": [
       "<div>\n",
       "<style scoped>\n",
       "    .dataframe tbody tr th:only-of-type {\n",
       "        vertical-align: middle;\n",
       "    }\n",
       "\n",
       "    .dataframe tbody tr th {\n",
       "        vertical-align: top;\n",
       "    }\n",
       "\n",
       "    .dataframe thead tr th {\n",
       "        text-align: left;\n",
       "    }\n",
       "</style>\n",
       "<table border=\"1\" class=\"dataframe\">\n",
       "  <thead>\n",
       "    <tr>\n",
       "      <th></th>\n",
       "      <th>total_income_category</th>\n",
       "      <th>number_of_borrowers</th>\n",
       "      <th>overdue</th>\n",
       "      <th>share_overdue</th>\n",
       "      <th>share_borrowers</th>\n",
       "    </tr>\n",
       "    <tr>\n",
       "      <th></th>\n",
       "      <th></th>\n",
       "      <th></th>\n",
       "      <th></th>\n",
       "      <th></th>\n",
       "      <th></th>\n",
       "    </tr>\n",
       "  </thead>\n",
       "  <tbody>\n",
       "    <tr>\n",
       "      <th>0</th>\n",
       "      <td>A</td>\n",
       "      <td>25</td>\n",
       "      <td>2</td>\n",
       "      <td>8.00%</td>\n",
       "      <td>0.12%</td>\n",
       "    </tr>\n",
       "    <tr>\n",
       "      <th>1</th>\n",
       "      <td>B</td>\n",
       "      <td>5014</td>\n",
       "      <td>354</td>\n",
       "      <td>7.06%</td>\n",
       "      <td>23.51%</td>\n",
       "    </tr>\n",
       "    <tr>\n",
       "      <th>2</th>\n",
       "      <td>C</td>\n",
       "      <td>15921</td>\n",
       "      <td>1353</td>\n",
       "      <td>8.50%</td>\n",
       "      <td>74.64%</td>\n",
       "    </tr>\n",
       "    <tr>\n",
       "      <th>3</th>\n",
       "      <td>D</td>\n",
       "      <td>349</td>\n",
       "      <td>21</td>\n",
       "      <td>6.02%</td>\n",
       "      <td>1.64%</td>\n",
       "    </tr>\n",
       "    <tr>\n",
       "      <th>4</th>\n",
       "      <td>E</td>\n",
       "      <td>22</td>\n",
       "      <td>2</td>\n",
       "      <td>9.09%</td>\n",
       "      <td>0.10%</td>\n",
       "    </tr>\n",
       "  </tbody>\n",
       "</table>\n",
       "</div>"
      ],
      "text/plain": [
       "  total_income_category number_of_borrowers overdue share_overdue  \\\n",
       "                                                                    \n",
       "0                     A                  25       2         8.00%   \n",
       "1                     B                5014     354         7.06%   \n",
       "2                     C               15921    1353         8.50%   \n",
       "3                     D                 349      21         6.02%   \n",
       "4                     E                  22       2         9.09%   \n",
       "\n",
       "  share_borrowers  \n",
       "                   \n",
       "0           0.12%  \n",
       "1          23.51%  \n",
       "2          74.64%  \n",
       "3           1.64%  \n",
       "4           0.10%  "
      ]
     },
     "execution_count": 30,
     "metadata": {},
     "output_type": "execute_result"
    }
   ],
   "source": [
    "# создаем total_income_category, использовав функцию func_pivot :\n",
    "pivot_debt_income = func_pivot(data['total_income_category'])\n",
    "# выводим pivot_debt_income , где в колонке total_income_category\n",
    "# 0–30000 — 'E';\n",
    "# 30001–50000 — 'D';\n",
    "# 50001–200000 — 'C';\n",
    "# 200001–1000000 — 'B';\n",
    "# 1000001 и выше — 'A' :\n",
    "pivot_debt_income                               "
   ]
  },
  {
   "cell_type": "code",
   "execution_count": 31,
   "id": "996aff32",
   "metadata": {},
   "outputs": [],
   "source": [
    "# для того, чтобы посмотреть показатели внутри категорий С (50 000 - 200 000 ) и D (200 000 - 1 000 000),создаем новую функцию:\n",
    "# 0-50 000 - G ;\n",
    "# 50 001-100 000 - F;\n",
    "# 100 001-150 000 - E;\n",
    "# 150 001-200 000 - D;\n",
    "# 200 001-500 000 -C;\n",
    "# 500 001 - 1 000 000 - B;\n",
    "# свыше 1 000 001 - A :\n",
    "\n",
    "def new_categorize_income(income):\n",
    "    try:\n",
    "        if 0 <= income <= 50000:\n",
    "            return 'G'\n",
    "        elif 50001 <= income <= 100000:\n",
    "            return 'F'\n",
    "        elif 100001 <= income <= 150000:\n",
    "            return 'E'\n",
    "        elif 150001 <= income <= 200000:\n",
    "            return 'D'\n",
    "        elif 200001 <= income <= 500000:\n",
    "            return 'C'\n",
    "        elif 500001 <= income <= 1000000:\n",
    "            return 'B'\n",
    "        elif income >= 1000001:\n",
    "            return 'A'\n",
    "    except:\n",
    "        pass\n",
    "# создаем колонку new_total_income_category с помощью функции :\n",
    "data['new_total_income_category'] = data['total_income'].apply(new_categorize_income)    "
   ]
  },
  {
   "cell_type": "code",
   "execution_count": 32,
   "id": "a564693d",
   "metadata": {},
   "outputs": [
    {
     "data": {
      "text/html": [
       "<div>\n",
       "<style scoped>\n",
       "    .dataframe tbody tr th:only-of-type {\n",
       "        vertical-align: middle;\n",
       "    }\n",
       "\n",
       "    .dataframe tbody tr th {\n",
       "        vertical-align: top;\n",
       "    }\n",
       "\n",
       "    .dataframe thead tr th {\n",
       "        text-align: left;\n",
       "    }\n",
       "</style>\n",
       "<table border=\"1\" class=\"dataframe\">\n",
       "  <thead>\n",
       "    <tr>\n",
       "      <th></th>\n",
       "      <th>new_total_income_category</th>\n",
       "      <th>number_of_borrowers</th>\n",
       "      <th>overdue</th>\n",
       "      <th>share_overdue</th>\n",
       "      <th>share_borrowers</th>\n",
       "    </tr>\n",
       "    <tr>\n",
       "      <th></th>\n",
       "      <th></th>\n",
       "      <th></th>\n",
       "      <th></th>\n",
       "      <th></th>\n",
       "      <th></th>\n",
       "    </tr>\n",
       "  </thead>\n",
       "  <tbody>\n",
       "    <tr>\n",
       "      <th>0</th>\n",
       "      <td>A</td>\n",
       "      <td>25</td>\n",
       "      <td>2</td>\n",
       "      <td>8.00%</td>\n",
       "      <td>0.12%</td>\n",
       "    </tr>\n",
       "    <tr>\n",
       "      <th>1</th>\n",
       "      <td>B</td>\n",
       "      <td>197</td>\n",
       "      <td>12</td>\n",
       "      <td>6.09%</td>\n",
       "      <td>0.92%</td>\n",
       "    </tr>\n",
       "    <tr>\n",
       "      <th>2</th>\n",
       "      <td>C</td>\n",
       "      <td>4817</td>\n",
       "      <td>342</td>\n",
       "      <td>7.10%</td>\n",
       "      <td>22.58%</td>\n",
       "    </tr>\n",
       "    <tr>\n",
       "      <th>3</th>\n",
       "      <td>D</td>\n",
       "      <td>4738</td>\n",
       "      <td>403</td>\n",
       "      <td>8.51%</td>\n",
       "      <td>22.21%</td>\n",
       "    </tr>\n",
       "    <tr>\n",
       "      <th>4</th>\n",
       "      <td>E</td>\n",
       "      <td>7110</td>\n",
       "      <td>619</td>\n",
       "      <td>8.71%</td>\n",
       "      <td>33.33%</td>\n",
       "    </tr>\n",
       "    <tr>\n",
       "      <th>5</th>\n",
       "      <td>F</td>\n",
       "      <td>4073</td>\n",
       "      <td>331</td>\n",
       "      <td>8.13%</td>\n",
       "      <td>19.09%</td>\n",
       "    </tr>\n",
       "    <tr>\n",
       "      <th>6</th>\n",
       "      <td>G</td>\n",
       "      <td>371</td>\n",
       "      <td>23</td>\n",
       "      <td>6.20%</td>\n",
       "      <td>1.74%</td>\n",
       "    </tr>\n",
       "  </tbody>\n",
       "</table>\n",
       "</div>"
      ],
      "text/plain": [
       "  new_total_income_category number_of_borrowers overdue share_overdue  \\\n",
       "                                                                        \n",
       "0                         A                  25       2         8.00%   \n",
       "1                         B                 197      12         6.09%   \n",
       "2                         C                4817     342         7.10%   \n",
       "3                         D                4738     403         8.51%   \n",
       "4                         E                7110     619         8.71%   \n",
       "5                         F                4073     331         8.13%   \n",
       "6                         G                 371      23         6.20%   \n",
       "\n",
       "  share_borrowers  \n",
       "                   \n",
       "0           0.12%  \n",
       "1           0.92%  \n",
       "2          22.58%  \n",
       "3          22.21%  \n",
       "4          33.33%  \n",
       "5          19.09%  \n",
       "6           1.74%  "
      ]
     },
     "execution_count": 32,
     "metadata": {},
     "output_type": "execute_result"
    }
   ],
   "source": [
    "# создаем new_pivot_debt_income с помощью func_pivot :\n",
    "new_pivot_debt_income = func_pivot(data['new_total_income_category'])\n",
    "# выводим new_pivot_debt_income :\n",
    "new_pivot_debt_income"
   ]
  },
  {
   "cell_type": "markdown",
   "id": "6dd14b57",
   "metadata": {
    "deletable": false,
    "id": "6dd14b57"
   },
   "source": [
    "**Вывод:** \n",
    "\n",
    "Категоризовав уровень дохода:\n",
    "\n",
    "`0-50 000 - G ;`\n",
    "\n",
    "`50 001-100 000 - F;`\n",
    "\n",
    "`100 001-150 000 - E;`\n",
    "\n",
    "`150 001-200 000 - D;`\n",
    "\n",
    "`200 001-500 000 -C;`\n",
    "\n",
    "`500 001 - 1 000 000 - B;`\n",
    "\n",
    "`свыше 1 000 001 - A ,`\n",
    "\n",
    "можно сделать вывод , что **бОльшая доля просрочников** была у заёмщиков с уровнем дохода **от 50 001 до 200 000** руб.(категории D,E,F) - в среднем **8.5 %** . \n",
    "\n",
    "**Наибольшая доля у категории E(100 001-150 000) - 8.71%**\n",
    "\n",
    "У заёмщиков с доходом **свыше 200 001 р уровень просроченной задолженности снижается**. Чем выше доход , тем ниже просроченная задолженность(в категории С (200 001-500 000) - **7.1%** ; в категории В (500 001 - 1 000 000) - **6.09%(минимальный показатель)**. Категория А( свыше 1 000 000) малоинформативна, т.к. мало данных - всего 0,12% от общего числа займов.\n",
    "\n",
    "У заёмщиков с доходом **до 50 000** руб   уровень просроенной задолженности - **6.2%**  и также ниже чем в диапазоне от 50 001 до 200 000 руб.\n",
    "\n"
   ]
  },
  {
   "cell_type": "markdown",
   "id": "1dcc9b12",
   "metadata": {
    "deletable": false,
    "editable": false,
    "id": "1dcc9b12"
   },
   "source": [
    "#### 3.4 Как разные цели кредита влияют на его возврат в срок?"
   ]
  },
  {
   "cell_type": "code",
   "execution_count": 33,
   "id": "c602bc8b",
   "metadata": {
    "deletable": false,
    "id": "c602bc8b"
   },
   "outputs": [
    {
     "data": {
      "text/html": [
       "<div>\n",
       "<style scoped>\n",
       "    .dataframe tbody tr th:only-of-type {\n",
       "        vertical-align: middle;\n",
       "    }\n",
       "\n",
       "    .dataframe tbody tr th {\n",
       "        vertical-align: top;\n",
       "    }\n",
       "\n",
       "    .dataframe thead tr th {\n",
       "        text-align: left;\n",
       "    }\n",
       "</style>\n",
       "<table border=\"1\" class=\"dataframe\">\n",
       "  <thead>\n",
       "    <tr>\n",
       "      <th></th>\n",
       "      <th>purpose_category</th>\n",
       "      <th>number_of_borrowers</th>\n",
       "      <th>overdue</th>\n",
       "      <th>share_overdue</th>\n",
       "      <th>share_borrowers</th>\n",
       "    </tr>\n",
       "    <tr>\n",
       "      <th></th>\n",
       "      <th></th>\n",
       "      <th></th>\n",
       "      <th></th>\n",
       "      <th></th>\n",
       "      <th></th>\n",
       "    </tr>\n",
       "  </thead>\n",
       "  <tbody>\n",
       "    <tr>\n",
       "      <th>0</th>\n",
       "      <td>операции с автомобилем</td>\n",
       "      <td>4279</td>\n",
       "      <td>400</td>\n",
       "      <td>9.35%</td>\n",
       "      <td>20.06%</td>\n",
       "    </tr>\n",
       "    <tr>\n",
       "      <th>1</th>\n",
       "      <td>операции с недвижимостью</td>\n",
       "      <td>10751</td>\n",
       "      <td>780</td>\n",
       "      <td>7.26%</td>\n",
       "      <td>50.40%</td>\n",
       "    </tr>\n",
       "    <tr>\n",
       "      <th>2</th>\n",
       "      <td>получение образования</td>\n",
       "      <td>3988</td>\n",
       "      <td>369</td>\n",
       "      <td>9.25%</td>\n",
       "      <td>18.70%</td>\n",
       "    </tr>\n",
       "    <tr>\n",
       "      <th>3</th>\n",
       "      <td>проведение свадьбы</td>\n",
       "      <td>2313</td>\n",
       "      <td>183</td>\n",
       "      <td>7.91%</td>\n",
       "      <td>10.84%</td>\n",
       "    </tr>\n",
       "  </tbody>\n",
       "</table>\n",
       "</div>"
      ],
      "text/plain": [
       "           purpose_category number_of_borrowers overdue share_overdue  \\\n",
       "                                                                        \n",
       "0    операции с автомобилем                4279     400         9.35%   \n",
       "1  операции с недвижимостью               10751     780         7.26%   \n",
       "2     получение образования                3988     369         9.25%   \n",
       "3        проведение свадьбы                2313     183         7.91%   \n",
       "\n",
       "  share_borrowers  \n",
       "                   \n",
       "0          20.06%  \n",
       "1          50.40%  \n",
       "2          18.70%  \n",
       "3          10.84%  "
      ]
     },
     "execution_count": 33,
     "metadata": {},
     "output_type": "execute_result"
    }
   ],
   "source": [
    "# создаем pivot_debt_purpose , исользовав функцию func_pivot к колонке purpose_category :\n",
    "pivot_debt_purpose = func_pivot(data['purpose_category'])\n",
    "# выводим pivot_debt_purpose :\n",
    "pivot_debt_purpose"
   ]
  },
  {
   "cell_type": "code",
   "execution_count": 34,
   "id": "4a15ae05",
   "metadata": {},
   "outputs": [
    {
     "data": {
      "text/html": [
       "<div>\n",
       "<style scoped>\n",
       "    .dataframe tbody tr th:only-of-type {\n",
       "        vertical-align: middle;\n",
       "    }\n",
       "\n",
       "    .dataframe tbody tr th {\n",
       "        vertical-align: top;\n",
       "    }\n",
       "\n",
       "    .dataframe thead tr th {\n",
       "        text-align: left;\n",
       "    }\n",
       "</style>\n",
       "<table border=\"1\" class=\"dataframe\">\n",
       "  <thead>\n",
       "    <tr>\n",
       "      <th></th>\n",
       "      <th>purpose_category</th>\n",
       "      <th>purpose</th>\n",
       "      <th>number_of_borrowers</th>\n",
       "      <th>overdue</th>\n",
       "      <th>share_overdue</th>\n",
       "      <th>share_borrowers</th>\n",
       "    </tr>\n",
       "    <tr>\n",
       "      <th></th>\n",
       "      <th></th>\n",
       "      <th></th>\n",
       "      <th></th>\n",
       "      <th></th>\n",
       "      <th></th>\n",
       "      <th></th>\n",
       "    </tr>\n",
       "  </thead>\n",
       "  <tbody>\n",
       "    <tr>\n",
       "      <th>0</th>\n",
       "      <td>операции с автомобилем</td>\n",
       "      <td>автомобили</td>\n",
       "      <td>476</td>\n",
       "      <td>44</td>\n",
       "      <td>9.24%</td>\n",
       "      <td>2.23%</td>\n",
       "    </tr>\n",
       "    <tr>\n",
       "      <th>1</th>\n",
       "      <td>операции с автомобилем</td>\n",
       "      <td>автомобиль</td>\n",
       "      <td>491</td>\n",
       "      <td>41</td>\n",
       "      <td>8.35%</td>\n",
       "      <td>2.30%</td>\n",
       "    </tr>\n",
       "    <tr>\n",
       "      <th>2</th>\n",
       "      <td>операции с автомобилем</td>\n",
       "      <td>на покупку автомобиля</td>\n",
       "      <td>469</td>\n",
       "      <td>44</td>\n",
       "      <td>9.38%</td>\n",
       "      <td>2.20%</td>\n",
       "    </tr>\n",
       "    <tr>\n",
       "      <th>3</th>\n",
       "      <td>операции с автомобилем</td>\n",
       "      <td>на покупку подержанного автомобиля</td>\n",
       "      <td>471</td>\n",
       "      <td>35</td>\n",
       "      <td>7.43%</td>\n",
       "      <td>2.21%</td>\n",
       "    </tr>\n",
       "    <tr>\n",
       "      <th>4</th>\n",
       "      <td>операции с автомобилем</td>\n",
       "      <td>на покупку своего автомобиля</td>\n",
       "      <td>504</td>\n",
       "      <td>46</td>\n",
       "      <td>9.13%</td>\n",
       "      <td>2.36%</td>\n",
       "    </tr>\n",
       "    <tr>\n",
       "      <th>5</th>\n",
       "      <td>операции с автомобилем</td>\n",
       "      <td>приобретение автомобиля</td>\n",
       "      <td>459</td>\n",
       "      <td>42</td>\n",
       "      <td>9.15%</td>\n",
       "      <td>2.15%</td>\n",
       "    </tr>\n",
       "    <tr>\n",
       "      <th>6</th>\n",
       "      <td>операции с автомобилем</td>\n",
       "      <td>свой автомобиль</td>\n",
       "      <td>473</td>\n",
       "      <td>47</td>\n",
       "      <td>9.94%</td>\n",
       "      <td>2.22%</td>\n",
       "    </tr>\n",
       "    <tr>\n",
       "      <th>7</th>\n",
       "      <td>операции с автомобилем</td>\n",
       "      <td>сделка с автомобилем</td>\n",
       "      <td>455</td>\n",
       "      <td>50</td>\n",
       "      <td>10.99%</td>\n",
       "      <td>2.13%</td>\n",
       "    </tr>\n",
       "    <tr>\n",
       "      <th>8</th>\n",
       "      <td>операции с автомобилем</td>\n",
       "      <td>сделка с подержанным автомобилем</td>\n",
       "      <td>481</td>\n",
       "      <td>51</td>\n",
       "      <td>10.60%</td>\n",
       "      <td>2.25%</td>\n",
       "    </tr>\n",
       "    <tr>\n",
       "      <th>9</th>\n",
       "      <td>операции с недвижимостью</td>\n",
       "      <td>жилье</td>\n",
       "      <td>641</td>\n",
       "      <td>46</td>\n",
       "      <td>7.18%</td>\n",
       "      <td>3.01%</td>\n",
       "    </tr>\n",
       "    <tr>\n",
       "      <th>10</th>\n",
       "      <td>операции с недвижимостью</td>\n",
       "      <td>недвижимость</td>\n",
       "      <td>631</td>\n",
       "      <td>42</td>\n",
       "      <td>6.66%</td>\n",
       "      <td>2.96%</td>\n",
       "    </tr>\n",
       "    <tr>\n",
       "      <th>11</th>\n",
       "      <td>операции с недвижимостью</td>\n",
       "      <td>операции с жильем</td>\n",
       "      <td>647</td>\n",
       "      <td>48</td>\n",
       "      <td>7.42%</td>\n",
       "      <td>3.03%</td>\n",
       "    </tr>\n",
       "    <tr>\n",
       "      <th>12</th>\n",
       "      <td>операции с недвижимостью</td>\n",
       "      <td>операции с коммерческой недвижимостью</td>\n",
       "      <td>645</td>\n",
       "      <td>52</td>\n",
       "      <td>8.06%</td>\n",
       "      <td>3.02%</td>\n",
       "    </tr>\n",
       "    <tr>\n",
       "      <th>13</th>\n",
       "      <td>операции с недвижимостью</td>\n",
       "      <td>операции с недвижимостью</td>\n",
       "      <td>672</td>\n",
       "      <td>55</td>\n",
       "      <td>8.18%</td>\n",
       "      <td>3.15%</td>\n",
       "    </tr>\n",
       "    <tr>\n",
       "      <th>14</th>\n",
       "      <td>операции с недвижимостью</td>\n",
       "      <td>операции со своей недвижимостью</td>\n",
       "      <td>623</td>\n",
       "      <td>50</td>\n",
       "      <td>8.03%</td>\n",
       "      <td>2.92%</td>\n",
       "    </tr>\n",
       "    <tr>\n",
       "      <th>15</th>\n",
       "      <td>операции с недвижимостью</td>\n",
       "      <td>покупка жилой недвижимости</td>\n",
       "      <td>602</td>\n",
       "      <td>41</td>\n",
       "      <td>6.81%</td>\n",
       "      <td>2.82%</td>\n",
       "    </tr>\n",
       "    <tr>\n",
       "      <th>16</th>\n",
       "      <td>операции с недвижимостью</td>\n",
       "      <td>покупка жилья</td>\n",
       "      <td>640</td>\n",
       "      <td>48</td>\n",
       "      <td>7.50%</td>\n",
       "      <td>3.00%</td>\n",
       "    </tr>\n",
       "    <tr>\n",
       "      <th>17</th>\n",
       "      <td>операции с недвижимостью</td>\n",
       "      <td>покупка жилья для сдачи</td>\n",
       "      <td>649</td>\n",
       "      <td>52</td>\n",
       "      <td>8.01%</td>\n",
       "      <td>3.04%</td>\n",
       "    </tr>\n",
       "    <tr>\n",
       "      <th>18</th>\n",
       "      <td>операции с недвижимостью</td>\n",
       "      <td>покупка жилья для семьи</td>\n",
       "      <td>637</td>\n",
       "      <td>45</td>\n",
       "      <td>7.06%</td>\n",
       "      <td>2.99%</td>\n",
       "    </tr>\n",
       "    <tr>\n",
       "      <th>19</th>\n",
       "      <td>операции с недвижимостью</td>\n",
       "      <td>покупка коммерческой недвижимости</td>\n",
       "      <td>658</td>\n",
       "      <td>46</td>\n",
       "      <td>6.99%</td>\n",
       "      <td>3.08%</td>\n",
       "    </tr>\n",
       "    <tr>\n",
       "      <th>20</th>\n",
       "      <td>операции с недвижимостью</td>\n",
       "      <td>покупка недвижимости</td>\n",
       "      <td>616</td>\n",
       "      <td>43</td>\n",
       "      <td>6.98%</td>\n",
       "      <td>2.89%</td>\n",
       "    </tr>\n",
       "    <tr>\n",
       "      <th>21</th>\n",
       "      <td>операции с недвижимостью</td>\n",
       "      <td>покупка своего жилья</td>\n",
       "      <td>619</td>\n",
       "      <td>34</td>\n",
       "      <td>5.49%</td>\n",
       "      <td>2.90%</td>\n",
       "    </tr>\n",
       "    <tr>\n",
       "      <th>22</th>\n",
       "      <td>операции с недвижимостью</td>\n",
       "      <td>ремонт жилью</td>\n",
       "      <td>604</td>\n",
       "      <td>35</td>\n",
       "      <td>5.79%</td>\n",
       "      <td>2.83%</td>\n",
       "    </tr>\n",
       "    <tr>\n",
       "      <th>23</th>\n",
       "      <td>операции с недвижимостью</td>\n",
       "      <td>строительство жилой недвижимости</td>\n",
       "      <td>620</td>\n",
       "      <td>48</td>\n",
       "      <td>7.74%</td>\n",
       "      <td>2.91%</td>\n",
       "    </tr>\n",
       "    <tr>\n",
       "      <th>24</th>\n",
       "      <td>операции с недвижимостью</td>\n",
       "      <td>строительство недвижимости</td>\n",
       "      <td>619</td>\n",
       "      <td>54</td>\n",
       "      <td>8.72%</td>\n",
       "      <td>2.90%</td>\n",
       "    </tr>\n",
       "    <tr>\n",
       "      <th>25</th>\n",
       "      <td>операции с недвижимостью</td>\n",
       "      <td>строительство собственной недвижимости</td>\n",
       "      <td>628</td>\n",
       "      <td>41</td>\n",
       "      <td>6.53%</td>\n",
       "      <td>2.94%</td>\n",
       "    </tr>\n",
       "    <tr>\n",
       "      <th>26</th>\n",
       "      <td>получение образования</td>\n",
       "      <td>высшее образование</td>\n",
       "      <td>446</td>\n",
       "      <td>40</td>\n",
       "      <td>8.97%</td>\n",
       "      <td>2.09%</td>\n",
       "    </tr>\n",
       "    <tr>\n",
       "      <th>27</th>\n",
       "      <td>получение образования</td>\n",
       "      <td>дополнительное образование</td>\n",
       "      <td>455</td>\n",
       "      <td>38</td>\n",
       "      <td>8.35%</td>\n",
       "      <td>2.13%</td>\n",
       "    </tr>\n",
       "    <tr>\n",
       "      <th>28</th>\n",
       "      <td>получение образования</td>\n",
       "      <td>заняться высшим образованием</td>\n",
       "      <td>496</td>\n",
       "      <td>43</td>\n",
       "      <td>8.67%</td>\n",
       "      <td>2.33%</td>\n",
       "    </tr>\n",
       "    <tr>\n",
       "      <th>29</th>\n",
       "      <td>получение образования</td>\n",
       "      <td>заняться образованием</td>\n",
       "      <td>408</td>\n",
       "      <td>39</td>\n",
       "      <td>9.56%</td>\n",
       "      <td>1.91%</td>\n",
       "    </tr>\n",
       "    <tr>\n",
       "      <th>30</th>\n",
       "      <td>получение образования</td>\n",
       "      <td>образование</td>\n",
       "      <td>442</td>\n",
       "      <td>32</td>\n",
       "      <td>7.24%</td>\n",
       "      <td>2.07%</td>\n",
       "    </tr>\n",
       "    <tr>\n",
       "      <th>31</th>\n",
       "      <td>получение образования</td>\n",
       "      <td>получение высшего образования</td>\n",
       "      <td>425</td>\n",
       "      <td>46</td>\n",
       "      <td>10.82%</td>\n",
       "      <td>1.99%</td>\n",
       "    </tr>\n",
       "    <tr>\n",
       "      <th>32</th>\n",
       "      <td>получение образования</td>\n",
       "      <td>получение дополнительного образования</td>\n",
       "      <td>444</td>\n",
       "      <td>51</td>\n",
       "      <td>11.49%</td>\n",
       "      <td>2.08%</td>\n",
       "    </tr>\n",
       "    <tr>\n",
       "      <th>33</th>\n",
       "      <td>получение образования</td>\n",
       "      <td>получение образования</td>\n",
       "      <td>440</td>\n",
       "      <td>36</td>\n",
       "      <td>8.18%</td>\n",
       "      <td>2.06%</td>\n",
       "    </tr>\n",
       "    <tr>\n",
       "      <th>34</th>\n",
       "      <td>получение образования</td>\n",
       "      <td>профильное образование</td>\n",
       "      <td>432</td>\n",
       "      <td>44</td>\n",
       "      <td>10.19%</td>\n",
       "      <td>2.03%</td>\n",
       "    </tr>\n",
       "    <tr>\n",
       "      <th>35</th>\n",
       "      <td>проведение свадьбы</td>\n",
       "      <td>на проведение свадьбы</td>\n",
       "      <td>763</td>\n",
       "      <td>61</td>\n",
       "      <td>7.99%</td>\n",
       "      <td>3.58%</td>\n",
       "    </tr>\n",
       "    <tr>\n",
       "      <th>36</th>\n",
       "      <td>проведение свадьбы</td>\n",
       "      <td>свадьба</td>\n",
       "      <td>790</td>\n",
       "      <td>64</td>\n",
       "      <td>8.10%</td>\n",
       "      <td>3.70%</td>\n",
       "    </tr>\n",
       "    <tr>\n",
       "      <th>37</th>\n",
       "      <td>проведение свадьбы</td>\n",
       "      <td>сыграть свадьбу</td>\n",
       "      <td>760</td>\n",
       "      <td>58</td>\n",
       "      <td>7.63%</td>\n",
       "      <td>3.56%</td>\n",
       "    </tr>\n",
       "  </tbody>\n",
       "</table>\n",
       "</div>"
      ],
      "text/plain": [
       "            purpose_category                                 purpose  \\\n",
       "                                                                       \n",
       "0     операции с автомобилем                              автомобили   \n",
       "1     операции с автомобилем                              автомобиль   \n",
       "2     операции с автомобилем                   на покупку автомобиля   \n",
       "3     операции с автомобилем      на покупку подержанного автомобиля   \n",
       "4     операции с автомобилем            на покупку своего автомобиля   \n",
       "5     операции с автомобилем                 приобретение автомобиля   \n",
       "6     операции с автомобилем                         свой автомобиль   \n",
       "7     операции с автомобилем                    сделка с автомобилем   \n",
       "8     операции с автомобилем        сделка с подержанным автомобилем   \n",
       "9   операции с недвижимостью                                   жилье   \n",
       "10  операции с недвижимостью                            недвижимость   \n",
       "11  операции с недвижимостью                       операции с жильем   \n",
       "12  операции с недвижимостью   операции с коммерческой недвижимостью   \n",
       "13  операции с недвижимостью                операции с недвижимостью   \n",
       "14  операции с недвижимостью         операции со своей недвижимостью   \n",
       "15  операции с недвижимостью              покупка жилой недвижимости   \n",
       "16  операции с недвижимостью                           покупка жилья   \n",
       "17  операции с недвижимостью                 покупка жилья для сдачи   \n",
       "18  операции с недвижимостью                 покупка жилья для семьи   \n",
       "19  операции с недвижимостью       покупка коммерческой недвижимости   \n",
       "20  операции с недвижимостью                    покупка недвижимости   \n",
       "21  операции с недвижимостью                    покупка своего жилья   \n",
       "22  операции с недвижимостью                            ремонт жилью   \n",
       "23  операции с недвижимостью        строительство жилой недвижимости   \n",
       "24  операции с недвижимостью              строительство недвижимости   \n",
       "25  операции с недвижимостью  строительство собственной недвижимости   \n",
       "26     получение образования                      высшее образование   \n",
       "27     получение образования              дополнительное образование   \n",
       "28     получение образования            заняться высшим образованием   \n",
       "29     получение образования                   заняться образованием   \n",
       "30     получение образования                             образование   \n",
       "31     получение образования           получение высшего образования   \n",
       "32     получение образования   получение дополнительного образования   \n",
       "33     получение образования                   получение образования   \n",
       "34     получение образования                  профильное образование   \n",
       "35        проведение свадьбы                   на проведение свадьбы   \n",
       "36        проведение свадьбы                                 свадьба   \n",
       "37        проведение свадьбы                         сыграть свадьбу   \n",
       "\n",
       "   number_of_borrowers overdue share_overdue share_borrowers  \n",
       "                                                              \n",
       "0                  476      44         9.24%           2.23%  \n",
       "1                  491      41         8.35%           2.30%  \n",
       "2                  469      44         9.38%           2.20%  \n",
       "3                  471      35         7.43%           2.21%  \n",
       "4                  504      46         9.13%           2.36%  \n",
       "5                  459      42         9.15%           2.15%  \n",
       "6                  473      47         9.94%           2.22%  \n",
       "7                  455      50        10.99%           2.13%  \n",
       "8                  481      51        10.60%           2.25%  \n",
       "9                  641      46         7.18%           3.01%  \n",
       "10                 631      42         6.66%           2.96%  \n",
       "11                 647      48         7.42%           3.03%  \n",
       "12                 645      52         8.06%           3.02%  \n",
       "13                 672      55         8.18%           3.15%  \n",
       "14                 623      50         8.03%           2.92%  \n",
       "15                 602      41         6.81%           2.82%  \n",
       "16                 640      48         7.50%           3.00%  \n",
       "17                 649      52         8.01%           3.04%  \n",
       "18                 637      45         7.06%           2.99%  \n",
       "19                 658      46         6.99%           3.08%  \n",
       "20                 616      43         6.98%           2.89%  \n",
       "21                 619      34         5.49%           2.90%  \n",
       "22                 604      35         5.79%           2.83%  \n",
       "23                 620      48         7.74%           2.91%  \n",
       "24                 619      54         8.72%           2.90%  \n",
       "25                 628      41         6.53%           2.94%  \n",
       "26                 446      40         8.97%           2.09%  \n",
       "27                 455      38         8.35%           2.13%  \n",
       "28                 496      43         8.67%           2.33%  \n",
       "29                 408      39         9.56%           1.91%  \n",
       "30                 442      32         7.24%           2.07%  \n",
       "31                 425      46        10.82%           1.99%  \n",
       "32                 444      51        11.49%           2.08%  \n",
       "33                 440      36         8.18%           2.06%  \n",
       "34                 432      44        10.19%           2.03%  \n",
       "35                 763      61         7.99%           3.58%  \n",
       "36                 790      64         8.10%           3.70%  \n",
       "37                 760      58         7.63%           3.56%  "
      ]
     },
     "execution_count": 34,
     "metadata": {},
     "output_type": "execute_result"
    }
   ],
   "source": [
    "# создаем функцию new_func_pivot с параметрами meaning_1,meaning_2 :\n",
    "def new_func_pivot(meaning_1,meaning_2):\n",
    "    # создаем сводную таблицу data_pivot с meaning_1,meaning_2 в роли index, со значением из колонки debt \n",
    "    # и применяемыми функциями  count,sum,mean\n",
    "    # убираем мультииндекс :\n",
    "    data_pivot = data.pivot_table(index=[meaning_1,meaning_2], \n",
    "                                  values='debt',\n",
    "                                  aggfunc=['count','sum','mean']).reset_index() \n",
    "    # заменяем названия колонок  в сводной таблице :\n",
    "    data_pivot = data_pivot.rename(columns={'sum':'overdue', \n",
    "                       'count':'number_of_borrowers',\n",
    "                       'mean':'share_overdue',\n",
    "                       'debt': ' '})\n",
    "    # меняем формат колонки share_overdue  на проценты с 2 знаками после запятой с помощью метода format() : \n",
    "    data_pivot['share_overdue', ' '] = data_pivot['share_overdue', ' '].apply('{:.2%}'.format)\n",
    "    # создаем столбец share_borrowers с показателями доли займов по каждой категории от общего количества :\n",
    "    data_pivot['share_borrowers'] = data_pivot['number_of_borrowers', ' ']/data_pivot['number_of_borrowers', ' '].sum()\n",
    "    data_pivot['share_borrowers'] = data_pivot['share_borrowers'].apply('{:.2%}'.format)\n",
    "    \n",
    "    # возвращаем сводную таблицу data_pivot :\n",
    "    return data_pivot \n",
    "\n",
    "\n",
    "# чтобы посмотреть внутри категорий, создаем new_pivot_debt_purpose , исользовав функцию func_pivot к колонке  purpose_category и purpose \n",
    "new_pivot_debt_purpose = new_func_pivot(data['purpose_category'],data['purpose'])\n",
    "# выводим new_pivot_debt_purpose\n",
    "new_pivot_debt_purpose"
   ]
  },
  {
   "cell_type": "markdown",
   "id": "cf05ed63",
   "metadata": {
    "deletable": false,
    "id": "cf05ed63"
   },
   "source": [
    "**Вывод:** \n",
    "\n",
    "\n",
    "**Наибольшая доля просроченных займов с целями:  операции с автомобилем - 9.35% и  получение образования - 9.25%** (возможно объяснить поломкой и приход в негодность транспортного средства, а также дополнительными в этом случае расходами - в случае с  целью \"операции с автомобилями\" ; смена места работы в т.ч. в связи с переквалификацией, нахождение в статусе \"безработный\" - с  целью \"получение образования\")\n",
    "\n",
    "**Наименьшая доля  просроченных займов с целями: операции с недвижимостью - 7.26%**(возможно объяснить наличием залога по некоторым типам операций) и **проведение свадьбы -7.91%**. \n",
    "Наиболее низкий показатель внутри цели \"операции с недвижимостью\" - покупка своего жилья - 5.49% и ремонт жилья  - 5.79%.\n",
    "\n",
    "\n"
   ]
  },
  {
   "cell_type": "markdown",
   "id": "46c1f10b",
   "metadata": {
    "deletable": false,
    "editable": false,
    "id": "46c1f10b"
   },
   "source": [
    "#### 3.5 Приведите возможные причины появления пропусков в исходных данных."
   ]
  },
  {
   "cell_type": "markdown",
   "id": "3697d2a9",
   "metadata": {
    "deletable": false,
    "id": "3697d2a9"
   },
   "source": [
    "*Ответ:* \n",
    "\n",
    "**Возможные причины появления пропусков в исходных данных :**\n",
    "\n",
    "\n",
    "1) Человеческий фактор;\n",
    "\n",
    "2) Фактическое отстутствие этих данных;\n",
    "\n",
    "3) Тех. сбой при внесении данных в таблицу;\n",
    "\n",
    "4) Несоответствие типов при внесении новых данных."
   ]
  },
  {
   "cell_type": "markdown",
   "id": "3137d257",
   "metadata": {
    "deletable": false,
    "editable": false,
    "id": "3137d257"
   },
   "source": [
    "#### 3.6 Объясните, почему заполнить пропуски медианным значением — лучшее решение для количественных переменных."
   ]
  },
  {
   "cell_type": "markdown",
   "id": "cf40012a",
   "metadata": {
    "deletable": false,
    "id": "cf40012a"
   },
   "source": [
    "*Ответ:* \n",
    "\n",
    "**Медиана, в отличии от среднего значения, корректно характеризует данные, когда некоторые значения сильно выделяются среди большинства.**"
   ]
  },
  {
   "cell_type": "markdown",
   "id": "57bc304e",
   "metadata": {
    "deletable": false,
    "editable": false,
    "id": "57bc304e"
   },
   "source": [
    "### Шаг 4: общий вывод."
   ]
  },
  {
   "cell_type": "markdown",
   "id": "1ab75d1c",
   "metadata": {
    "deletable": false,
    "id": "1ab75d1c"
   },
   "source": [
    "**Общий вывод.**\n",
    "\n",
    "Средний показатель доли просроченных займов составляет **8.12%**\n",
    "\n",
    "**Наибольшие показатели доли просроченных займов :**\n",
    "\n",
    "\n",
    "1) у заёмщиков, у которых `есть дети`(9.24%)\n",
    "\n",
    "2) находящихся `не в браке` (8.88%). Больше всего просрочки в подгруппе `Не женат / не замужем` (9.76%)\n",
    "\n",
    "3) с `уровнем дохода от 50 001 руб. до 200 000 руб.`(8.5%)\n",
    "\n",
    "4) с целью займа - `операции с автомобилем` (9.35%)\n",
    "\n",
    "\n",
    "\n",
    "**Наименьшие показатели доли просроченных займов :**\n",
    "\n",
    "\n",
    "1) у заёмщиков, у которых `детей нет`(7.54%)\n",
    "\n",
    "2) находящихся `в браке` (7.56%)\n",
    "\n",
    "3) с `уровнем дохода от 200 001 руб.до 1 000 000 руб`(7.06%)\n",
    "\n",
    "4) с целью займа - `операции с недвижимостью` (7.26%)\n",
    "\n",
    "\n",
    "\n",
    "\n",
    "\n",
    "\n",
    "\n"
   ]
  }
 ],
 "metadata": {
  "ExecuteTimeLog": [
   {
    "duration": 508,
    "start_time": "2023-09-12T12:46:59.412Z"
   },
   {
    "duration": 21,
    "start_time": "2023-09-12T12:47:08.515Z"
   },
   {
    "duration": 15,
    "start_time": "2023-09-12T12:47:35.149Z"
   },
   {
    "duration": 10,
    "start_time": "2023-09-12T12:48:16.835Z"
   },
   {
    "duration": 33,
    "start_time": "2023-09-12T12:48:24.896Z"
   },
   {
    "duration": 3,
    "start_time": "2023-09-12T12:48:29.394Z"
   },
   {
    "duration": 7,
    "start_time": "2023-09-12T12:48:35.279Z"
   },
   {
    "duration": 5,
    "start_time": "2023-09-12T12:49:02.264Z"
   },
   {
    "duration": 6,
    "start_time": "2023-09-12T12:49:17.360Z"
   },
   {
    "duration": 4,
    "start_time": "2023-09-12T12:49:23.518Z"
   },
   {
    "duration": 31,
    "start_time": "2023-09-12T12:49:35.921Z"
   },
   {
    "duration": 11,
    "start_time": "2023-09-12T12:49:38.906Z"
   },
   {
    "duration": 4,
    "start_time": "2023-09-12T12:49:43.341Z"
   },
   {
    "duration": 11,
    "start_time": "2023-09-12T12:49:47.916Z"
   },
   {
    "duration": 25,
    "start_time": "2023-09-12T12:49:51.175Z"
   },
   {
    "duration": 17,
    "start_time": "2023-09-12T12:49:52.710Z"
   },
   {
    "duration": 5,
    "start_time": "2023-09-12T12:50:05.698Z"
   },
   {
    "duration": 10,
    "start_time": "2023-09-12T12:50:10.694Z"
   },
   {
    "duration": 6,
    "start_time": "2023-09-12T12:50:15.452Z"
   },
   {
    "duration": 3,
    "start_time": "2023-09-12T12:50:19.042Z"
   },
   {
    "duration": 9,
    "start_time": "2023-09-12T12:50:21.946Z"
   },
   {
    "duration": 9,
    "start_time": "2023-09-12T12:51:52.787Z"
   },
   {
    "duration": 8,
    "start_time": "2023-09-12T12:53:51.231Z"
   },
   {
    "duration": 8,
    "start_time": "2023-09-12T12:54:16.802Z"
   },
   {
    "duration": 14,
    "start_time": "2023-09-12T12:54:29.463Z"
   },
   {
    "duration": 106,
    "start_time": "2023-09-12T13:21:01.604Z"
   },
   {
    "duration": 75,
    "start_time": "2023-09-12T13:21:08.597Z"
   },
   {
    "duration": 17,
    "start_time": "2023-09-12T13:23:32.808Z"
   },
   {
    "duration": 10,
    "start_time": "2023-09-12T13:25:00.294Z"
   },
   {
    "duration": 16,
    "start_time": "2023-09-12T13:25:51.387Z"
   },
   {
    "duration": 16,
    "start_time": "2023-09-12T13:29:55.672Z"
   },
   {
    "duration": 27,
    "start_time": "2023-09-12T13:30:29.541Z"
   },
   {
    "duration": 7,
    "start_time": "2023-09-12T13:40:55.790Z"
   },
   {
    "duration": 130,
    "start_time": "2023-09-12T13:42:28.697Z"
   },
   {
    "duration": 113,
    "start_time": "2023-09-12T13:42:47.663Z"
   },
   {
    "duration": 9,
    "start_time": "2023-09-12T13:46:54.396Z"
   },
   {
    "duration": 9,
    "start_time": "2023-09-12T13:47:12.190Z"
   },
   {
    "duration": 9,
    "start_time": "2023-09-12T13:47:19.199Z"
   },
   {
    "duration": 11,
    "start_time": "2023-09-12T13:47:34.785Z"
   },
   {
    "duration": 6,
    "start_time": "2023-09-12T13:48:14.864Z"
   },
   {
    "duration": 97,
    "start_time": "2023-09-12T13:51:04.465Z"
   },
   {
    "duration": 9,
    "start_time": "2023-09-12T13:52:35.390Z"
   },
   {
    "duration": 7,
    "start_time": "2023-09-12T13:53:16.314Z"
   },
   {
    "duration": 7,
    "start_time": "2023-09-12T14:01:16.905Z"
   },
   {
    "duration": 7,
    "start_time": "2023-09-12T14:01:35.305Z"
   },
   {
    "duration": 6,
    "start_time": "2023-09-12T14:11:04.542Z"
   },
   {
    "duration": 7,
    "start_time": "2023-09-12T14:13:56.282Z"
   },
   {
    "duration": 4,
    "start_time": "2023-09-12T14:17:45.359Z"
   },
   {
    "duration": 11,
    "start_time": "2023-09-12T14:17:57.472Z"
   },
   {
    "duration": 8,
    "start_time": "2023-09-12T14:18:27.564Z"
   },
   {
    "duration": 15,
    "start_time": "2023-09-12T14:18:37.198Z"
   },
   {
    "duration": 18,
    "start_time": "2023-09-12T14:19:58.880Z"
   },
   {
    "duration": 13,
    "start_time": "2023-09-12T14:24:42.774Z"
   },
   {
    "duration": 12,
    "start_time": "2023-09-12T14:25:03.666Z"
   },
   {
    "duration": 12,
    "start_time": "2023-09-12T14:25:06.505Z"
   },
   {
    "duration": 13,
    "start_time": "2023-09-12T14:26:02.939Z"
   },
   {
    "duration": 13,
    "start_time": "2023-09-12T14:26:17.113Z"
   },
   {
    "duration": 98,
    "start_time": "2023-09-12T14:29:51.884Z"
   },
   {
    "duration": 15,
    "start_time": "2023-09-12T14:30:30.638Z"
   },
   {
    "duration": 15,
    "start_time": "2023-09-12T14:32:26.037Z"
   },
   {
    "duration": 28,
    "start_time": "2023-09-12T14:32:44.050Z"
   },
   {
    "duration": 1325,
    "start_time": "2023-09-12T14:34:32.266Z"
   },
   {
    "duration": 1251,
    "start_time": "2023-09-12T14:35:49.440Z"
   },
   {
    "duration": 1142,
    "start_time": "2023-09-12T14:36:10.598Z"
   },
   {
    "duration": 1266,
    "start_time": "2023-09-12T14:37:25.643Z"
   },
   {
    "duration": 1269,
    "start_time": "2023-09-12T14:37:44.030Z"
   },
   {
    "duration": 1356,
    "start_time": "2023-09-12T14:37:48.449Z"
   },
   {
    "duration": 417,
    "start_time": "2023-09-12T14:38:11.297Z"
   },
   {
    "duration": 28,
    "start_time": "2023-09-12T14:38:11.716Z"
   },
   {
    "duration": 18,
    "start_time": "2023-09-12T14:38:11.745Z"
   },
   {
    "duration": 9,
    "start_time": "2023-09-12T14:38:11.765Z"
   },
   {
    "duration": 49,
    "start_time": "2023-09-12T14:38:11.776Z"
   },
   {
    "duration": 3,
    "start_time": "2023-09-12T14:38:11.826Z"
   },
   {
    "duration": 14,
    "start_time": "2023-09-12T14:38:11.831Z"
   },
   {
    "duration": 4,
    "start_time": "2023-09-12T14:38:11.846Z"
   },
   {
    "duration": 29,
    "start_time": "2023-09-12T14:38:11.851Z"
   },
   {
    "duration": 8,
    "start_time": "2023-09-12T14:38:11.882Z"
   },
   {
    "duration": 65,
    "start_time": "2023-09-12T14:38:11.892Z"
   },
   {
    "duration": 10,
    "start_time": "2023-09-12T14:38:11.958Z"
   },
   {
    "duration": 14,
    "start_time": "2023-09-12T14:38:11.969Z"
   },
   {
    "duration": 12,
    "start_time": "2023-09-12T14:38:11.986Z"
   },
   {
    "duration": 32,
    "start_time": "2023-09-12T14:38:12.000Z"
   },
   {
    "duration": 16,
    "start_time": "2023-09-12T14:38:12.033Z"
   },
   {
    "duration": 3,
    "start_time": "2023-09-12T14:38:12.051Z"
   },
   {
    "duration": 13,
    "start_time": "2023-09-12T14:38:12.056Z"
   },
   {
    "duration": 5,
    "start_time": "2023-09-12T14:38:12.071Z"
   },
   {
    "duration": 3,
    "start_time": "2023-09-12T14:38:12.078Z"
   },
   {
    "duration": 20,
    "start_time": "2023-09-12T14:38:12.082Z"
   },
   {
    "duration": 69,
    "start_time": "2023-09-12T14:38:12.104Z"
   },
   {
    "duration": 14,
    "start_time": "2023-09-12T14:38:12.175Z"
   },
   {
    "duration": 3,
    "start_time": "2023-09-12T14:38:12.191Z"
   },
   {
    "duration": 11,
    "start_time": "2023-09-12T14:38:12.195Z"
   },
   {
    "duration": 11,
    "start_time": "2023-09-12T14:38:12.208Z"
   },
   {
    "duration": 18,
    "start_time": "2023-09-12T14:38:28.942Z"
   },
   {
    "duration": 1655,
    "start_time": "2023-09-12T14:38:43.403Z"
   },
   {
    "duration": 2193,
    "start_time": "2023-09-12T14:39:38.010Z"
   },
   {
    "duration": 477,
    "start_time": "2023-09-12T14:39:49.333Z"
   },
   {
    "duration": 21,
    "start_time": "2023-09-12T14:39:49.812Z"
   },
   {
    "duration": 20,
    "start_time": "2023-09-12T14:39:49.834Z"
   },
   {
    "duration": 10,
    "start_time": "2023-09-12T14:39:49.856Z"
   },
   {
    "duration": 37,
    "start_time": "2023-09-12T14:39:49.867Z"
   },
   {
    "duration": 2,
    "start_time": "2023-09-12T14:39:49.906Z"
   },
   {
    "duration": 10,
    "start_time": "2023-09-12T14:39:49.910Z"
   },
   {
    "duration": 11,
    "start_time": "2023-09-12T14:39:49.921Z"
   },
   {
    "duration": 26,
    "start_time": "2023-09-12T14:39:49.934Z"
   },
   {
    "duration": 4,
    "start_time": "2023-09-12T14:39:49.962Z"
   },
   {
    "duration": 58,
    "start_time": "2023-09-12T14:39:49.967Z"
   },
   {
    "duration": 12,
    "start_time": "2023-09-12T14:39:50.027Z"
   },
   {
    "duration": 9,
    "start_time": "2023-09-12T14:39:50.040Z"
   },
   {
    "duration": 28,
    "start_time": "2023-09-12T14:39:50.050Z"
   },
   {
    "duration": 31,
    "start_time": "2023-09-12T14:39:50.079Z"
   },
   {
    "duration": 16,
    "start_time": "2023-09-12T14:39:50.111Z"
   },
   {
    "duration": 3,
    "start_time": "2023-09-12T14:39:50.128Z"
   },
   {
    "duration": 14,
    "start_time": "2023-09-12T14:39:50.133Z"
   },
   {
    "duration": 6,
    "start_time": "2023-09-12T14:39:50.149Z"
   },
   {
    "duration": 15,
    "start_time": "2023-09-12T14:39:50.156Z"
   },
   {
    "duration": 18,
    "start_time": "2023-09-12T14:39:50.172Z"
   },
   {
    "duration": 34,
    "start_time": "2023-09-12T14:39:50.192Z"
   },
   {
    "duration": 20,
    "start_time": "2023-09-12T14:39:50.227Z"
   },
   {
    "duration": 3,
    "start_time": "2023-09-12T14:39:50.248Z"
   },
   {
    "duration": 6,
    "start_time": "2023-09-12T14:39:50.252Z"
   },
   {
    "duration": 11,
    "start_time": "2023-09-12T14:39:50.259Z"
   },
   {
    "duration": 1456,
    "start_time": "2023-09-12T14:43:09.027Z"
   },
   {
    "duration": 1462,
    "start_time": "2023-09-12T14:43:16.595Z"
   },
   {
    "duration": 500,
    "start_time": "2023-09-12T14:43:28.684Z"
   },
   {
    "duration": 23,
    "start_time": "2023-09-12T14:43:29.186Z"
   },
   {
    "duration": 17,
    "start_time": "2023-09-12T14:43:29.211Z"
   },
   {
    "duration": 10,
    "start_time": "2023-09-12T14:43:29.244Z"
   },
   {
    "duration": 44,
    "start_time": "2023-09-12T14:43:29.256Z"
   },
   {
    "duration": 3,
    "start_time": "2023-09-12T14:43:29.302Z"
   },
   {
    "duration": 28,
    "start_time": "2023-09-12T14:43:29.307Z"
   },
   {
    "duration": 21,
    "start_time": "2023-09-12T14:43:29.337Z"
   },
   {
    "duration": 11,
    "start_time": "2023-09-12T14:43:29.359Z"
   },
   {
    "duration": 5,
    "start_time": "2023-09-12T14:43:29.373Z"
   },
   {
    "duration": 38,
    "start_time": "2023-09-12T14:43:29.379Z"
   },
   {
    "duration": 12,
    "start_time": "2023-09-12T14:43:29.419Z"
   },
   {
    "duration": 5,
    "start_time": "2023-09-12T14:43:29.444Z"
   },
   {
    "duration": 24,
    "start_time": "2023-09-12T14:43:29.451Z"
   },
   {
    "duration": 20,
    "start_time": "2023-09-12T14:43:29.477Z"
   },
   {
    "duration": 24,
    "start_time": "2023-09-12T14:43:29.499Z"
   },
   {
    "duration": 19,
    "start_time": "2023-09-12T14:43:29.525Z"
   },
   {
    "duration": 17,
    "start_time": "2023-09-12T14:43:29.546Z"
   },
   {
    "duration": 17,
    "start_time": "2023-09-12T14:43:29.565Z"
   },
   {
    "duration": 14,
    "start_time": "2023-09-12T14:43:29.584Z"
   },
   {
    "duration": 37,
    "start_time": "2023-09-12T14:43:29.600Z"
   },
   {
    "duration": 37,
    "start_time": "2023-09-12T14:43:29.639Z"
   },
   {
    "duration": 17,
    "start_time": "2023-09-12T14:43:29.679Z"
   },
   {
    "duration": 6,
    "start_time": "2023-09-12T14:43:29.697Z"
   },
   {
    "duration": 20,
    "start_time": "2023-09-12T14:43:29.705Z"
   },
   {
    "duration": 9,
    "start_time": "2023-09-12T14:43:29.727Z"
   },
   {
    "duration": 31,
    "start_time": "2023-09-12T14:45:52.551Z"
   },
   {
    "duration": 16,
    "start_time": "2023-09-12T14:45:57.580Z"
   },
   {
    "duration": 1302,
    "start_time": "2023-09-12T14:47:07.816Z"
   },
   {
    "duration": 1201,
    "start_time": "2023-09-12T14:47:20.493Z"
   },
   {
    "duration": 481,
    "start_time": "2023-09-12T14:47:27.741Z"
   },
   {
    "duration": 23,
    "start_time": "2023-09-12T14:47:28.224Z"
   },
   {
    "duration": 15,
    "start_time": "2023-09-12T14:47:28.248Z"
   },
   {
    "duration": 28,
    "start_time": "2023-09-12T14:47:28.265Z"
   },
   {
    "duration": 60,
    "start_time": "2023-09-12T14:47:28.295Z"
   },
   {
    "duration": 4,
    "start_time": "2023-09-12T14:47:28.356Z"
   },
   {
    "duration": 13,
    "start_time": "2023-09-12T14:47:28.361Z"
   },
   {
    "duration": 11,
    "start_time": "2023-09-12T14:47:28.375Z"
   },
   {
    "duration": 9,
    "start_time": "2023-09-12T14:47:28.388Z"
   },
   {
    "duration": 8,
    "start_time": "2023-09-12T14:47:28.400Z"
   },
   {
    "duration": 47,
    "start_time": "2023-09-12T14:47:28.410Z"
   },
   {
    "duration": 11,
    "start_time": "2023-09-12T14:47:28.458Z"
   },
   {
    "duration": 5,
    "start_time": "2023-09-12T14:47:28.470Z"
   },
   {
    "duration": 12,
    "start_time": "2023-09-12T14:47:28.476Z"
   },
   {
    "duration": 20,
    "start_time": "2023-09-12T14:47:28.490Z"
   },
   {
    "duration": 40,
    "start_time": "2023-09-12T14:47:28.512Z"
   },
   {
    "duration": 3,
    "start_time": "2023-09-12T14:47:28.554Z"
   },
   {
    "duration": 17,
    "start_time": "2023-09-12T14:47:28.558Z"
   },
   {
    "duration": 8,
    "start_time": "2023-09-12T14:47:28.577Z"
   },
   {
    "duration": 3,
    "start_time": "2023-09-12T14:47:28.587Z"
   },
   {
    "duration": 21,
    "start_time": "2023-09-12T14:47:28.592Z"
   },
   {
    "duration": 51,
    "start_time": "2023-09-12T14:47:28.614Z"
   },
   {
    "duration": 14,
    "start_time": "2023-09-12T14:47:28.667Z"
   },
   {
    "duration": 7,
    "start_time": "2023-09-12T14:47:28.682Z"
   },
   {
    "duration": 22,
    "start_time": "2023-09-12T14:47:28.691Z"
   },
   {
    "duration": 20,
    "start_time": "2023-09-12T14:47:28.715Z"
   },
   {
    "duration": 1306,
    "start_time": "2023-09-12T14:48:40.557Z"
   },
   {
    "duration": 441,
    "start_time": "2023-09-12T14:48:48.873Z"
   },
   {
    "duration": 20,
    "start_time": "2023-09-12T14:48:49.316Z"
   },
   {
    "duration": 15,
    "start_time": "2023-09-12T14:48:49.338Z"
   },
   {
    "duration": 11,
    "start_time": "2023-09-12T14:48:49.355Z"
   },
   {
    "duration": 42,
    "start_time": "2023-09-12T14:48:49.368Z"
   },
   {
    "duration": 4,
    "start_time": "2023-09-12T14:48:49.412Z"
   },
   {
    "duration": 20,
    "start_time": "2023-09-12T14:48:49.417Z"
   },
   {
    "duration": 7,
    "start_time": "2023-09-12T14:48:49.439Z"
   },
   {
    "duration": 9,
    "start_time": "2023-09-12T14:48:49.448Z"
   },
   {
    "duration": 14,
    "start_time": "2023-09-12T14:48:49.460Z"
   },
   {
    "duration": 33,
    "start_time": "2023-09-12T14:48:49.476Z"
   },
   {
    "duration": 10,
    "start_time": "2023-09-12T14:48:49.510Z"
   },
   {
    "duration": 23,
    "start_time": "2023-09-12T14:48:49.521Z"
   },
   {
    "duration": 11,
    "start_time": "2023-09-12T14:48:49.546Z"
   },
   {
    "duration": 26,
    "start_time": "2023-09-12T14:48:49.559Z"
   },
   {
    "duration": 16,
    "start_time": "2023-09-12T14:48:49.587Z"
   },
   {
    "duration": 4,
    "start_time": "2023-09-12T14:48:49.604Z"
   },
   {
    "duration": 26,
    "start_time": "2023-09-12T14:48:49.609Z"
   },
   {
    "duration": 11,
    "start_time": "2023-09-12T14:48:49.637Z"
   },
   {
    "duration": 12,
    "start_time": "2023-09-12T14:48:49.650Z"
   },
   {
    "duration": 21,
    "start_time": "2023-09-12T14:48:49.663Z"
   },
   {
    "duration": 35,
    "start_time": "2023-09-12T14:48:49.686Z"
   },
   {
    "duration": 21,
    "start_time": "2023-09-12T14:48:49.723Z"
   },
   {
    "duration": 4,
    "start_time": "2023-09-12T14:48:49.746Z"
   },
   {
    "duration": 11,
    "start_time": "2023-09-12T14:48:49.752Z"
   },
   {
    "duration": 22,
    "start_time": "2023-09-12T14:48:49.765Z"
   },
   {
    "duration": 1378,
    "start_time": "2023-09-12T14:52:34.000Z"
   },
   {
    "duration": 1219,
    "start_time": "2023-09-12T14:52:48.323Z"
   },
   {
    "duration": 1169,
    "start_time": "2023-09-12T14:52:53.855Z"
   },
   {
    "duration": 520,
    "start_time": "2023-09-12T14:53:33.824Z"
   },
   {
    "duration": 19,
    "start_time": "2023-09-12T14:53:34.346Z"
   },
   {
    "duration": 38,
    "start_time": "2023-09-12T14:53:34.367Z"
   },
   {
    "duration": 19,
    "start_time": "2023-09-12T14:53:34.407Z"
   },
   {
    "duration": 55,
    "start_time": "2023-09-12T14:53:34.428Z"
   },
   {
    "duration": 3,
    "start_time": "2023-09-12T14:53:34.484Z"
   },
   {
    "duration": 22,
    "start_time": "2023-09-12T14:53:34.489Z"
   },
   {
    "duration": 20,
    "start_time": "2023-09-12T14:53:34.513Z"
   },
   {
    "duration": 24,
    "start_time": "2023-09-12T14:53:34.534Z"
   },
   {
    "duration": 11,
    "start_time": "2023-09-12T14:53:34.560Z"
   },
   {
    "duration": 41,
    "start_time": "2023-09-12T14:53:34.573Z"
   },
   {
    "duration": 9,
    "start_time": "2023-09-12T14:53:34.615Z"
   },
   {
    "duration": 4,
    "start_time": "2023-09-12T14:53:34.625Z"
   },
   {
    "duration": 21,
    "start_time": "2023-09-12T14:53:34.631Z"
   },
   {
    "duration": 17,
    "start_time": "2023-09-12T14:53:34.653Z"
   },
   {
    "duration": 17,
    "start_time": "2023-09-12T14:53:34.671Z"
   },
   {
    "duration": 3,
    "start_time": "2023-09-12T14:53:34.690Z"
   },
   {
    "duration": 22,
    "start_time": "2023-09-12T14:53:34.694Z"
   },
   {
    "duration": 11,
    "start_time": "2023-09-12T14:53:34.717Z"
   },
   {
    "duration": 3,
    "start_time": "2023-09-12T14:53:34.729Z"
   },
   {
    "duration": 20,
    "start_time": "2023-09-12T14:53:34.734Z"
   },
   {
    "duration": 33,
    "start_time": "2023-09-12T14:53:34.756Z"
   },
   {
    "duration": 12,
    "start_time": "2023-09-12T14:53:34.790Z"
   },
   {
    "duration": 2,
    "start_time": "2023-09-12T14:53:34.803Z"
   },
   {
    "duration": 7,
    "start_time": "2023-09-12T14:53:34.807Z"
   },
   {
    "duration": 4,
    "start_time": "2023-09-12T14:53:34.815Z"
   },
   {
    "duration": 1243,
    "start_time": "2023-09-12T14:57:11.550Z"
   },
   {
    "duration": 1235,
    "start_time": "2023-09-12T14:57:42.247Z"
   },
   {
    "duration": 449,
    "start_time": "2023-09-12T14:57:49.997Z"
   },
   {
    "duration": 26,
    "start_time": "2023-09-12T14:57:50.448Z"
   },
   {
    "duration": 14,
    "start_time": "2023-09-12T14:57:50.475Z"
   },
   {
    "duration": 50,
    "start_time": "2023-09-12T14:57:50.491Z"
   },
   {
    "duration": 51,
    "start_time": "2023-09-12T14:57:50.542Z"
   },
   {
    "duration": 4,
    "start_time": "2023-09-12T14:57:50.595Z"
   },
   {
    "duration": 66,
    "start_time": "2023-09-12T14:57:50.601Z"
   },
   {
    "duration": 27,
    "start_time": "2023-09-12T14:57:50.669Z"
   },
   {
    "duration": 16,
    "start_time": "2023-09-12T14:57:50.703Z"
   },
   {
    "duration": 31,
    "start_time": "2023-09-12T14:57:50.721Z"
   },
   {
    "duration": 36,
    "start_time": "2023-09-12T14:57:50.754Z"
   },
   {
    "duration": 9,
    "start_time": "2023-09-12T14:57:50.792Z"
   },
   {
    "duration": 140,
    "start_time": "2023-09-12T14:57:50.803Z"
   },
   {
    "duration": 14,
    "start_time": "2023-09-12T14:57:50.944Z"
   },
   {
    "duration": 28,
    "start_time": "2023-09-12T14:57:50.960Z"
   },
   {
    "duration": 17,
    "start_time": "2023-09-12T14:57:50.989Z"
   },
   {
    "duration": 3,
    "start_time": "2023-09-12T14:57:51.008Z"
   },
   {
    "duration": 17,
    "start_time": "2023-09-12T14:57:51.013Z"
   },
   {
    "duration": 16,
    "start_time": "2023-09-12T14:57:51.032Z"
   },
   {
    "duration": 7,
    "start_time": "2023-09-12T14:57:51.050Z"
   },
   {
    "duration": 33,
    "start_time": "2023-09-12T14:57:51.059Z"
   },
   {
    "duration": 39,
    "start_time": "2023-09-12T14:57:51.093Z"
   },
   {
    "duration": 12,
    "start_time": "2023-09-12T14:57:51.134Z"
   },
   {
    "duration": 1274,
    "start_time": "2023-09-12T14:57:51.147Z"
   },
   {
    "duration": 0,
    "start_time": "2023-09-12T14:57:52.422Z"
   },
   {
    "duration": 0,
    "start_time": "2023-09-12T14:57:52.423Z"
   },
   {
    "duration": 0,
    "start_time": "2023-09-12T14:57:52.424Z"
   },
   {
    "duration": 1234,
    "start_time": "2023-09-12T14:58:00.210Z"
   },
   {
    "duration": 5,
    "start_time": "2023-09-12T14:59:35.365Z"
   },
   {
    "duration": 1405,
    "start_time": "2023-09-12T15:00:16.162Z"
   },
   {
    "duration": 92,
    "start_time": "2023-09-12T15:00:46.024Z"
   },
   {
    "duration": 1275,
    "start_time": "2023-09-12T15:00:53.133Z"
   },
   {
    "duration": 440,
    "start_time": "2023-09-12T15:01:02.605Z"
   },
   {
    "duration": 24,
    "start_time": "2023-09-12T15:01:03.047Z"
   },
   {
    "duration": 40,
    "start_time": "2023-09-12T15:01:03.073Z"
   },
   {
    "duration": 17,
    "start_time": "2023-09-12T15:01:03.115Z"
   },
   {
    "duration": 53,
    "start_time": "2023-09-12T15:01:03.134Z"
   },
   {
    "duration": 2,
    "start_time": "2023-09-12T15:01:03.189Z"
   },
   {
    "duration": 92,
    "start_time": "2023-09-12T15:01:03.193Z"
   },
   {
    "duration": 42,
    "start_time": "2023-09-12T15:01:03.287Z"
   },
   {
    "duration": 33,
    "start_time": "2023-09-12T15:01:03.331Z"
   },
   {
    "duration": 41,
    "start_time": "2023-09-12T15:01:03.366Z"
   },
   {
    "duration": 44,
    "start_time": "2023-09-12T15:01:03.409Z"
   },
   {
    "duration": 10,
    "start_time": "2023-09-12T15:01:03.454Z"
   },
   {
    "duration": 135,
    "start_time": "2023-09-12T15:01:03.466Z"
   },
   {
    "duration": 20,
    "start_time": "2023-09-12T15:01:03.602Z"
   },
   {
    "duration": 29,
    "start_time": "2023-09-12T15:01:03.624Z"
   },
   {
    "duration": 15,
    "start_time": "2023-09-12T15:01:03.655Z"
   },
   {
    "duration": 3,
    "start_time": "2023-09-12T15:01:03.672Z"
   },
   {
    "duration": 27,
    "start_time": "2023-09-12T15:01:03.677Z"
   },
   {
    "duration": 24,
    "start_time": "2023-09-12T15:01:03.706Z"
   },
   {
    "duration": 28,
    "start_time": "2023-09-12T15:01:03.732Z"
   },
   {
    "duration": 31,
    "start_time": "2023-09-12T15:01:03.762Z"
   },
   {
    "duration": 48,
    "start_time": "2023-09-12T15:01:03.795Z"
   },
   {
    "duration": 13,
    "start_time": "2023-09-12T15:01:03.845Z"
   },
   {
    "duration": 1286,
    "start_time": "2023-09-12T15:01:03.860Z"
   },
   {
    "duration": 0,
    "start_time": "2023-09-12T15:01:05.148Z"
   },
   {
    "duration": 0,
    "start_time": "2023-09-12T15:01:05.149Z"
   },
   {
    "duration": 0,
    "start_time": "2023-09-12T15:01:05.150Z"
   },
   {
    "duration": 27,
    "start_time": "2023-09-12T15:09:32.613Z"
   },
   {
    "duration": 27,
    "start_time": "2023-09-12T15:11:36.378Z"
   },
   {
    "duration": 13,
    "start_time": "2023-09-12T15:16:31.103Z"
   },
   {
    "duration": 17,
    "start_time": "2023-09-12T15:16:38.039Z"
   },
   {
    "duration": 1220,
    "start_time": "2023-09-12T15:26:09.301Z"
   },
   {
    "duration": 1177,
    "start_time": "2023-09-12T15:26:17.721Z"
   },
   {
    "duration": 8,
    "start_time": "2023-09-12T15:26:39.649Z"
   },
   {
    "duration": 1266,
    "start_time": "2023-09-12T15:39:18.079Z"
   },
   {
    "duration": 1256,
    "start_time": "2023-09-12T15:39:32.908Z"
   },
   {
    "duration": 477,
    "start_time": "2023-09-12T15:39:42.643Z"
   },
   {
    "duration": 20,
    "start_time": "2023-09-12T15:39:43.122Z"
   },
   {
    "duration": 14,
    "start_time": "2023-09-12T15:39:43.143Z"
   },
   {
    "duration": 9,
    "start_time": "2023-09-12T15:39:43.158Z"
   },
   {
    "duration": 307,
    "start_time": "2023-09-12T15:39:43.169Z"
   },
   {
    "duration": 3,
    "start_time": "2023-09-12T15:39:43.477Z"
   },
   {
    "duration": 122,
    "start_time": "2023-09-12T15:39:43.481Z"
   },
   {
    "duration": 97,
    "start_time": "2023-09-12T15:39:43.604Z"
   },
   {
    "duration": 109,
    "start_time": "2023-09-12T15:39:43.703Z"
   },
   {
    "duration": 4,
    "start_time": "2023-09-12T15:39:43.814Z"
   },
   {
    "duration": 36,
    "start_time": "2023-09-12T15:39:43.819Z"
   },
   {
    "duration": 10,
    "start_time": "2023-09-12T15:39:43.856Z"
   },
   {
    "duration": 7,
    "start_time": "2023-09-12T15:39:43.867Z"
   },
   {
    "duration": 18,
    "start_time": "2023-09-12T15:39:43.876Z"
   },
   {
    "duration": 18,
    "start_time": "2023-09-12T15:39:43.895Z"
   },
   {
    "duration": 14,
    "start_time": "2023-09-12T15:39:43.915Z"
   },
   {
    "duration": 14,
    "start_time": "2023-09-12T15:39:43.930Z"
   },
   {
    "duration": 12,
    "start_time": "2023-09-12T15:39:43.946Z"
   },
   {
    "duration": 5,
    "start_time": "2023-09-12T15:39:43.959Z"
   },
   {
    "duration": 9,
    "start_time": "2023-09-12T15:39:43.965Z"
   },
   {
    "duration": 15,
    "start_time": "2023-09-12T15:39:43.975Z"
   },
   {
    "duration": 17,
    "start_time": "2023-09-12T15:39:43.992Z"
   },
   {
    "duration": 38,
    "start_time": "2023-09-12T15:39:44.011Z"
   },
   {
    "duration": 30,
    "start_time": "2023-09-12T15:39:44.050Z"
   },
   {
    "duration": 3,
    "start_time": "2023-09-12T15:39:44.082Z"
   },
   {
    "duration": 4,
    "start_time": "2023-09-12T15:39:44.087Z"
   },
   {
    "duration": 5,
    "start_time": "2023-09-12T15:39:44.093Z"
   },
   {
    "duration": 1365,
    "start_time": "2023-09-12T15:41:37.707Z"
   },
   {
    "duration": 495,
    "start_time": "2023-09-12T15:41:48.963Z"
   },
   {
    "duration": 21,
    "start_time": "2023-09-12T15:41:49.461Z"
   },
   {
    "duration": 15,
    "start_time": "2023-09-12T15:41:49.484Z"
   },
   {
    "duration": 10,
    "start_time": "2023-09-12T15:41:49.501Z"
   },
   {
    "duration": 63,
    "start_time": "2023-09-12T15:41:49.513Z"
   },
   {
    "duration": 4,
    "start_time": "2023-09-12T15:41:49.577Z"
   },
   {
    "duration": 13,
    "start_time": "2023-09-12T15:41:49.583Z"
   },
   {
    "duration": 4,
    "start_time": "2023-09-12T15:41:49.597Z"
   },
   {
    "duration": 9,
    "start_time": "2023-09-12T15:41:49.603Z"
   },
   {
    "duration": 4,
    "start_time": "2023-09-12T15:41:49.614Z"
   },
   {
    "duration": 57,
    "start_time": "2023-09-12T15:41:49.620Z"
   },
   {
    "duration": 11,
    "start_time": "2023-09-12T15:41:49.678Z"
   },
   {
    "duration": 18,
    "start_time": "2023-09-12T15:41:49.690Z"
   },
   {
    "duration": 13,
    "start_time": "2023-09-12T15:41:49.710Z"
   },
   {
    "duration": 30,
    "start_time": "2023-09-12T15:41:49.725Z"
   },
   {
    "duration": 18,
    "start_time": "2023-09-12T15:41:49.757Z"
   },
   {
    "duration": 4,
    "start_time": "2023-09-12T15:41:49.777Z"
   },
   {
    "duration": 13,
    "start_time": "2023-09-12T15:41:49.783Z"
   },
   {
    "duration": 8,
    "start_time": "2023-09-12T15:41:49.798Z"
   },
   {
    "duration": 37,
    "start_time": "2023-09-12T15:41:49.808Z"
   },
   {
    "duration": 38,
    "start_time": "2023-09-12T15:41:49.847Z"
   },
   {
    "duration": 17,
    "start_time": "2023-09-12T15:41:49.888Z"
   },
   {
    "duration": 71,
    "start_time": "2023-09-12T15:41:49.907Z"
   },
   {
    "duration": 0,
    "start_time": "2023-09-12T15:41:49.980Z"
   },
   {
    "duration": 0,
    "start_time": "2023-09-12T15:41:49.982Z"
   },
   {
    "duration": 0,
    "start_time": "2023-09-12T15:41:49.983Z"
   },
   {
    "duration": 0,
    "start_time": "2023-09-12T15:41:49.985Z"
   },
   {
    "duration": 97,
    "start_time": "2023-09-12T15:42:22.703Z"
   },
   {
    "duration": 14,
    "start_time": "2023-09-12T15:42:35.839Z"
   },
   {
    "duration": 1383,
    "start_time": "2023-09-12T15:43:03.708Z"
   },
   {
    "duration": 422,
    "start_time": "2023-09-12T15:43:10.590Z"
   },
   {
    "duration": 37,
    "start_time": "2023-09-12T15:43:11.015Z"
   },
   {
    "duration": 17,
    "start_time": "2023-09-12T15:43:11.055Z"
   },
   {
    "duration": 115,
    "start_time": "2023-09-12T15:43:11.075Z"
   },
   {
    "duration": 39,
    "start_time": "2023-09-12T15:43:11.192Z"
   },
   {
    "duration": 4,
    "start_time": "2023-09-12T15:43:11.233Z"
   },
   {
    "duration": 16,
    "start_time": "2023-09-12T15:43:11.238Z"
   },
   {
    "duration": 20,
    "start_time": "2023-09-12T15:43:11.255Z"
   },
   {
    "duration": 9,
    "start_time": "2023-09-12T15:43:11.277Z"
   },
   {
    "duration": 4,
    "start_time": "2023-09-12T15:43:11.288Z"
   },
   {
    "duration": 37,
    "start_time": "2023-09-12T15:43:11.294Z"
   },
   {
    "duration": 12,
    "start_time": "2023-09-12T15:43:11.333Z"
   },
   {
    "duration": 4,
    "start_time": "2023-09-12T15:43:11.347Z"
   },
   {
    "duration": 14,
    "start_time": "2023-09-12T15:43:11.352Z"
   },
   {
    "duration": 34,
    "start_time": "2023-09-12T15:43:11.367Z"
   },
   {
    "duration": 16,
    "start_time": "2023-09-12T15:43:11.402Z"
   },
   {
    "duration": 4,
    "start_time": "2023-09-12T15:43:11.420Z"
   },
   {
    "duration": 36,
    "start_time": "2023-09-12T15:43:11.426Z"
   },
   {
    "duration": 26,
    "start_time": "2023-09-12T15:43:11.463Z"
   },
   {
    "duration": 4,
    "start_time": "2023-09-12T15:43:11.490Z"
   },
   {
    "duration": 14,
    "start_time": "2023-09-12T15:43:11.495Z"
   },
   {
    "duration": 16,
    "start_time": "2023-09-12T15:43:11.511Z"
   },
   {
    "duration": 67,
    "start_time": "2023-09-12T15:43:11.528Z"
   },
   {
    "duration": 0,
    "start_time": "2023-09-12T15:43:11.596Z"
   },
   {
    "duration": 0,
    "start_time": "2023-09-12T15:43:11.597Z"
   },
   {
    "duration": 0,
    "start_time": "2023-09-12T15:43:11.598Z"
   },
   {
    "duration": 0,
    "start_time": "2023-09-12T15:43:11.600Z"
   },
   {
    "duration": 489,
    "start_time": "2023-09-12T15:43:26.135Z"
   },
   {
    "duration": 23,
    "start_time": "2023-09-12T15:43:26.626Z"
   },
   {
    "duration": 16,
    "start_time": "2023-09-12T15:43:26.650Z"
   },
   {
    "duration": 11,
    "start_time": "2023-09-12T15:43:26.669Z"
   },
   {
    "duration": 45,
    "start_time": "2023-09-12T15:43:26.682Z"
   },
   {
    "duration": 4,
    "start_time": "2023-09-12T15:43:26.743Z"
   },
   {
    "duration": 11,
    "start_time": "2023-09-12T15:43:26.749Z"
   },
   {
    "duration": 4,
    "start_time": "2023-09-12T15:43:26.762Z"
   },
   {
    "duration": 9,
    "start_time": "2023-09-12T15:43:26.767Z"
   },
   {
    "duration": 5,
    "start_time": "2023-09-12T15:43:26.778Z"
   },
   {
    "duration": 39,
    "start_time": "2023-09-12T15:43:26.785Z"
   },
   {
    "duration": 11,
    "start_time": "2023-09-12T15:43:26.843Z"
   },
   {
    "duration": 4,
    "start_time": "2023-09-12T15:43:26.856Z"
   },
   {
    "duration": 14,
    "start_time": "2023-09-12T15:43:26.861Z"
   },
   {
    "duration": 20,
    "start_time": "2023-09-12T15:43:26.877Z"
   },
   {
    "duration": 16,
    "start_time": "2023-09-12T15:43:26.899Z"
   },
   {
    "duration": 8,
    "start_time": "2023-09-12T15:43:26.943Z"
   },
   {
    "duration": 14,
    "start_time": "2023-09-12T15:43:26.952Z"
   },
   {
    "duration": 5,
    "start_time": "2023-09-12T15:43:26.968Z"
   },
   {
    "duration": 17,
    "start_time": "2023-09-12T15:43:26.975Z"
   },
   {
    "duration": 16,
    "start_time": "2023-09-12T15:43:26.994Z"
   },
   {
    "duration": 32,
    "start_time": "2023-09-12T15:43:27.012Z"
   },
   {
    "duration": 83,
    "start_time": "2023-09-12T15:43:27.046Z"
   },
   {
    "duration": 0,
    "start_time": "2023-09-12T15:43:27.130Z"
   },
   {
    "duration": 0,
    "start_time": "2023-09-12T15:43:27.132Z"
   },
   {
    "duration": 0,
    "start_time": "2023-09-12T15:43:27.133Z"
   },
   {
    "duration": 0,
    "start_time": "2023-09-12T15:43:27.133Z"
   },
   {
    "duration": 14,
    "start_time": "2023-09-12T15:44:01.947Z"
   },
   {
    "duration": 1268,
    "start_time": "2023-09-12T15:44:52.475Z"
   },
   {
    "duration": 1247,
    "start_time": "2023-09-12T15:45:04.480Z"
   },
   {
    "duration": 465,
    "start_time": "2023-09-12T15:45:16.974Z"
   },
   {
    "duration": 23,
    "start_time": "2023-09-12T15:45:17.441Z"
   },
   {
    "duration": 17,
    "start_time": "2023-09-12T15:45:17.465Z"
   },
   {
    "duration": 21,
    "start_time": "2023-09-12T15:45:17.484Z"
   },
   {
    "duration": 48,
    "start_time": "2023-09-12T15:45:17.507Z"
   },
   {
    "duration": 3,
    "start_time": "2023-09-12T15:45:17.557Z"
   },
   {
    "duration": 25,
    "start_time": "2023-09-12T15:45:17.562Z"
   },
   {
    "duration": 10,
    "start_time": "2023-09-12T15:45:17.589Z"
   },
   {
    "duration": 19,
    "start_time": "2023-09-12T15:45:17.601Z"
   },
   {
    "duration": 14,
    "start_time": "2023-09-12T15:45:17.624Z"
   },
   {
    "duration": 45,
    "start_time": "2023-09-12T15:45:17.640Z"
   },
   {
    "duration": 11,
    "start_time": "2023-09-12T15:45:17.687Z"
   },
   {
    "duration": 19,
    "start_time": "2023-09-12T15:45:17.699Z"
   },
   {
    "duration": 28,
    "start_time": "2023-09-12T15:45:17.719Z"
   },
   {
    "duration": 22,
    "start_time": "2023-09-12T15:45:17.748Z"
   },
   {
    "duration": 16,
    "start_time": "2023-09-12T15:45:17.771Z"
   },
   {
    "duration": 4,
    "start_time": "2023-09-12T15:45:17.789Z"
   },
   {
    "duration": 18,
    "start_time": "2023-09-12T15:45:17.794Z"
   },
   {
    "duration": 7,
    "start_time": "2023-09-12T15:45:17.814Z"
   },
   {
    "duration": 27,
    "start_time": "2023-09-12T15:45:17.822Z"
   },
   {
    "duration": 19,
    "start_time": "2023-09-12T15:45:17.851Z"
   },
   {
    "duration": 15,
    "start_time": "2023-09-12T15:45:17.871Z"
   },
   {
    "duration": 14,
    "start_time": "2023-09-12T15:45:17.887Z"
   },
   {
    "duration": 7,
    "start_time": "2023-09-12T15:45:17.903Z"
   },
   {
    "duration": 8,
    "start_time": "2023-09-12T15:45:17.912Z"
   },
   {
    "duration": 9,
    "start_time": "2023-09-12T15:45:17.921Z"
   },
   {
    "duration": 22,
    "start_time": "2023-09-12T15:45:17.931Z"
   },
   {
    "duration": 1284,
    "start_time": "2023-09-12T15:47:18.089Z"
   },
   {
    "duration": 470,
    "start_time": "2023-09-12T15:48:37.545Z"
   },
   {
    "duration": 20,
    "start_time": "2023-09-12T15:48:38.017Z"
   },
   {
    "duration": 17,
    "start_time": "2023-09-12T15:48:38.039Z"
   },
   {
    "duration": 9,
    "start_time": "2023-09-12T15:48:38.058Z"
   },
   {
    "duration": 54,
    "start_time": "2023-09-12T15:48:38.068Z"
   },
   {
    "duration": 11,
    "start_time": "2023-09-12T15:48:38.123Z"
   },
   {
    "duration": 13,
    "start_time": "2023-09-12T15:48:38.135Z"
   },
   {
    "duration": 25,
    "start_time": "2023-09-12T15:48:38.149Z"
   },
   {
    "duration": 26,
    "start_time": "2023-09-12T15:48:38.176Z"
   },
   {
    "duration": 19,
    "start_time": "2023-09-12T15:48:38.204Z"
   },
   {
    "duration": 38,
    "start_time": "2023-09-12T15:48:38.225Z"
   },
   {
    "duration": 10,
    "start_time": "2023-09-12T15:48:38.264Z"
   },
   {
    "duration": 7,
    "start_time": "2023-09-12T15:48:38.276Z"
   },
   {
    "duration": 14,
    "start_time": "2023-09-12T15:48:38.284Z"
   },
   {
    "duration": 37,
    "start_time": "2023-09-12T15:48:38.299Z"
   },
   {
    "duration": 15,
    "start_time": "2023-09-12T15:48:38.337Z"
   },
   {
    "duration": 3,
    "start_time": "2023-09-12T15:48:38.354Z"
   },
   {
    "duration": 18,
    "start_time": "2023-09-12T15:48:38.358Z"
   },
   {
    "duration": 19,
    "start_time": "2023-09-12T15:48:38.378Z"
   },
   {
    "duration": 30,
    "start_time": "2023-09-12T15:48:38.399Z"
   },
   {
    "duration": 37,
    "start_time": "2023-09-12T15:48:38.431Z"
   },
   {
    "duration": 21,
    "start_time": "2023-09-12T15:48:38.470Z"
   },
   {
    "duration": 8,
    "start_time": "2023-09-12T15:48:38.492Z"
   },
   {
    "duration": 23,
    "start_time": "2023-09-12T15:48:38.502Z"
   },
   {
    "duration": 11,
    "start_time": "2023-09-12T15:48:38.527Z"
   },
   {
    "duration": 19,
    "start_time": "2023-09-12T15:48:38.539Z"
   },
   {
    "duration": 14,
    "start_time": "2023-09-12T15:48:38.560Z"
   },
   {
    "duration": 60,
    "start_time": "2023-09-12T15:48:55.366Z"
   },
   {
    "duration": 413,
    "start_time": "2023-09-12T15:49:07.704Z"
   },
   {
    "duration": 20,
    "start_time": "2023-09-12T15:49:08.119Z"
   },
   {
    "duration": 14,
    "start_time": "2023-09-12T15:49:08.140Z"
   },
   {
    "duration": 12,
    "start_time": "2023-09-12T15:49:08.156Z"
   },
   {
    "duration": 39,
    "start_time": "2023-09-12T15:49:08.169Z"
   },
   {
    "duration": 3,
    "start_time": "2023-09-12T15:49:08.210Z"
   },
   {
    "duration": 9,
    "start_time": "2023-09-12T15:49:08.214Z"
   },
   {
    "duration": 3,
    "start_time": "2023-09-12T15:49:08.224Z"
   },
   {
    "duration": 7,
    "start_time": "2023-09-12T15:49:08.244Z"
   },
   {
    "duration": 10,
    "start_time": "2023-09-12T15:49:08.253Z"
   },
   {
    "duration": 32,
    "start_time": "2023-09-12T15:49:08.264Z"
   },
   {
    "duration": 9,
    "start_time": "2023-09-12T15:49:08.297Z"
   },
   {
    "duration": 16,
    "start_time": "2023-09-12T15:49:08.308Z"
   },
   {
    "duration": 33,
    "start_time": "2023-09-12T15:49:08.325Z"
   },
   {
    "duration": 28,
    "start_time": "2023-09-12T15:49:08.360Z"
   },
   {
    "duration": 16,
    "start_time": "2023-09-12T15:49:08.390Z"
   },
   {
    "duration": 3,
    "start_time": "2023-09-12T15:49:08.407Z"
   },
   {
    "duration": 16,
    "start_time": "2023-09-12T15:49:08.412Z"
   },
   {
    "duration": 49,
    "start_time": "2023-09-12T15:49:08.430Z"
   },
   {
    "duration": 6,
    "start_time": "2023-09-12T15:49:08.481Z"
   },
   {
    "duration": 24,
    "start_time": "2023-09-12T15:49:08.488Z"
   },
   {
    "duration": 16,
    "start_time": "2023-09-12T15:49:08.513Z"
   },
   {
    "duration": 14,
    "start_time": "2023-09-12T15:49:08.531Z"
   },
   {
    "duration": 8,
    "start_time": "2023-09-12T15:49:08.546Z"
   },
   {
    "duration": 21,
    "start_time": "2023-09-12T15:49:08.556Z"
   },
   {
    "duration": 7,
    "start_time": "2023-09-12T15:49:08.578Z"
   },
   {
    "duration": 5,
    "start_time": "2023-09-12T15:49:08.587Z"
   },
   {
    "duration": 18,
    "start_time": "2023-09-12T15:51:42.699Z"
   },
   {
    "duration": 16,
    "start_time": "2023-09-12T15:51:44.493Z"
   },
   {
    "duration": 12,
    "start_time": "2023-09-12T16:03:15.661Z"
   },
   {
    "duration": 1787,
    "start_time": "2023-09-12T16:03:43.118Z"
   },
   {
    "duration": 492,
    "start_time": "2023-09-12T16:03:59.717Z"
   },
   {
    "duration": 21,
    "start_time": "2023-09-12T16:04:00.211Z"
   },
   {
    "duration": 41,
    "start_time": "2023-09-12T16:04:00.233Z"
   },
   {
    "duration": 47,
    "start_time": "2023-09-12T16:04:00.276Z"
   },
   {
    "duration": 72,
    "start_time": "2023-09-12T16:04:00.324Z"
   },
   {
    "duration": 71,
    "start_time": "2023-09-12T16:04:00.398Z"
   },
   {
    "duration": 82,
    "start_time": "2023-09-12T16:04:00.471Z"
   },
   {
    "duration": 39,
    "start_time": "2023-09-12T16:04:00.554Z"
   },
   {
    "duration": 74,
    "start_time": "2023-09-12T16:04:00.594Z"
   },
   {
    "duration": 39,
    "start_time": "2023-09-12T16:04:00.671Z"
   },
   {
    "duration": 86,
    "start_time": "2023-09-12T16:04:00.712Z"
   },
   {
    "duration": 24,
    "start_time": "2023-09-12T16:04:00.800Z"
   },
   {
    "duration": 44,
    "start_time": "2023-09-12T16:04:00.826Z"
   },
   {
    "duration": 54,
    "start_time": "2023-09-12T16:04:00.871Z"
   },
   {
    "duration": 104,
    "start_time": "2023-09-12T16:04:00.927Z"
   },
   {
    "duration": 46,
    "start_time": "2023-09-12T16:04:01.033Z"
   },
   {
    "duration": 36,
    "start_time": "2023-09-12T16:04:01.081Z"
   },
   {
    "duration": 47,
    "start_time": "2023-09-12T16:04:01.119Z"
   },
   {
    "duration": 41,
    "start_time": "2023-09-12T16:04:01.168Z"
   },
   {
    "duration": 33,
    "start_time": "2023-09-12T16:04:01.210Z"
   },
   {
    "duration": 54,
    "start_time": "2023-09-12T16:04:01.244Z"
   },
   {
    "duration": 50,
    "start_time": "2023-09-12T16:04:01.300Z"
   },
   {
    "duration": 72,
    "start_time": "2023-09-12T16:04:01.351Z"
   },
   {
    "duration": 0,
    "start_time": "2023-09-12T16:04:01.425Z"
   },
   {
    "duration": 0,
    "start_time": "2023-09-12T16:04:01.426Z"
   },
   {
    "duration": 1,
    "start_time": "2023-09-12T16:04:01.427Z"
   },
   {
    "duration": 2226,
    "start_time": "2023-09-12T16:04:12.936Z"
   },
   {
    "duration": 563,
    "start_time": "2023-09-12T16:04:25.204Z"
   },
   {
    "duration": 20,
    "start_time": "2023-09-12T16:04:25.769Z"
   },
   {
    "duration": 30,
    "start_time": "2023-09-12T16:04:25.791Z"
   },
   {
    "duration": 19,
    "start_time": "2023-09-12T16:04:25.823Z"
   },
   {
    "duration": 41,
    "start_time": "2023-09-12T16:04:25.843Z"
   },
   {
    "duration": 3,
    "start_time": "2023-09-12T16:04:25.886Z"
   },
   {
    "duration": 14,
    "start_time": "2023-09-12T16:04:25.890Z"
   },
   {
    "duration": 21,
    "start_time": "2023-09-12T16:04:25.905Z"
   },
   {
    "duration": 29,
    "start_time": "2023-09-12T16:04:25.927Z"
   },
   {
    "duration": 4,
    "start_time": "2023-09-12T16:04:25.958Z"
   },
   {
    "duration": 37,
    "start_time": "2023-09-12T16:04:25.963Z"
   },
   {
    "duration": 9,
    "start_time": "2023-09-12T16:04:26.002Z"
   },
   {
    "duration": 17,
    "start_time": "2023-09-12T16:04:26.013Z"
   },
   {
    "duration": 13,
    "start_time": "2023-09-12T16:04:26.031Z"
   },
   {
    "duration": 32,
    "start_time": "2023-09-12T16:04:26.046Z"
   },
   {
    "duration": 16,
    "start_time": "2023-09-12T16:04:26.079Z"
   },
   {
    "duration": 4,
    "start_time": "2023-09-12T16:04:26.096Z"
   },
   {
    "duration": 25,
    "start_time": "2023-09-12T16:04:26.101Z"
   },
   {
    "duration": 7,
    "start_time": "2023-09-12T16:04:26.127Z"
   },
   {
    "duration": 27,
    "start_time": "2023-09-12T16:04:26.135Z"
   },
   {
    "duration": 26,
    "start_time": "2023-09-12T16:04:26.163Z"
   },
   {
    "duration": 27,
    "start_time": "2023-09-12T16:04:26.191Z"
   },
   {
    "duration": 1924,
    "start_time": "2023-09-12T16:04:26.219Z"
   },
   {
    "duration": 0,
    "start_time": "2023-09-12T16:04:28.145Z"
   },
   {
    "duration": 0,
    "start_time": "2023-09-12T16:04:28.146Z"
   },
   {
    "duration": 0,
    "start_time": "2023-09-12T16:04:28.147Z"
   },
   {
    "duration": 17,
    "start_time": "2023-09-12T16:05:10.186Z"
   },
   {
    "duration": 13,
    "start_time": "2023-09-12T16:05:14.511Z"
   },
   {
    "duration": 18,
    "start_time": "2023-09-12T16:29:07.229Z"
   },
   {
    "duration": 14,
    "start_time": "2023-09-12T16:29:07.797Z"
   },
   {
    "duration": 13,
    "start_time": "2023-09-12T16:29:52.707Z"
   },
   {
    "duration": 13,
    "start_time": "2023-09-12T16:29:53.600Z"
   },
   {
    "duration": 429,
    "start_time": "2023-09-12T17:18:07.882Z"
   },
   {
    "duration": 20,
    "start_time": "2023-09-12T17:18:08.313Z"
   },
   {
    "duration": 14,
    "start_time": "2023-09-12T17:18:08.334Z"
   },
   {
    "duration": 9,
    "start_time": "2023-09-12T17:18:08.351Z"
   },
   {
    "duration": 33,
    "start_time": "2023-09-12T17:18:08.362Z"
   },
   {
    "duration": 3,
    "start_time": "2023-09-12T17:18:08.397Z"
   },
   {
    "duration": 14,
    "start_time": "2023-09-12T17:18:08.402Z"
   },
   {
    "duration": 27,
    "start_time": "2023-09-12T17:18:08.418Z"
   },
   {
    "duration": 8,
    "start_time": "2023-09-12T17:18:08.447Z"
   },
   {
    "duration": 4,
    "start_time": "2023-09-12T17:18:08.458Z"
   },
   {
    "duration": 35,
    "start_time": "2023-09-12T17:18:08.463Z"
   },
   {
    "duration": 10,
    "start_time": "2023-09-12T17:18:08.499Z"
   },
   {
    "duration": 4,
    "start_time": "2023-09-12T17:18:08.511Z"
   },
   {
    "duration": 42,
    "start_time": "2023-09-12T17:18:08.516Z"
   },
   {
    "duration": 18,
    "start_time": "2023-09-12T17:18:08.560Z"
   },
   {
    "duration": 16,
    "start_time": "2023-09-12T17:18:08.580Z"
   },
   {
    "duration": 4,
    "start_time": "2023-09-12T17:18:08.598Z"
   },
   {
    "duration": 22,
    "start_time": "2023-09-12T17:18:08.603Z"
   },
   {
    "duration": 19,
    "start_time": "2023-09-12T17:18:08.626Z"
   },
   {
    "duration": 3,
    "start_time": "2023-09-12T17:18:08.646Z"
   },
   {
    "duration": 14,
    "start_time": "2023-09-12T17:18:08.651Z"
   },
   {
    "duration": 2,
    "start_time": "2023-09-12T17:18:08.667Z"
   },
   {
    "duration": 28,
    "start_time": "2023-09-12T17:18:08.670Z"
   },
   {
    "duration": 7,
    "start_time": "2023-09-12T17:18:08.700Z"
   },
   {
    "duration": 3,
    "start_time": "2023-09-12T17:35:55.301Z"
   },
   {
    "duration": 61,
    "start_time": "2023-09-12T17:35:57.964Z"
   },
   {
    "duration": 9,
    "start_time": "2023-09-12T17:37:57.645Z"
   },
   {
    "duration": 3,
    "start_time": "2023-09-12T17:38:27.414Z"
   },
   {
    "duration": 1935,
    "start_time": "2023-09-12T17:38:28.834Z"
   },
   {
    "duration": 3,
    "start_time": "2023-09-12T17:39:26.683Z"
   },
   {
    "duration": 1340,
    "start_time": "2023-09-12T17:39:29.170Z"
   },
   {
    "duration": 468,
    "start_time": "2023-09-12T17:39:36.139Z"
   },
   {
    "duration": 22,
    "start_time": "2023-09-12T17:39:36.609Z"
   },
   {
    "duration": 15,
    "start_time": "2023-09-12T17:39:36.632Z"
   },
   {
    "duration": 10,
    "start_time": "2023-09-12T17:39:36.648Z"
   },
   {
    "duration": 49,
    "start_time": "2023-09-12T17:39:36.659Z"
   },
   {
    "duration": 3,
    "start_time": "2023-09-12T17:39:36.710Z"
   },
   {
    "duration": 23,
    "start_time": "2023-09-12T17:39:36.714Z"
   },
   {
    "duration": 8,
    "start_time": "2023-09-12T17:39:36.739Z"
   },
   {
    "duration": 11,
    "start_time": "2023-09-12T17:39:36.748Z"
   },
   {
    "duration": 4,
    "start_time": "2023-09-12T17:39:36.760Z"
   },
   {
    "duration": 43,
    "start_time": "2023-09-12T17:39:36.765Z"
   },
   {
    "duration": 10,
    "start_time": "2023-09-12T17:39:36.809Z"
   },
   {
    "duration": 10,
    "start_time": "2023-09-12T17:39:36.820Z"
   },
   {
    "duration": 19,
    "start_time": "2023-09-12T17:39:36.832Z"
   },
   {
    "duration": 17,
    "start_time": "2023-09-12T17:39:36.853Z"
   },
   {
    "duration": 16,
    "start_time": "2023-09-12T17:39:36.872Z"
   },
   {
    "duration": 4,
    "start_time": "2023-09-12T17:39:36.890Z"
   },
   {
    "duration": 19,
    "start_time": "2023-09-12T17:39:36.895Z"
   },
   {
    "duration": 10,
    "start_time": "2023-09-12T17:39:36.915Z"
   },
   {
    "duration": 17,
    "start_time": "2023-09-12T17:39:36.927Z"
   },
   {
    "duration": 14,
    "start_time": "2023-09-12T17:39:36.946Z"
   },
   {
    "duration": 3,
    "start_time": "2023-09-12T17:39:36.962Z"
   },
   {
    "duration": 1244,
    "start_time": "2023-09-12T17:39:36.966Z"
   },
   {
    "duration": 0,
    "start_time": "2023-09-12T17:39:38.211Z"
   },
   {
    "duration": 0,
    "start_time": "2023-09-12T17:39:38.212Z"
   },
   {
    "duration": 0,
    "start_time": "2023-09-12T17:39:38.213Z"
   },
   {
    "duration": 3,
    "start_time": "2023-09-12T17:40:18.541Z"
   },
   {
    "duration": 1241,
    "start_time": "2023-09-12T17:40:19.870Z"
   },
   {
    "duration": 429,
    "start_time": "2023-09-12T17:40:31.698Z"
   },
   {
    "duration": 22,
    "start_time": "2023-09-12T17:40:32.129Z"
   },
   {
    "duration": 40,
    "start_time": "2023-09-12T17:40:32.153Z"
   },
   {
    "duration": 20,
    "start_time": "2023-09-12T17:40:32.196Z"
   },
   {
    "duration": 42,
    "start_time": "2023-09-12T17:40:32.219Z"
   },
   {
    "duration": 4,
    "start_time": "2023-09-12T17:40:32.263Z"
   },
   {
    "duration": 27,
    "start_time": "2023-09-12T17:40:32.269Z"
   },
   {
    "duration": 10,
    "start_time": "2023-09-12T17:40:32.297Z"
   },
   {
    "duration": 25,
    "start_time": "2023-09-12T17:40:32.309Z"
   },
   {
    "duration": 9,
    "start_time": "2023-09-12T17:40:32.339Z"
   },
   {
    "duration": 38,
    "start_time": "2023-09-12T17:40:32.350Z"
   },
   {
    "duration": 11,
    "start_time": "2023-09-12T17:40:32.390Z"
   },
   {
    "duration": 4,
    "start_time": "2023-09-12T17:40:32.402Z"
   },
   {
    "duration": 21,
    "start_time": "2023-09-12T17:40:32.408Z"
   },
   {
    "duration": 19,
    "start_time": "2023-09-12T17:40:32.444Z"
   },
   {
    "duration": 15,
    "start_time": "2023-09-12T17:40:32.465Z"
   },
   {
    "duration": 3,
    "start_time": "2023-09-12T17:40:32.482Z"
   },
   {
    "duration": 36,
    "start_time": "2023-09-12T17:40:32.486Z"
   },
   {
    "duration": 77,
    "start_time": "2023-09-12T17:40:32.523Z"
   },
   {
    "duration": 9,
    "start_time": "2023-09-12T17:40:32.602Z"
   },
   {
    "duration": 22,
    "start_time": "2023-09-12T17:40:32.613Z"
   },
   {
    "duration": 13,
    "start_time": "2023-09-12T17:40:32.637Z"
   },
   {
    "duration": 1303,
    "start_time": "2023-09-12T17:40:32.652Z"
   },
   {
    "duration": 0,
    "start_time": "2023-09-12T17:40:33.956Z"
   },
   {
    "duration": 0,
    "start_time": "2023-09-12T17:40:33.958Z"
   },
   {
    "duration": 0,
    "start_time": "2023-09-12T17:40:33.959Z"
   },
   {
    "duration": 4,
    "start_time": "2023-09-12T17:41:53.034Z"
   },
   {
    "duration": 24,
    "start_time": "2023-09-12T17:41:54.632Z"
   },
   {
    "duration": 3,
    "start_time": "2023-09-12T17:42:31.959Z"
   },
   {
    "duration": 24,
    "start_time": "2023-09-12T17:42:32.769Z"
   },
   {
    "duration": 24,
    "start_time": "2023-09-12T17:42:55.242Z"
   },
   {
    "duration": 4,
    "start_time": "2023-09-12T17:42:58.153Z"
   },
   {
    "duration": 22,
    "start_time": "2023-09-12T17:42:59.277Z"
   },
   {
    "duration": 3,
    "start_time": "2023-09-12T17:43:46.666Z"
   },
   {
    "duration": 29,
    "start_time": "2023-09-12T17:43:47.503Z"
   },
   {
    "duration": 421,
    "start_time": "2023-09-12T17:44:09.974Z"
   },
   {
    "duration": 22,
    "start_time": "2023-09-12T17:44:10.396Z"
   },
   {
    "duration": 21,
    "start_time": "2023-09-12T17:44:10.419Z"
   },
   {
    "duration": 9,
    "start_time": "2023-09-12T17:44:10.442Z"
   },
   {
    "duration": 32,
    "start_time": "2023-09-12T17:44:10.452Z"
   },
   {
    "duration": 2,
    "start_time": "2023-09-12T17:44:10.486Z"
   },
   {
    "duration": 11,
    "start_time": "2023-09-12T17:44:10.490Z"
   },
   {
    "duration": 4,
    "start_time": "2023-09-12T17:44:10.502Z"
   },
   {
    "duration": 7,
    "start_time": "2023-09-12T17:44:10.507Z"
   },
   {
    "duration": 4,
    "start_time": "2023-09-12T17:44:10.518Z"
   },
   {
    "duration": 54,
    "start_time": "2023-09-12T17:44:10.523Z"
   },
   {
    "duration": 10,
    "start_time": "2023-09-12T17:44:10.579Z"
   },
   {
    "duration": 4,
    "start_time": "2023-09-12T17:44:10.591Z"
   },
   {
    "duration": 13,
    "start_time": "2023-09-12T17:44:10.596Z"
   },
   {
    "duration": 38,
    "start_time": "2023-09-12T17:44:10.611Z"
   },
   {
    "duration": 15,
    "start_time": "2023-09-12T17:44:10.651Z"
   },
   {
    "duration": 183,
    "start_time": "2023-09-12T17:44:10.668Z"
   },
   {
    "duration": 31,
    "start_time": "2023-09-12T17:44:10.853Z"
   },
   {
    "duration": 33,
    "start_time": "2023-09-12T17:44:10.886Z"
   },
   {
    "duration": 10,
    "start_time": "2023-09-12T17:44:10.921Z"
   },
   {
    "duration": 28,
    "start_time": "2023-09-12T17:44:10.932Z"
   },
   {
    "duration": 6,
    "start_time": "2023-09-12T17:44:10.962Z"
   },
   {
    "duration": 175,
    "start_time": "2023-09-12T17:44:10.970Z"
   },
   {
    "duration": 9,
    "start_time": "2023-09-12T17:44:11.147Z"
   },
   {
    "duration": 28,
    "start_time": "2023-09-12T17:44:11.157Z"
   },
   {
    "duration": 35,
    "start_time": "2023-09-12T17:44:11.187Z"
   },
   {
    "duration": 3,
    "start_time": "2023-09-12T17:45:15.298Z"
   },
   {
    "duration": 25,
    "start_time": "2023-09-12T17:45:16.088Z"
   },
   {
    "duration": 3,
    "start_time": "2023-09-12T17:46:44.032Z"
   },
   {
    "duration": 74,
    "start_time": "2023-09-12T17:46:45.388Z"
   },
   {
    "duration": 3,
    "start_time": "2023-09-12T17:48:07.384Z"
   },
   {
    "duration": 24,
    "start_time": "2023-09-12T17:48:08.025Z"
   },
   {
    "duration": 3,
    "start_time": "2023-09-12T17:49:18.311Z"
   },
   {
    "duration": 31,
    "start_time": "2023-09-12T17:49:18.895Z"
   },
   {
    "duration": 5,
    "start_time": "2023-09-12T17:49:35.478Z"
   },
   {
    "duration": 26,
    "start_time": "2023-09-12T17:49:36.016Z"
   },
   {
    "duration": 7,
    "start_time": "2023-09-12T17:51:34.162Z"
   },
   {
    "duration": 29,
    "start_time": "2023-09-12T17:51:47.585Z"
   },
   {
    "duration": 123,
    "start_time": "2023-09-12T17:53:35.801Z"
   },
   {
    "duration": 31,
    "start_time": "2023-09-12T17:53:48.234Z"
   },
   {
    "duration": 29,
    "start_time": "2023-09-12T17:55:13.679Z"
   },
   {
    "duration": 23,
    "start_time": "2023-09-12T17:56:49.321Z"
   },
   {
    "duration": 26,
    "start_time": "2023-09-12T17:57:26.688Z"
   },
   {
    "duration": 12,
    "start_time": "2023-09-12T18:02:34.074Z"
   },
   {
    "duration": 15,
    "start_time": "2023-09-12T18:07:41.051Z"
   },
   {
    "duration": 9,
    "start_time": "2023-09-12T18:08:03.256Z"
   },
   {
    "duration": 9,
    "start_time": "2023-09-12T18:09:56.802Z"
   },
   {
    "duration": 8,
    "start_time": "2023-09-12T18:10:18.987Z"
   },
   {
    "duration": 8,
    "start_time": "2023-09-12T18:11:19.329Z"
   },
   {
    "duration": 315,
    "start_time": "2023-09-12T18:12:52.857Z"
   },
   {
    "duration": 320,
    "start_time": "2023-09-12T18:13:18.041Z"
   },
   {
    "duration": 446,
    "start_time": "2023-09-12T18:13:44.574Z"
   },
   {
    "duration": 24,
    "start_time": "2023-09-12T18:13:45.022Z"
   },
   {
    "duration": 57,
    "start_time": "2023-09-12T18:13:45.048Z"
   },
   {
    "duration": 28,
    "start_time": "2023-09-12T18:13:45.107Z"
   },
   {
    "duration": 68,
    "start_time": "2023-09-12T18:13:45.136Z"
   },
   {
    "duration": 5,
    "start_time": "2023-09-12T18:13:45.206Z"
   },
   {
    "duration": 13,
    "start_time": "2023-09-12T18:13:45.213Z"
   },
   {
    "duration": 35,
    "start_time": "2023-09-12T18:13:45.227Z"
   },
   {
    "duration": 21,
    "start_time": "2023-09-12T18:13:45.263Z"
   },
   {
    "duration": 15,
    "start_time": "2023-09-12T18:13:45.287Z"
   },
   {
    "duration": 45,
    "start_time": "2023-09-12T18:13:45.304Z"
   },
   {
    "duration": 11,
    "start_time": "2023-09-12T18:13:45.350Z"
   },
   {
    "duration": 9,
    "start_time": "2023-09-12T18:13:45.363Z"
   },
   {
    "duration": 36,
    "start_time": "2023-09-12T18:13:45.373Z"
   },
   {
    "duration": 34,
    "start_time": "2023-09-12T18:13:45.410Z"
   },
   {
    "duration": 33,
    "start_time": "2023-09-12T18:13:45.446Z"
   },
   {
    "duration": 4,
    "start_time": "2023-09-12T18:13:45.480Z"
   },
   {
    "duration": 17,
    "start_time": "2023-09-12T18:13:45.485Z"
   },
   {
    "duration": 11,
    "start_time": "2023-09-12T18:13:45.503Z"
   },
   {
    "duration": 3,
    "start_time": "2023-09-12T18:13:45.516Z"
   },
   {
    "duration": 16,
    "start_time": "2023-09-12T18:13:45.520Z"
   },
   {
    "duration": 28,
    "start_time": "2023-09-12T18:13:45.538Z"
   },
   {
    "duration": 30,
    "start_time": "2023-09-12T18:13:45.568Z"
   },
   {
    "duration": 9,
    "start_time": "2023-09-12T18:13:45.599Z"
   },
   {
    "duration": 420,
    "start_time": "2023-09-12T18:13:45.610Z"
   },
   {
    "duration": 0,
    "start_time": "2023-09-12T18:13:46.032Z"
   },
   {
    "duration": 0,
    "start_time": "2023-09-12T18:13:46.033Z"
   },
   {
    "duration": 0,
    "start_time": "2023-09-12T18:13:46.034Z"
   },
   {
    "duration": 13,
    "start_time": "2023-09-12T18:14:25.773Z"
   },
   {
    "duration": 326,
    "start_time": "2023-09-12T18:14:58.401Z"
   },
   {
    "duration": 336,
    "start_time": "2023-09-12T18:15:33.606Z"
   },
   {
    "duration": 474,
    "start_time": "2023-09-12T18:16:08.530Z"
   },
   {
    "duration": 20,
    "start_time": "2023-09-12T18:16:09.006Z"
   },
   {
    "duration": 18,
    "start_time": "2023-09-12T18:16:09.030Z"
   },
   {
    "duration": 11,
    "start_time": "2023-09-12T18:16:09.050Z"
   },
   {
    "duration": 32,
    "start_time": "2023-09-12T18:16:09.062Z"
   },
   {
    "duration": 3,
    "start_time": "2023-09-12T18:16:09.096Z"
   },
   {
    "duration": 11,
    "start_time": "2023-09-12T18:16:09.100Z"
   },
   {
    "duration": 13,
    "start_time": "2023-09-12T18:16:09.112Z"
   },
   {
    "duration": 6,
    "start_time": "2023-09-12T18:16:09.144Z"
   },
   {
    "duration": 15,
    "start_time": "2023-09-12T18:16:09.151Z"
   },
   {
    "duration": 37,
    "start_time": "2023-09-12T18:16:09.167Z"
   },
   {
    "duration": 10,
    "start_time": "2023-09-12T18:16:09.206Z"
   },
   {
    "duration": 5,
    "start_time": "2023-09-12T18:16:09.218Z"
   },
   {
    "duration": 21,
    "start_time": "2023-09-12T18:16:09.225Z"
   },
   {
    "duration": 35,
    "start_time": "2023-09-12T18:16:09.248Z"
   },
   {
    "duration": 15,
    "start_time": "2023-09-12T18:16:09.284Z"
   },
   {
    "duration": 14,
    "start_time": "2023-09-12T18:16:09.301Z"
   },
   {
    "duration": 14,
    "start_time": "2023-09-12T18:16:09.317Z"
   },
   {
    "duration": 7,
    "start_time": "2023-09-12T18:16:09.333Z"
   },
   {
    "duration": 6,
    "start_time": "2023-09-12T18:16:09.342Z"
   },
   {
    "duration": 27,
    "start_time": "2023-09-12T18:16:09.350Z"
   },
   {
    "duration": 5,
    "start_time": "2023-09-12T18:16:09.379Z"
   },
   {
    "duration": 45,
    "start_time": "2023-09-12T18:16:09.385Z"
   },
   {
    "duration": 13,
    "start_time": "2023-09-12T18:16:09.431Z"
   },
   {
    "duration": 374,
    "start_time": "2023-09-12T18:16:09.445Z"
   },
   {
    "duration": 0,
    "start_time": "2023-09-12T18:16:09.820Z"
   },
   {
    "duration": 0,
    "start_time": "2023-09-12T18:16:09.821Z"
   },
   {
    "duration": 0,
    "start_time": "2023-09-12T18:16:09.822Z"
   },
   {
    "duration": 302,
    "start_time": "2023-09-12T18:17:32.366Z"
   },
   {
    "duration": 6,
    "start_time": "2023-09-12T18:18:11.410Z"
   },
   {
    "duration": 10,
    "start_time": "2023-09-12T18:18:38.733Z"
   },
   {
    "duration": 10,
    "start_time": "2023-09-12T18:19:01.180Z"
   },
   {
    "duration": 434,
    "start_time": "2023-09-12T18:20:31.371Z"
   },
   {
    "duration": 21,
    "start_time": "2023-09-12T18:20:31.807Z"
   },
   {
    "duration": 19,
    "start_time": "2023-09-12T18:20:31.832Z"
   },
   {
    "duration": 12,
    "start_time": "2023-09-12T18:20:31.853Z"
   },
   {
    "duration": 34,
    "start_time": "2023-09-12T18:20:31.867Z"
   },
   {
    "duration": 3,
    "start_time": "2023-09-12T18:20:31.902Z"
   },
   {
    "duration": 16,
    "start_time": "2023-09-12T18:20:31.907Z"
   },
   {
    "duration": 13,
    "start_time": "2023-09-12T18:20:31.924Z"
   },
   {
    "duration": 7,
    "start_time": "2023-09-12T18:20:31.946Z"
   },
   {
    "duration": 9,
    "start_time": "2023-09-12T18:20:31.954Z"
   },
   {
    "duration": 56,
    "start_time": "2023-09-12T18:20:31.964Z"
   },
   {
    "duration": 12,
    "start_time": "2023-09-12T18:20:32.022Z"
   },
   {
    "duration": 4,
    "start_time": "2023-09-12T18:20:32.036Z"
   },
   {
    "duration": 21,
    "start_time": "2023-09-12T18:20:32.041Z"
   },
   {
    "duration": 43,
    "start_time": "2023-09-12T18:20:32.064Z"
   },
   {
    "duration": 16,
    "start_time": "2023-09-12T18:20:32.109Z"
   },
   {
    "duration": 7,
    "start_time": "2023-09-12T18:20:32.127Z"
   },
   {
    "duration": 32,
    "start_time": "2023-09-12T18:20:32.135Z"
   },
   {
    "duration": 15,
    "start_time": "2023-09-12T18:20:32.169Z"
   },
   {
    "duration": 12,
    "start_time": "2023-09-12T18:20:32.185Z"
   },
   {
    "duration": 21,
    "start_time": "2023-09-12T18:20:32.198Z"
   },
   {
    "duration": 9,
    "start_time": "2023-09-12T18:20:32.221Z"
   },
   {
    "duration": 39,
    "start_time": "2023-09-12T18:20:32.231Z"
   },
   {
    "duration": 25,
    "start_time": "2023-09-12T18:20:32.271Z"
   },
   {
    "duration": 64,
    "start_time": "2023-09-12T18:20:32.298Z"
   },
   {
    "duration": 34,
    "start_time": "2023-09-12T18:20:32.364Z"
   },
   {
    "duration": 50,
    "start_time": "2023-09-12T18:20:32.400Z"
   },
   {
    "duration": 350,
    "start_time": "2023-09-12T18:24:37.331Z"
   },
   {
    "duration": 318,
    "start_time": "2023-09-12T18:24:44.607Z"
   },
   {
    "duration": 12,
    "start_time": "2023-09-12T18:24:52.349Z"
   },
   {
    "duration": 318,
    "start_time": "2023-09-12T18:25:06.019Z"
   },
   {
    "duration": 309,
    "start_time": "2023-09-12T18:25:29.442Z"
   },
   {
    "duration": 11,
    "start_time": "2023-09-12T18:26:14.737Z"
   },
   {
    "duration": 9,
    "start_time": "2023-09-12T18:30:00.038Z"
   },
   {
    "duration": 9,
    "start_time": "2023-09-12T18:30:11.821Z"
   },
   {
    "duration": 412,
    "start_time": "2023-09-12T18:30:32.899Z"
   },
   {
    "duration": 21,
    "start_time": "2023-09-12T18:30:33.313Z"
   },
   {
    "duration": 15,
    "start_time": "2023-09-12T18:30:33.336Z"
   },
   {
    "duration": 9,
    "start_time": "2023-09-12T18:30:33.353Z"
   },
   {
    "duration": 31,
    "start_time": "2023-09-12T18:30:33.364Z"
   },
   {
    "duration": 3,
    "start_time": "2023-09-12T18:30:33.397Z"
   },
   {
    "duration": 9,
    "start_time": "2023-09-12T18:30:33.401Z"
   },
   {
    "duration": 3,
    "start_time": "2023-09-12T18:30:33.412Z"
   },
   {
    "duration": 34,
    "start_time": "2023-09-12T18:30:33.417Z"
   },
   {
    "duration": 3,
    "start_time": "2023-09-12T18:30:33.455Z"
   },
   {
    "duration": 31,
    "start_time": "2023-09-12T18:30:33.460Z"
   },
   {
    "duration": 10,
    "start_time": "2023-09-12T18:30:33.493Z"
   },
   {
    "duration": 5,
    "start_time": "2023-09-12T18:30:33.504Z"
   },
   {
    "duration": 35,
    "start_time": "2023-09-12T18:30:33.510Z"
   },
   {
    "duration": 17,
    "start_time": "2023-09-12T18:30:33.547Z"
   },
   {
    "duration": 14,
    "start_time": "2023-09-12T18:30:33.565Z"
   },
   {
    "duration": 3,
    "start_time": "2023-09-12T18:30:33.580Z"
   },
   {
    "duration": 14,
    "start_time": "2023-09-12T18:30:33.585Z"
   },
   {
    "duration": 4,
    "start_time": "2023-09-12T18:30:33.601Z"
   },
   {
    "duration": 3,
    "start_time": "2023-09-12T18:30:33.606Z"
   },
   {
    "duration": 37,
    "start_time": "2023-09-12T18:30:33.611Z"
   },
   {
    "duration": 3,
    "start_time": "2023-09-12T18:30:33.649Z"
   },
   {
    "duration": 29,
    "start_time": "2023-09-12T18:30:33.654Z"
   },
   {
    "duration": 10,
    "start_time": "2023-09-12T18:30:33.684Z"
   },
   {
    "duration": 55,
    "start_time": "2023-09-12T18:30:33.695Z"
   },
   {
    "duration": 27,
    "start_time": "2023-09-12T18:30:33.751Z"
   },
   {
    "duration": 28,
    "start_time": "2023-09-12T18:30:33.779Z"
   },
   {
    "duration": 4,
    "start_time": "2023-09-12T18:36:49.144Z"
   },
   {
    "duration": 25,
    "start_time": "2023-09-12T18:36:49.888Z"
   },
   {
    "duration": 1232,
    "start_time": "2023-09-12T18:36:51.359Z"
   },
   {
    "duration": 4,
    "start_time": "2023-09-12T18:37:13.482Z"
   },
   {
    "duration": 29,
    "start_time": "2023-09-12T18:37:14.062Z"
   },
   {
    "duration": 11,
    "start_time": "2023-09-12T18:37:14.766Z"
   },
   {
    "duration": 109,
    "start_time": "2023-09-12T18:53:22.664Z"
   },
   {
    "duration": 84,
    "start_time": "2023-09-12T18:53:34.203Z"
   },
   {
    "duration": 92,
    "start_time": "2023-09-12T18:53:43.720Z"
   },
   {
    "duration": 14,
    "start_time": "2023-09-12T18:53:51.613Z"
   },
   {
    "duration": 14,
    "start_time": "2023-09-12T18:54:24.238Z"
   },
   {
    "duration": 343,
    "start_time": "2023-09-12T19:06:06.161Z"
   },
   {
    "duration": 12,
    "start_time": "2023-09-12T19:06:49.146Z"
   },
   {
    "duration": 495,
    "start_time": "2023-09-12T19:07:00.631Z"
   },
   {
    "duration": 21,
    "start_time": "2023-09-12T19:07:01.127Z"
   },
   {
    "duration": 51,
    "start_time": "2023-09-12T19:07:01.149Z"
   },
   {
    "duration": 21,
    "start_time": "2023-09-12T19:07:01.202Z"
   },
   {
    "duration": 55,
    "start_time": "2023-09-12T19:07:01.226Z"
   },
   {
    "duration": 16,
    "start_time": "2023-09-12T19:07:01.283Z"
   },
   {
    "duration": 24,
    "start_time": "2023-09-12T19:07:01.300Z"
   },
   {
    "duration": 35,
    "start_time": "2023-09-12T19:07:01.326Z"
   },
   {
    "duration": 124,
    "start_time": "2023-09-12T19:07:01.363Z"
   },
   {
    "duration": 71,
    "start_time": "2023-09-12T19:07:01.491Z"
   },
   {
    "duration": 50,
    "start_time": "2023-09-12T19:07:01.563Z"
   },
   {
    "duration": 22,
    "start_time": "2023-09-12T19:07:01.615Z"
   },
   {
    "duration": 52,
    "start_time": "2023-09-12T19:07:01.639Z"
   },
   {
    "duration": 37,
    "start_time": "2023-09-12T19:07:01.693Z"
   },
   {
    "duration": 50,
    "start_time": "2023-09-12T19:07:01.732Z"
   },
   {
    "duration": 32,
    "start_time": "2023-09-12T19:07:01.783Z"
   },
   {
    "duration": 4,
    "start_time": "2023-09-12T19:07:01.817Z"
   },
   {
    "duration": 16,
    "start_time": "2023-09-12T19:07:01.822Z"
   },
   {
    "duration": 67,
    "start_time": "2023-09-12T19:07:01.839Z"
   },
   {
    "duration": 19,
    "start_time": "2023-09-12T19:07:01.907Z"
   },
   {
    "duration": 62,
    "start_time": "2023-09-12T19:07:01.928Z"
   },
   {
    "duration": 46,
    "start_time": "2023-09-12T19:07:01.992Z"
   },
   {
    "duration": 41,
    "start_time": "2023-09-12T19:07:02.040Z"
   },
   {
    "duration": 10,
    "start_time": "2023-09-12T19:07:02.082Z"
   },
   {
    "duration": 71,
    "start_time": "2023-09-12T19:07:02.094Z"
   },
   {
    "duration": 0,
    "start_time": "2023-09-12T19:07:02.166Z"
   },
   {
    "duration": 0,
    "start_time": "2023-09-12T19:07:02.168Z"
   },
   {
    "duration": 0,
    "start_time": "2023-09-12T19:07:02.169Z"
   },
   {
    "duration": 10,
    "start_time": "2023-09-12T19:07:21.058Z"
   },
   {
    "duration": 12,
    "start_time": "2023-09-12T19:07:48.200Z"
   },
   {
    "duration": 457,
    "start_time": "2023-09-12T19:08:28.206Z"
   },
   {
    "duration": 21,
    "start_time": "2023-09-12T19:08:28.665Z"
   },
   {
    "duration": 14,
    "start_time": "2023-09-12T19:08:28.690Z"
   },
   {
    "duration": 10,
    "start_time": "2023-09-12T19:08:28.706Z"
   },
   {
    "duration": 53,
    "start_time": "2023-09-12T19:08:28.717Z"
   },
   {
    "duration": 3,
    "start_time": "2023-09-12T19:08:28.772Z"
   },
   {
    "duration": 10,
    "start_time": "2023-09-12T19:08:28.777Z"
   },
   {
    "duration": 6,
    "start_time": "2023-09-12T19:08:28.789Z"
   },
   {
    "duration": 11,
    "start_time": "2023-09-12T19:08:28.799Z"
   },
   {
    "duration": 10,
    "start_time": "2023-09-12T19:08:28.811Z"
   },
   {
    "duration": 48,
    "start_time": "2023-09-12T19:08:28.823Z"
   },
   {
    "duration": 11,
    "start_time": "2023-09-12T19:08:28.873Z"
   },
   {
    "duration": 3,
    "start_time": "2023-09-12T19:08:28.885Z"
   },
   {
    "duration": 17,
    "start_time": "2023-09-12T19:08:28.890Z"
   },
   {
    "duration": 37,
    "start_time": "2023-09-12T19:08:28.908Z"
   },
   {
    "duration": 15,
    "start_time": "2023-09-12T19:08:28.947Z"
   },
   {
    "duration": 3,
    "start_time": "2023-09-12T19:08:28.964Z"
   },
   {
    "duration": 14,
    "start_time": "2023-09-12T19:08:28.969Z"
   },
   {
    "duration": 5,
    "start_time": "2023-09-12T19:08:28.985Z"
   },
   {
    "duration": 3,
    "start_time": "2023-09-12T19:08:28.992Z"
   },
   {
    "duration": 15,
    "start_time": "2023-09-12T19:08:28.996Z"
   },
   {
    "duration": 32,
    "start_time": "2023-09-12T19:08:29.012Z"
   },
   {
    "duration": 40,
    "start_time": "2023-09-12T19:08:29.046Z"
   },
   {
    "duration": 7,
    "start_time": "2023-09-12T19:08:29.088Z"
   },
   {
    "duration": 39,
    "start_time": "2023-09-12T19:08:29.096Z"
   },
   {
    "duration": 27,
    "start_time": "2023-09-12T19:08:29.137Z"
   },
   {
    "duration": 33,
    "start_time": "2023-09-12T19:08:29.168Z"
   },
   {
    "duration": 26,
    "start_time": "2023-09-12T19:09:43.290Z"
   },
   {
    "duration": 30,
    "start_time": "2023-09-12T19:10:00.893Z"
   },
   {
    "duration": 8,
    "start_time": "2023-09-12T19:11:32.644Z"
   },
   {
    "duration": 65,
    "start_time": "2023-09-12T19:13:11.485Z"
   },
   {
    "duration": 12,
    "start_time": "2023-09-12T19:13:23.324Z"
   },
   {
    "duration": 9,
    "start_time": "2023-09-12T19:13:51.606Z"
   },
   {
    "duration": 89,
    "start_time": "2023-09-12T19:13:57.754Z"
   },
   {
    "duration": 9,
    "start_time": "2023-09-12T19:14:04.665Z"
   },
   {
    "duration": 8,
    "start_time": "2023-09-12T19:14:16.948Z"
   },
   {
    "duration": 9,
    "start_time": "2023-09-12T19:14:35.388Z"
   },
   {
    "duration": 15,
    "start_time": "2023-09-12T19:15:15.582Z"
   },
   {
    "duration": 14,
    "start_time": "2023-09-12T19:15:46.771Z"
   },
   {
    "duration": 29,
    "start_time": "2023-09-12T19:21:30.256Z"
   },
   {
    "duration": 37,
    "start_time": "2023-09-12T19:59:14.192Z"
   },
   {
    "duration": 31,
    "start_time": "2023-09-12T20:18:25.110Z"
   },
   {
    "duration": 29,
    "start_time": "2023-09-12T20:19:17.383Z"
   },
   {
    "duration": 31,
    "start_time": "2023-09-12T20:19:54.438Z"
   },
   {
    "duration": 28,
    "start_time": "2023-09-12T20:20:14.907Z"
   },
   {
    "duration": 33,
    "start_time": "2023-09-12T20:20:56.607Z"
   },
   {
    "duration": 88,
    "start_time": "2023-09-12T20:21:42.016Z"
   },
   {
    "duration": 46,
    "start_time": "2023-09-12T20:21:51.079Z"
   },
   {
    "duration": 28,
    "start_time": "2023-09-12T20:22:37.929Z"
   },
   {
    "duration": 30,
    "start_time": "2023-09-12T20:22:51.485Z"
   },
   {
    "duration": 30,
    "start_time": "2023-09-12T20:23:12.047Z"
   },
   {
    "duration": 33,
    "start_time": "2023-09-12T20:24:35.267Z"
   },
   {
    "duration": 42,
    "start_time": "2023-09-12T20:25:14.388Z"
   },
   {
    "duration": 7,
    "start_time": "2023-09-12T20:32:39.096Z"
   },
   {
    "duration": 8,
    "start_time": "2023-09-12T20:34:04.659Z"
   },
   {
    "duration": 14,
    "start_time": "2023-09-12T20:34:20.721Z"
   },
   {
    "duration": 17,
    "start_time": "2023-09-12T20:34:43.942Z"
   },
   {
    "duration": 11,
    "start_time": "2023-09-12T20:35:37.065Z"
   },
   {
    "duration": 12,
    "start_time": "2023-09-12T20:35:55.479Z"
   },
   {
    "duration": 16,
    "start_time": "2023-09-12T20:36:19.092Z"
   },
   {
    "duration": 22,
    "start_time": "2023-09-12T20:37:28.707Z"
   },
   {
    "duration": 35,
    "start_time": "2023-09-12T20:39:29.777Z"
   },
   {
    "duration": 29,
    "start_time": "2023-09-12T20:42:17.353Z"
   },
   {
    "duration": 5,
    "start_time": "2023-09-12T20:45:42.205Z"
   },
   {
    "duration": 36,
    "start_time": "2023-09-12T20:45:52.410Z"
   },
   {
    "duration": 8,
    "start_time": "2023-09-12T20:45:58.150Z"
   },
   {
    "duration": 37,
    "start_time": "2023-09-12T20:45:58.638Z"
   },
   {
    "duration": 41,
    "start_time": "2023-09-12T20:46:10.669Z"
   },
   {
    "duration": 35,
    "start_time": "2023-09-12T20:46:18.720Z"
   },
   {
    "duration": 37,
    "start_time": "2023-09-12T20:46:30.422Z"
   },
   {
    "duration": 41,
    "start_time": "2023-09-12T20:46:34.451Z"
   },
   {
    "duration": 51,
    "start_time": "2023-09-13T07:42:11.603Z"
   },
   {
    "duration": 101,
    "start_time": "2023-09-13T07:42:18.349Z"
   },
   {
    "duration": 6,
    "start_time": "2023-09-13T07:42:30.001Z"
   },
   {
    "duration": 102,
    "start_time": "2023-09-13T07:42:57.431Z"
   },
   {
    "duration": 8,
    "start_time": "2023-09-13T07:43:05.942Z"
   },
   {
    "duration": 6,
    "start_time": "2023-09-13T07:43:14.456Z"
   },
   {
    "duration": 734,
    "start_time": "2023-09-13T07:43:37.018Z"
   },
   {
    "duration": 23,
    "start_time": "2023-09-13T07:43:37.754Z"
   },
   {
    "duration": 132,
    "start_time": "2023-09-13T07:43:37.779Z"
   },
   {
    "duration": 37,
    "start_time": "2023-09-13T07:43:37.913Z"
   },
   {
    "duration": 51,
    "start_time": "2023-09-13T07:43:37.952Z"
   },
   {
    "duration": 4,
    "start_time": "2023-09-13T07:43:38.004Z"
   },
   {
    "duration": 35,
    "start_time": "2023-09-13T07:43:38.009Z"
   },
   {
    "duration": 28,
    "start_time": "2023-09-13T07:43:38.045Z"
   },
   {
    "duration": 50,
    "start_time": "2023-09-13T07:43:38.075Z"
   },
   {
    "duration": 51,
    "start_time": "2023-09-13T07:43:38.129Z"
   },
   {
    "duration": 70,
    "start_time": "2023-09-13T07:43:38.181Z"
   },
   {
    "duration": 25,
    "start_time": "2023-09-13T07:43:38.253Z"
   },
   {
    "duration": 24,
    "start_time": "2023-09-13T07:43:38.279Z"
   },
   {
    "duration": 44,
    "start_time": "2023-09-13T07:43:38.304Z"
   },
   {
    "duration": 64,
    "start_time": "2023-09-13T07:43:38.350Z"
   },
   {
    "duration": 21,
    "start_time": "2023-09-13T07:43:38.416Z"
   },
   {
    "duration": 19,
    "start_time": "2023-09-13T07:43:38.438Z"
   },
   {
    "duration": 45,
    "start_time": "2023-09-13T07:43:38.459Z"
   },
   {
    "duration": 29,
    "start_time": "2023-09-13T07:43:38.506Z"
   },
   {
    "duration": 38,
    "start_time": "2023-09-13T07:43:38.536Z"
   },
   {
    "duration": 41,
    "start_time": "2023-09-13T07:43:38.576Z"
   },
   {
    "duration": 22,
    "start_time": "2023-09-13T07:43:38.619Z"
   },
   {
    "duration": 189,
    "start_time": "2023-09-13T07:43:38.642Z"
   },
   {
    "duration": 57,
    "start_time": "2023-09-13T07:43:38.833Z"
   },
   {
    "duration": 92,
    "start_time": "2023-09-13T07:43:38.892Z"
   },
   {
    "duration": 36,
    "start_time": "2023-09-13T07:43:38.986Z"
   },
   {
    "duration": 36,
    "start_time": "2023-09-13T07:43:39.023Z"
   },
   {
    "duration": 37,
    "start_time": "2023-09-13T07:43:39.062Z"
   },
   {
    "duration": 7,
    "start_time": "2023-09-13T07:50:36.601Z"
   },
   {
    "duration": 30,
    "start_time": "2023-09-13T07:50:49.188Z"
   },
   {
    "duration": 8,
    "start_time": "2023-09-13T07:51:41.956Z"
   },
   {
    "duration": 33,
    "start_time": "2023-09-13T07:52:27.963Z"
   },
   {
    "duration": 37,
    "start_time": "2023-09-13T07:52:43.456Z"
   },
   {
    "duration": 2086,
    "start_time": "2023-09-13T07:56:34.176Z"
   },
   {
    "duration": 47,
    "start_time": "2023-09-13T07:56:41.881Z"
   },
   {
    "duration": 38,
    "start_time": "2023-09-13T07:58:03.692Z"
   },
   {
    "duration": 40,
    "start_time": "2023-09-13T07:58:18.710Z"
   },
   {
    "duration": 48,
    "start_time": "2023-09-13T07:58:32.372Z"
   },
   {
    "duration": 41,
    "start_time": "2023-09-13T07:59:24.848Z"
   },
   {
    "duration": 39,
    "start_time": "2023-09-13T07:59:33.890Z"
   },
   {
    "duration": 37,
    "start_time": "2023-09-13T08:31:56.934Z"
   },
   {
    "duration": 36,
    "start_time": "2023-09-13T08:32:43.461Z"
   },
   {
    "duration": 44,
    "start_time": "2023-09-13T08:35:28.870Z"
   },
   {
    "duration": 36,
    "start_time": "2023-09-13T08:41:53.718Z"
   },
   {
    "duration": 33,
    "start_time": "2023-09-13T08:42:05.595Z"
   },
   {
    "duration": 15,
    "start_time": "2023-09-13T08:47:10.962Z"
   },
   {
    "duration": 42,
    "start_time": "2023-09-13T08:47:21.421Z"
   },
   {
    "duration": 15,
    "start_time": "2023-09-13T08:48:04.960Z"
   },
   {
    "duration": 4,
    "start_time": "2023-09-13T08:48:13.167Z"
   },
   {
    "duration": 12,
    "start_time": "2023-09-13T08:48:14.240Z"
   },
   {
    "duration": 44,
    "start_time": "2023-09-13T08:48:23.718Z"
   },
   {
    "duration": 32,
    "start_time": "2023-09-13T08:49:45.280Z"
   },
   {
    "duration": 39,
    "start_time": "2023-09-13T08:49:58.375Z"
   },
   {
    "duration": 15,
    "start_time": "2023-09-13T08:52:21.242Z"
   },
   {
    "duration": 41,
    "start_time": "2023-09-13T08:52:22.736Z"
   },
   {
    "duration": 20,
    "start_time": "2023-09-13T08:57:06.632Z"
   },
   {
    "duration": 35,
    "start_time": "2023-09-13T08:57:07.861Z"
   },
   {
    "duration": 20,
    "start_time": "2023-09-13T08:57:26.019Z"
   },
   {
    "duration": 54,
    "start_time": "2023-09-13T08:57:26.618Z"
   },
   {
    "duration": 13,
    "start_time": "2023-09-13T09:00:50.782Z"
   },
   {
    "duration": 40,
    "start_time": "2023-09-13T09:00:51.221Z"
   },
   {
    "duration": 11,
    "start_time": "2023-09-13T09:05:16.535Z"
   },
   {
    "duration": 12,
    "start_time": "2023-09-13T09:14:28.654Z"
   },
   {
    "duration": 38,
    "start_time": "2023-09-13T09:14:29.173Z"
   },
   {
    "duration": 40,
    "start_time": "2023-09-13T09:46:05.105Z"
   },
   {
    "duration": 164,
    "start_time": "2023-09-13T09:54:05.587Z"
   },
   {
    "duration": 1751,
    "start_time": "2023-09-13T09:54:36.745Z"
   },
   {
    "duration": 55,
    "start_time": "2023-09-13T09:59:55.500Z"
   },
   {
    "duration": 6,
    "start_time": "2023-09-13T10:47:37.357Z"
   },
   {
    "duration": 5,
    "start_time": "2023-09-13T10:50:08.217Z"
   },
   {
    "duration": 8,
    "start_time": "2023-09-13T10:50:40.661Z"
   },
   {
    "duration": 7,
    "start_time": "2023-09-13T10:51:44.435Z"
   },
   {
    "duration": 3,
    "start_time": "2023-09-13T10:51:51.456Z"
   },
   {
    "duration": 4,
    "start_time": "2023-09-13T10:51:59.962Z"
   },
   {
    "duration": 5,
    "start_time": "2023-09-13T10:55:47.962Z"
   },
   {
    "duration": 5,
    "start_time": "2023-09-13T10:55:54.004Z"
   },
   {
    "duration": 5,
    "start_time": "2023-09-13T10:56:52.119Z"
   },
   {
    "duration": 5,
    "start_time": "2023-09-13T10:57:25.363Z"
   },
   {
    "duration": 4,
    "start_time": "2023-09-13T10:57:28.461Z"
   },
   {
    "duration": 490,
    "start_time": "2023-09-13T11:24:10.437Z"
   },
   {
    "duration": 22,
    "start_time": "2023-09-13T11:24:10.929Z"
   },
   {
    "duration": 59,
    "start_time": "2023-09-13T11:24:10.953Z"
   },
   {
    "duration": 70,
    "start_time": "2023-09-13T11:24:11.014Z"
   },
   {
    "duration": 117,
    "start_time": "2023-09-13T11:24:11.086Z"
   },
   {
    "duration": 4,
    "start_time": "2023-09-13T11:24:11.204Z"
   },
   {
    "duration": 64,
    "start_time": "2023-09-13T11:24:11.209Z"
   },
   {
    "duration": 10,
    "start_time": "2023-09-13T11:24:11.275Z"
   },
   {
    "duration": 12,
    "start_time": "2023-09-13T11:24:11.286Z"
   },
   {
    "duration": 19,
    "start_time": "2023-09-13T11:24:11.299Z"
   },
   {
    "duration": 40,
    "start_time": "2023-09-13T11:24:11.320Z"
   },
   {
    "duration": 11,
    "start_time": "2023-09-13T11:24:11.362Z"
   },
   {
    "duration": 14,
    "start_time": "2023-09-13T11:24:11.375Z"
   },
   {
    "duration": 25,
    "start_time": "2023-09-13T11:24:11.392Z"
   },
   {
    "duration": 27,
    "start_time": "2023-09-13T11:24:11.419Z"
   },
   {
    "duration": 19,
    "start_time": "2023-09-13T11:24:11.448Z"
   },
   {
    "duration": 49,
    "start_time": "2023-09-13T11:24:11.469Z"
   },
   {
    "duration": 31,
    "start_time": "2023-09-13T11:24:11.520Z"
   },
   {
    "duration": 16,
    "start_time": "2023-09-13T11:24:11.553Z"
   },
   {
    "duration": 64,
    "start_time": "2023-09-13T11:24:11.571Z"
   },
   {
    "duration": 30,
    "start_time": "2023-09-13T11:24:11.637Z"
   },
   {
    "duration": 5,
    "start_time": "2023-09-13T11:24:11.669Z"
   },
   {
    "duration": 21,
    "start_time": "2023-09-13T11:24:11.676Z"
   },
   {
    "duration": 50,
    "start_time": "2023-09-13T11:24:11.699Z"
   },
   {
    "duration": 8,
    "start_time": "2023-09-13T11:24:11.751Z"
   },
   {
    "duration": 59,
    "start_time": "2023-09-13T11:24:11.761Z"
   },
   {
    "duration": 38,
    "start_time": "2023-09-13T11:24:11.822Z"
   },
   {
    "duration": 7,
    "start_time": "2023-09-13T11:24:11.862Z"
   },
   {
    "duration": 66,
    "start_time": "2023-09-13T11:24:11.871Z"
   },
   {
    "duration": 40,
    "start_time": "2023-09-13T11:24:11.939Z"
   },
   {
    "duration": 12,
    "start_time": "2023-09-13T11:24:11.981Z"
   },
   {
    "duration": 59,
    "start_time": "2023-09-13T11:24:11.995Z"
   },
   {
    "duration": 35,
    "start_time": "2023-09-13T11:24:12.056Z"
   },
   {
    "duration": 77,
    "start_time": "2023-09-13T11:24:12.094Z"
   },
   {
    "duration": 491,
    "start_time": "2023-09-13T12:17:12.839Z"
   },
   {
    "duration": 24,
    "start_time": "2023-09-13T12:17:13.332Z"
   },
   {
    "duration": 43,
    "start_time": "2023-09-13T12:17:13.357Z"
   },
   {
    "duration": 12,
    "start_time": "2023-09-13T12:17:13.403Z"
   },
   {
    "duration": 40,
    "start_time": "2023-09-13T12:17:13.417Z"
   },
   {
    "duration": 4,
    "start_time": "2023-09-13T12:17:13.459Z"
   },
   {
    "duration": 35,
    "start_time": "2023-09-13T12:17:13.465Z"
   },
   {
    "duration": 34,
    "start_time": "2023-09-13T12:17:13.502Z"
   },
   {
    "duration": 22,
    "start_time": "2023-09-13T12:17:13.538Z"
   },
   {
    "duration": 5,
    "start_time": "2023-09-13T12:17:13.565Z"
   },
   {
    "duration": 60,
    "start_time": "2023-09-13T12:17:13.571Z"
   },
   {
    "duration": 13,
    "start_time": "2023-09-13T12:17:13.633Z"
   },
   {
    "duration": 16,
    "start_time": "2023-09-13T12:17:13.647Z"
   },
   {
    "duration": 19,
    "start_time": "2023-09-13T12:17:13.665Z"
   },
   {
    "duration": 41,
    "start_time": "2023-09-13T12:17:13.685Z"
   },
   {
    "duration": 22,
    "start_time": "2023-09-13T12:17:13.727Z"
   },
   {
    "duration": 3,
    "start_time": "2023-09-13T12:17:13.751Z"
   },
   {
    "duration": 15,
    "start_time": "2023-09-13T12:17:13.756Z"
   },
   {
    "duration": 7,
    "start_time": "2023-09-13T12:17:13.773Z"
   },
   {
    "duration": 20,
    "start_time": "2023-09-13T12:17:13.781Z"
   },
   {
    "duration": 33,
    "start_time": "2023-09-13T12:17:13.804Z"
   },
   {
    "duration": 5,
    "start_time": "2023-09-13T12:17:13.839Z"
   },
   {
    "duration": 7,
    "start_time": "2023-09-13T12:17:13.846Z"
   },
   {
    "duration": 72,
    "start_time": "2023-09-13T12:17:13.854Z"
   },
   {
    "duration": 10,
    "start_time": "2023-09-13T12:17:13.928Z"
   },
   {
    "duration": 65,
    "start_time": "2023-09-13T12:17:13.940Z"
   },
   {
    "duration": 41,
    "start_time": "2023-09-13T12:17:14.007Z"
   },
   {
    "duration": 7,
    "start_time": "2023-09-13T12:17:14.052Z"
   },
   {
    "duration": 76,
    "start_time": "2023-09-13T12:17:14.061Z"
   },
   {
    "duration": 46,
    "start_time": "2023-09-13T12:17:14.139Z"
   },
   {
    "duration": 21,
    "start_time": "2023-09-13T12:17:14.187Z"
   },
   {
    "duration": 121,
    "start_time": "2023-09-13T12:17:14.209Z"
   },
   {
    "duration": 39,
    "start_time": "2023-09-13T12:17:14.331Z"
   },
   {
    "duration": 79,
    "start_time": "2023-09-13T12:17:14.372Z"
   },
   {
    "duration": 181,
    "start_time": "2023-09-13T13:14:11.869Z"
   },
   {
    "duration": 613,
    "start_time": "2023-09-13T13:14:15.583Z"
   },
   {
    "duration": 540,
    "start_time": "2023-09-13T13:15:16.327Z"
   },
   {
    "duration": 21,
    "start_time": "2023-09-13T13:15:40.785Z"
   },
   {
    "duration": 12,
    "start_time": "2023-09-13T13:18:18.069Z"
   },
   {
    "duration": 154,
    "start_time": "2023-09-13T13:19:16.373Z"
   },
   {
    "duration": 12,
    "start_time": "2023-09-13T13:20:03.230Z"
   },
   {
    "duration": 27,
    "start_time": "2023-09-13T13:20:09.539Z"
   }
  ],
  "colab": {
   "provenance": []
  },
  "kernelspec": {
   "display_name": "Python 3 (ipykernel)",
   "language": "python",
   "name": "python3"
  },
  "language_info": {
   "codemirror_mode": {
    "name": "ipython",
    "version": 3
   },
   "file_extension": ".py",
   "mimetype": "text/x-python",
   "name": "python",
   "nbconvert_exporter": "python",
   "pygments_lexer": "ipython3",
   "version": "3.9.5"
  },
  "toc": {
   "base_numbering": 1,
   "nav_menu": {},
   "number_sections": true,
   "sideBar": true,
   "skip_h1_title": true,
   "title_cell": "Table of Contents",
   "title_sidebar": "Contents",
   "toc_cell": false,
   "toc_position": {},
   "toc_section_display": true,
   "toc_window_display": false
  }
 },
 "nbformat": 4,
 "nbformat_minor": 5
}
